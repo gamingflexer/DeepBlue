{
  "cells": [
    {
      "cell_type": "code",
      "execution_count": 3,
      "metadata": {
        "colab": {
          "base_uri": "https://localhost:8080/"
        },
        "id": "DSC1Ad643Jw_",
        "outputId": "6674cb9f-ef0c-494a-fddc-d1a10d2c34e7"
      },
      "outputs": [
        {
          "name": "stdout",
          "output_type": "stream",
          "text": [
            "\u001b[K     |████████████████████████████████| 5.7 MB 8.5 MB/s \n",
            "\u001b[?25h"
          ]
        }
      ],
      "source": [
        "pip install PyMuPDF==1.16.14 fitz --quiet"
      ]
    },
    {
      "cell_type": "code",
      "execution_count": 47,
      "metadata": {
        "id": "67k2uYgC3OFd"
      },
      "outputs": [],
      "source": [
        "#Importing Libraries\n",
        "filepath = '/content/test.pdf'\n",
        "from operator import itemgetter\n",
        "import fitz\n",
        "import json\n",
        "import re"
      ]
    },
    {
      "cell_type": "code",
      "execution_count": 48,
      "metadata": {
        "id": "ksBeX-qY3Q-n"
      },
      "outputs": [],
      "source": [
        "# To identify fonts\n",
        "def fonts(doc, granularity=False):\n",
        "    styles = {}\n",
        "    font_counts = {}\n",
        "\n",
        "    for page in doc:\n",
        "        blocks = page.getText(\"dict\")[\"blocks\"]\n",
        "        for b in blocks:  # iterate through the text blocks\n",
        "            if b['type'] == 0:  # block contains text\n",
        "                for l in b[\"lines\"]:  # iterate through the text lines\n",
        "                    for s in l[\"spans\"]:  # iterate through the text spans\n",
        "                        if granularity:\n",
        "                            identifier = \"{0}_{1}_{2}_{3}\".format(s['size'], s['flags'], s['font'], s['color'])\n",
        "                            styles[identifier] = {'size': s['size'], 'flags': s['flags'], 'font': s['font'],\n",
        "                                                  'color': s['color']}\n",
        "                        else:\n",
        "                            identifier = \"{0}\".format(s['size'])\n",
        "                            styles[identifier] = {'size': s['size'], 'font': s['font']}\n",
        "\n",
        "                        font_counts[identifier] = font_counts.get(identifier, 0) + 1  # count the fonts usage\n",
        "\n",
        "    font_counts = sorted(font_counts.items(), key=itemgetter(1), reverse=True)\n",
        "\n",
        "    if len(font_counts) < 1:\n",
        "        raise ValueError(\"Zero discriminating fonts found!\")\n",
        "\n",
        "    return font_counts, styles\n",
        "\n",
        "\n",
        "# To identify font tags\n",
        "def font_tags(font_counts, styles):\n",
        "    p_style = styles[font_counts[0][0]]  # get style for most used font by count (paragraph)\n",
        "    p_size = p_style['size']  \n",
        "\n",
        "    # sorting the font sizes high to low, so that we can append the right integer to each tag\n",
        "    font_sizes = []\n",
        "    for (font_size, count) in font_counts:\n",
        "        font_sizes.append(float(font_size))\n",
        "    font_sizes.sort(reverse=True)\n",
        "\n",
        "    # aggregating the tags for each font size\n",
        "    idx = 0\n",
        "    size_tag = {}\n",
        "    for size in font_sizes:\n",
        "        idx += 1\n",
        "        if size == p_size:\n",
        "            idx = 0\n",
        "            size_tag[size] = '<p>'\n",
        "        if size > p_size:\n",
        "            size_tag[size] = '<h>'\n",
        "        elif size < p_size:\n",
        "            size_tag[size] = '<s>'\n",
        "\n",
        "    return size_tag\n",
        "\n",
        "\n",
        "def headers_para(doc, size_tag):\n",
        "    header_para = []  # list with headers and paragraphs\n",
        "    first = True  # boolean operator for first header\n",
        "    previous_s = {}  # previous span\n",
        "\n",
        "    for page in doc:\n",
        "        blocks = page.getText(\"dict\")[\"blocks\"]\n",
        "        for b in blocks:  # iterate through the text blocks\n",
        "            if b['type'] == 0:  # this block contains text\n",
        "\n",
        "                # REMEMBER: multiple fonts and sizes are possible IN one block\n",
        "\n",
        "                block_string = \"\"  # text found in block\n",
        "                for l in b[\"lines\"]:  # iterate through the text lines\n",
        "                    for s in l[\"spans\"]:  # iterate through the text spans\n",
        "                        if s['text'].strip():  # removing whitespaces:\n",
        "                            if first:\n",
        "                                previous_s = s\n",
        "                                first = False\n",
        "                                block_string = size_tag[s['size']] + s['text']\n",
        "                            else:\n",
        "                                if s['size'] == previous_s['size']:\n",
        "\n",
        "                                    if block_string and all((c == \"|\") for c in block_string):\n",
        "                                        # block_string only contains pipes\n",
        "                                        block_string = size_tag[s['size']] + s['text']\n",
        "                                    if block_string == \"\":\n",
        "                                        # new block has started, so append size tag\n",
        "                                        block_string = size_tag[s['size']] + s['text']\n",
        "                                    else:  # in the same block, so concatenate strings\n",
        "                                        block_string += \" \" + s['text']\n",
        "\n",
        "                                else:\n",
        "                                    header_para.append(block_string)\n",
        "                                    block_string = size_tag[s['size']] + s['text']\n",
        "\n",
        "                                previous_s = s\n",
        "\n",
        "                    # new block started, indicating with a pipe\n",
        "                    block_string += \"|\"\n",
        "\n",
        "                header_para.append(block_string)\n",
        "\n",
        "    return header_para\n",
        "\n",
        "\n",
        "def main():\n",
        "\n",
        "    document = filepath\n",
        "    doc = fitz.open(document)\n",
        "\n",
        "    font_counts, styles = fonts(doc, granularity=False)\n",
        "\n",
        "    size_tag = font_tags(font_counts, styles)\n",
        "\n",
        "    elements = headers_para(doc, size_tag)\n",
        "\n",
        "    return elements\n",
        "\n",
        "\n",
        "if __name__ == '__main__':\n",
        "    text=main()"
      ]
    },
    {
      "cell_type": "code",
      "execution_count": 49,
      "metadata": {
        "id": "uiHTDQUR3TJV"
      },
      "outputs": [],
      "source": [
        "# Function to convert  \n",
        "def listToString(s): \n",
        "    \n",
        "    # initialize an empty string\n",
        "    str1 = \" \" \n",
        "    \n",
        "    # return string  \n",
        "    return (str1.join(s))\n",
        "\n",
        "text = listToString(text)"
      ]
    },
    {
      "cell_type": "code",
      "execution_count": 50,
      "metadata": {
        "id": "DTb-oaKOQBAW"
      },
      "outputs": [],
      "source": [
        "def pre_process1(text):\n",
        "    text = \"\".join(text.split('\\n')) #remove whitespaces\n",
        "    text = text.lower()\n",
        "    \n",
        "    #using re\n",
        "    text=re.sub('http\\S+\\s*',' ',text)\n",
        "    text=re.sub('RT|cc',' ',text)\n",
        "    text=re.sub('#\\S+',' ',text)\n",
        "    text=re.sub('@\\S+',' ',text)\n",
        "    text=text.replace('|',' ')\n",
        "    text=text.replace('<s>',' ')\n",
        "    text=text.replace('<p>',' ')\n",
        "    text=text.replace('<h>',' ')\n",
        "\n",
        "    #for i in range (len(emails)): #removes emails\n",
        "     #   text = text.replace(emails[i],\"\") \n",
        "    \n",
        "    #text = re.sub(r'(\\d{3}[-\\.\\s]??\\d{3}[-\\.\\s]??\\d{4}|\\(\\d{3}\\)\\s*\\d{3}[-\\.\\s]??\\d{4}|\\d{3}[-\\.\\s]??\\d{4})','',text) #removes phone numbers\n",
        "    text=re.sub(r'[^\\x00-\\x7f]',' ',text)\n",
        "    text=re.sub('\\s+',' ',text)\n",
        "    text=re.sub(\"\\n\", \" \",text)\n",
        "    return ''.join(text)"
      ]
    },
    {
      "cell_type": "code",
      "execution_count": 51,
      "metadata": {
        "id": "S574h3M04CHe"
      },
      "outputs": [],
      "source": [
        "text = pre_process1(text)"
      ]
    },
    {
      "cell_type": "code",
      "execution_count": 52,
      "metadata": {
        "colab": {
          "base_uri": "https://localhost:8080/",
          "height": 521
        },
        "id": "WUGkQXy_4G68",
        "outputId": "865f942e-d010-443e-dc05-f2bc06e1111b"
      },
      "outputs": [
        {
          "data": {
            "application/vnd.google.colaboratory.intrinsic+json": {
              "type": "string"
            },
            "text/plain": [
              "' ayush srivastava web developer final year b.tech student with 3+ years of experience in building web applications, college projects, freelancing, and contributing to open source softwares. jss boys hostel, c block, sector - 62, noida. (+91) 9599025432 srivastavs61 linkedin.com/in/geekayush github.com/geekayush geekayush.github.io experience 1mg software engineer intern jan 2020 - present avanti learning centres data visualization analyst jul 2019 - aug 2019 responsibilities task 1 - report card generator task 2 - automate student summary generation in bulk motion invite ui/ux & front-end developer jan 2018 - mar 2018 responsibilities task 1 - redesign the existed website task 2 - develop the redesigned version edcams front-end developer nov 2017 - jan 2018 responsibilities task 1 - fix the bugs task 2 - develop a new sign up portal education jssate, noida b.tech 2016 - present average percentage - 74.20% coursework included algorithms data structures sql based dbms turing machines os concepts have taken hands-on workshops on c/c++ programming designing (ui/ux & photoshop) web development (html & css) skills frontend: reactjs, gatsby, jquery, javascript, html, css, materialize, bootstrap, bulma backend: flask data visualization: d3, matplotlib data analysis: pandas cloud suite: google cloud platform programming languages: c++, c, python database: oracle sql data structures and algorithms in c++ agile/scrum and design thinking approaches achievements special mention at devfest noida -18 for fitmo (react-based native application gamifying the motivation towards fitness) among top 10 national finalists at social track organized by ecell-iitk second runner-up at b-plan competition organized by attac ngo avanti fellows 2015 - 2016 cleared zonal test to get selected among the top 4 students to receive a full one-year scholarship to study for engineering entrance examinations cleared jee mains 97.90 (all india percentile score) 44,344 (crl rank) cleared jee advanced 18052 (crl rank) cleared upsee 4880 (general open rank) cbse 2000 - 2015 stood 1st in sof nco at the school-level and 10th at the city-level passed 10th - 9.8 cgpa passed 12th - 90% projects know your college react-based web app to explore college a web application which will help students and faculties of jssate to explore various sections of the college. developed on reactjs with backend on nodejs. link (beta) code compiler competitive programming playground a set of programming questions with an online ide to compile and check whether the program clears the tasks or not. a leaderboard to display standings. link sherlocked quiz game a web quiz based on the theme of sherlock holmes where a participant must answer a question within a running time limit. open source contributions cloudcv - evalai cloudcv - origami open policy agent - opa creative commons - catalogfrontend fossasia - summit.fossasia.org open climate fix - website facebook - react-360 sapient global markets - react-querybuilder anitab-org - mentorship-backend material components - material-components-web-react uber - manifold certifications html fundamentals css fundamentals sql fundamentals interests web development machine learning automation positions of responsibility head of web club nibble computer society (official society of cse department) technical head entrepreneurship development cell (official e-cell of jssate) operations/technical head e-summit 19 noida '"
            ]
          },
          "execution_count": 52,
          "metadata": {},
          "output_type": "execute_result"
        }
      ],
      "source": [
        "text"
      ]
    }
  ],
  "metadata": {
    "colab": {
      "collapsed_sections": [],
      "name": "Parser.ipynb",
      "provenance": []
    },
    "kernelspec": {
      "display_name": "Python 3",
      "name": "python3"
    },
    "language_info": {
      "name": "python",
      "version": "3.9.9"
    }
  },
  "nbformat": 4,
  "nbformat_minor": 0
}
