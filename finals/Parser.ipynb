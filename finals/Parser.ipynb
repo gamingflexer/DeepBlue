{
  "nbformat": 4,
  "nbformat_minor": 0,
  "metadata": {
    "colab": {
      "name": "Parser.ipynb",
      "provenance": []
    },
    "kernelspec": {
      "name": "python3",
      "display_name": "Python 3"
    },
    "language_info": {
      "name": "python"
    }
  },
  "cells": [
    {
      "cell_type": "code",
      "execution_count": null,
      "metadata": {
        "id": "DSC1Ad643Jw_"
      },
      "outputs": [],
      "source": [
        "pip install PyMuPDF fitz"
      ]
    },
    {
      "cell_type": "code",
      "source": [
        "#Importing Libraries\n",
        "filepath = '/content/Profile.pdf'\n",
        "from operator import itemgetter\n",
        "import fitz\n",
        "import json"
      ],
      "metadata": {
        "id": "67k2uYgC3OFd"
      },
      "execution_count": 8,
      "outputs": []
    },
    {
      "cell_type": "code",
      "source": [
        "# To identify fonts\n",
        "def fonts(doc, granularity=False):\n",
        "    styles = {}\n",
        "    font_counts = {}\n",
        "\n",
        "    for page in doc:\n",
        "        blocks = page.getText(\"dict\")[\"blocks\"]\n",
        "        for b in blocks:  # iterate through the text blocks\n",
        "            if b['type'] == 0:  # block contains text\n",
        "                for l in b[\"lines\"]:  # iterate through the text lines\n",
        "                    for s in l[\"spans\"]:  # iterate through the text spans\n",
        "                        if granularity:\n",
        "                            identifier = \"{0}_{1}_{2}_{3}\".format(s['size'], s['flags'], s['font'], s['color'])\n",
        "                            styles[identifier] = {'size': s['size'], 'flags': s['flags'], 'font': s['font'],\n",
        "                                                  'color': s['color']}\n",
        "                        else:\n",
        "                            identifier = \"{0}\".format(s['size'])\n",
        "                            styles[identifier] = {'size': s['size'], 'font': s['font']}\n",
        "\n",
        "                        font_counts[identifier] = font_counts.get(identifier, 0) + 1  # count the fonts usage\n",
        "\n",
        "    font_counts = sorted(font_counts.items(), key=itemgetter(1), reverse=True)\n",
        "\n",
        "    if len(font_counts) < 1:\n",
        "        raise ValueError(\"Zero discriminating fonts found!\")\n",
        "\n",
        "    return font_counts, styles\n",
        "\n",
        "\n",
        "# To identify font tags\n",
        "def font_tags(font_counts, styles):\n",
        "    p_style = styles[font_counts[0][0]]  # get style for most used font by count (paragraph)\n",
        "    p_size = p_style['size']  \n",
        "\n",
        "    # sorting the font sizes high to low, so that we can append the right integer to each tag\n",
        "    font_sizes = []\n",
        "    for (font_size, count) in font_counts:\n",
        "        font_sizes.append(float(font_size))\n",
        "    font_sizes.sort(reverse=True)\n",
        "\n",
        "    # aggregating the tags for each font size\n",
        "    idx = 0\n",
        "    size_tag = {}\n",
        "    for size in font_sizes:\n",
        "        idx += 1\n",
        "        if size == p_size:\n",
        "            idx = 0\n",
        "            size_tag[size] = '<p>'\n",
        "        if size > p_size:\n",
        "            size_tag[size] = '<h>'\n",
        "        elif size < p_size:\n",
        "            size_tag[size] = '<s>'\n",
        "\n",
        "    return size_tag\n",
        "\n",
        "\n",
        "def headers_para(doc, size_tag):\n",
        "    header_para = []  # list with headers and paragraphs\n",
        "    first = True  # boolean operator for first header\n",
        "    previous_s = {}  # previous span\n",
        "\n",
        "    for page in doc:\n",
        "        blocks = page.getText(\"dict\")[\"blocks\"]\n",
        "        for b in blocks:  # iterate through the text blocks\n",
        "            if b['type'] == 0:  # this block contains text\n",
        "\n",
        "                # REMEMBER: multiple fonts and sizes are possible IN one block\n",
        "\n",
        "                block_string = \"\"  # text found in block\n",
        "                for l in b[\"lines\"]:  # iterate through the text lines\n",
        "                    for s in l[\"spans\"]:  # iterate through the text spans\n",
        "                        if s['text'].strip():  # removing whitespaces:\n",
        "                            if first:\n",
        "                                previous_s = s\n",
        "                                first = False\n",
        "                                block_string = size_tag[s['size']] + s['text']\n",
        "                            else:\n",
        "                                if s['size'] == previous_s['size']:\n",
        "\n",
        "                                    if block_string and all((c == \"|\") for c in block_string):\n",
        "                                        # block_string only contains pipes\n",
        "                                        block_string = size_tag[s['size']] + s['text']\n",
        "                                    if block_string == \"\":\n",
        "                                        # new block has started, so append size tag\n",
        "                                        block_string = size_tag[s['size']] + s['text']\n",
        "                                    else:  # in the same block, so concatenate strings\n",
        "                                        block_string += \" \" + s['text']\n",
        "\n",
        "                                else:\n",
        "                                    header_para.append(block_string)\n",
        "                                    block_string = size_tag[s['size']] + s['text']\n",
        "\n",
        "                                previous_s = s\n",
        "\n",
        "                    # new block started, indicating with a pipe\n",
        "                    block_string += \"|\"\n",
        "\n",
        "                header_para.append(block_string)\n",
        "\n",
        "    return header_para\n",
        "\n",
        "\n",
        "def main():\n",
        "\n",
        "    document = filepath\n",
        "    doc = fitz.open(document)\n",
        "\n",
        "    font_counts, styles = fonts(doc, granularity=False)\n",
        "\n",
        "    size_tag = font_tags(font_counts, styles)\n",
        "\n",
        "    elements = headers_para(doc, size_tag)\n",
        "\n",
        "    return elements\n",
        "\n",
        "\n",
        "if __name__ == '__main__':\n",
        "    text=main()"
      ],
      "metadata": {
        "colab": {
          "base_uri": "https://localhost:8080/"
        },
        "id": "ksBeX-qY3Q-n",
        "outputId": "7652b88e-b7af-4789-f783-30e770edcf6b"
      },
      "execution_count": 9,
      "outputs": [
        {
          "output_type": "stream",
          "name": "stderr",
          "text": [
            "Deprecation: 'getText' removed from class 'Page' after v1.19 - use 'get_text'.\n"
          ]
        }
      ]
    },
    {
      "cell_type": "code",
      "source": [
        "# Function to convert  \n",
        "def listToString(s): \n",
        "    \n",
        "    # initialize an empty string\n",
        "    str1 = \" \" \n",
        "    \n",
        "    # return string  \n",
        "    return (str1.join(s))"
      ],
      "metadata": {
        "id": "uiHTDQUR3TJV"
      },
      "execution_count": 10,
      "outputs": []
    },
    {
      "cell_type": "code",
      "source": [
        "text = listToString(text)\n",
        "print(text)"
      ],
      "metadata": {
        "colab": {
          "base_uri": "https://localhost:8080/"
        },
        "id": "S574h3M04CHe",
        "outputId": "9e323226-0fbc-4ea4-ae18-db8ef4bbabc8"
      },
      "execution_count": 11,
      "outputs": [
        {
          "output_type": "stream",
          "name": "stdout",
          "text": [
            "|| <h>Contact|  <s>www.linkedin.com/in/adwa-| altami-58b2bb188  (LinkedIn)|  <h>Adwa AlTami|  <p>Business Analyst Intern at HRcom.io| Riyadh|  <h>Experience|  <p>E-Commerce Club | ةينورتكلإلا ةراجتلا يدان|  <s>1 year 1 month|  <s>President| <s>September 2021 - Present (5 months)|  <s>Vice President| <s>January 2021 - September 2021 (9 months)|  <p>HRcom.io| <s>Business Analyst Intern| <s>May 2021 - Present (9 months)| Riyadh, Saudi Arabia|  <p>Prince Sultan University - Data Science Club| <s>Graphic Designer| <s>February 2020 - May 2021 (1 year 4 months)|  <p>Prince Sultan University - Accounting Club| <s>Graphic Designer| <s>January 2020 - May 2021 (1 year 5 months)|  <h>Education|  <p>Prince Sultan University|  <s>Information Systems and E-Commerce · (September 2019 - September 2024)|  <p>AlAfaq Schools|  <s>American Diploma  · (2019)| | <s>Page 1 of 1|\n"
          ]
        }
      ]
    },
    {
      "cell_type": "code",
      "source": [
        ""
      ],
      "metadata": {
        "id": "WUGkQXy_4G68"
      },
      "execution_count": null,
      "outputs": []
    }
  ]
}