{
 "cells": [
  {
   "cell_type": "code",
   "execution_count": 1,
   "id": "07a75065",
   "metadata": {},
   "outputs": [
    {
     "name": "stdout",
     "output_type": "stream",
     "text": [
      " Volume in drive C is Windows-SSD\n",
      " Volume Serial Number is 822E-7A5D\n",
      "\n",
      " Directory of C:\\Users\\KISHOR WAGH\\Program Folder\\DEEP BLUE\n",
      "\n",
      "01/05/2022  03:38 PM    <DIR>          .\n",
      "01/05/2022  03:38 PM    <DIR>          ..\n",
      "01/05/2022  02:17 PM    <DIR>          .ipynb_checkpoints\n",
      "01/05/2022  02:19 PM            42,213 resume_linkdien.pdf\n",
      "01/05/2022  03:38 PM            23,285 Untitled.ipynb\n",
      "               2 File(s)         65,498 bytes\n",
      "               3 Dir(s)  85,777,186,816 bytes free\n"
     ]
    }
   ],
   "source": [
    "ls"
   ]
  },
  {
   "cell_type": "code",
   "execution_count": 6,
   "id": "053a9f6c",
   "metadata": {
    "scrolled": true
   },
   "outputs": [
    {
     "name": "stdout",
     "output_type": "stream",
     "text": [
      "Collecting fitz\n",
      "  Downloading fitz-0.0.1.dev2-py2.py3-none-any.whl (20 kB)\n",
      "Collecting nipype\n",
      "  Downloading nipype-1.7.0-py3-none-any.whl (3.2 MB)\n",
      "Collecting httplib2\n",
      "  Downloading httplib2-0.20.2-py3-none-any.whl (96 kB)\n",
      "Collecting configparser\n",
      "  Downloading configparser-5.2.0-py3-none-any.whl (19 kB)\n",
      "Collecting configobj\n",
      "  Downloading configobj-5.0.6.tar.gz (33 kB)\n",
      "Requirement already satisfied: scipy in c:\\programdata\\anaconda3\\lib\\site-packages (from fitz) (1.6.2)\n",
      "Requirement already satisfied: pandas in c:\\programdata\\anaconda3\\lib\\site-packages (from fitz) (1.2.4)\n",
      "Requirement already satisfied: numpy in c:\\programdata\\anaconda3\\lib\\site-packages (from fitz) (1.20.1)\n",
      "Collecting pyxnat\n",
      "  Downloading pyxnat-1.4.tar.gz (78 kB)\n",
      "Collecting nibabel\n",
      "  Downloading nibabel-3.2.1-py3-none-any.whl (3.3 MB)\n",
      "Requirement already satisfied: six in c:\\programdata\\anaconda3\\lib\\site-packages (from configobj->fitz) (1.15.0)\n",
      "Requirement already satisfied: pyparsing!=3.0.0,!=3.0.1,!=3.0.2,!=3.0.3,<4,>=2.4.2 in c:\\programdata\\anaconda3\\lib\\site-packages (from httplib2->fitz) (2.4.7)\n",
      "Requirement already satisfied: packaging>=14.3 in c:\\programdata\\anaconda3\\lib\\site-packages (from nibabel->fitz) (20.9)\n",
      "Collecting prov>=1.5.2\n",
      "  Downloading prov-2.0.0-py3-none-any.whl (421 kB)\n",
      "Collecting pydot>=1.2.3\n",
      "  Downloading pydot-1.4.2-py2.py3-none-any.whl (21 kB)\n",
      "Requirement already satisfied: python-dateutil>=2.2 in c:\\programdata\\anaconda3\\lib\\site-packages (from nipype->fitz) (2.8.1)\n",
      "Requirement already satisfied: filelock>=3.0.0 in c:\\programdata\\anaconda3\\lib\\site-packages (from nipype->fitz) (3.0.12)\n",
      "Collecting rdflib>=5.0.0\n",
      "  Downloading rdflib-6.1.1-py3-none-any.whl (482 kB)\n",
      "Collecting traits!=5.0,>=4.6\n",
      "  Downloading traits-6.3.2-cp38-cp38-win_amd64.whl (5.0 MB)\n",
      "Collecting simplejson>=3.8.0\n",
      "  Downloading simplejson-3.17.6-cp38-cp38-win_amd64.whl (75 kB)\n",
      "Collecting etelemetry>=0.2.0\n",
      "  Downloading etelemetry-0.2.2-py3-none-any.whl (6.2 kB)\n",
      "Requirement already satisfied: click>=6.6.0 in c:\\programdata\\anaconda3\\lib\\site-packages (from nipype->fitz) (7.1.2)\n",
      "Requirement already satisfied: networkx>=2.0 in c:\\programdata\\anaconda3\\lib\\site-packages (from nipype->fitz) (2.5)\n",
      "Collecting ci-info>=0.2\n",
      "  Downloading ci_info-0.2.0-py3-none-any.whl (6.9 kB)\n",
      "Requirement already satisfied: requests in c:\\programdata\\anaconda3\\lib\\site-packages (from etelemetry>=0.2.0->nipype->fitz) (2.25.1)\n",
      "Requirement already satisfied: decorator>=4.3.0 in c:\\programdata\\anaconda3\\lib\\site-packages (from networkx>=2.0->nipype->fitz) (5.0.6)\n",
      "Requirement already satisfied: lxml>=3.3.5 in c:\\programdata\\anaconda3\\lib\\site-packages (from prov>=1.5.2->nipype->fitz) (4.6.3)\n",
      "Collecting isodate\n",
      "  Downloading isodate-0.6.1-py2.py3-none-any.whl (41 kB)\n",
      "Requirement already satisfied: setuptools in c:\\programdata\\anaconda3\\lib\\site-packages (from rdflib>=5.0.0->nipype->fitz) (52.0.0.post20210125)\n",
      "Requirement already satisfied: pytz>=2017.3 in c:\\programdata\\anaconda3\\lib\\site-packages (from pandas->fitz) (2021.1)\n",
      "Collecting pathlib>=1.0\n",
      "  Downloading pathlib-1.0.1.tar.gz (49 kB)\n",
      "Requirement already satisfied: future>=0.16 in c:\\programdata\\anaconda3\\lib\\site-packages (from pyxnat->fitz) (0.18.2)\n",
      "Requirement already satisfied: certifi>=2017.4.17 in c:\\programdata\\anaconda3\\lib\\site-packages (from requests->etelemetry>=0.2.0->nipype->fitz) (2020.12.5)\n",
      "Requirement already satisfied: idna<3,>=2.5 in c:\\programdata\\anaconda3\\lib\\site-packages (from requests->etelemetry>=0.2.0->nipype->fitz) (2.10)\n",
      "Requirement already satisfied: chardet<5,>=3.0.2 in c:\\programdata\\anaconda3\\lib\\site-packages (from requests->etelemetry>=0.2.0->nipype->fitz) (4.0.0)\n",
      "Requirement already satisfied: urllib3<1.27,>=1.21.1 in c:\\programdata\\anaconda3\\lib\\site-packages (from requests->etelemetry>=0.2.0->nipype->fitz) (1.26.4)\n",
      "Building wheels for collected packages: configobj, pyxnat, pathlib\n",
      "  Building wheel for configobj (setup.py): started\n",
      "  Building wheel for configobj (setup.py): finished with status 'done'\n",
      "  Created wheel for configobj: filename=configobj-5.0.6-py3-none-any.whl size=34547 sha256=b580efdadc93cc2b8abf8ad13685710ed16342a962da9b224123c8a10d89eccf\n",
      "  Stored in directory: c:\\users\\kishor wagh\\appdata\\local\\pip\\cache\\wheels\\34\\2a\\24\\a490264ae9041fd48f778ff393526572c80bb498ddecb07ea5\n",
      "  Building wheel for pyxnat (setup.py): started\n",
      "  Building wheel for pyxnat (setup.py): finished with status 'done'\n",
      "  Created wheel for pyxnat: filename=pyxnat-1.4-py3-none-any.whl size=92687 sha256=a2cf6c0de1a113c88f9801bb2a2098a2716f185861f2c406ab8814d60de13df4\n",
      "  Stored in directory: c:\\users\\kishor wagh\\appdata\\local\\pip\\cache\\wheels\\ab\\8c\\88\\43b445801349ef91dea1a2f7e572f20b9940320e27fb985faa\n",
      "  Building wheel for pathlib (setup.py): started\n",
      "  Building wheel for pathlib (setup.py): finished with status 'done'\n",
      "  Created wheel for pathlib: filename=pathlib-1.0.1-py3-none-any.whl size=14347 sha256=687918057b48752524b0cf8a3c03abb0728b4d548c440b5a9adf5f996a442b1c\n",
      "  Stored in directory: c:\\users\\kishor wagh\\appdata\\local\\pip\\cache\\wheels\\59\\02\\2f\\ff4a3e16a518feb111ae1405908094483ef56fec0dfa39e571\n",
      "Successfully built configobj pyxnat pathlib\n",
      "Installing collected packages: isodate, rdflib, ci-info, traits, simplejson, pydot, prov, pathlib, nibabel, etelemetry, pyxnat, nipype, httplib2, configparser, configobj, fitz\n",
      "Note: you may need to restart the kernel to use updated packages.\n"
     ]
    },
    {
     "name": "stderr",
     "output_type": "stream",
     "text": [
      "ERROR: Could not install packages due to an OSError: [WinError 5] Access is denied: 'C:\\\\ProgramData\\\\Anaconda3\\\\Lib\\\\site-packages\\\\scripts\\\\__init__.py'\n",
      "Consider using the `--user` option or check the permissions.\n",
      "\n"
     ]
    }
   ],
   "source": [
    "pip install fitz\n"
   ]
  },
  {
   "cell_type": "code",
   "execution_count": 4,
   "id": "45efaae1",
   "metadata": {
    "scrolled": false
   },
   "outputs": [
    {
     "ename": "IndexError",
     "evalue": "list index out of range",
     "output_type": "error",
     "traceback": [
      "\u001b[1;31m---------------------------------------------------------------------------\u001b[0m",
      "\u001b[1;31mIndexError\u001b[0m                                Traceback (most recent call last)",
      "\u001b[1;32m<ipython-input-4-6c8e9de91b61>\u001b[0m in \u001b[0;36m<module>\u001b[1;34m\u001b[0m\n\u001b[0;32m     12\u001b[0m \u001b[1;33m\u001b[0m\u001b[0m\n\u001b[0;32m     13\u001b[0m \u001b[1;31m#create a variable that will select the selected number of pages\u001b[0m\u001b[1;33m\u001b[0m\u001b[1;33m\u001b[0m\u001b[1;33m\u001b[0m\u001b[0m\n\u001b[1;32m---> 14\u001b[1;33m \u001b[0mpageobj\u001b[0m\u001b[1;33m=\u001b[0m\u001b[0mpdfreader\u001b[0m\u001b[1;33m.\u001b[0m\u001b[0mgetPage\u001b[0m\u001b[1;33m(\u001b[0m\u001b[0mx\u001b[0m\u001b[1;33m+\u001b[0m\u001b[1;36m1\u001b[0m\u001b[1;33m)\u001b[0m\u001b[1;33m\u001b[0m\u001b[1;33m\u001b[0m\u001b[0m\n\u001b[0m\u001b[0;32m     15\u001b[0m \u001b[1;33m\u001b[0m\u001b[0m\n\u001b[0;32m     16\u001b[0m \u001b[1;31m#(x+1) because python indentation starts with 0.\u001b[0m\u001b[1;33m\u001b[0m\u001b[1;33m\u001b[0m\u001b[1;33m\u001b[0m\u001b[0m\n",
      "\u001b[1;32mC:\\ProgramData\\Anaconda3\\lib\\site-packages\\PyPDF2\\pdf.py\u001b[0m in \u001b[0;36mgetPage\u001b[1;34m(self, pageNumber)\u001b[0m\n\u001b[0;32m   1175\u001b[0m         \u001b[1;32mif\u001b[0m \u001b[0mself\u001b[0m\u001b[1;33m.\u001b[0m\u001b[0mflattenedPages\u001b[0m \u001b[1;33m==\u001b[0m \u001b[1;32mNone\u001b[0m\u001b[1;33m:\u001b[0m\u001b[1;33m\u001b[0m\u001b[1;33m\u001b[0m\u001b[0m\n\u001b[0;32m   1176\u001b[0m             \u001b[0mself\u001b[0m\u001b[1;33m.\u001b[0m\u001b[0m_flatten\u001b[0m\u001b[1;33m(\u001b[0m\u001b[1;33m)\u001b[0m\u001b[1;33m\u001b[0m\u001b[1;33m\u001b[0m\u001b[0m\n\u001b[1;32m-> 1177\u001b[1;33m         \u001b[1;32mreturn\u001b[0m \u001b[0mself\u001b[0m\u001b[1;33m.\u001b[0m\u001b[0mflattenedPages\u001b[0m\u001b[1;33m[\u001b[0m\u001b[0mpageNumber\u001b[0m\u001b[1;33m]\u001b[0m\u001b[1;33m\u001b[0m\u001b[1;33m\u001b[0m\u001b[0m\n\u001b[0m\u001b[0;32m   1178\u001b[0m \u001b[1;33m\u001b[0m\u001b[0m\n\u001b[0;32m   1179\u001b[0m     namedDestinations = property(lambda self:\n",
      "\u001b[1;31mIndexError\u001b[0m: list index out of range"
     ]
    }
   ],
   "source": [
    "import PyPDF2\n",
    " \n",
    "#create file object variable\n",
    "#opening method will be rb\n",
    "pdffileobj=open('resume_linkdien.pdf','rb')\n",
    " \n",
    "#create reader variable that will read the pdffileobj\n",
    "pdfreader=PyPDF2.PdfFileReader(pdffileobj)\n",
    " \n",
    "#This will store the number of pages of this pdf file\n",
    "x=pdfreader.numPages\n",
    " \n",
    "#create a variable that will select the selected number of pages\n",
    "pageobj=pdfreader.getPage(x+1)\n",
    " \n",
    "#(x+1) because python indentation starts with 0.\n",
    "#create text variable D:\\SEIT Kunal\\Deep Blue\\PDF Text extractionwhich will store all text datafrom pdf file\n",
    "text=pageobj.extractText()\n",
    " \n",
    "#save the extracted data from pdf to a txt file\n",
    "#we will use file handling here\n",
    "#dont forget to put r before you put the file path\n",
    "#go to the file location copy the path by right clicking on the file\n",
    "#click properties and copy the location path and paste it here.\n",
    "#put \"\\\\your_txtfilename\"\n",
    "file1=open(r\",\"a\")\n",
    "file1.writelines(text)"
   ]
  },
  {
   "cell_type": "code",
   "execution_count": 2,
   "id": "f2747eac",
   "metadata": {
    "scrolled": false
   },
   "outputs": [
    {
     "name": "stdout",
     "output_type": "stream",
     "text": [
      "Collecting PyMuPDF\n",
      "  Downloading PyMuPDF-1.19.4-cp38-cp38-win_amd64.whl (6.4 MB)\n",
      "Installing collected packages: PyMuPDF\n",
      "Successfully installed PyMuPDF-1.19.4\n",
      "Note: you may need to restart the kernel to use updated packages.\n"
     ]
    }
   ],
   "source": [
    "pip install PyMuPDF"
   ]
  },
  {
   "cell_type": "code",
   "execution_count": 7,
   "id": "863c41a0",
   "metadata": {
    "scrolled": true
   },
   "outputs": [
    {
     "name": "stdout",
     "output_type": "stream",
     "text": [
      "    Contact www.linkedin.com/in/aju- palleri-248798a4 (LinkedIn) Top Skills Teaching Core Java Python (Programming Language) Certifications Use WordPress to Create a Blog for your Business Create Your First Web App with Python and Flask Excel Skills for Business: Essentials Introduction to Relational Database and SQL Build a Full Website using WordPress Aju Palleri Assistant Professor at PCE, New Panvel Mumbai Summary I am working as an Assistant Professor with PCE, New Panvel for past 10 years. I have keen interest in programming and learning new languages. C, C++, Java, Python, DBMS, Digital Logic Design, Computer Simulation and modelling  and web programming are subjects taught to students. I have mentored students to National Level Smart India Hackathon and Deep Blue Competition. I have guided SE, TE and BE students in their projects and it has been fun to bring in creative ideas and develop using different technologies I am part of internal software development team, responsible to develop software that maintains academic records of students. Experience Pillai College of Engineering Assistant Professor at PCE, New Panvel August 2011 - Present (10 years 6 months) Navi Mumbai AC Nielsen DA Junior Programmer January 2011 - July 2011 (7 months) Byculla, Mumbai Creating surveys using Java Script and confirmit tool. Education Pillai College of Engineering Master's degree, Information Technology · (July 2012 - August 2015) Bharati Vidyapeeth's College of Engineering Bachelor in Engineering, Information Technology · (July 2004 - May 2008)   Page 1 of 2       Page 2 of 2 \n"
     ]
    }
   ],
   "source": [
    "import sys, fitz\n",
    "fname = 'resume_linkdien.pdf'\n",
    "doc = fitz.open(fname)\n",
    "text = \"\"\n",
    "for page in doc:\n",
    "    text = text + str(page.getText())\n",
    "tx = \" \".join(text.split('\\n'))\n",
    "print(tx)"
   ]
  },
  {
   "cell_type": "code",
   "execution_count": 11,
   "id": "05d92cd3",
   "metadata": {},
   "outputs": [],
   "source": [
    "import pandas as pd\n",
    "templist = []\n",
    "\n",
    "dict_new = {'scrape' : tx}\n",
    "templist.append(dict_new)\n",
    "df = pd.DataFrame(templist)"
   ]
  },
  {
   "cell_type": "code",
   "execution_count": 12,
   "id": "91b36998",
   "metadata": {
    "collapsed": true
   },
   "outputs": [
    {
     "data": {
      "text/html": [
       "<div>\n",
       "<style scoped>\n",
       "    .dataframe tbody tr th:only-of-type {\n",
       "        vertical-align: middle;\n",
       "    }\n",
       "\n",
       "    .dataframe tbody tr th {\n",
       "        vertical-align: top;\n",
       "    }\n",
       "\n",
       "    .dataframe thead th {\n",
       "        text-align: right;\n",
       "    }\n",
       "</style>\n",
       "<table border=\"1\" class=\"dataframe\">\n",
       "  <thead>\n",
       "    <tr style=\"text-align: right;\">\n",
       "      <th></th>\n",
       "      <th>scrape</th>\n",
       "    </tr>\n",
       "  </thead>\n",
       "  <tbody>\n",
       "    <tr>\n",
       "      <th>0</th>\n",
       "      <td>Contact www.linkedin.com/in/aju- palleri-2...</td>\n",
       "    </tr>\n",
       "  </tbody>\n",
       "</table>\n",
       "</div>"
      ],
      "text/plain": [
       "                                              scrape\n",
       "0      Contact www.linkedin.com/in/aju- palleri-2..."
      ]
     },
     "execution_count": 12,
     "metadata": {},
     "output_type": "execute_result"
    }
   ],
   "source": [
    "df"
   ]
  },
  {
   "cell_type": "code",
   "execution_count": 8,
   "id": "6cf97580",
   "metadata": {
    "scrolled": false
   },
   "outputs": [
    {
     "ename": "AttributeError",
     "evalue": "'str' object has no attribute 'to_csv'",
     "output_type": "error",
     "traceback": [
      "\u001b[1;31m---------------------------------------------------------------------------\u001b[0m",
      "\u001b[1;31mAttributeError\u001b[0m                            Traceback (most recent call last)",
      "\u001b[1;32m<ipython-input-8-4490c9ff3927>\u001b[0m in \u001b[0;36m<module>\u001b[1;34m\u001b[0m\n\u001b[0;32m      1\u001b[0m \u001b[1;32mimport\u001b[0m \u001b[0mpandas\u001b[0m \u001b[1;32mas\u001b[0m \u001b[0mpd\u001b[0m\u001b[1;33m\u001b[0m\u001b[1;33m\u001b[0m\u001b[0m\n\u001b[0;32m      2\u001b[0m \u001b[1;33m\u001b[0m\u001b[0m\n\u001b[1;32m----> 3\u001b[1;33m \u001b[0mtx\u001b[0m\u001b[1;33m.\u001b[0m\u001b[0mto_csv\u001b[0m\u001b[1;33m(\u001b[0m\u001b[1;34m\"Resume.csv\"\u001b[0m\u001b[1;33m)\u001b[0m\u001b[1;33m\u001b[0m\u001b[1;33m\u001b[0m\u001b[0m\n\u001b[0m",
      "\u001b[1;31mAttributeError\u001b[0m: 'str' object has no attribute 'to_csv'"
     ]
    }
   ],
   "source": [
    "import pandas as pd \n",
    "\n",
    "tx.to_csv(\"Resume.csv\")"
   ]
  },
  {
   "cell_type": "code",
   "execution_count": 13,
   "id": "d1ee3589",
   "metadata": {
    "scrolled": true
   },
   "outputs": [
    {
     "name": "stdout",
     "output_type": "stream",
     "text": [
      " \n",
      "\n",
      " \n",
      "\n",
      "www.linkedin.com/in/aju-\n",
      "palleri-248798a4 (LinkedIn)\n",
      "\n",
      "Assistant Professor at PCE, New Panvel\n",
      "Mumbai\n",
      "\n",
      " \n",
      "\n",
      "Aju Palleri\n",
      "\n",
      "Summary\n",
      "\n",
      "Contact\n",
      "\n",
      "Top Skills\n",
      "\n",
      "Teaching\n",
      "\n",
      "Core Java\n",
      "\n",
      "Python (Programming Language)\n",
      "\n",
      "Certifications\n",
      "\n",
      "Use WordPress to Create a Blog for\n",
      "your Business\n",
      "\n",
      "Create Your First Web App with\n",
      "Python and Flask\n",
      "\n",
      "Excel Skills for Business: Essentials\n",
      "\n",
      "Introduction to Relational Database\n",
      "and SQL\n",
      "\n",
      "Build a Full Website using\n",
      "WordPress\n",
      "\n",
      "I am working as an Assistant Professor with PCE, New Panvel for\n",
      "\n",
      "past 10 years. I have keen interest in programming and learning\n",
      "\n",
      "new languages. C, C++, Java, Python, DBMS, Digital Logic Design,\n",
      "\n",
      "Computer Simulation and modelling  and web programming are\n",
      "\n",
      "subjects taught to students.\n",
      "\n",
      "I have mentored students to National Level Smart India Hackathon\n",
      "\n",
      "and Deep Blue Competition. I have guided SE, TE and BE students\n",
      "\n",
      "in their projects and it has been fun to bring in creative ideas and\n",
      "\n",
      "develop using different technologies I am part of internal software\n",
      "\n",
      "development team, responsible to develop software that maintains\n",
      "\n",
      "academic records of students.\n",
      "\n",
      "Experience\n",
      "\n",
      "Pillai College of Engineering\n",
      "Assistant Professor at PCE, New Panvel\n",
      "August 2011 - Present (10 years 6 months)\n",
      "Navi Mumbai\n",
      "\n",
      "AC Nielsen\n",
      "DA Junior Programmer\n",
      "January 2011 - July 2011 (7 months)\n",
      "Byculla, Mumbai\n",
      "\n",
      "Creating surveys using Java Script and confirmit tool.\n",
      "\n",
      "Education\n",
      "\n",
      "Pillai College of Engineering\n",
      "\n",
      "Master's degree, Information Technology · (July 2012 - August 2015)\n",
      "\n",
      "Bharati Vidyapeeth's College of Engineering\n",
      "\n",
      "Bachelor in Engineering, Information Technology · (July 2004 - May 2008)\n",
      "\n",
      "Page 1 of 2\n",
      "\n",
      "\f",
      " \n",
      "\n",
      " \n",
      "\n",
      " \n",
      "\n",
      "Page 2 of 2\n",
      "\n",
      "\f",
      "\n"
     ]
    }
   ],
   "source": [
    "import pdfminer\n",
    "import pandas as pd\n",
    "from io import StringIO\n",
    "\n",
    "from pdfminer.converter import TextConverter\n",
    "from pdfminer.layout import LAParams\n",
    "from pdfminer.pdfdocument import PDFDocument\n",
    "from pdfminer.pdfinterp import PDFResourceManager, PDFPageInterpreter\n",
    "from pdfminer.pdfpage import PDFPage\n",
    "from pdfminer.pdfparser import PDFParser\n",
    "\n",
    "output_string = StringIO()\n",
    "with open('resume_linkdien.pdf', 'rb') as in_file:\n",
    "    parser = PDFParser(in_file)\n",
    "    doc = PDFDocument(parser)\n",
    "    rsrcmgr = PDFResourceManager()\n",
    "    device = TextConverter(rsrcmgr, output_string, laparams=LAParams())\n",
    "    interpreter = PDFPageInterpreter(rsrcmgr, device)\n",
    "    for page in PDFPage.create_pages(doc):\n",
    "        interpreter.process_page(page)\n",
    "\n",
    "pdf=output_string.getvalue()\n",
    "print(output_string.getvalue())\n"
   ]
  },
  {
   "cell_type": "code",
   "execution_count": 15,
   "id": "f957b055",
   "metadata": {
    "scrolled": true
   },
   "outputs": [],
   "source": [
    "import pandas as pd\n",
    "templist = []\n",
    "\n",
    "dict_new = {'scrape' : pdf}\n",
    "templist.append(dict_new)\n",
    "df = pd.DataFrame(templist)"
   ]
  },
  {
   "cell_type": "code",
   "execution_count": 16,
   "id": "3de53f97",
   "metadata": {},
   "outputs": [
    {
     "data": {
      "text/html": [
       "<div>\n",
       "<style scoped>\n",
       "    .dataframe tbody tr th:only-of-type {\n",
       "        vertical-align: middle;\n",
       "    }\n",
       "\n",
       "    .dataframe tbody tr th {\n",
       "        vertical-align: top;\n",
       "    }\n",
       "\n",
       "    .dataframe thead th {\n",
       "        text-align: right;\n",
       "    }\n",
       "</style>\n",
       "<table border=\"1\" class=\"dataframe\">\n",
       "  <thead>\n",
       "    <tr style=\"text-align: right;\">\n",
       "      <th></th>\n",
       "      <th>scrape</th>\n",
       "    </tr>\n",
       "  </thead>\n",
       "  <tbody>\n",
       "    <tr>\n",
       "      <th>0</th>\n",
       "      <td>\\n\\n \\n\\nwww.linkedin.com/in/aju-\\npalleri-24...</td>\n",
       "    </tr>\n",
       "  </tbody>\n",
       "</table>\n",
       "</div>"
      ],
      "text/plain": [
       "                                              scrape\n",
       "0   \\n\\n \\n\\nwww.linkedin.com/in/aju-\\npalleri-24..."
      ]
     },
     "execution_count": 16,
     "metadata": {},
     "output_type": "execute_result"
    }
   ],
   "source": [
    "df"
   ]
  },
  {
   "cell_type": "code",
   "execution_count": 17,
   "id": "8df88e39",
   "metadata": {},
   "outputs": [
    {
     "name": "stdout",
     "output_type": "stream",
     "text": [
      " Volume in drive C is Windows-SSD\n",
      " Volume Serial Number is 822E-7A5D\n",
      "\n",
      " Directory of C:\\Users\\KISHOR WAGH\\Program Folder\\DEEP BLUE\n",
      "\n",
      "01/05/2022  03:30 PM    <DIR>          .\n",
      "01/05/2022  03:30 PM    <DIR>          ..\n",
      "01/05/2022  02:17 PM    <DIR>          .ipynb_checkpoints\n",
      "01/05/2022  02:19 PM            42,213 resume_linkdien.pdf\n",
      "01/05/2022  03:30 PM            22,431 Untitled.ipynb\n",
      "               2 File(s)         64,644 bytes\n",
      "               3 Dir(s)  85,755,035,648 bytes free\n"
     ]
    }
   ],
   "source": [
    "ls"
   ]
  },
  {
   "cell_type": "code",
   "execution_count": null,
   "id": "29cc206a",
   "metadata": {},
   "outputs": [],
   "source": []
  }
 ],
 "metadata": {
  "kernelspec": {
   "display_name": "Python 3",
   "language": "python",
   "name": "python3"
  },
  "language_info": {
   "codemirror_mode": {
    "name": "ipython",
    "version": 3
   },
   "file_extension": ".py",
   "mimetype": "text/x-python",
   "name": "python",
   "nbconvert_exporter": "python",
   "pygments_lexer": "ipython3",
   "version": "3.8.8"
  }
 },
 "nbformat": 4,
 "nbformat_minor": 5
}
