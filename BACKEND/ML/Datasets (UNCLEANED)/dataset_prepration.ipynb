{
 "cells": [
  {
   "cell_type": "code",
   "execution_count": null,
   "id": "e0cbc769",
   "metadata": {},
   "outputs": [],
   "source": [
    "import pandas as pd\n"
   ]
  },
  {
   "cell_type": "code",
   "execution_count": null,
   "id": "077b2e56",
   "metadata": {},
   "outputs": [],
   "source": [
    "data=pd.read_csv(\"resumes_indeed_com-job_sample.csv\")"
   ]
  },
  {
   "cell_type": "code",
   "execution_count": null,
   "id": "d9eb1286",
   "metadata": {},
   "outputs": [],
   "source": [
    "data.describe()"
   ]
  },
  {
   "cell_type": "code",
   "execution_count": null,
   "id": "a363fda9",
   "metadata": {},
   "outputs": [],
   "source": [
    "data.info()"
   ]
  },
  {
   "cell_type": "code",
   "execution_count": null,
   "id": "dd6e41e1",
   "metadata": {},
   "outputs": [],
   "source": [
    "data.head(10)"
   ]
  },
  {
   "cell_type": "code",
   "execution_count": null,
   "id": "819e4661",
   "metadata": {},
   "outputs": [],
   "source": [
    "del data['Crawl Timestamp']"
   ]
  },
  {
   "cell_type": "code",
   "execution_count": null,
   "id": "adc0d0fa",
   "metadata": {},
   "outputs": [],
   "source": [
    "del data['Uniq Id']"
   ]
  },
  {
   "cell_type": "code",
   "execution_count": null,
   "id": "3f5e55a4",
   "metadata": {},
   "outputs": [],
   "source": [
    "data.head(5)"
   ]
  },
  {
   "cell_type": "code",
   "execution_count": null,
   "id": "05613142",
   "metadata": {},
   "outputs": [],
   "source": [
    "data[data[\"Resume Title\"]=='Sales Manager']"
   ]
  },
  {
   "cell_type": "code",
   "execution_count": null,
   "id": "af3ad236",
   "metadata": {},
   "outputs": [],
   "source": []
  }
 ],
 "metadata": {
  "kernelspec": {
   "display_name": "Python 3",
   "language": "python",
   "name": "python3"
  },
  "language_info": {
   "codemirror_mode": {
    "name": "ipython",
    "version": 3
   },
   "file_extension": ".py",
   "mimetype": "text/x-python",
   "name": "python",
   "nbconvert_exporter": "python",
   "pygments_lexer": "ipython3",
   "version": "3.9.9"
  }
 },
 "nbformat": 4,
 "nbformat_minor": 5
}
