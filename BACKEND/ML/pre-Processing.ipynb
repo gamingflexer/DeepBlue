{
 "cells": [
  {
   "cell_type": "code",
   "execution_count": 1,
   "metadata": {},
   "outputs": [],
   "source": [
    "import json\n",
    "import re\n",
    "import pandas as pd\n",
    "import nltk\n",
    "import string"
   ]
  },
  {
   "cell_type": "markdown",
   "metadata": {},
   "source": [
    "Visulizing"
   ]
  },
  {
   "cell_type": "code",
   "execution_count": 39,
   "metadata": {},
   "outputs": [
    {
     "name": "stdout",
     "output_type": "stream",
     "text": [
      "\n",
      "\n",
      "\n",
      "\n",
      "\n",
      "\n",
      "\n",
      "\n",
      "\n",
      "\n",
      "\n",
      "\n",
      "\n",
      "\n",
      "\n",
      "\n",
      "\n",
      "\n",
      "\n",
      "\n",
      "\n",
      "\n",
      "\n",
      "\n",
      "\n",
      "\n",
      "\n",
      "\n",
      "\n",
      "\n",
      "\n",
      "\n",
      "\n",
      "\n",
      "\n",
      "\n",
      "\n",
      "\n",
      "\n",
      "\n",
      "\n",
      "\n",
      "\n",
      "\n",
      "\n",
      "\n",
      "\n",
      "\n",
      "\n",
      "Your Name\n",
      "P H O N E | E M A I L | A D D R E S S\n",
      "YN\n",
      "\n",
      "\n",
      "\tSKILLS\n",
      "\n",
      "Skill Name\n",
      "7 / 10\n",
      "Skill Name\n",
      "\n",
      "8 / 10\n",
      "Skill Name\n",
      "\n",
      "9 / 10\n",
      "\n",
      "Skill Name\n",
      "\n",
      "10 / 10\n",
      "\n",
      "Skill Name\n",
      "\n",
      "6 / 10\n",
      "\n",
      "\n",
      "\n",
      "EDUCATION\n",
      "\n",
      "Degree/Certificate\n",
      "Institution\n",
      "Date – Date\n",
      "\n",
      "Degree/Certificate\n",
      "Institution\n",
      "Date – Date\n",
      "\n",
      "\n",
      "VOLUNTEERING\n",
      "\n",
      "Position Held\n",
      "Organization\n",
      "Date – Date\n",
      "\n",
      "\tOBJECTIVE\n",
      "\n",
      "[Insert Objective Here]\n",
      "\n",
      "EXPERIENCE\n",
      "\n",
      "Job Title\n",
      "Organization\n",
      "Date – Date\n",
      "· Accomplishment or responsibility\n",
      "· Accomplishment or responsibility\n",
      "· Accomplishment or responsibility\n",
      "\n",
      "Job Title\n",
      "Organization\n",
      "Date – Date\n",
      "· Accomplishment or responsibility\n",
      "· Accomplishment or responsibility\n",
      "· Accomplishment or responsibility\n",
      "· Accomplishment or responsibility\n",
      "\n",
      "Job Title\n",
      "Organization\n",
      "Date – Date\n",
      "· Accomplishment or responsibility\n",
      "· Accomplishment or responsibility\n",
      "· Accomplishment or responsibility\n",
      "· Accomplishment or responsibility\n",
      "\n",
      "\n",
      "\n",
      "\n",
      "\n",
      "Your NameP H O N E | E M A I L | A D D R E S SYN\tSKILLSSkill Name7 / 10Skill Name8 / 10Skill Name9 / 10Skill Name10 / 10Skill Name6 / 10EDUCATIONDegree/CertificateInstitutionDate – DateDegree/CertificateInstitutionDate – DateVOLUNTEERINGPosition HeldOrganizationDate – Date\tOBJECTIVE[Insert Objective Here]EXPERIENCEJob TitleOrganizationDate – Date· Accomplishment or responsibility· Accomplishment or responsibility· Accomplishment or responsibilityJob TitleOrganizationDate – Date· Accomplishment or responsibility· Accomplishment or responsibility· Accomplishment or responsibility· Accomplishment or responsibilityJob TitleOrganizationDate – Date· Accomplishment or responsibility· Accomplishment or responsibility· Accomplishment or responsibility· Accomplishment or responsibility\n"
     ]
    }
   ],
   "source": [
    "from tika import parser # pip install tika\n",
    "raw = parser.from_file('/Users/cosmos/DeepBlue/Dataset-Scraping/Resumes/Bold Serif Resume Template.docx')\n",
    "print(raw['content'])\n",
    "\n",
    "# removing spacing between lines    \n",
    "tx = \"\".join(raw['content'].split('\\n'))\n",
    "print (tx)"
   ]
  },
  {
   "cell_type": "markdown",
   "metadata": {},
   "source": [
    "Pre - Processing\n"
   ]
  },
  {
   "cell_type": "code",
   "execution_count": 40,
   "metadata": {},
   "outputs": [],
   "source": [
    "new_lower = raw['content'].lower()"
   ]
  },
  {
   "cell_type": "code",
   "execution_count": 41,
   "metadata": {},
   "outputs": [],
   "source": [
    "#raw['']\n",
    "nl1=re.sub('http\\S+\\s*',' ',new_lower)\n",
    "nl2=re.sub('RT|cc',' ',nl1)\n",
    "nl3=re.sub('#\\S+',' ',nl2)\n",
    "nl4=re.sub('@\\S+',' ',nl3)\n",
    "nl5=re.sub('[%s]' % re.escape(\"\"\"!\"#$%&'()*+,-./:;<=>?@[\\]^_`{|}~\"\"\"),' ',nl4)\n",
    "nl6=re.sub(r'[^\\x00-\\x7f]',' ',nl5)\n",
    "nl7=re.sub('\\s+',' ',nl6)\n",
    "nl8=re.sub(\"\\n\", \" \",nl7)"
   ]
  },
  {
   "cell_type": "code",
   "execution_count": 42,
   "metadata": {},
   "outputs": [],
   "source": [
    "#remove numbers\n",
    "\n",
    "#re.sub(r'\\d+','',raw['content'])"
   ]
  },
  {
   "cell_type": "code",
   "execution_count": 43,
   "metadata": {},
   "outputs": [],
   "source": [
    "#remove punctaions\n",
    "\n",
    "def rp(text):\n",
    "    translator=str.maketrans(\",\",string.punctuation)\n",
    "    return text.translate(translator)\n",
    "\n",
    "nl9 = nl8\n"
   ]
  },
  {
   "cell_type": "code",
   "execution_count": 44,
   "metadata": {},
   "outputs": [],
   "source": [
    "#remove stop words\n",
    "\n",
    "from nltk.corpus import stopwords\n",
    "from nltk.tokenize import word_tokenize\n",
    "\n",
    "\n",
    "def remove_stopwords(text):\n",
    "    stop_words= set(stopwords.words(\"english\"))\n",
    "    word_tokens=word_tokenize(text)\n",
    "    new_text= [word for word in word_tokens if word not in stopwords]\n",
    "    return new_text\n",
    "\n",
    "\n",
    "#new_text"
   ]
  },
  {
   "cell_type": "code",
   "execution_count": 45,
   "metadata": {},
   "outputs": [
    {
     "data": {
      "text/plain": [
       "' your name p h o n e e m a i l a d d r e s s yn skills skill name 7 10 skill name 8 10 skill name 9 10 skill name 10 10 skill name 6 10 education degree certificate institution date date degree certificate institution date date volunteering position held organization date date objective insert objective here experience job title organization date date a omplishment or responsibility a omplishment or responsibility a omplishment or responsibility job title organization date date a omplishment or responsibility a omplishment or responsibility a omplishment or responsibility a omplishment or responsibility job title organization date date a omplishment or responsibility a omplishment or responsibility a omplishment or responsibility a omplishment or responsibility '"
      ]
     },
     "execution_count": 45,
     "metadata": {},
     "output_type": "execute_result"
    }
   ],
   "source": [
    "nl9"
   ]
  },
  {
   "cell_type": "code",
   "execution_count": 46,
   "metadata": {},
   "outputs": [],
   "source": [
    "#stemming\n",
    "\n",
    "from nltk.tokenize import word_tokenize\n",
    "from nltk.stem.porter import PorterStemmer\n",
    "\n",
    "\n",
    "def stemmer(text):\n",
    "    word_tokens=word_tokenize(text)\n",
    "    stem = [stemmer.stem(word) for word in word_tokens]\n",
    "    return stem\n",
    "\n",
    "\n"
   ]
  },
  {
   "cell_type": "code",
   "execution_count": 47,
   "metadata": {},
   "outputs": [],
   "source": [
    "def remove_whitespaces(text):\n",
    "    return \"\".join(text.split())\n",
    "\n"
   ]
  },
  {
   "cell_type": "code",
   "execution_count": 48,
   "metadata": {},
   "outputs": [],
   "source": [
    "from nltk.tokenize import word_tokenize\n",
    "from nltk.stem import WordNetLemmatizer\n",
    "\n",
    "def lemtizer(text):\n",
    "    word_tokens=word_tokenize(text)\n",
    "    \n",
    "    lemmas = [lemtizer.lemmatize(word,pos= 'v') for word in word_tokens]\n",
    "    return lemmas\n",
    "\n"
   ]
  },
  {
   "cell_type": "code",
   "execution_count": 49,
   "metadata": {},
   "outputs": [
    {
     "data": {
      "text/plain": [
       "' your name p h o n e e m a i l a d d r e s s yn skills skill name 7 10 skill name 8 10 skill name 9 10 skill name 10 10 skill name 6 10 education degree certificate institution date date degree certificate institution date date volunteering position held organization date date objective insert objective here experience job title organization date date a omplishment or responsibility a omplishment or responsibility a omplishment or responsibility job title organization date date a omplishment or responsibility a omplishment or responsibility a omplishment or responsibility a omplishment or responsibility job title organization date date a omplishment or responsibility a omplishment or responsibility a omplishment or responsibility a omplishment or responsibility '"
      ]
     },
     "execution_count": 49,
     "metadata": {},
     "output_type": "execute_result"
    }
   ],
   "source": [
    "#remove some bad words \n",
    "\n",
    "# keep updating this lists\n",
    "\n",
    "nl10 = nl9.replace(\"page 1 of 1\", \"\")\n",
    "nl11 = nl10.replace(\"resume\", \"\")\n",
    "nl11"
   ]
  },
  {
   "cell_type": "code",
   "execution_count": 50,
   "metadata": {},
   "outputs": [],
   "source": [
    "new_text_2 =re.sub(\"\\n\", \" \", nl11)\n"
   ]
  },
  {
   "cell_type": "code",
   "execution_count": 51,
   "metadata": {},
   "outputs": [
    {
     "data": {
      "text/plain": [
       "' your name p h o n e e m a i l a d d r e s s yn skills skill name 7 10 skill name 8 10 skill name 9 10 skill name 10 10 skill name 6 10 education degree certificate institution date date degree certificate institution date date volunteering position held organization date date objective insert objective here experience job title organization date date a omplishment or responsibility a omplishment or responsibility a omplishment or responsibility job title organization date date a omplishment or responsibility a omplishment or responsibility a omplishment or responsibility a omplishment or responsibility job title organization date date a omplishment or responsibility a omplishment or responsibility a omplishment or responsibility a omplishment or responsibility '"
      ]
     },
     "execution_count": 51,
     "metadata": {},
     "output_type": "execute_result"
    }
   ],
   "source": [
    "new_text_2"
   ]
  },
  {
   "cell_type": "code",
   "execution_count": null,
   "metadata": {},
   "outputs": [],
   "source": []
  },
  {
   "cell_type": "code",
   "execution_count": null,
   "metadata": {},
   "outputs": [],
   "source": []
  }
 ],
 "metadata": {
  "interpreter": {
   "hash": "4bd624a0593993fe43ac4046b27b898fb2ef75c21c08f81e89e64ea0f51df676"
  },
  "kernelspec": {
   "display_name": "Python 3.9.9 64-bit ('tensorflow': conda)",
   "language": "python",
   "name": "python3"
  },
  "language_info": {
   "codemirror_mode": {
    "name": "ipython",
    "version": 3
   },
   "file_extension": ".py",
   "mimetype": "text/x-python",
   "name": "python",
   "nbconvert_exporter": "python",
   "pygments_lexer": "ipython3",
   "version": "3.9.9"
  },
  "orig_nbformat": 4
 },
 "nbformat": 4,
 "nbformat_minor": 2
}
