{
  "cells": [
    {
      "cell_type": "code",
      "execution_count": 1,
      "metadata": {
        "colab": {
          "base_uri": "https://localhost:8080/"
        },
        "id": "_F-1skS9PNJG",
        "outputId": "4647bdff-27d9-4917-e697-6cd6ccc399a1"
      },
      "outputs": [
        {
          "output_type": "stream",
          "name": "stdout",
          "text": [
            "Mounted at /content/drive\n"
          ]
        }
      ],
      "source": [
        "from google.colab import drive\n",
        "drive.mount('/content/drive')"
      ]
    },
    {
      "cell_type": "code",
      "execution_count": 2,
      "metadata": {
        "id": "UXLez26APcIb"
      },
      "outputs": [],
      "source": [
        "!pip install pytorch_pretrained_bert seqeval transformers &> /dev/null\n",
        "#import spacy\n"
      ]
    },
    {
      "cell_type": "code",
      "execution_count": null,
      "metadata": {
        "id": "U-rov37wPBJi"
      },
      "outputs": [],
      "source": [
        "import numpy as np\n",
        "import pandas as pd\n",
        "\n",
        "import spacy\n",
        "from spacy.gold import biluo_tags_from_offsets\n",
        "#nlp = spacy.load(\"en_core_web_trf\")\n",
        "\n",
        "from tqdm import trange\n",
        "import torch\n",
        "import torch.nn.functional as F\n",
        "from torch.optim import Adam\n",
        "from torch.utils.data import TensorDataset, DataLoader, RandomSampler, SequentialSampler\n",
        "from keras.preprocessing.sequence import pad_sequences\n",
        "from sklearn.model_selection import train_test_split\n",
        "from pytorch_pretrained_bert import BertTokenizer, BertConfig\n",
        "from pytorch_pretrained_bert import BertForTokenClassification, BertAdam\n",
        "\n",
        "from seqeval.metrics import classification_report, accuracy_score, f1_score\n",
        "\n",
        "# Adding '\\n' to the default spacy tokenizer\n",
        "nlp = spacy.blank('en')\n",
        "prefixes = ('\\\\n', ) + nlp.Defaults.prefixes\n",
        "prefix_regex = spacy.util.compile_prefix_regex(prefixes)\n",
        "nlp.tokenizer.prefix_search = prefix_regex.search"
      ]
    },
    {
      "cell_type": "code",
      "execution_count": null,
      "metadata": {
        "id": "8DqfcN7RPBJo"
      },
      "outputs": [],
      "source": [
        "# Personal Custom Tags Dictionary\n",
        "entity_dict = {\n",
        "    'Name': 'NAME', \n",
        "    'College Name': 'CLG',\n",
        "    'Degree': 'DEG',\n",
        "    'Graduation Year': 'GRADYEAR',\n",
        "    'Years of Experience': 'YOE',\n",
        "    'Companies worked at': 'COMPANY',\n",
        "    'Designation': 'DESIG',\n",
        "    'Skills': 'SKILLS',\n",
        "    'Location': 'LOC',\n",
        "    'Email Address': 'EMAIL'\n",
        "}\n",
        "\n",
        "#extra\n",
        "entities = ['NAME', 'CLG', 'DEG', 'GRADYEAR', 'YOE', 'COMPANY', 'DESIG', 'SKILLS', 'LOC', 'EMAIL']"
      ]
    },
    {
      "cell_type": "code",
      "execution_count": 8,
      "metadata": {
        "colab": {
          "base_uri": "https://localhost:8080/"
        },
        "id": "NCEbph2uPBJp",
        "outputId": "27df8b5c-d087-4da8-c0e7-91c479cde0c6"
      },
      "outputs": [
        {
          "output_type": "execute_result",
          "data": {
            "text/plain": [
              "0    Abhishek Jha Application Development Associate...\n",
              "1    Afreen Jamadar Active member of IIIT Committee...\n",
              "2    Akhil Yadav Polemaina Hyderabad, Telangana - E...\n",
              "3    Alok Khandai Operational Analyst (SQL DBA) Eng...\n",
              "4    Ananya Chavan lecturer - oracle tutorials  Mum...\n",
              "Name: content, dtype: object"
            ]
          },
          "metadata": {},
          "execution_count": 8
        }
      ],
      "source": [
        "# loading the dataset\n",
        "df = pd.read_json(\"/content/drive/MyDrive/Colab Notebooks/datasets/RP/NER_RESUME.json\", lines=True)\n",
        "df = df.drop(['extras'], axis=1)\n",
        "df[\"content\"] = df[\"content\"].apply(lambda x: x.replace(\"\\n\", \" \"))\n",
        "df.head(5)"
      ]
    },
    {
      "cell_type": "code",
      "execution_count": 10,
      "metadata": {
        "id": "7pL8U8xiPBJr"
      },
      "outputs": [],
      "source": [
        "def mergeIntervals(intervals):\n",
        "    sorted_by_lower_bound = sorted(intervals, key=lambda tup: tup[0])\n",
        "    merged = []\n",
        "\n",
        "    for higher in sorted_by_lower_bound:\n",
        "        if not merged:\n",
        "            merged.append(higher)\n",
        "        else:\n",
        "            lower = merged[-1]\n",
        "            if higher[0] <= lower[1]:\n",
        "                if lower[2] is higher[2]:\n",
        "                    upper_bound = max(lower[1], higher[1])\n",
        "                    merged[-1] = (lower[0], upper_bound, lower[2])\n",
        "                else:\n",
        "                    if lower[1] > higher[1]:\n",
        "                        merged[-1] = lower\n",
        "                    else:\n",
        "                        merged[-1] = (lower[0], higher[1], higher[2])\n",
        "            else:\n",
        "                merged.append(higher)\n",
        "\n",
        "    return merged"
      ]
    },
    {
      "cell_type": "code",
      "execution_count": 11,
      "metadata": {
        "id": "Lm06AEDmPBJt"
      },
      "outputs": [],
      "source": [
        "# From 'annotation' column, we are extracting the starting index, ending index, entity label\n",
        "# So that we can convert the content in BILOU format\n",
        "\n",
        "def get_entities(df):\n",
        "    \n",
        "    entities = []\n",
        "    \n",
        "    for i in range(len(df)):\n",
        "        entity = []\n",
        "    \n",
        "        for annot in df['annotation'][i]:\n",
        "            try:\n",
        "                ent = entity_dict[annot['label'][0]]\n",
        "                start = annot['points'][0]['start']\n",
        "                end = annot['points'][0]['end'] + 1\n",
        "                entity.append((start, end, ent))\n",
        "            except:\n",
        "                pass\n",
        "    \n",
        "        entity = mergeIntervals(entity)\n",
        "        entities.append(entity)\n",
        "    \n",
        "    return entities"
      ]
    },
    {
      "cell_type": "code",
      "execution_count": 12,
      "metadata": {
        "colab": {
          "base_uri": "https://localhost:8080/",
          "height": 206
        },
        "id": "aY7tLt_qPBJt",
        "outputId": "14e151cf-0e1e-458e-da2c-17b22a2ee9ea"
      },
      "outputs": [
        {
          "output_type": "execute_result",
          "data": {
            "text/html": [
              "\n",
              "  <div id=\"df-83b9a4d6-7274-4994-a979-d0140d0301bb\">\n",
              "    <div class=\"colab-df-container\">\n",
              "      <div>\n",
              "<style scoped>\n",
              "    .dataframe tbody tr th:only-of-type {\n",
              "        vertical-align: middle;\n",
              "    }\n",
              "\n",
              "    .dataframe tbody tr th {\n",
              "        vertical-align: top;\n",
              "    }\n",
              "\n",
              "    .dataframe thead th {\n",
              "        text-align: right;\n",
              "    }\n",
              "</style>\n",
              "<table border=\"1\" class=\"dataframe\">\n",
              "  <thead>\n",
              "    <tr style=\"text-align: right;\">\n",
              "      <th></th>\n",
              "      <th>content</th>\n",
              "      <th>annotation</th>\n",
              "    </tr>\n",
              "  </thead>\n",
              "  <tbody>\n",
              "    <tr>\n",
              "      <th>0</th>\n",
              "      <td>Abhishek Jha\\nApplication Development Associat...</td>\n",
              "      <td>[(0, 12, NAME), (13, 46, DESIG), (49, 58, COMP...</td>\n",
              "    </tr>\n",
              "    <tr>\n",
              "      <th>1</th>\n",
              "      <td>Afreen Jamadar\\nActive member of IIIT Committe...</td>\n",
              "      <td>[(0, 14, NAME), (62, 68, LOC), (104, 148, EMAI...</td>\n",
              "    </tr>\n",
              "    <tr>\n",
              "      <th>2</th>\n",
              "      <td>Akhil Yadav Polemaina\\nHyderabad, Telangana - ...</td>\n",
              "      <td>[(0, 21, NAME), (22, 31, LOC), (65, 117, EMAIL...</td>\n",
              "    </tr>\n",
              "    <tr>\n",
              "      <th>3</th>\n",
              "      <td>Alok Khandai\\nOperational Analyst (SQL DBA) En...</td>\n",
              "      <td>[(0, 12, NAME), (13, 51, DESIG), (54, 60, COMP...</td>\n",
              "    </tr>\n",
              "    <tr>\n",
              "      <th>4</th>\n",
              "      <td>Ananya Chavan\\nlecturer - oracle tutorials\\n\\n...</td>\n",
              "      <td>[(0, 13, NAME), (14, 22, DESIG), (24, 41, COMP...</td>\n",
              "    </tr>\n",
              "  </tbody>\n",
              "</table>\n",
              "</div>\n",
              "      <button class=\"colab-df-convert\" onclick=\"convertToInteractive('df-83b9a4d6-7274-4994-a979-d0140d0301bb')\"\n",
              "              title=\"Convert this dataframe to an interactive table.\"\n",
              "              style=\"display:none;\">\n",
              "        \n",
              "  <svg xmlns=\"http://www.w3.org/2000/svg\" height=\"24px\"viewBox=\"0 0 24 24\"\n",
              "       width=\"24px\">\n",
              "    <path d=\"M0 0h24v24H0V0z\" fill=\"none\"/>\n",
              "    <path d=\"M18.56 5.44l.94 2.06.94-2.06 2.06-.94-2.06-.94-.94-2.06-.94 2.06-2.06.94zm-11 1L8.5 8.5l.94-2.06 2.06-.94-2.06-.94L8.5 2.5l-.94 2.06-2.06.94zm10 10l.94 2.06.94-2.06 2.06-.94-2.06-.94-.94-2.06-.94 2.06-2.06.94z\"/><path d=\"M17.41 7.96l-1.37-1.37c-.4-.4-.92-.59-1.43-.59-.52 0-1.04.2-1.43.59L10.3 9.45l-7.72 7.72c-.78.78-.78 2.05 0 2.83L4 21.41c.39.39.9.59 1.41.59.51 0 1.02-.2 1.41-.59l7.78-7.78 2.81-2.81c.8-.78.8-2.07 0-2.86zM5.41 20L4 18.59l7.72-7.72 1.47 1.35L5.41 20z\"/>\n",
              "  </svg>\n",
              "      </button>\n",
              "      \n",
              "  <style>\n",
              "    .colab-df-container {\n",
              "      display:flex;\n",
              "      flex-wrap:wrap;\n",
              "      gap: 12px;\n",
              "    }\n",
              "\n",
              "    .colab-df-convert {\n",
              "      background-color: #E8F0FE;\n",
              "      border: none;\n",
              "      border-radius: 50%;\n",
              "      cursor: pointer;\n",
              "      display: none;\n",
              "      fill: #1967D2;\n",
              "      height: 32px;\n",
              "      padding: 0 0 0 0;\n",
              "      width: 32px;\n",
              "    }\n",
              "\n",
              "    .colab-df-convert:hover {\n",
              "      background-color: #E2EBFA;\n",
              "      box-shadow: 0px 1px 2px rgba(60, 64, 67, 0.3), 0px 1px 3px 1px rgba(60, 64, 67, 0.15);\n",
              "      fill: #174EA6;\n",
              "    }\n",
              "\n",
              "    [theme=dark] .colab-df-convert {\n",
              "      background-color: #3B4455;\n",
              "      fill: #D2E3FC;\n",
              "    }\n",
              "\n",
              "    [theme=dark] .colab-df-convert:hover {\n",
              "      background-color: #434B5C;\n",
              "      box-shadow: 0px 1px 3px 1px rgba(0, 0, 0, 0.15);\n",
              "      filter: drop-shadow(0px 1px 2px rgba(0, 0, 0, 0.3));\n",
              "      fill: #FFFFFF;\n",
              "    }\n",
              "  </style>\n",
              "\n",
              "      <script>\n",
              "        const buttonEl =\n",
              "          document.querySelector('#df-83b9a4d6-7274-4994-a979-d0140d0301bb button.colab-df-convert');\n",
              "        buttonEl.style.display =\n",
              "          google.colab.kernel.accessAllowed ? 'block' : 'none';\n",
              "\n",
              "        async function convertToInteractive(key) {\n",
              "          const element = document.querySelector('#df-83b9a4d6-7274-4994-a979-d0140d0301bb');\n",
              "          const dataTable =\n",
              "            await google.colab.kernel.invokeFunction('convertToInteractive',\n",
              "                                                     [key], {});\n",
              "          if (!dataTable) return;\n",
              "\n",
              "          const docLinkHtml = 'Like what you see? Visit the ' +\n",
              "            '<a target=\"_blank\" href=https://colab.research.google.com/notebooks/data_table.ipynb>data table notebook</a>'\n",
              "            + ' to learn more about interactive tables.';\n",
              "          element.innerHTML = '';\n",
              "          dataTable['output_type'] = 'display_data';\n",
              "          await google.colab.output.renderOutput(dataTable, element);\n",
              "          const docLink = document.createElement('div');\n",
              "          docLink.innerHTML = docLinkHtml;\n",
              "          element.appendChild(docLink);\n",
              "        }\n",
              "      </script>\n",
              "    </div>\n",
              "  </div>\n",
              "  "
            ],
            "text/plain": [
              "                                             content                                         annotation\n",
              "0  Abhishek Jha\\nApplication Development Associat...  [(0, 12, NAME), (13, 46, DESIG), (49, 58, COMP...\n",
              "1  Afreen Jamadar\\nActive member of IIIT Committe...  [(0, 14, NAME), (62, 68, LOC), (104, 148, EMAI...\n",
              "2  Akhil Yadav Polemaina\\nHyderabad, Telangana - ...  [(0, 21, NAME), (22, 31, LOC), (65, 117, EMAIL...\n",
              "3  Alok Khandai\\nOperational Analyst (SQL DBA) En...  [(0, 12, NAME), (13, 51, DESIG), (54, 60, COMP...\n",
              "4  Ananya Chavan\\nlecturer - oracle tutorials\\n\\n...  [(0, 13, NAME), (14, 22, DESIG), (24, 41, COMP..."
            ]
          },
          "metadata": {},
          "execution_count": 12
        }
      ],
      "source": [
        "# Adding a new column 'entities'\n",
        "df['annotation'] = get_entities(df)\n",
        "df.head()"
      ]
    },
    {
      "cell_type": "code",
      "execution_count": 14,
      "metadata": {
        "id": "VeekeLzLPBJv"
      },
      "outputs": [],
      "source": [
        "def get_train_data(df):\n",
        "    tags = []\n",
        "    sentences = []\n",
        "\n",
        "    for i in range(len(df)):\n",
        "        text = df['content'][i]\n",
        "        entities = df['annotation'][i]\n",
        "    \n",
        "        doc = nlp(text)\n",
        "    \n",
        "        tag = biluo_tags_from_offsets(doc, entities)\n",
        "        tmp = pd.DataFrame([list(doc), tag]).T\n",
        "        loc = []\n",
        "        for i in range(len(tmp)):\n",
        "            if tmp[0][i].text is '.' and tmp[1][i] is 'O':\n",
        "                loc.append(i)\n",
        "        loc.append(len(doc))\n",
        "    \n",
        "        last = 0\n",
        "        data = []\n",
        "        for pos in loc:\n",
        "            data.append([list(doc)[last:pos], tag[last:pos]])\n",
        "            last = pos\n",
        "    \n",
        "        for d in data:\n",
        "            tag = ['O' if t is '-' else t for t in d[1]]\n",
        "            if len(set(tag)) > 1:\n",
        "                sentences.append(d[0])\n",
        "                tags.append(tag)\n",
        "    \n",
        "    return sentences, tags"
      ]
    },
    {
      "cell_type": "code",
      "execution_count": 15,
      "metadata": {
        "colab": {
          "base_uri": "https://localhost:8080/"
        },
        "id": "QhhpF_N5PBJw",
        "outputId": "10f01eb7-4d4e-4e0f-8d0c-df9d5c563d86"
      },
      "outputs": [
        {
          "output_type": "execute_result",
          "data": {
            "text/plain": [
              "(781, 781)"
            ]
          },
          "metadata": {},
          "execution_count": 15
        }
      ],
      "source": [
        "sentences, tags = get_train_data(df)\n",
        "len(sentences), len(tags)"
      ]
    },
    {
      "cell_type": "code",
      "execution_count": 16,
      "metadata": {
        "id": "ytQ2_pfbPBJw"
      },
      "outputs": [],
      "source": [
        "tag_vals = set(['X', '[CLS]', '[SEP]'])\n",
        "for i in range(len(tags)):\n",
        "    tag_vals = tag_vals.union(tags[i])\n",
        "#tag_vals"
      ]
    },
    {
      "cell_type": "code",
      "execution_count": 17,
      "metadata": {
        "id": "P0GNuLH6PBJw"
      },
      "outputs": [],
      "source": [
        "tag2idx = {t: i for i, t in enumerate(tag_vals)}\n",
        "#tag2idx"
      ]
    },
    {
      "cell_type": "code",
      "execution_count": 18,
      "metadata": {
        "id": "KZZsZT6cPBJx"
      },
      "outputs": [],
      "source": [
        "idx2tag = {tag2idx[key] : key for key in tag2idx.keys()}\n",
        "#idx2tag"
      ]
    },
    {
      "cell_type": "code",
      "execution_count": 19,
      "metadata": {
        "id": "5S1DfIPNPBJx"
      },
      "outputs": [],
      "source": [
        "device = torch.device(\"cuda\" if torch.cuda.is_available() else \"cpu\")\n",
        "n_gpu = torch.cuda.device_count()"
      ]
    },
    {
      "cell_type": "code",
      "execution_count": 20,
      "metadata": {
        "id": "1Jc0A7nwPBJy"
      },
      "outputs": [],
      "source": [
        "#tokenizer = BertTokenizer.from_pretrained('bert-large-uncased', do_lower_case=False)\n",
        "from transformers import AutoTokenizer\n",
        "\n",
        "tokenizer = AutoTokenizer.from_pretrained('bert-large-uncased', do_lower_case=False)"
      ]
    },
    {
      "cell_type": "code",
      "execution_count": 21,
      "metadata": {
        "id": "Jah2C5lIPBJy"
      },
      "outputs": [],
      "source": [
        "def get_tokenized_train_data(sentences, tags):\n",
        "\n",
        "    tokenized_texts = []\n",
        "    word_piece_labels = []\n",
        "\n",
        "    for word_list, label in zip(sentences, tags):\n",
        "    \n",
        "        # Add [CLS] at the front\n",
        "        temp_lable = ['[CLS]']\n",
        "        temp_token = ['[CLS]']\n",
        "    \n",
        "        for word, lab in zip(word_list, label):\n",
        "            token_list = tokenizer.tokenize(word.text)\n",
        "            for m, token in enumerate(token_list):\n",
        "                temp_token.append(token)\n",
        "                if m == 0:\n",
        "                    temp_lable.append(lab)\n",
        "                else:\n",
        "                    temp_lable.append('X')  \n",
        "                \n",
        "        # Add [SEP] at the end\n",
        "        temp_lable.append('[SEP]')\n",
        "        temp_token.append('[SEP]')\n",
        "    \n",
        "        tokenized_texts.append(temp_token)\n",
        "        word_piece_labels.append(temp_lable)\n",
        "    \n",
        "    return tokenized_texts, word_piece_labels"
      ]
    },
    {
      "cell_type": "code",
      "execution_count": 22,
      "metadata": {
        "id": "s-DH_9PpPBJy"
      },
      "outputs": [],
      "source": [
        "tokenized_texts, word_piece_labels = get_tokenized_train_data(sentences, tags)"
      ]
    },
    {
      "cell_type": "code",
      "execution_count": 23,
      "metadata": {
        "colab": {
          "base_uri": "https://localhost:8080/"
        },
        "id": "KcBXL2amPBJy",
        "outputId": "fc09303d-0bc8-4c9f-d6f3-f010ecf8a2e4"
      },
      "outputs": [
        {
          "output_type": "stream",
          "name": "stdout",
          "text": [
            "['[CLS]', '[UNK]', '[UNK]', '[UNK]', '[UNK]', '[UNK]', '-', '[UNK]', '[UNK]', ',', '[UNK]', '-', '[UNK]', 'me', 'on', '[UNK]', ':', 'indeed', '.', 'com', '/', 'r', '/', '[UNK]', '-', '[UNK]', '/', '10', '##e', '##7', '##a', '##8', '##cb', '##7', '##32', '##bc', '##43', '##a', '•', '[UNK]', 'work', 'for', 'an', 'organization', 'which', 'provides', 'me', 'the', 'opportunity', 'to', 'improve', 'my', 'skills', 'and', 'knowledge', 'for', 'my', 'individual', 'and', 'company', \"'\", 's', 'growth', 'in', 'best', 'possible', 'ways', '[SEP]']\n",
            "['[CLS]', 'B-NAME', 'L-NAME', 'B-DESIG', 'I-DESIG', 'L-DESIG', 'O', 'U-COMPANY', 'U-LOC', 'O', 'O', 'O', 'O', 'O', 'O', 'B-EMAIL', 'I-EMAIL', 'I-EMAIL', 'X', 'X', 'X', 'X', 'X', 'X', 'X', 'X', 'X', 'X', 'X', 'X', 'X', 'X', 'X', 'X', 'X', 'X', 'X', 'X', 'O', 'O', 'O', 'O', 'O', 'O', 'O', 'O', 'O', 'O', 'O', 'O', 'O', 'O', 'O', 'O', 'O', 'O', 'O', 'O', 'O', 'O', 'O', 'X', 'O', 'O', 'O', 'O', 'O', '[SEP]']\n"
          ]
        }
      ],
      "source": [
        "print(tokenized_texts[0])\n",
        "print(word_piece_labels[0])"
      ]
    },
    {
      "cell_type": "code",
      "execution_count": 24,
      "metadata": {
        "id": "FQMgAn9lPBJz"
      },
      "outputs": [],
      "source": [
        "MAX_LEN = 512\n",
        "bs = 2"
      ]
    },
    {
      "cell_type": "code",
      "execution_count": 25,
      "metadata": {
        "id": "t4QSIoQaPBJz"
      },
      "outputs": [],
      "source": [
        "input_ids = pad_sequences([tokenizer.convert_tokens_to_ids(txt) for txt in tokenized_texts],\n",
        "                          maxlen=MAX_LEN, dtype=\"long\", truncating=\"post\", padding=\"post\")\n",
        "#print(len(input_ids[0]))\n",
        "#print(input_ids[0])"
      ]
    },
    {
      "cell_type": "code",
      "execution_count": 26,
      "metadata": {
        "colab": {
          "base_uri": "https://localhost:8080/"
        },
        "id": "HKrm7k3mPBJz",
        "outputId": "aac62e9f-da37-4f71-b374-a1a6c3cdee59"
      },
      "outputs": [
        {
          "output_type": "stream",
          "name": "stdout",
          "text": [
            "512\n",
            "[ 7  8  6 33 26 28 23 27 22 23 23 23 23 23 23  2 17 17 13 13 13 13 13 13\n",
            " 13 13 13 13 13 13 13 13 13 13 13 13 13 13 23 23 23 23 23 23 23 23 23 23\n",
            " 23 23 23 23 23 23 23 23 23 23 23 23 23 13 23 23 23 23 23  5 23 23 23 23\n",
            " 23 23 23 23 23 23 23 23 23 23 23 23 23 23 23 23 23 23 23 23 23 23 23 23\n",
            " 23 23 23 23 23 23 23 23 23 23 23 23 23 23 23 23 23 23 23 23 23 23 23 23\n",
            " 23 23 23 23 23 23 23 23 23 23 23 23 23 23 23 23 23 23 23 23 23 23 23 23\n",
            " 23 23 23 23 23 23 23 23 23 23 23 23 23 23 23 23 23 23 23 23 23 23 23 23\n",
            " 23 23 23 23 23 23 23 23 23 23 23 23 23 23 23 23 23 23 23 23 23 23 23 23\n",
            " 23 23 23 23 23 23 23 23 23 23 23 23 23 23 23 23 23 23 23 23 23 23 23 23\n",
            " 23 23 23 23 23 23 23 23 23 23 23 23 23 23 23 23 23 23 23 23 23 23 23 23\n",
            " 23 23 23 23 23 23 23 23 23 23 23 23 23 23 23 23 23 23 23 23 23 23 23 23\n",
            " 23 23 23 23 23 23 23 23 23 23 23 23 23 23 23 23 23 23 23 23 23 23 23 23\n",
            " 23 23 23 23 23 23 23 23 23 23 23 23 23 23 23 23 23 23 23 23 23 23 23 23\n",
            " 23 23 23 23 23 23 23 23 23 23 23 23 23 23 23 23 23 23 23 23 23 23 23 23\n",
            " 23 23 23 23 23 23 23 23 23 23 23 23 23 23 23 23 23 23 23 23 23 23 23 23\n",
            " 23 23 23 23 23 23 23 23 23 23 23 23 23 23 23 23 23 23 23 23 23 23 23 23\n",
            " 23 23 23 23 23 23 23 23 23 23 23 23 23 23 23 23 23 23 23 23 23 23 23 23\n",
            " 23 23 23 23 23 23 23 23 23 23 23 23 23 23 23 23 23 23 23 23 23 23 23 23\n",
            " 23 23 23 23 23 23 23 23 23 23 23 23 23 23 23 23 23 23 23 23 23 23 23 23\n",
            " 23 23 23 23 23 23 23 23 23 23 23 23 23 23 23 23 23 23 23 23 23 23 23 23\n",
            " 23 23 23 23 23 23 23 23 23 23 23 23 23 23 23 23 23 23 23 23 23 23 23 23\n",
            " 23 23 23 23 23 23 23 23]\n"
          ]
        }
      ],
      "source": [
        "tags = pad_sequences([[tag2idx.get(l) for l in lab] for lab in word_piece_labels], maxlen=MAX_LEN, value=tag2idx[\"O\"], \n",
        "                     padding=\"post\", dtype=\"long\", truncating=\"post\")\n",
        "print(len(tags[0]))\n",
        "print(tags[0])"
      ]
    },
    {
      "cell_type": "code",
      "execution_count": 27,
      "metadata": {
        "colab": {
          "base_uri": "https://localhost:8080/"
        },
        "id": "bmhNlAzZPBJz",
        "outputId": "62d8c718-1ccd-4c08-f247-e618b04f8183"
      },
      "outputs": [
        {
          "output_type": "stream",
          "name": "stdout",
          "text": [
            "[1.0, 1.0, 1.0, 1.0, 1.0, 1.0, 1.0, 1.0, 1.0, 1.0, 1.0, 1.0, 1.0, 1.0, 1.0, 1.0, 1.0, 1.0, 1.0, 1.0, 1.0, 1.0, 1.0, 1.0, 1.0, 1.0, 1.0, 1.0, 1.0, 1.0, 1.0, 1.0, 1.0, 1.0, 1.0, 1.0, 1.0, 1.0, 1.0, 1.0, 1.0, 1.0, 1.0, 1.0, 1.0, 1.0, 1.0, 1.0, 1.0, 1.0, 1.0, 1.0, 1.0, 1.0, 1.0, 1.0, 1.0, 1.0, 1.0, 1.0, 1.0, 1.0, 1.0, 1.0, 1.0, 1.0, 1.0, 1.0, 0.0, 0.0, 0.0, 0.0, 0.0, 0.0, 0.0, 0.0, 0.0, 0.0, 0.0, 0.0, 0.0, 0.0, 0.0, 0.0, 0.0, 0.0, 0.0, 0.0, 0.0, 0.0, 0.0, 0.0, 0.0, 0.0, 0.0, 0.0, 0.0, 0.0, 0.0, 0.0, 0.0, 0.0, 0.0, 0.0, 0.0, 0.0, 0.0, 0.0, 0.0, 0.0, 0.0, 0.0, 0.0, 0.0, 0.0, 0.0, 0.0, 0.0, 0.0, 0.0, 0.0, 0.0, 0.0, 0.0, 0.0, 0.0, 0.0, 0.0, 0.0, 0.0, 0.0, 0.0, 0.0, 0.0, 0.0, 0.0, 0.0, 0.0, 0.0, 0.0, 0.0, 0.0, 0.0, 0.0, 0.0, 0.0, 0.0, 0.0, 0.0, 0.0, 0.0, 0.0, 0.0, 0.0, 0.0, 0.0, 0.0, 0.0, 0.0, 0.0, 0.0, 0.0, 0.0, 0.0, 0.0, 0.0, 0.0, 0.0, 0.0, 0.0, 0.0, 0.0, 0.0, 0.0, 0.0, 0.0, 0.0, 0.0, 0.0, 0.0, 0.0, 0.0, 0.0, 0.0, 0.0, 0.0, 0.0, 0.0, 0.0, 0.0, 0.0, 0.0, 0.0, 0.0, 0.0, 0.0, 0.0, 0.0, 0.0, 0.0, 0.0, 0.0, 0.0, 0.0, 0.0, 0.0, 0.0, 0.0, 0.0, 0.0, 0.0, 0.0, 0.0, 0.0, 0.0, 0.0, 0.0, 0.0, 0.0, 0.0, 0.0, 0.0, 0.0, 0.0, 0.0, 0.0, 0.0, 0.0, 0.0, 0.0, 0.0, 0.0, 0.0, 0.0, 0.0, 0.0, 0.0, 0.0, 0.0, 0.0, 0.0, 0.0, 0.0, 0.0, 0.0, 0.0, 0.0, 0.0, 0.0, 0.0, 0.0, 0.0, 0.0, 0.0, 0.0, 0.0, 0.0, 0.0, 0.0, 0.0, 0.0, 0.0, 0.0, 0.0, 0.0, 0.0, 0.0, 0.0, 0.0, 0.0, 0.0, 0.0, 0.0, 0.0, 0.0, 0.0, 0.0, 0.0, 0.0, 0.0, 0.0, 0.0, 0.0, 0.0, 0.0, 0.0, 0.0, 0.0, 0.0, 0.0, 0.0, 0.0, 0.0, 0.0, 0.0, 0.0, 0.0, 0.0, 0.0, 0.0, 0.0, 0.0, 0.0, 0.0, 0.0, 0.0, 0.0, 0.0, 0.0, 0.0, 0.0, 0.0, 0.0, 0.0, 0.0, 0.0, 0.0, 0.0, 0.0, 0.0, 0.0, 0.0, 0.0, 0.0, 0.0, 0.0, 0.0, 0.0, 0.0, 0.0, 0.0, 0.0, 0.0, 0.0, 0.0, 0.0, 0.0, 0.0, 0.0, 0.0, 0.0, 0.0, 0.0, 0.0, 0.0, 0.0, 0.0, 0.0, 0.0, 0.0, 0.0, 0.0, 0.0, 0.0, 0.0, 0.0, 0.0, 0.0, 0.0, 0.0, 0.0, 0.0, 0.0, 0.0, 0.0, 0.0, 0.0, 0.0, 0.0, 0.0, 0.0, 0.0, 0.0, 0.0, 0.0, 0.0, 0.0, 0.0, 0.0, 0.0, 0.0, 0.0, 0.0, 0.0, 0.0, 0.0, 0.0, 0.0, 0.0, 0.0, 0.0, 0.0, 0.0, 0.0, 0.0, 0.0, 0.0, 0.0, 0.0, 0.0, 0.0, 0.0, 0.0, 0.0, 0.0, 0.0, 0.0, 0.0, 0.0, 0.0, 0.0, 0.0, 0.0, 0.0, 0.0, 0.0, 0.0, 0.0, 0.0, 0.0, 0.0, 0.0, 0.0, 0.0, 0.0, 0.0, 0.0, 0.0, 0.0, 0.0, 0.0, 0.0, 0.0, 0.0, 0.0, 0.0, 0.0, 0.0, 0.0, 0.0, 0.0, 0.0, 0.0, 0.0, 0.0, 0.0, 0.0, 0.0, 0.0, 0.0, 0.0, 0.0, 0.0, 0.0, 0.0, 0.0, 0.0, 0.0, 0.0, 0.0, 0.0, 0.0, 0.0, 0.0, 0.0, 0.0, 0.0, 0.0, 0.0, 0.0, 0.0, 0.0, 0.0, 0.0, 0.0, 0.0, 0.0, 0.0, 0.0, 0.0, 0.0, 0.0, 0.0, 0.0, 0.0, 0.0, 0.0, 0.0, 0.0, 0.0, 0.0, 0.0, 0.0, 0.0, 0.0, 0.0, 0.0, 0.0, 0.0, 0.0, 0.0, 0.0, 0.0, 0.0, 0.0, 0.0, 0.0, 0.0, 0.0, 0.0, 0.0, 0.0]\n"
          ]
        }
      ],
      "source": [
        "attention_masks = [[float(i>0) for i in ii] for ii in input_ids]\n",
        "print(attention_masks[0])"
      ]
    },
    {
      "cell_type": "code",
      "execution_count": 28,
      "metadata": {
        "id": "AfybYgCDPBJ0"
      },
      "outputs": [],
      "source": [
        "tr_inputs, val_inputs, tr_tags, val_tags, tr_masks, val_masks = train_test_split(input_ids, tags, attention_masks, random_state=2020, \n",
        "                                                                                 test_size=0.3)"
      ]
    },
    {
      "cell_type": "code",
      "execution_count": 29,
      "metadata": {
        "id": "E0XTT1kkPBJ0"
      },
      "outputs": [],
      "source": [
        "tr_inputs = torch.tensor(tr_inputs)\n",
        "val_inputs = torch.tensor(val_inputs)\n",
        "tr_tags = torch.tensor(tr_tags)\n",
        "val_tags = torch.tensor(val_tags)\n",
        "tr_masks = torch.tensor(tr_masks)\n",
        "val_masks = torch.tensor(val_masks)"
      ]
    },
    {
      "cell_type": "code",
      "execution_count": 30,
      "metadata": {
        "id": "ocDxTblAPBJ0"
      },
      "outputs": [],
      "source": [
        "train_data = TensorDataset(tr_inputs, tr_masks, tr_tags)\n",
        "train_sampler = RandomSampler(train_data)\n",
        "train_dataloader = DataLoader(train_data, sampler=train_sampler, batch_size=bs)\n",
        "\n",
        "valid_data = TensorDataset(val_inputs, val_masks, val_tags)\n",
        "valid_sampler = SequentialSampler(valid_data)\n",
        "valid_dataloader = DataLoader(valid_data, sampler=valid_sampler, batch_size=bs)"
      ]
    },
    {
      "cell_type": "code",
      "execution_count": 31,
      "metadata": {
        "id": "jjhzPlOYPBJ0"
      },
      "outputs": [],
      "source": [
        "model = BertForTokenClassification.from_pretrained(\"bert-large-uncased\", num_labels=len(tag2idx))"
      ]
    },
    {
      "cell_type": "code",
      "execution_count": 32,
      "metadata": {
        "id": "aISu4UNdPBJ0"
      },
      "outputs": [],
      "source": [
        "model.cuda();"
      ]
    },
    {
      "cell_type": "code",
      "execution_count": 33,
      "metadata": {
        "id": "hnMf8WKYPBJ0"
      },
      "outputs": [],
      "source": [
        "FULL_FINETUNING = True\n",
        "if FULL_FINETUNING:\n",
        "    param_optimizer = list(model.named_parameters())\n",
        "    no_decay = ['bias', 'gamma', 'beta']\n",
        "    optimizer_grouped_parameters = [\n",
        "        {'params': [p for n, p in param_optimizer if not any(nd in n for nd in no_decay)],\n",
        "         'weight_decay_rate': 0.01},\n",
        "        {'params': [p for n, p in param_optimizer if any(nd in n for nd in no_decay)],\n",
        "         'weight_decay_rate': 0.0}\n",
        "    ]\n",
        "else:\n",
        "    param_optimizer = list(model.classifier.named_parameters()) \n",
        "    optimizer_grouped_parameters = [{\"params\": [p for n, p in param_optimizer]}]\n",
        "optimizer = Adam(optimizer_grouped_parameters, lr=3e-5)"
      ]
    },
    {
      "cell_type": "code",
      "execution_count": 34,
      "metadata": {
        "id": "cv0_6kwHRn_u"
      },
      "outputs": [],
      "source": [
        "import torch\n",
        "torch.cuda.empty_cache()"
      ]
    },
    {
      "cell_type": "code",
      "execution_count": 35,
      "metadata": {
        "colab": {
          "base_uri": "https://localhost:8080/"
        },
        "id": "zdOXEiVYPBJ0",
        "outputId": "b5581765-8e28-41e7-9ac6-7274727de3f5"
      },
      "outputs": [
        {
          "output_type": "stream",
          "name": "stderr",
          "text": [
            "Epoch:   8%|▊         | 1/13 [03:48<45:47, 228.94s/it]"
          ]
        },
        {
          "output_type": "stream",
          "name": "stdout",
          "text": [
            "Train loss: 0.8820762320425047\n"
          ]
        },
        {
          "output_type": "stream",
          "name": "stderr",
          "text": [
            "\rEpoch:  15%|█▌        | 2/13 [07:39<42:09, 229.93s/it]"
          ]
        },
        {
          "output_type": "stream",
          "name": "stdout",
          "text": [
            "Train loss: 0.5484054081496739\n"
          ]
        },
        {
          "output_type": "stream",
          "name": "stderr",
          "text": [
            "\rEpoch:  23%|██▎       | 3/13 [11:30<38:22, 230.23s/it]"
          ]
        },
        {
          "output_type": "stream",
          "name": "stdout",
          "text": [
            "Train loss: 0.4609235546827971\n"
          ]
        },
        {
          "output_type": "stream",
          "name": "stderr",
          "text": [
            "\rEpoch:  31%|███       | 4/13 [15:20<34:33, 230.38s/it]"
          ]
        },
        {
          "output_type": "stream",
          "name": "stdout",
          "text": [
            "Train loss: 0.4023334008228757\n"
          ]
        },
        {
          "output_type": "stream",
          "name": "stderr",
          "text": [
            "\rEpoch:  38%|███▊      | 5/13 [19:11<30:43, 230.42s/it]"
          ]
        },
        {
          "output_type": "stream",
          "name": "stdout",
          "text": [
            "Train loss: 0.3113791994859666\n"
          ]
        },
        {
          "output_type": "stream",
          "name": "stderr",
          "text": [
            "\rEpoch:  46%|████▌     | 6/13 [23:01<26:53, 230.44s/it]"
          ]
        },
        {
          "output_type": "stream",
          "name": "stdout",
          "text": [
            "Train loss: 0.2392332181743868\n"
          ]
        },
        {
          "output_type": "stream",
          "name": "stderr",
          "text": [
            "\rEpoch:  54%|█████▍    | 7/13 [26:52<23:02, 230.50s/it]"
          ]
        },
        {
          "output_type": "stream",
          "name": "stdout",
          "text": [
            "Train loss: 0.20443352115180194\n"
          ]
        },
        {
          "output_type": "stream",
          "name": "stderr",
          "text": [
            "\rEpoch:  62%|██████▏   | 8/13 [30:42<19:12, 230.55s/it]"
          ]
        },
        {
          "output_type": "stream",
          "name": "stdout",
          "text": [
            "Train loss: 0.17460755896396363\n"
          ]
        },
        {
          "output_type": "stream",
          "name": "stderr",
          "text": [
            "\rEpoch:  69%|██████▉   | 9/13 [34:33<15:21, 230.50s/it]"
          ]
        },
        {
          "output_type": "stream",
          "name": "stdout",
          "text": [
            "Train loss: 0.15355948534974959\n"
          ]
        },
        {
          "output_type": "stream",
          "name": "stderr",
          "text": [
            "\rEpoch:  77%|███████▋  | 10/13 [38:23<11:31, 230.48s/it]"
          ]
        },
        {
          "output_type": "stream",
          "name": "stdout",
          "text": [
            "Train loss: 0.127370508356129\n"
          ]
        },
        {
          "output_type": "stream",
          "name": "stderr",
          "text": [
            "\rEpoch:  85%|████████▍ | 11/13 [42:14<07:40, 230.48s/it]"
          ]
        },
        {
          "output_type": "stream",
          "name": "stdout",
          "text": [
            "Train loss: 0.11430928743940748\n"
          ]
        },
        {
          "output_type": "stream",
          "name": "stderr",
          "text": [
            "\rEpoch:  92%|█████████▏| 12/13 [46:04<03:50, 230.54s/it]"
          ]
        },
        {
          "output_type": "stream",
          "name": "stdout",
          "text": [
            "Train loss: 0.09304973166717401\n"
          ]
        },
        {
          "output_type": "stream",
          "name": "stderr",
          "text": [
            "Epoch: 100%|██████████| 13/13 [49:55<00:00, 230.43s/it]"
          ]
        },
        {
          "output_type": "stream",
          "name": "stdout",
          "text": [
            "Train loss: 0.08442735569355429\n"
          ]
        },
        {
          "output_type": "stream",
          "name": "stderr",
          "text": [
            "\n"
          ]
        }
      ],
      "source": [
        "epochs = 13\n",
        "max_grad_norm = 1.0\n",
        "\n",
        "for _ in trange(epochs, desc=\"Epoch\"):\n",
        "    # TRAIN loop\n",
        "    model.train()\n",
        "    tr_loss = 0\n",
        "    nb_tr_examples, nb_tr_steps = 0, 0\n",
        "    for step, batch in enumerate(train_dataloader):\n",
        "        # add batch to gpu\n",
        "        batch = tuple(t.to(device) for t in batch)\n",
        "        b_input_ids, b_input_mask, b_labels = batch\n",
        "        # forward pass\n",
        "        loss = model(b_input_ids, token_type_ids=None,\n",
        "                     attention_mask=b_input_mask, labels=b_labels)\n",
        "        # backward pass\n",
        "        loss.backward()\n",
        "        # track train loss\n",
        "        tr_loss += loss.item()\n",
        "        nb_tr_examples += b_input_ids.size(0)\n",
        "        nb_tr_steps += 1\n",
        "        # gradient clipping\n",
        "        torch.nn.utils.clip_grad_norm_(parameters=model.parameters(), max_norm=max_grad_norm)\n",
        "        # update parameters\n",
        "        optimizer.step()\n",
        "        model.zero_grad()\n",
        "        #print(\".[]....\")\n",
        "        #print(\"....[].\")\n",
        "    # print train loss per epoch\n",
        "    print(\"Train loss: {}\".format(tr_loss/nb_tr_steps))"
      ]
    },
    {
      "cell_type": "code",
      "execution_count": 42,
      "metadata": {
        "colab": {
          "base_uri": "https://localhost:8080/",
          "height": 312
        },
        "id": "NV5oKbIkn2AH",
        "outputId": "c49b1c67-5347-4166-a048-0dbcc0cb0460"
      },
      "outputs": [
        {
          "output_type": "error",
          "ename": "IsADirectoryError",
          "evalue": "ignored",
          "traceback": [
            "\u001b[0;31m---------------------------------------------------------------------------\u001b[0m",
            "\u001b[0;31mIsADirectoryError\u001b[0m                         Traceback (most recent call last)",
            "\u001b[0;32m<ipython-input-42-5f9cea87a934>\u001b[0m in \u001b[0;36m<module>\u001b[0;34m()\u001b[0m\n\u001b[0;32m----> 1\u001b[0;31m \u001b[0mtorch\u001b[0m\u001b[0;34m.\u001b[0m\u001b[0msave\u001b[0m\u001b[0;34m(\u001b[0m\u001b[0mmodel\u001b[0m\u001b[0;34m.\u001b[0m\u001b[0mstate_dict\u001b[0m\u001b[0;34m(\u001b[0m\u001b[0;34m)\u001b[0m\u001b[0;34m,\u001b[0m \u001b[0;34m'/content/drive/MyDrive/Colab Notebooks/Models/DeepBlue/Auto Tokenizer/'\u001b[0m\u001b[0;34m)\u001b[0m\u001b[0;34m\u001b[0m\u001b[0;34m\u001b[0m\u001b[0m\n\u001b[0m",
            "\u001b[0;32m/usr/local/lib/python3.7/dist-packages/torch/serialization.py\u001b[0m in \u001b[0;36msave\u001b[0;34m(obj, f, pickle_module, pickle_protocol, _use_new_zipfile_serialization)\u001b[0m\n\u001b[1;32m    374\u001b[0m     \u001b[0m_check_dill_version\u001b[0m\u001b[0;34m(\u001b[0m\u001b[0mpickle_module\u001b[0m\u001b[0;34m)\u001b[0m\u001b[0;34m\u001b[0m\u001b[0;34m\u001b[0m\u001b[0m\n\u001b[1;32m    375\u001b[0m \u001b[0;34m\u001b[0m\u001b[0m\n\u001b[0;32m--> 376\u001b[0;31m     \u001b[0;32mwith\u001b[0m \u001b[0m_open_file_like\u001b[0m\u001b[0;34m(\u001b[0m\u001b[0mf\u001b[0m\u001b[0;34m,\u001b[0m \u001b[0;34m'wb'\u001b[0m\u001b[0;34m)\u001b[0m \u001b[0;32mas\u001b[0m \u001b[0mopened_file\u001b[0m\u001b[0;34m:\u001b[0m\u001b[0;34m\u001b[0m\u001b[0;34m\u001b[0m\u001b[0m\n\u001b[0m\u001b[1;32m    377\u001b[0m         \u001b[0;32mif\u001b[0m \u001b[0m_use_new_zipfile_serialization\u001b[0m\u001b[0;34m:\u001b[0m\u001b[0;34m\u001b[0m\u001b[0;34m\u001b[0m\u001b[0m\n\u001b[1;32m    378\u001b[0m             \u001b[0;32mwith\u001b[0m \u001b[0m_open_zipfile_writer\u001b[0m\u001b[0;34m(\u001b[0m\u001b[0mopened_file\u001b[0m\u001b[0;34m)\u001b[0m \u001b[0;32mas\u001b[0m \u001b[0mopened_zipfile\u001b[0m\u001b[0;34m:\u001b[0m\u001b[0;34m\u001b[0m\u001b[0;34m\u001b[0m\u001b[0m\n",
            "\u001b[0;32m/usr/local/lib/python3.7/dist-packages/torch/serialization.py\u001b[0m in \u001b[0;36m_open_file_like\u001b[0;34m(name_or_buffer, mode)\u001b[0m\n\u001b[1;32m    228\u001b[0m \u001b[0;32mdef\u001b[0m \u001b[0m_open_file_like\u001b[0m\u001b[0;34m(\u001b[0m\u001b[0mname_or_buffer\u001b[0m\u001b[0;34m,\u001b[0m \u001b[0mmode\u001b[0m\u001b[0;34m)\u001b[0m\u001b[0;34m:\u001b[0m\u001b[0;34m\u001b[0m\u001b[0;34m\u001b[0m\u001b[0m\n\u001b[1;32m    229\u001b[0m     \u001b[0;32mif\u001b[0m \u001b[0m_is_path\u001b[0m\u001b[0;34m(\u001b[0m\u001b[0mname_or_buffer\u001b[0m\u001b[0;34m)\u001b[0m\u001b[0;34m:\u001b[0m\u001b[0;34m\u001b[0m\u001b[0;34m\u001b[0m\u001b[0m\n\u001b[0;32m--> 230\u001b[0;31m         \u001b[0;32mreturn\u001b[0m \u001b[0m_open_file\u001b[0m\u001b[0;34m(\u001b[0m\u001b[0mname_or_buffer\u001b[0m\u001b[0;34m,\u001b[0m \u001b[0mmode\u001b[0m\u001b[0;34m)\u001b[0m\u001b[0;34m\u001b[0m\u001b[0;34m\u001b[0m\u001b[0m\n\u001b[0m\u001b[1;32m    231\u001b[0m     \u001b[0;32melse\u001b[0m\u001b[0;34m:\u001b[0m\u001b[0;34m\u001b[0m\u001b[0;34m\u001b[0m\u001b[0m\n\u001b[1;32m    232\u001b[0m         \u001b[0;32mif\u001b[0m \u001b[0;34m'w'\u001b[0m \u001b[0;32min\u001b[0m \u001b[0mmode\u001b[0m\u001b[0;34m:\u001b[0m\u001b[0;34m\u001b[0m\u001b[0;34m\u001b[0m\u001b[0m\n",
            "\u001b[0;32m/usr/local/lib/python3.7/dist-packages/torch/serialization.py\u001b[0m in \u001b[0;36m__init__\u001b[0;34m(self, name, mode)\u001b[0m\n\u001b[1;32m    209\u001b[0m \u001b[0;32mclass\u001b[0m \u001b[0m_open_file\u001b[0m\u001b[0;34m(\u001b[0m\u001b[0m_opener\u001b[0m\u001b[0;34m)\u001b[0m\u001b[0;34m:\u001b[0m\u001b[0;34m\u001b[0m\u001b[0;34m\u001b[0m\u001b[0m\n\u001b[1;32m    210\u001b[0m     \u001b[0;32mdef\u001b[0m \u001b[0m__init__\u001b[0m\u001b[0;34m(\u001b[0m\u001b[0mself\u001b[0m\u001b[0;34m,\u001b[0m \u001b[0mname\u001b[0m\u001b[0;34m,\u001b[0m \u001b[0mmode\u001b[0m\u001b[0;34m)\u001b[0m\u001b[0;34m:\u001b[0m\u001b[0;34m\u001b[0m\u001b[0;34m\u001b[0m\u001b[0m\n\u001b[0;32m--> 211\u001b[0;31m         \u001b[0msuper\u001b[0m\u001b[0;34m(\u001b[0m\u001b[0m_open_file\u001b[0m\u001b[0;34m,\u001b[0m \u001b[0mself\u001b[0m\u001b[0;34m)\u001b[0m\u001b[0;34m.\u001b[0m\u001b[0m__init__\u001b[0m\u001b[0;34m(\u001b[0m\u001b[0mopen\u001b[0m\u001b[0;34m(\u001b[0m\u001b[0mname\u001b[0m\u001b[0;34m,\u001b[0m \u001b[0mmode\u001b[0m\u001b[0;34m)\u001b[0m\u001b[0;34m)\u001b[0m\u001b[0;34m\u001b[0m\u001b[0;34m\u001b[0m\u001b[0m\n\u001b[0m\u001b[1;32m    212\u001b[0m \u001b[0;34m\u001b[0m\u001b[0m\n\u001b[1;32m    213\u001b[0m     \u001b[0;32mdef\u001b[0m \u001b[0m__exit__\u001b[0m\u001b[0;34m(\u001b[0m\u001b[0mself\u001b[0m\u001b[0;34m,\u001b[0m \u001b[0;34m*\u001b[0m\u001b[0margs\u001b[0m\u001b[0;34m)\u001b[0m\u001b[0;34m:\u001b[0m\u001b[0;34m\u001b[0m\u001b[0;34m\u001b[0m\u001b[0m\n",
            "\u001b[0;31mIsADirectoryError\u001b[0m: [Errno 21] Is a directory: '/content/drive/MyDrive/Colab Notebooks/Models/DeepBlue/Auto Tokenizer/'"
          ]
        }
      ],
      "source": [
        "torch.save(model.state_dict(), '/content/drive/MyDrive/Colab Notebooks/Models/DeepBlue/Auto Tokenizer/')\n"
      ]
    },
    {
      "cell_type": "code",
      "execution_count": 2,
      "metadata": {
        "colab": {
          "base_uri": "https://localhost:8080/",
          "height": 218
        },
        "id": "32k01Pmmr82e",
        "outputId": "3d047b6d-0d0d-4ec9-cfe2-1b7828d9fa25"
      },
      "outputs": [
        {
          "output_type": "error",
          "ename": "NameError",
          "evalue": "ignored",
          "traceback": [
            "\u001b[0;31m---------------------------------------------------------------------------\u001b[0m",
            "\u001b[0;31mNameError\u001b[0m                                 Traceback (most recent call last)",
            "\u001b[0;32m<ipython-input-2-84f2a45f2505>\u001b[0m in \u001b[0;36m<module>\u001b[0;34m()\u001b[0m\n\u001b[1;32m     13\u001b[0m \u001b[0;31m#load\u001b[0m\u001b[0;34m\u001b[0m\u001b[0;34m\u001b[0m\u001b[0;34m\u001b[0m\u001b[0m\n\u001b[1;32m     14\u001b[0m \u001b[0mcheckpoint\u001b[0m \u001b[0;34m=\u001b[0m \u001b[0mtorch\u001b[0m\u001b[0;34m.\u001b[0m\u001b[0mload\u001b[0m\u001b[0;34m(\u001b[0m\u001b[0moutput_model\u001b[0m\u001b[0;34m,\u001b[0m \u001b[0mmap_location\u001b[0m\u001b[0;34m=\u001b[0m\u001b[0;34m'cpu'\u001b[0m\u001b[0;34m)\u001b[0m\u001b[0;34m\u001b[0m\u001b[0;34m\u001b[0m\u001b[0m\n\u001b[0;32m---> 15\u001b[0;31m \u001b[0mmodel\u001b[0m\u001b[0;34m.\u001b[0m\u001b[0mload_state_dict\u001b[0m\u001b[0;34m(\u001b[0m\u001b[0mcheckpoint\u001b[0m\u001b[0;34m[\u001b[0m\u001b[0;34m'model_state_dict'\u001b[0m\u001b[0;34m]\u001b[0m\u001b[0;34m)\u001b[0m\u001b[0;34m\u001b[0m\u001b[0;34m\u001b[0m\u001b[0m\n\u001b[0m\u001b[1;32m     16\u001b[0m \u001b[0moptimizer\u001b[0m\u001b[0;34m.\u001b[0m\u001b[0mload_state_dict\u001b[0m\u001b[0;34m(\u001b[0m\u001b[0mcheckpoint\u001b[0m\u001b[0;34m[\u001b[0m\u001b[0;34m'optimizer_state_dict'\u001b[0m\u001b[0;34m]\u001b[0m\u001b[0;34m)\u001b[0m\u001b[0;34m\u001b[0m\u001b[0;34m\u001b[0m\u001b[0m\n",
            "\u001b[0;31mNameError\u001b[0m: name 'model' is not defined"
          ]
        }
      ],
      "source": [
        "# save\n",
        "output_model = '/content/drive/MyDrive/Colab Notebooks/Models/DeepBlue/Auto Tokenizer/large-uncased-bert-300.pth'\n",
        "\n",
        "# def save(model, optimizer):\n",
        "#     # save\n",
        "#     torch.save({\n",
        "#         'model_state_dict': model.state_dict(),\n",
        "#         'optimizer_state_dict': optimizer.state_dict()\n",
        "#     }, output_model)\n",
        "\n",
        "# save(model, optimizer)\n",
        "\n",
        "#load\n",
        "checkpoint = torch.load(output_model, map_location='cpu')\n",
        "model.load_state_dict(checkpoint['model_state_dict'])\n",
        "optimizer.load_state_dict(checkpoint['optimizer_state_dict'])\n"
      ]
    },
    {
      "cell_type": "code",
      "execution_count": 43,
      "metadata": {
        "colab": {
          "base_uri": "https://localhost:8080/",
          "height": 322
        },
        "id": "qvgm36x5po0D",
        "outputId": "b3051e8c-70e6-41a6-d573-ae8c0746283c"
      },
      "outputs": [
        {
          "output_type": "error",
          "ename": "AttributeError",
          "evalue": "ignored",
          "traceback": [
            "\u001b[0;31m---------------------------------------------------------------------------\u001b[0m",
            "\u001b[0;31mAttributeError\u001b[0m                            Traceback (most recent call last)",
            "\u001b[0;32m<ipython-input-43-4f07a9919e61>\u001b[0m in \u001b[0;36m<module>\u001b[0;34m()\u001b[0m\n\u001b[1;32m      4\u001b[0m \u001b[0mtokenizer\u001b[0m\u001b[0;34m.\u001b[0m\u001b[0msave_pretrained\u001b[0m\u001b[0;34m(\u001b[0m\u001b[0;34m\"/content/drive/MyDrive/Colab Notebooks/Models/DeepBlue/Auto Tokenizer/large-uncased-bert-30\"\u001b[0m\u001b[0;34m)\u001b[0m\u001b[0;34m\u001b[0m\u001b[0;34m\u001b[0m\u001b[0m\n\u001b[1;32m      5\u001b[0m \u001b[0;34m\u001b[0m\u001b[0m\n\u001b[0;32m----> 6\u001b[0;31m \u001b[0mmodel\u001b[0m\u001b[0;34m.\u001b[0m\u001b[0msave_pretrained\u001b[0m\u001b[0;34m(\u001b[0m\u001b[0;34m\"/content/drive/MyDrive/Colab Notebooks/Models/DeepBlue/Auto Tokenizer/large-uncased-bert-30\"\u001b[0m\u001b[0;34m)\u001b[0m\u001b[0;34m\u001b[0m\u001b[0;34m\u001b[0m\u001b[0m\n\u001b[0m",
            "\u001b[0;32m/usr/local/lib/python3.7/dist-packages/torch/nn/modules/module.py\u001b[0m in \u001b[0;36m__getattr__\u001b[0;34m(self, name)\u001b[0m\n\u001b[1;32m   1176\u001b[0m                 \u001b[0;32mreturn\u001b[0m \u001b[0mmodules\u001b[0m\u001b[0;34m[\u001b[0m\u001b[0mname\u001b[0m\u001b[0;34m]\u001b[0m\u001b[0;34m\u001b[0m\u001b[0;34m\u001b[0m\u001b[0m\n\u001b[1;32m   1177\u001b[0m         raise AttributeError(\"'{}' object has no attribute '{}'\".format(\n\u001b[0;32m-> 1178\u001b[0;31m             type(self).__name__, name))\n\u001b[0m\u001b[1;32m   1179\u001b[0m \u001b[0;34m\u001b[0m\u001b[0m\n\u001b[1;32m   1180\u001b[0m     \u001b[0;32mdef\u001b[0m \u001b[0m__setattr__\u001b[0m\u001b[0;34m(\u001b[0m\u001b[0mself\u001b[0m\u001b[0;34m,\u001b[0m \u001b[0mname\u001b[0m\u001b[0;34m:\u001b[0m \u001b[0mstr\u001b[0m\u001b[0;34m,\u001b[0m \u001b[0mvalue\u001b[0m\u001b[0;34m:\u001b[0m \u001b[0mUnion\u001b[0m\u001b[0;34m[\u001b[0m\u001b[0mTensor\u001b[0m\u001b[0;34m,\u001b[0m \u001b[0;34m'Module'\u001b[0m\u001b[0;34m]\u001b[0m\u001b[0;34m)\u001b[0m \u001b[0;34m->\u001b[0m \u001b[0;32mNone\u001b[0m\u001b[0;34m:\u001b[0m\u001b[0;34m\u001b[0m\u001b[0;34m\u001b[0m\u001b[0m\n",
            "\u001b[0;31mAttributeError\u001b[0m: 'BertForTokenClassification' object has no attribute 'save_pretrained'"
          ]
        }
      ],
      "source": [
        "from transformers import AutoTokenizer\n",
        "from pytorch_pretrained_bert import BertForSequenceClassification\n",
        "\n",
        "tokenizer.save_pretrained(\"/content/drive/MyDrive/Colab Notebooks/Models/DeepBlue/Auto Tokenizer/large-uncased-bert-30\")\n",
        "\n",
        "model.save_pretrained(\"/content/drive/MyDrive/Colab Notebooks/Models/DeepBlue/Auto Tokenizer/large-uncased-bert-30\")\n"
      ]
    },
    {
      "cell_type": "code",
      "execution_count": 39,
      "metadata": {
        "id": "r9Wk33FC4Ct6"
      },
      "outputs": [],
      "source": [
        "# tokenizer.save_pretrained(\"/content/drive/MyDrive/Colab Notebooks/Models/DeepBlue/Auto Tokenizer/\")\n",
        "# model.save_pretrained(\"/content/drive/MyDrive/Colab Notebooks/Models/DeepBlue/Auto Tokenizer/\")"
      ]
    },
    {
      "cell_type": "code",
      "execution_count": null,
      "metadata": {
        "id": "mL8YwHkcpCAh"
      },
      "outputs": [],
      "source": [
        "import json\n",
        "json.dump(model.to_json(), open(\"/content/drive/MyDrive/Colab Notebooks/Models/DeepBlue/Auto Tokenizer/large-uncased-bert-300.json\", \"w\"))"
      ]
    },
    {
      "cell_type": "code",
      "execution_count": 41,
      "metadata": {
        "colab": {
          "base_uri": "https://localhost:8080/"
        },
        "id": "GC7QJNVMPBJ1",
        "outputId": "9ab44f9c-49ed-4045-b632-b256428b8441"
      },
      "outputs": [
        {
          "output_type": "stream",
          "name": "stdout",
          "text": [
            "[['B-NAME', 'L-NAME', 'U-LOC', 'O', 'O', 'O', 'O', 'O', 'O', 'O', 'O', 'O', 'O', 'O', 'O', 'O', 'O', 'O', 'O', 'O', 'O', 'O', 'O', 'O', 'O', 'O', 'O', 'O', 'O', 'O', 'O', 'O', 'O', 'O'], ['O', 'O', 'O', 'O', 'O', 'O', 'O', 'O', 'O', 'O', 'O', 'O', 'O', 'O', 'O', 'O', 'O', 'O', 'O', 'O', 'O', 'O', 'O', 'O', 'O', 'O', 'O', 'O', 'O', 'O', 'O', 'O', 'O', 'O', 'O', 'O', 'O', 'O', 'O', 'O', 'O', 'O', 'O', 'O', 'O', 'O', 'O', 'O', 'O', 'O', 'O', 'O', 'O', 'O', 'O', 'O', 'O', 'O', 'O', 'O', 'O', 'O', 'O', 'O', 'O', 'O', 'O', 'O', 'B-DESIG', 'L-DESIG', 'O', 'O', 'O', 'U-LOC', 'O', 'O', 'O', 'O', 'O', 'O', 'O', 'O', 'O', 'B-DEG', 'I-DEG', 'I-DEG', 'I-DEG', 'I-DEG', 'I-DEG', 'I-DEG', 'I-DEG', 'O', 'O', 'O', 'O', 'O', 'O', 'O', 'O', 'O', 'O', 'O', 'O', 'O', 'B-SKILLS', 'I-SKILLS', 'I-SKILLS', 'I-SKILLS', 'I-SKILLS', 'I-SKILLS', 'I-SKILLS', 'I-SKILLS', 'I-SKILLS', 'I-SKILLS', 'I-SKILLS', 'I-SKILLS', 'I-SKILLS', 'I-SKILLS', 'I-SKILLS', 'I-SKILLS', 'I-SKILLS', 'I-SKILLS', 'I-SKILLS', 'I-SKILLS', 'I-SKILLS', 'I-SKILLS', 'I-SKILLS', 'I-SKILLS', 'I-SKILLS', 'I-SKILLS', 'I-SKILLS', 'I-SKILLS', 'I-SKILLS', 'I-SKILLS', 'I-SKILLS', 'I-SKILLS', 'I-SKILLS', 'I-SKILLS', 'I-SKILLS', 'I-SKILLS', 'I-SKILLS', 'I-SKILLS', 'I-SKILLS', 'I-SKILLS', 'I-SKILLS', 'I-SKILLS', 'I-SKILLS', 'I-SKILLS', 'I-SKILLS', 'I-SKILLS', 'I-SKILLS', 'I-SKILLS', 'I-SKILLS', 'I-SKILLS', 'I-SKILLS', 'I-SKILLS', 'I-SKILLS', 'I-SKILLS', 'I-SKILLS', 'I-SKILLS', 'I-SKILLS', 'L-SKILLS'], ['O', 'O', 'O', 'O', 'O', 'O', 'U-COMPANY', 'B-DESIG', 'L-DESIG', 'O', 'O', 'O', 'O', 'O', 'O', 'O', 'O', 'O', 'O', 'O', 'O', 'O', 'O', 'O', 'B-COMPANY', 'I-COMPANY', 'L-COMPANY'], ['O', 'O', 'O', 'O', 'O', 'O', 'O', 'O', 'O', 'O', 'O', 'O', 'O', 'O', 'O', 'O', 'O', 'O', 'O', 'O', 'O', 'O', 'O', 'O', 'O', 'O', 'O', 'O', 'U-DESIG', 'B-COMPANY', 'L-COMPANY', 'O', 'U-LOC', 'O', 'O', 'O', 'O', 'O', 'O', 'O', 'O', 'O', 'O', 'O', 'O', 'O', 'O', 'O', 'O', 'O', 'O', 'O', 'O', 'O', 'O', 'O', 'O', 'O', 'O', 'O', 'O', 'O', 'O', 'O', 'O', 'O', 'O', 'O', 'O', 'O'], ['O', 'O', 'O', 'O', 'O', 'B-NAME', 'L-NAME', 'O', 'O', 'O', 'O', 'O', 'O', 'O', 'O', 'O', 'O', 'O', 'O', 'O'], ['B-NAME', 'I-NAME', 'L-NAME', 'O', 'O', 'O', 'O', 'O', 'O', 'O', 'U-EMAIL', 'O', 'O', 'O', 'O', 'O', 'O', 'O', 'O', 'O', 'O', 'O', 'O', 'B-COMPANY', 'O', 'O', 'O', 'O', 'O', 'O', 'O', 'O', 'O', 'O', 'O', 'O', 'U-DEG', 'U-CLG', 'O'], ['B-NAME', 'L-NAME', 'O', 'O', 'O', 'O', 'U-COMPANY', 'U-LOC', 'O', 'O', 'O', 'O', 'O', 'O', 'O', 'O', 'O', 'O', 'B-EMAIL', 'L-EMAIL', 'O', 'O', 'O', 'O', 'O', 'O', 'O', 'O', 'O', 'O', 'O', 'O', 'O', 'O', 'O', 'U-LOC', 'O', 'O', 'O', 'O', 'O', 'O', 'O'], ['B-NAME', 'L-NAME', 'B-DESIG', 'L-DESIG', 'O', 'O', 'O', 'O', 'O', 'O', 'U-LOC', 'O', 'O', 'O', 'O', 'O', 'O', 'O', 'O', 'U-EMAIL', 'O', 'O', 'O', 'O', 'O', 'O', 'O', 'O', 'O', 'O', 'O', 'O', 'O', 'O', 'O', 'O'], ['O', 'O', 'O', 'O', 'O', 'O', 'O', 'O', 'O', 'O', 'O', 'O', 'O', 'O', 'O', 'O', 'U-COMPANY', 'O', 'O', 'O', 'O', 'O', 'O', 'O', 'O', 'O', 'O', 'O', 'O', 'O', 'O'], ['O', 'U-COMPANY', 'O', 'O', 'O', 'O', 'O', 'O', 'O', 'O', 'O', 'O', 'O', 'O', 'O', 'O', 'O', 'O', 'O', 'O', 'O', 'O', 'O', 'O', 'O', 'O'], ['B-NAME', 'L-NAME', 'B-LOC', 'L-LOC', 'O', 'O', 'O', 'O', 'O', 'O', 'O', 'O', 'O', 'O', 'O', 'O', 'O', 'O', 'O', 'O', 'O', 'U-GRADYEAR', 'O', 'O', 'O', 'O', 'O', 'O', 'O', 'O', 'O', 'O', 'O', 'O', 'O', 'O', 'O', 'O', 'O', 'O', 'O', 'O', 'O', 'O', 'O', 'O', 'O', 'O', 'O', 'O', 'O', 'O'], ['B-NAME', 'L-NAME', 'B-DESIG', 'I-DESIG', 'I-DESIG', 'L-DESIG', 'O', 'O', 'O', 'O', 'O', 'O', 'O', 'O', 'O'], ['O', 'O', 'O', 'O', 'O', 'B-COMPANY', 'L-COMPANY', 'O', 'O', 'O', 'O', 'O', 'O', 'O', 'O'], ['O', 'O', 'O', 'O', 'O', 'O', 'O', 'O', 'U-DESIG', 'O', 'O', 'O', 'O', 'O', 'U-LOC', 'O', 'O', 'O', 'O', 'O', 'O', 'O', 'O', 'O', 'O', 'O', 'O', 'O', 'O', 'O', 'O', 'O', 'O', 'O', 'O', 'O'], ['O', 'O', 'O', 'O', 'O', 'O', 'O', 'O', 'O', 'O', 'O', 'O', 'O', 'O', 'O', 'O', 'O', 'O', 'O', 'O', 'U-COMPANY'], ['O', 'O', 'B-DEG', 'I-DEG', 'I-DEG', 'I-DEG', 'L-DEG', 'O', 'O', 'O', 'O', 'O', 'O', 'O', 'O', 'O', 'U-DEG', 'B-CLG', 'I-CLG', 'L-CLG', 'O', 'O', 'O', 'O', 'O', 'O', 'O', 'O', 'O', 'O', 'O', 'O', 'O', 'O', 'O', 'O', 'O', 'O', 'O', 'B-SKILLS', 'I-SKILLS', 'I-SKILLS', 'I-SKILLS', 'I-SKILLS', 'I-SKILLS', 'I-SKILLS', 'I-SKILLS', 'I-SKILLS', 'I-SKILLS', 'I-SKILLS', 'I-SKILLS', 'I-SKILLS', 'I-SKILLS', 'I-SKILLS', 'I-SKILLS', 'I-SKILLS', 'I-SKILLS', 'I-SKILLS', 'I-SKILLS', 'I-SKILLS', 'I-SKILLS', 'I-SKILLS', 'I-SKILLS', 'I-SKILLS', 'I-SKILLS', 'I-SKILLS', 'I-SKILLS', 'I-SKILLS', 'I-SKILLS', 'I-SKILLS', 'I-SKILLS', 'I-SKILLS', 'I-SKILLS', 'I-SKILLS', 'I-SKILLS', 'I-SKILLS', 'I-SKILLS', 'I-SKILLS', 'I-SKILLS', 'I-SKILLS', 'I-SKILLS', 'I-SKILLS', 'I-SKILLS', 'I-SKILLS', 'I-SKILLS', 'I-SKILLS', 'I-SKILLS', 'I-SKILLS', 'I-SKILLS', 'I-SKILLS', 'I-SKILLS', 'I-SKILLS', 'I-SKILLS', 'I-SKILLS', 'I-SKILLS', 'I-SKILLS', 'I-SKILLS', 'I-SKILLS', 'I-SKILLS', 'I-SKILLS', 'I-SKILLS', 'I-SKILLS', 'I-SKILLS', 'I-SKILLS', 'I-SKILLS', 'I-SKILLS', 'I-SKILLS', 'I-SKILLS', 'I-SKILLS', 'I-SKILLS', 'I-SKILLS', 'I-SKILLS', 'I-SKILLS', 'I-SKILLS', 'I-SKILLS', 'I-SKILLS', 'I-SKILLS', 'I-SKILLS', 'I-SKILLS', 'I-SKILLS', 'I-SKILLS', 'I-SKILLS', 'I-SKILLS', 'I-SKILLS', 'I-SKILLS', 'I-SKILLS', 'I-SKILLS', 'I-SKILLS', 'I-SKILLS', 'I-SKILLS', 'I-SKILLS', 'I-SKILLS', 'I-SKILLS', 'I-SKILLS', 'I-SKILLS', 'I-SKILLS', 'I-SKILLS', 'I-SKILLS', 'I-SKILLS', 'I-SKILLS', 'I-SKILLS', 'I-SKILLS', 'I-SKILLS', 'I-SKILLS', 'I-SKILLS', 'I-SKILLS', 'I-SKILLS', 'I-SKILLS', 'I-SKILLS', 'I-SKILLS', 'I-SKILLS', 'I-SKILLS', 'I-SKILLS', 'I-SKILLS', 'I-SKILLS', 'I-SKILLS', 'I-SKILLS', 'I-SKILLS', 'I-SKILLS', 'I-SKILLS', 'I-SKILLS', 'I-SKILLS', 'I-SKILLS', 'I-SKILLS', 'I-SKILLS', 'I-SKILLS', 'I-SKILLS', 'I-SKILLS', 'I-SKILLS', 'I-SKILLS', 'I-SKILLS', 'I-SKILLS', 'I-SKILLS', 'I-SKILLS', 'I-SKILLS', 'I-SKILLS', 'I-SKILLS', 'I-SKILLS', 'I-SKILLS', 'I-SKILLS', 'I-SKILLS', 'I-SKILLS', 'I-SKILLS', 'I-SKILLS', 'I-SKILLS', 'I-SKILLS', 'I-SKILLS', 'I-SKILLS', 'I-SKILLS', 'I-SKILLS', 'I-SKILLS', 'I-SKILLS', 'I-SKILLS', 'I-SKILLS', 'I-SKILLS', 'I-SKILLS', 'I-SKILLS', 'I-SKILLS', 'I-SKILLS', 'I-SKILLS', 'I-SKILLS', 'I-SKILLS', 'I-SKILLS', 'I-SKILLS', 'I-SKILLS', 'I-SKILLS', 'I-SKILLS', 'I-SKILLS', 'I-SKILLS', 'I-SKILLS', 'I-SKILLS', 'I-SKILLS', 'I-SKILLS', 'I-SKILLS', 'I-SKILLS', 'I-SKILLS', 'I-SKILLS', 'I-SKILLS', 'I-SKILLS', 'I-SKILLS', 'I-SKILLS', 'I-SKILLS', 'I-SKILLS', 'I-SKILLS', 'I-SKILLS', 'I-SKILLS', 'I-SKILLS', 'I-SKILLS', 'I-SKILLS', 'I-SKILLS', 'I-SKILLS', 'I-SKILLS', 'I-SKILLS', 'I-SKILLS', 'I-SKILLS', 'I-SKILLS', 'I-SKILLS', 'I-SKILLS', 'I-SKILLS', 'I-SKILLS', 'I-SKILLS', 'I-SKILLS', 'I-SKILLS', 'I-SKILLS', 'I-SKILLS', 'I-SKILLS', 'I-SKILLS', 'I-SKILLS', 'I-SKILLS', 'I-SKILLS', 'I-SKILLS', 'I-SKILLS', 'I-SKILLS', 'I-SKILLS', 'I-SKILLS', 'I-SKILLS', 'I-SKILLS', 'I-SKILLS', 'I-SKILLS', 'I-SKILLS', 'I-SKILLS', 'I-SKILLS', 'I-SKILLS', 'I-SKILLS', 'I-SKILLS', 'I-SKILLS', 'I-SKILLS', 'I-SKILLS', 'I-SKILLS', 'I-SKILLS', 'I-SKILLS', 'I-SKILLS', 'I-SKILLS', 'I-SKILLS', 'I-SKILLS', 'I-SKILLS', 'I-SKILLS', 'I-SKILLS', 'I-SKILLS', 'I-SKILLS', 'I-SKILLS', 'I-SKILLS', 'I-SKILLS', 'I-SKILLS', 'I-SKILLS', 'I-SKILLS', 'I-SKILLS', 'I-SKILLS', 'I-SKILLS', 'I-SKILLS', 'I-SKILLS', 'I-SKILLS', 'I-SKILLS', 'I-SKILLS', 'I-SKILLS', 'I-SKILLS', 'I-SKILLS', 'I-SKILLS', 'I-SKILLS', 'I-SKILLS', 'I-SKILLS', 'I-SKILLS', 'I-SKILLS', 'I-SKILLS', 'L-SKILLS', 'O', 'O', 'O', 'O', 'O', 'O', 'O', 'O', 'O', 'O', 'O'], ['B-NAME', 'L-NAME', 'O', 'O', 'O', 'O', 'O', 'U-LOC', 'O', 'O', 'O', 'O', 'O', 'O', 'O', 'O', 'O', 'O', 'B-LOC', 'I-LOC', 'I-LOC', 'L-LOC', 'O', 'O', 'O', 'O', 'O', 'O', 'O', 'O', 'O', 'O', 'O', 'O', 'O', 'O', 'O', 'O', 'O', 'O', 'O', 'O', 'O', 'O', 'O', 'O', 'O', 'O', 'O', 'O', 'O', 'O', 'O', 'O', 'O', 'O', 'O', 'O'], ['O', 'O', 'O', 'O', 'O', 'O', 'B-DESIG', 'L-DESIG', 'O', 'O', 'O', 'O', 'O', 'O', 'O', 'O', 'O', 'O', 'O', 'O', 'O', 'O'], ['O', 'O', 'O', 'O', 'O', 'O', 'O', 'O', 'O', 'O', 'O', 'O', 'O', 'O', 'O', 'O', 'O', 'O', 'O', 'O', 'O', 'O', 'O', 'O', 'O', 'O', 'O', 'O', 'O', 'O', 'O', 'O', 'U-DESIG', 'O', 'O', 'O', 'O', 'B-COMPANY', 'I-COMPANY', 'L-COMPANY', 'O', 'U-LOC', 'O', 'O', 'O', 'O', 'O', 'O', 'O', 'O', 'O', 'O', 'O', 'O', 'O', 'O', 'O', 'U-DESIG', 'O', 'O', 'O', 'O', 'O', 'O', 'O', 'O', 'O', 'O', 'O', 'O', 'O', 'O', 'O', 'O', 'O', 'O', 'O', 'O', 'O', 'O', 'O', 'O', 'O', 'B-COMPANY', 'I-COMPANY', 'L-COMPANY', 'O', 'U-LOC', 'O', 'O', 'O', 'O', 'O', 'O', 'O', 'O', 'O', 'O', 'O', 'O', 'O', 'O', 'O', 'O', 'O', 'O', 'O', 'O', 'O', 'O', 'O', 'O', 'O', 'O', 'O', 'O', 'O', 'O', 'O', 'O', 'O', 'O', 'O', 'O', 'O', 'O', 'O', 'O', 'O', 'O', 'O', 'O', 'O', 'O', 'O', 'O', 'O', 'O', 'O', 'O', 'O', 'O', 'O', 'O', 'O', 'O', 'O', 'O', 'O', 'O', 'O', 'O', 'O', 'O', 'O', 'O', 'O', 'O', 'O'], ['O', 'O', 'O', 'B-DESIG', 'I-DESIG', 'I-DESIG', 'I-DESIG', 'L-DESIG', 'U-COMPANY', 'O', 'O', 'O', 'O', 'O', 'O', 'O', 'O', 'O', 'O', 'O', 'O', 'O', 'O', 'O', 'O', 'O', 'O', 'O', 'O', 'O', 'O', 'O', 'O', 'O', 'O', 'O', 'O', 'O', 'O', 'O', 'O', 'O', 'O', 'O', 'O', 'O', 'O', 'O', 'O', 'O', 'O', 'O', 'O', 'O', 'O', 'O', 'O', 'O', 'O', 'O', 'O', 'O', 'O', 'O', 'O', 'O', 'O', 'O', 'O', 'O', 'O', 'O', 'O', 'O', 'O', 'O', 'O', 'O', 'O'], ['O', 'O', 'O', 'O', 'U-SKILLS', 'O', 'O', 'O', 'O', 'O', 'O', 'U-COMPANY', 'O'], ['O', 'O', 'O', 'O', 'O', 'O', 'O', 'O', 'O', 'O', 'O', 'O', 'O', 'O', 'O', 'O', 'O', 'O', 'O', 'O', 'O', 'O', 'O', 'O', 'O', 'O', 'O', 'O', 'O', 'O', 'O', 'O', 'O', 'O', 'O', 'O', 'O', 'O', 'O', 'O', 'O', 'O', 'O', 'O', 'O', 'O', 'O', 'O', 'O', 'O', 'O', 'O', 'B-DEG', 'I-DEG', 'I-DEG', 'I-DEG', 'I-DEG', 'I-DEG', 'I-DEG', 'I-DEG', 'I-DEG', 'I-DEG', 'L-DEG', 'B-CLG', 'I-CLG', 'I-CLG', 'I-CLG', 'L-CLG', 'O', 'U-LOC', 'O', 'O', 'O', 'O', 'O', 'U-GRADYEAR', 'B-DEG', 'I-DEG', 'I-DEG', 'I-DEG', 'I-DEG', 'I-DEG', 'I-DEG', 'L-DEG', 'B-CLG', 'I-CLG', 'I-CLG', 'I-CLG', 'I-CLG', 'I-CLG', 'L-CLG', 'O', 'O', 'U-GRADYEAR', 'O', 'O', 'O', 'O', 'O', 'O', 'O'], ['B-NAME', 'L-NAME', 'B-DESIG', 'I-DESIG', 'I-DESIG', 'I-DESIG', 'I-DESIG', 'U-LOC', 'O', 'O', 'O', 'O', 'O', 'O', 'B-EMAIL', 'I-EMAIL', 'L-EMAIL', 'O', 'O', 'O', 'O', 'O', 'O', 'O', 'O', 'O', 'O', 'O', 'O', 'O', 'O', 'O', 'O', 'O', 'O', 'O', 'O', 'O', 'O', 'O', 'O', 'O', 'O', 'O', 'O', 'O', 'O', 'O', 'O', 'O', 'O', 'O'], ['O', 'O', 'O', 'O', 'O', 'O', 'O', 'O', 'O', 'O', 'O', 'O', 'O', 'O', 'O', 'O', 'O', 'O', 'O', 'O', 'O', 'O', 'U-DESIG', 'B-COMPANY', 'I-COMPANY', 'L-COMPANY', 'O', 'O', 'O', 'O', 'O', 'O', 'O', 'O', 'O', 'O', 'O', 'O', 'O', 'O', 'O', 'O', 'O'], ['O', 'O', 'O', 'O', 'O', 'O', 'O', 'O', 'O', 'O', 'O', 'O', 'O', 'O', 'O', 'O', 'O', 'O', 'O', 'O', 'O', 'O', 'O', 'O', 'O', 'I-DEG', 'I-DEG', 'L-DEG', 'O', 'O', 'O', 'O', 'O', 'O', 'O', 'O', 'O', 'O', 'O', 'O', 'O', 'O', 'O', 'O', 'O', 'O', 'O', 'O', 'O', 'O', 'O', 'O', 'O', 'O', 'O', 'O', 'O', 'O', 'O', 'O', 'O', 'O', 'O', 'O', 'O'], ['O', 'O', 'O', 'O', 'O', 'O', 'O', 'O', 'O', 'O', 'O', 'O', 'U-COMPANY', 'O', 'O', 'O', 'O', 'O'], ['O', 'O', 'O', 'O', 'O', 'O', 'O', 'O', 'O', 'O', 'O', 'O', 'O', 'O', 'O', 'O', 'O', 'O', 'O', 'O', 'O', 'O', 'O', 'O', 'O', 'O', 'O', 'O', 'O', 'O', 'O', 'O', 'O', 'O', 'O', 'O', 'O', 'O', 'O', 'O', 'O', 'O', 'O', 'O', 'O', 'O', 'O', 'O', 'O', 'O', 'O', 'O', 'O', 'O', 'O', 'O', 'O', 'O', 'O', 'O', 'O', 'O', 'O', 'O', 'O', 'O', 'O', 'O', 'O', 'O', 'O', 'O', 'O', 'O', 'O', 'O', 'O', 'O', 'O', 'O', 'O', 'O', 'U-COMPANY', 'O', 'O', 'O', 'O', 'O', 'O', 'O', 'O', 'O', 'O', 'O', 'O', 'O'], ['O', 'O', 'O', 'U-COMPANY', 'O', 'O', 'O', 'O', 'O', 'O', 'O', 'U-COMPANY', 'O', 'O', 'O', 'O', 'O', 'O', 'O', 'O', 'O', 'O', 'O', 'O', 'O', 'O', 'O', 'O', 'O', 'O', 'O', 'O', 'O', 'O', 'O', 'O', 'O', 'O'], ['B-NAME', 'L-NAME', 'B-DESIG', 'I-DESIG', 'L-DESIG', 'O', 'B-YOE', 'L-YOE', 'O', 'O', 'O', 'U-SKILLS', 'O', 'O', 'O', 'U-SKILLS', 'O', 'B-SKILLS', 'L-SKILLS', 'O', 'B-COMPANY', 'I-COMPANY', 'L-COMPANY'], ['O', 'U-LOC', 'O', 'O', 'O', 'O', 'O', 'O', 'O', 'O', 'O', 'B-EMAIL', 'I-EMAIL', 'O', 'O', 'O', 'O', 'O', 'O', 'O', 'O', 'O', 'O', 'O', 'O', 'O', 'O', 'O', 'O', 'O', 'O', 'B-YOE', 'L-YOE', 'O', 'O', 'O', 'O', 'O', 'O', 'O', 'O', 'O', 'O', 'O', 'O', 'O', 'O', 'O', 'O', 'O', 'O', 'O'], ['O', 'O', 'O', 'O', 'O', 'O', 'O', 'O', 'O', 'O', 'O', 'O', 'O', 'O', 'O', 'O', 'O', 'O', 'O', 'O', 'O', 'O', 'O', 'O', 'O', 'O', 'O', 'O', 'O', 'O', 'O', 'O', 'O', 'O', 'O', 'O', 'O', 'O', 'O', 'O', 'O', 'O', 'O', 'O', 'O', 'O', 'O', 'O', 'O', 'O', 'O', 'O', 'O', 'O', 'O', 'O', 'O', 'O', 'O', 'O', 'O', 'O', 'O', 'O', 'O', 'O', 'O', 'O', 'O', 'O', 'O', 'O', 'O', 'O', 'O', 'O', 'O', 'O', 'O', 'O', 'O', 'O', 'O', 'O', 'O', 'O', 'O', 'O', 'O', 'O', 'O', 'O', 'O', 'O', 'O', 'O', 'O', 'O', 'O', 'O', 'O', 'O', 'O', 'O', 'O', 'B-DEG', 'I-DEG', 'I-DEG', 'I-DEG', 'B-CLG', 'I-CLG', 'O', 'O', 'U-GRADYEAR', 'O', 'O', 'O', 'O', 'O', 'O', 'O', 'O', 'O', 'O', 'O', 'O', 'O'], ['B-NAME', 'L-NAME', 'U-DESIG', 'U-LOC', 'O', 'O', 'O', 'O', 'O', 'O', 'O', 'O', 'O', 'B-EMAIL', 'I-EMAIL', 'O', 'O', 'O', 'O', 'O', 'O', 'O', 'O', 'O', 'O', 'O', 'O', 'O', 'O', 'O', 'O', 'O', 'O', 'O', 'O', 'O', 'O', 'O', 'O', 'O', 'O', 'O', 'O', 'O', 'O', 'O', 'O', 'O', 'O', 'O', 'O', 'O', 'O', 'O', 'O'], ['O', 'O', 'U-DEG', 'B-CLG', 'I-CLG', 'I-CLG', 'I-CLG', 'L-CLG', 'O', 'O', 'U-GRADYEAR', 'O', 'B-SKILLS', 'I-SKILLS', 'I-SKILLS', 'I-SKILLS', 'I-SKILLS', 'I-SKILLS', 'I-SKILLS', 'I-SKILLS', 'I-SKILLS', 'I-SKILLS', 'I-SKILLS', 'I-SKILLS', 'I-SKILLS', 'L-SKILLS', 'O', 'O', 'O', 'O', 'O', 'O', 'O', 'B-COMPANY', 'I-COMPANY', 'L-COMPANY', 'O', 'U-COMPANY', 'O', 'O', 'O', 'O', 'O', 'O', 'O', 'O', 'O', 'O', 'U-COMPANY', 'O', 'O', 'O', 'O', 'O', 'O', 'O', 'O', 'O', 'O', 'O', 'O', 'O', 'O', 'O', 'O', 'O', 'O', 'O', 'O', 'O', 'O', 'O', 'O', 'O', 'O', 'O', 'O', 'O', 'O', 'O', 'O', 'O', 'O', 'O', 'O', 'O', 'O', 'O', 'O', 'O', 'O', 'O', 'O', 'O', 'O', 'O', 'O', 'O', 'O', 'O', 'O', 'O', 'O', 'O', 'O', 'O', 'O', 'O', 'B-DESIG', 'L-DESIG', 'O', 'O', 'O', 'O', 'B-COMPANY', 'I-COMPANY', 'L-COMPANY', 'O', 'O', 'O', 'U-COMPANY', 'O', 'O', 'O', 'O', 'O', 'O', 'O', 'O', 'O', 'O', 'O', 'O', 'O', 'O', 'O', 'O', 'O', 'O', 'O', 'O', 'O', 'O', 'O', 'O', 'O', 'O', 'O', 'O', 'O'], ['O', 'O', 'O', 'O', 'O', 'O', 'O', 'O', 'O', 'O', 'O', 'O', 'O', 'O', 'O', 'B-DESIG', 'L-DESIG', 'O', 'O', 'O', 'O', 'U-COMPANY', 'O', 'O', 'O', 'O', 'O', 'O', 'O', 'U-COMPANY', 'O', 'O', 'O', 'O', 'O', 'O', 'O', 'O', 'O', 'O', 'O', 'O', 'O', 'O', 'O', 'O', 'O', 'O', 'O', 'O', 'O', 'O', 'O', 'O', 'O', 'O', 'O', 'O', 'O', 'O', 'O', 'O', 'O', 'O', 'O', 'O', 'O', 'O', 'O', 'O', 'O', 'O', 'O', 'O', 'O', 'O', 'O', 'O', 'O', 'O', 'O', 'O', 'O', 'O', 'O', 'O', 'O', 'O', 'O', 'O', 'O', 'O', 'O', 'O', 'O', 'O', 'O', 'O', 'O', 'O', 'O', 'O', 'O', 'O', 'O', 'O', 'O', 'O', 'O', 'O', 'O', 'O', 'O', 'O', 'O', 'O', 'O', 'O', 'O', 'O', 'O', 'O', 'O', 'O', 'O', 'O', 'O', 'O', 'O', 'O', 'O', 'O', 'O', 'O', 'O', 'O', 'O', 'O', 'O'], ['O', 'O', 'O', 'O', 'O', 'B-DESIG', 'L-DESIG', 'O', 'O', 'O', 'O', 'O', 'O', 'O', 'O', 'U-COMPANY', 'O', 'O', 'O'], ['O', 'O', 'O', 'O', 'O', 'O', 'O', 'O', 'O', 'O', 'O', 'O', 'O', 'O', 'O', 'O', 'O', 'O', 'O', 'O', 'B-SKILLS', 'L-SKILLS', 'O', 'O', 'O', 'O', 'O', 'O', 'O', 'O', 'O', 'O', 'O', 'O', 'O', 'O', 'O', 'O'], ['B-NAME', 'L-NAME', 'U-LOC', 'O', 'O', 'O', 'O', 'O', 'O', 'O', 'O', 'B-EMAIL', 'I-EMAIL', 'O', 'O', 'O', 'O', 'O', 'O', 'O', 'B-DESIG', 'I-DESIG', 'I-DESIG', 'O', 'O', 'O', 'O', 'O', 'O', 'O', 'O', 'O', 'O', 'O', 'O', 'O', 'B-DEG', 'I-DEG', 'L-DEG', 'B-CLG', 'I-CLG', 'I-CLG', 'O', 'U-GRADYEAR', 'O', 'B-SKILLS', 'I-SKILLS', 'I-SKILLS', 'I-SKILLS', 'I-SKILLS', 'I-SKILLS', 'I-SKILLS', 'I-SKILLS', 'I-SKILLS', 'I-SKILLS', 'I-SKILLS', 'L-SKILLS', 'O', 'O', 'O', 'O', 'O', 'O', 'O', 'O', 'O', 'O', 'O', 'O', 'O', 'O', 'O', 'O', 'O', 'O', 'O'], ['O', 'O', 'O', 'O', 'O', 'O', 'O', 'O', 'O', 'O', 'O', 'B-DEG', 'I-DEG', 'I-DEG', 'I-DEG', 'I-DEG', 'L-DEG', 'B-CLG', 'L-CLG', 'O', 'O', 'O', 'O', 'B-DEG', 'I-DEG', 'I-DEG', 'I-DEG', 'I-DEG', 'I-DEG', 'I-DEG', 'B-CLG', 'I-CLG', 'I-CLG', 'L-CLG', 'O', 'B-SKILLS', 'I-SKILLS', 'I-SKILLS', 'I-SKILLS', 'I-SKILLS', 'I-SKILLS', 'I-SKILLS', 'I-SKILLS', 'I-SKILLS', 'I-SKILLS', 'I-SKILLS', 'I-SKILLS', 'I-SKILLS', 'I-SKILLS', 'I-SKILLS', 'I-SKILLS', 'I-SKILLS', 'I-SKILLS', 'I-SKILLS', 'I-SKILLS', 'I-SKILLS', 'I-SKILLS', 'I-SKILLS', 'I-SKILLS', 'I-SKILLS', 'I-SKILLS', 'I-SKILLS', 'I-SKILLS', 'I-SKILLS', 'L-SKILLS', 'O', 'O', 'O', 'O', 'B-SKILLS', 'I-SKILLS', 'I-SKILLS', 'I-SKILLS', 'I-SKILLS', 'I-SKILLS', 'I-SKILLS', 'I-SKILLS', 'I-SKILLS', 'I-SKILLS', 'I-SKILLS', 'I-SKILLS', 'I-SKILLS', 'I-SKILLS', 'I-SKILLS', 'I-SKILLS', 'I-SKILLS', 'I-SKILLS', 'I-SKILLS', 'I-SKILLS', 'I-SKILLS', 'I-SKILLS', 'I-SKILLS', 'I-SKILLS', 'I-SKILLS', 'I-SKILLS', 'I-SKILLS', 'I-SKILLS', 'I-SKILLS', 'I-SKILLS', 'I-SKILLS', 'I-SKILLS', 'I-SKILLS', 'I-SKILLS', 'I-SKILLS', 'I-SKILLS', 'I-SKILLS', 'I-SKILLS', 'I-SKILLS', 'I-SKILLS', 'I-SKILLS', 'I-SKILLS', 'I-SKILLS', 'I-SKILLS', 'I-SKILLS', 'I-SKILLS', 'I-SKILLS', 'I-SKILLS', 'I-SKILLS', 'I-SKILLS', 'I-SKILLS', 'I-SKILLS', 'I-SKILLS', 'I-SKILLS', 'I-SKILLS', 'I-SKILLS', 'I-SKILLS', 'I-SKILLS', 'I-SKILLS', 'I-SKILLS', 'I-SKILLS', 'I-SKILLS', 'I-SKILLS', 'I-SKILLS', 'I-SKILLS', 'I-SKILLS', 'I-SKILLS', 'I-SKILLS', 'I-SKILLS', 'I-SKILLS', 'I-SKILLS', 'I-SKILLS', 'I-SKILLS', 'I-SKILLS', 'I-SKILLS', 'L-SKILLS'], ['O', 'O', 'O', 'O', 'O', 'O', 'O', 'O', 'B-DESIG', 'L-DESIG', 'B-COMPANY', 'L-COMPANY', 'O', 'O', 'O', 'O', 'O', 'O', 'O', 'O', 'O', 'O', 'O', 'B-COMPANY', 'L-COMPANY', 'O', 'O', 'O', 'O', 'O', 'O', 'O', 'O', 'O', 'O', 'O', 'O', 'O', 'O', 'O', 'O', 'O', 'O', 'O', 'O', 'O'], ['O', 'O', 'O', 'O', 'O', 'O', 'O', 'O', 'O', 'O', 'O', 'O', 'O', 'O', 'O', 'O', 'O', 'O', 'O', 'O', 'O', 'O', 'O', 'O', 'O', 'O', 'O', 'O', 'O', 'O', 'O', 'O', 'O', 'O', 'O', 'O', 'O', 'B-DESIG', 'L-DESIG', 'B-COMPANY', 'L-COMPANY', 'O', 'O', 'O', 'O', 'O', 'O', 'O', 'O', 'O', 'O', 'O', 'O', 'O', 'O', 'O', 'O', 'O', 'O', 'O', 'O', 'O', 'O', 'O', 'O', 'O', 'O', 'O', 'O', 'O', 'O', 'O', 'O', 'O'], ['O', 'O', 'O', 'O', 'O', 'O', 'O', 'O', 'O', 'O', 'O', 'O', 'O', 'O', 'O', 'O', 'O', 'B-COMPANY', 'I-COMPANY', 'L-COMPANY', 'O', 'U-LOC', 'O', 'O', 'O', 'O', 'U-YOE', 'O', 'O', 'O', 'O', 'O', 'O', 'O', 'O', 'O', 'O', 'O', 'O', 'O', 'O', 'O', 'O', 'O', 'O', 'O', 'O', 'O', 'O', 'O', 'O', 'O', 'O', 'O', 'O', 'O', 'O', 'O', 'O', 'O', 'O', 'O', 'O', 'O', 'O', 'O', 'O', 'O', 'O', 'O', 'O'], ['B-NAME', 'L-NAME', 'B-NAME', 'L-NAME', 'O', 'O', 'O', 'O', 'O', 'B-YOE', 'L-YOE', 'O', 'O', 'O', 'B-COMPANY', 'I-COMPANY', 'U-LOC', 'O', 'O', 'O', 'O', 'O', 'O', 'O', 'O', 'O', 'O', 'O', 'O', 'O', 'O', 'O', 'O', 'O', 'O', 'O', 'O', 'O', 'O', 'O', 'O', 'O', 'O', 'O', 'O', 'O', 'O', 'O', 'O', 'O'], ['B-NAME', 'L-NAME', 'B-YOE', 'L-YOE', 'O', 'O', 'O', 'O', 'O', 'O', 'O', 'O', 'O', 'O', 'O', 'O', 'O', 'O'], ['O', 'B-COMPANY', 'L-COMPANY', 'O', 'O', 'O', 'O', 'O', 'O', 'O', 'O', 'O', 'O', 'O', 'O', 'O', 'O', 'O', 'O', 'O', 'O', 'O', 'O', 'O', 'O', 'O', 'O', 'O', 'O', 'O', 'O', 'O', 'O', 'O'], ['O', 'O', 'O', 'O', 'O', 'O', 'O', 'O', 'B-DESIG', 'I-DESIG', 'L-DESIG', 'B-COMPANY', 'L-COMPANY', 'U-LOC', 'O', 'O', 'O', 'O', 'U-GRADYEAR', 'O', 'O', 'O', 'B-DEG', 'I-DEG', 'I-DEG', 'L-DEG', 'B-CLG', 'I-CLG', 'I-CLG', 'I-CLG', 'I-CLG', 'I-CLG', 'I-CLG', 'I-CLG', 'L-CLG', 'O', 'O', 'O', 'O', 'O', 'O', 'O', 'O', 'U-GRADYEAR', 'O', 'B-SKILLS', 'I-SKILLS', 'I-SKILLS', 'I-SKILLS', 'I-SKILLS', 'I-SKILLS', 'I-SKILLS', 'I-SKILLS', 'I-SKILLS', 'I-SKILLS', 'I-SKILLS', 'I-SKILLS', 'I-SKILLS', 'I-SKILLS', 'I-SKILLS', 'I-SKILLS', 'I-SKILLS', 'I-SKILLS', 'I-SKILLS', 'I-SKILLS', 'I-SKILLS', 'I-SKILLS', 'I-SKILLS', 'I-SKILLS', 'I-SKILLS', 'I-SKILLS', 'O', 'O', 'O', 'O', 'O', 'O', 'O', 'O', 'O', 'O', 'O', 'O', 'O', 'O', 'O', 'O', 'O', 'O', 'O', 'O', 'U-GRADYEAR', 'O', 'O', 'O', 'O', 'O', 'O', 'O', 'O', 'O', 'O', 'O', 'O', 'O', 'O', 'O', 'O', 'O', 'O', 'O', 'O', 'O', 'O', 'O', 'O', 'O', 'O', 'O', 'O', 'O', 'O', 'O', 'O', 'O', 'O'], ['O', 'O', 'O', 'O', 'O', 'O', 'O', 'O', 'O', 'O', 'O', 'O', 'O', 'O', 'O', 'O', 'O', 'O', 'O', 'O', 'O', 'O', 'O', 'O', 'O', 'O', 'O', 'O', 'O', 'O', 'O', 'O', 'O', 'O', 'O', 'O', 'O', 'O', 'O', 'O', 'O', 'O', 'O', 'O', 'O', 'U-COMPANY', 'O', 'O', 'O', 'O', 'O', 'O', 'O', 'U-COMPANY', 'O', 'O', 'O', 'O', 'O'], ['O', 'O', 'O', 'O', 'O', 'O', 'O', 'B-LOC', 'L-LOC', 'O', 'O', 'O', 'U-GRADYEAR', 'O', 'O', 'O', 'O', 'O', 'O', 'O', 'B-LOC', 'L-LOC', 'O', 'O', 'O', 'U-GRADYEAR', 'O', 'O', 'O'], ['O', 'B-DESIG', 'I-DESIG', 'B-COMPANY', 'L-COMPANY', 'O', 'O', 'O', 'O', 'O', 'O', 'O', 'O', 'O', 'O', 'O', 'O', 'O', 'O', 'O', 'O', 'O', 'O', 'O', 'O', 'O', 'O', 'O', 'O', 'O', 'O', 'O', 'O', 'O', 'O', 'O', 'O', 'O'], ['O', 'O', 'O', 'O', 'O', 'O', 'O', 'O', 'O', 'O', 'O', 'O', 'O', 'O', 'O', 'U-LOC', 'O', 'O', 'O', 'O', 'O', 'O', 'O', 'O', 'O', 'O', 'B-COMPANY', 'I-COMPANY', 'I-COMPANY', 'I-COMPANY', 'I-COMPANY', 'L-COMPANY', 'O', 'O', 'O', 'O', 'O', 'O', 'O', 'O', 'O', 'O', 'O', 'O', 'O'], ['B-NAME', 'L-NAME', 'U-LOC', 'O', 'U-LOC', 'O', 'O', 'O', 'O', 'O', 'O', 'B-EMAIL', 'O', 'O', 'O', 'O', 'O', 'O', 'O', 'O', 'O', 'O', 'O', 'O', 'O', 'O', 'O'], ['B-NAME', 'L-NAME', 'O', 'O', 'O', 'O', 'O', 'O', 'B-COMPANY', 'I-COMPANY', 'U-LOC', 'O', 'O', 'O', 'O', 'O', 'O', 'O', 'O', 'O', 'B-EMAIL', 'L-EMAIL', 'O', 'O', 'O', 'O', 'O', 'O', 'O', 'O', 'O', 'O', 'O', 'O', 'O', 'O', 'O', 'O', 'O', 'O', 'O', 'O', 'O', 'O', 'O', 'O', 'O', 'O', 'O', 'O', 'O', 'O', 'O', 'O', 'O', 'O', 'O', 'O', 'O', 'O', 'O', 'O', 'O', 'O', 'O', 'O', 'O', 'O', 'O', 'O', 'O', 'O', 'O', 'O', 'O', 'O', 'O', 'O', 'O', 'O', 'O', 'O', 'O', 'O', 'O', 'O', 'O'], ['O', 'O', 'B-DEG', 'I-DEG', 'I-DEG', 'L-DEG', 'B-CLG', 'I-CLG', 'L-CLG', 'U-GRADYEAR', 'B-DEG', 'I-DEG', 'L-DEG', 'B-CLG', 'I-CLG', 'L-CLG', 'O', 'O', 'O', 'O', 'O', 'U-GRADYEAR', 'B-DEG', 'I-DEG', 'I-DEG', 'I-DEG', 'I-DEG', 'I-DEG', 'L-DEG', 'O', 'O', 'B-DEG', 'I-DEG', 'I-DEG', 'I-DEG', 'I-DEG', 'I-DEG', 'I-DEG', 'O', 'O', 'O', 'B-SKILLS', 'I-SKILLS', 'I-SKILLS', 'I-SKILLS', 'I-SKILLS', 'I-SKILLS', 'I-SKILLS', 'I-SKILLS', 'I-SKILLS', 'I-SKILLS', 'I-SKILLS', 'I-SKILLS', 'I-SKILLS', 'I-SKILLS', 'I-SKILLS', 'I-SKILLS', 'I-SKILLS', 'I-SKILLS', 'I-SKILLS', 'I-SKILLS', 'I-SKILLS', 'I-SKILLS', 'I-SKILLS', 'I-SKILLS', 'I-SKILLS', 'I-SKILLS', 'I-SKILLS', 'I-SKILLS', 'I-SKILLS', 'I-SKILLS', 'I-SKILLS', 'I-SKILLS', 'I-SKILLS', 'I-SKILLS', 'I-SKILLS', 'I-SKILLS', 'I-SKILLS', 'I-SKILLS', 'I-SKILLS', 'I-SKILLS', 'I-SKILLS', 'I-SKILLS', 'I-SKILLS', 'I-SKILLS', 'I-SKILLS', 'I-SKILLS', 'I-SKILLS', 'I-SKILLS', 'I-SKILLS', 'I-SKILLS', 'I-SKILLS', 'I-SKILLS', 'I-SKILLS', 'I-SKILLS', 'I-SKILLS', 'I-SKILLS', 'I-SKILLS', 'I-SKILLS', 'I-SKILLS', 'I-SKILLS', 'I-SKILLS', 'I-SKILLS', 'I-SKILLS', 'I-SKILLS', 'I-SKILLS', 'I-SKILLS', 'I-SKILLS', 'I-SKILLS', 'I-SKILLS', 'I-SKILLS', 'I-SKILLS', 'I-SKILLS', 'I-SKILLS', 'I-SKILLS', 'I-SKILLS', 'I-SKILLS', 'I-SKILLS', 'I-SKILLS', 'I-SKILLS', 'I-SKILLS', 'I-SKILLS', 'I-SKILLS', 'I-SKILLS', 'I-SKILLS', 'I-SKILLS', 'I-SKILLS', 'I-SKILLS', 'I-SKILLS', 'I-SKILLS', 'I-SKILLS', 'L-SKILLS', 'O', 'O', 'O', 'O', 'O', 'O', 'O', 'O', 'O', 'O', 'O', 'O', 'O', 'O', 'O'], ['B-NAME', 'L-NAME', 'U-LOC', 'O', 'O', 'O', 'O', 'O', 'O', 'O', 'O', 'O', 'O', 'O', 'O', 'O', 'O', 'O', 'O', 'O', 'O', 'O', 'O', 'O', 'O', 'O', 'O', 'O', 'O', 'O', 'O', 'O', 'O', 'O', 'O'], ['O', 'O', 'O', 'O', 'O', 'O', 'O', 'O', 'O', 'O', 'O', 'O', 'O', 'O', 'O', 'O', 'O', 'O', 'O', 'O', 'O', 'O', 'O', 'O', 'O', 'O', 'O', 'O', 'O', 'O', 'O', 'O', 'O', 'O', 'O', 'O', 'O', 'O', 'O', 'O', 'O', 'O', 'O', 'O', 'O', 'O', 'O', 'O', 'O', 'O', 'O', 'O', 'O', 'O', 'O', 'O', 'O', 'O', 'O', 'O', 'O', 'O', 'O', 'O', 'O', 'O', 'O', 'O', 'O', 'O', 'O', 'O', 'O', 'O', 'O', 'O', 'O', 'O', 'O', 'O', 'O', 'O', 'O', 'O', 'O', 'O', 'O', 'O', 'O', 'O', 'O', 'O', 'O', 'O', 'O', 'O', 'O', 'O', 'O', 'O', 'O', 'O', 'O', 'O', 'O', 'O', 'O', 'O', 'O', 'O', 'O', 'O', 'O', 'O', 'O', 'O', 'O', 'O', 'O', 'O', 'O', 'O', 'O', 'O', 'O', 'O', 'O', 'O', 'O', 'O', 'O', 'O', 'O', 'O', 'O'], ['O', 'O', 'O', 'O', 'O', 'O', 'O', 'U-COMPANY', 'O', 'O', 'O', 'U-COMPANY', 'O', 'O', 'O', 'O', 'O', 'O', 'O', 'O', 'O', 'O', 'O', 'O', 'O', 'O'], ['B-NAME', 'L-NAME', 'O', 'B-DESIG', 'I-DESIG', 'I-DESIG', 'I-DESIG', 'I-DESIG', 'I-DESIG', 'I-DESIG', 'I-DESIG', 'L-DESIG', 'O', 'B-COMPANY', 'L-COMPANY', 'U-LOC', 'O', 'O', 'O', 'O', 'O', 'O', 'O', 'O', 'B-EMAIL', 'O', 'O', 'O', 'B-DESIG', 'I-DESIG', 'I-DESIG', 'I-DESIG', 'I-DESIG', 'I-DESIG', 'I-DESIG', 'I-DESIG', 'L-DESIG', 'B-COMPANY', 'L-COMPANY', 'O', 'O', 'O', 'O', 'O', 'O', 'O', 'O', 'O', 'O', 'O', 'O', 'O', 'O', 'O', 'O', 'O', 'O', 'O', 'O', 'O', 'O', 'O', 'O', 'O', 'O', 'O', 'O', 'O', 'O', 'O', 'O', 'O', 'O', 'O', 'O', 'O', 'O', 'O', 'O', 'O', 'O', 'O', 'O', 'O', 'O', 'O', 'O', 'O', 'O', 'O', 'O', 'O', 'O', 'O', 'O', 'O', 'O', 'O'], ['O', 'O', 'O', 'O', 'O', 'O', 'O', 'O', 'O', 'O', 'B-CLG', 'I-CLG', 'I-CLG', 'L-CLG', 'O', 'O', 'O', 'O', 'O', 'O', 'O', 'O', 'O', 'O', 'O', 'O', 'O', 'O', 'O', 'O', 'O', 'O', 'O', 'O', 'O', 'O', 'O', 'O', 'O', 'O', 'O', 'O', 'O', 'O', 'O', 'O', 'O', 'O', 'O', 'O', 'O', 'O', 'O', 'O', 'O', 'O', 'O', 'O', 'O', 'O'], ['O', 'O', 'O', 'O', 'O', 'O', 'O', 'O', 'O', 'O', 'O', 'B-DESIG', 'I-DESIG', 'L-DESIG', 'O', 'B-CLG', 'I-CLG', 'L-CLG', 'O', 'O', 'O', 'O', 'O', 'O', 'O', 'O', 'O', 'O', 'O', 'O', 'O', 'O', 'O', 'O', 'O', 'O', 'B-DESIG', 'I-DESIG', 'L-DESIG', 'O', 'O', 'O', 'O', 'O', 'O', 'O', 'O', 'O', 'O', 'O', 'O', 'O', 'U-DEG', 'B-CLG', 'L-CLG', 'O', 'O', 'O', 'O', 'O', 'O', 'U-DEG', 'B-CLG', 'I-CLG', 'O', 'O', 'O', 'B-SKILLS', 'I-SKILLS', 'I-SKILLS', 'I-SKILLS', 'I-SKILLS', 'I-SKILLS', 'I-SKILLS', 'I-SKILLS', 'I-SKILLS', 'I-SKILLS', 'I-SKILLS', 'I-SKILLS', 'I-SKILLS', 'I-SKILLS', 'I-SKILLS', 'I-SKILLS', 'I-SKILLS', 'I-SKILLS', 'I-SKILLS', 'I-SKILLS', 'I-SKILLS', 'I-SKILLS', 'I-SKILLS', 'I-SKILLS', 'I-SKILLS', 'I-SKILLS', 'I-SKILLS', 'I-SKILLS', 'I-SKILLS', 'I-SKILLS', 'I-SKILLS', 'I-SKILLS', 'I-SKILLS', 'I-SKILLS', 'I-SKILLS', 'O', 'O', 'O', 'B-SKILLS', 'I-SKILLS', 'I-SKILLS', 'I-SKILLS', 'I-SKILLS', 'I-SKILLS', 'I-SKILLS', 'I-SKILLS', 'I-SKILLS', 'I-SKILLS', 'I-SKILLS', 'I-SKILLS', 'I-SKILLS', 'I-SKILLS', 'I-SKILLS', 'I-SKILLS', 'I-SKILLS', 'I-SKILLS', 'I-SKILLS', 'I-SKILLS', 'I-SKILLS', 'I-SKILLS', 'I-SKILLS', 'I-SKILLS', 'I-SKILLS', 'I-SKILLS', 'I-SKILLS', 'I-SKILLS', 'I-SKILLS', 'I-SKILLS', 'I-SKILLS', 'I-SKILLS', 'I-SKILLS', 'I-SKILLS', 'I-SKILLS', 'I-SKILLS', 'I-SKILLS', 'I-SKILLS', 'I-SKILLS', 'I-SKILLS', 'I-SKILLS', 'I-SKILLS', 'I-SKILLS', 'I-SKILLS', 'I-SKILLS', 'I-SKILLS', 'I-SKILLS', 'I-SKILLS', 'I-SKILLS', 'I-SKILLS', 'I-SKILLS', 'I-SKILLS', 'I-SKILLS', 'I-SKILLS', 'I-SKILLS', 'I-SKILLS', 'I-SKILLS', 'I-SKILLS', 'I-SKILLS', 'I-SKILLS', 'I-SKILLS', 'I-SKILLS', 'I-SKILLS', 'I-SKILLS', 'I-SKILLS', 'I-SKILLS', 'I-SKILLS', 'I-SKILLS', 'I-SKILLS', 'I-SKILLS', 'I-SKILLS', 'I-SKILLS', 'I-SKILLS', 'I-SKILLS', 'I-SKILLS', 'I-SKILLS', 'I-SKILLS', 'I-SKILLS', 'I-SKILLS', 'L-SKILLS'], ['B-NAME', 'L-NAME', 'B-DESIG', 'I-DESIG', 'I-DESIG', 'I-DESIG', 'I-DESIG', 'U-LOC', 'O', 'O', 'O', 'O', 'O', 'O', 'O', 'O', 'O', 'O', 'O', 'O', 'O', 'O', 'O', 'O', 'O', 'O', 'O', 'O', 'O', 'O', 'O', 'O', 'O', 'O', 'O', 'O', 'O', 'O'], ['B-NAME', 'L-NAME', 'B-COMPANY', 'L-COMPANY', 'O', 'O', 'O', 'O', 'O', 'O', 'O', 'O', 'O', 'O', 'O', 'O', 'O', 'O', 'O', 'O', 'O', 'O', 'O', 'O', 'O', 'O', 'O', 'O', 'O', 'O', 'O', 'O', 'O', 'O', 'O', 'O', 'O', 'O', 'O', 'O', 'O', 'O', 'O', 'O'], ['O', 'O', 'O', 'O', 'O', 'O', 'O', 'O', 'O', 'O', 'O', 'O', 'O', 'O', 'O', 'O', 'O', 'O', 'O', 'O', 'O', 'O', 'O', 'O', 'O', 'O', 'O', 'O', 'O', 'O', 'O', 'O', 'O', 'O', 'O', 'O', 'O', 'O', 'O', 'O', 'O', 'O', 'O', 'O', 'O', 'U-COMPANY', 'O', 'O', 'O', 'O', 'O', 'O', 'O', 'O', 'O', 'O', 'O', 'O', 'O', 'O', 'O', 'U-COMPANY', 'O', 'O', 'O', 'O', 'O', 'O', 'O', 'O', 'O', 'O', 'O', 'O', 'O', 'O', 'O', 'O', 'O', 'O', 'O', 'O', 'O', 'O', 'O', 'O', 'O', 'O', 'O', 'O', 'O', 'O', 'O', 'O', 'O', 'O', 'O', 'O', 'O', 'O', 'O', 'O', 'O', 'O', 'O', 'O', 'O', 'O', 'O', 'O', 'O', 'O'], ['O', 'O', 'O', 'U-LOC', 'O', 'O', 'B-DESIG', 'L-DESIG', 'U-COMPANY', 'O', 'O', 'O', 'O', 'O', 'O', 'O', 'O', 'O', 'O', 'O', 'U-COMPANY', 'U-LOC', 'O', 'O', 'O', 'O', 'O', 'O', 'O', 'O', 'O', 'O', 'O', 'O', 'O', 'O', 'O', 'O', 'O', 'O', 'O', 'O', 'O', 'O', 'O', 'O', 'O', 'O', 'O', 'O', 'O'], ['O', 'U-LOC', 'O', 'O', 'O', 'O', 'O', 'O', 'O', 'O', 'U-EMAIL', 'O', 'O', 'O', 'U-COMPANY', 'O', 'O', 'O', 'O', 'O', 'O', 'O', 'O', 'O', 'O', 'O', 'O', 'O', 'U-LOC', 'O', 'O', 'O', 'O', 'O', 'O', 'O'], ['O', 'O', 'O', 'O', 'O', 'O', 'O', 'O', 'O', 'O', 'O', 'O', 'O', 'O', 'O', 'O', 'O', 'O', 'O', 'O', 'O', 'O', 'O', 'O', 'O', 'O', 'O', 'O', 'O', 'O', 'O', 'O', 'O', 'O', 'O', 'O', 'O', 'O', 'O', 'O', 'O', 'O', 'O', 'O', 'O', 'O', 'O', 'O', 'O', 'O', 'B-DEG', 'I-DEG', 'I-DEG', 'I-DEG', 'I-DEG', 'B-CLG', 'I-CLG', 'I-CLG', 'L-CLG', 'O', 'O', 'O', 'O', 'O', 'U-GRADYEAR', 'O', 'B-SKILLS', 'I-SKILLS', 'I-SKILLS', 'I-SKILLS', 'I-SKILLS', 'I-SKILLS', 'I-SKILLS', 'I-SKILLS', 'I-SKILLS', 'I-SKILLS', 'I-SKILLS', 'I-SKILLS', 'I-SKILLS', 'I-SKILLS', 'I-SKILLS', 'I-SKILLS', 'I-SKILLS', 'I-SKILLS', 'I-SKILLS', 'I-SKILLS', 'I-SKILLS', 'I-SKILLS', 'I-SKILLS', 'I-SKILLS', 'I-SKILLS', 'I-SKILLS', 'I-SKILLS', 'I-SKILLS', 'I-SKILLS', 'I-SKILLS', 'I-SKILLS', 'I-SKILLS', 'I-SKILLS', 'I-SKILLS', 'I-SKILLS', 'I-SKILLS', 'I-SKILLS', 'I-SKILLS', 'I-SKILLS', 'L-SKILLS', 'O', 'O', 'O', 'O', 'O', 'O', 'O', 'B-SKILLS', 'I-SKILLS', 'I-SKILLS', 'I-SKILLS', 'I-SKILLS', 'I-SKILLS', 'I-SKILLS', 'I-SKILLS', 'I-SKILLS', 'I-SKILLS', 'I-SKILLS', 'I-SKILLS', 'I-SKILLS', 'I-SKILLS', 'I-SKILLS', 'I-SKILLS', 'I-SKILLS', 'I-SKILLS', 'I-SKILLS', 'I-SKILLS', 'I-SKILLS', 'I-SKILLS', 'I-SKILLS', 'I-SKILLS', 'I-SKILLS', 'I-SKILLS', 'I-SKILLS', 'I-SKILLS', 'I-SKILLS', 'I-SKILLS', 'I-SKILLS', 'I-SKILLS', 'I-SKILLS', 'I-SKILLS', 'I-SKILLS', 'I-SKILLS', 'I-SKILLS', 'I-SKILLS', 'I-SKILLS', 'I-SKILLS', 'I-SKILLS', 'I-SKILLS', 'I-SKILLS', 'I-SKILLS', 'I-SKILLS', 'I-SKILLS', 'I-SKILLS', 'I-SKILLS', 'I-SKILLS', 'I-SKILLS', 'I-SKILLS', 'I-SKILLS', 'I-SKILLS', 'I-SKILLS', 'I-SKILLS', 'I-SKILLS', 'I-SKILLS', 'I-SKILLS', 'I-SKILLS', 'I-SKILLS', 'I-SKILLS', 'I-SKILLS', 'I-SKILLS', 'I-SKILLS', 'I-SKILLS', 'I-SKILLS', 'I-SKILLS', 'I-SKILLS', 'I-SKILLS', 'I-SKILLS', 'I-SKILLS', 'I-SKILLS', 'I-SKILLS', 'I-SKILLS', 'I-SKILLS', 'I-SKILLS', 'I-SKILLS', 'I-SKILLS', 'I-SKILLS', 'I-SKILLS', 'I-SKILLS', 'I-SKILLS', 'I-SKILLS', 'I-SKILLS', 'I-SKILLS', 'I-SKILLS', 'I-SKILLS', 'I-SKILLS', 'I-SKILLS', 'I-SKILLS', 'I-SKILLS', 'I-SKILLS', 'I-SKILLS', 'I-SKILLS', 'I-SKILLS', 'I-SKILLS', 'I-SKILLS', 'I-SKILLS', 'I-SKILLS', 'I-SKILLS', 'I-SKILLS', 'I-SKILLS', 'I-SKILLS', 'I-SKILLS', 'I-SKILLS', 'I-SKILLS', 'I-SKILLS', 'I-SKILLS', 'I-SKILLS', 'I-SKILLS', 'I-SKILLS', 'I-SKILLS', 'I-SKILLS', 'I-SKILLS', 'I-SKILLS', 'I-SKILLS', 'I-SKILLS', 'I-SKILLS', 'I-SKILLS', 'I-SKILLS', 'I-SKILLS', 'I-SKILLS', 'I-SKILLS', 'I-SKILLS', 'I-SKILLS', 'I-SKILLS', 'I-SKILLS', 'I-SKILLS', 'I-SKILLS', 'I-SKILLS', 'I-SKILLS', 'I-SKILLS', 'I-SKILLS', 'I-SKILLS', 'L-SKILLS'], ['O', 'O', 'O', 'O', 'B-DESIG', 'L-DESIG', 'O', 'U-COMPANY', 'O', 'O', 'O', 'O', 'O', 'O', 'O', 'O', 'O', 'O', 'O', 'O', 'O', 'U-COMPANY', 'O', 'O', 'O', 'O', 'O'], ['O', 'B-DESIG', 'L-DESIG', 'B-COMPANY', 'L-COMPANY', 'O', 'U-LOC', 'O', 'O', 'O', 'O', 'O', 'O', 'O', 'O', 'O', 'O', 'O', 'O', 'O', 'O', 'O', 'O', 'O', 'O', 'O', 'O', 'O', 'O', 'O', 'O', 'O', 'O', 'O', 'O', 'O', 'O', 'O', 'O', 'O'], ['O', 'O', 'O', 'O', 'O', 'O', 'O', 'O', 'O', 'O', 'O', 'O', 'O', 'O', 'U-COMPANY', 'O', 'O', 'O', 'O', 'O', 'O', 'O', 'O', 'O', 'O', 'U-COMPANY', 'O', 'O', 'O'], ['O', 'O', 'O', 'O', 'O', 'O', 'O', 'O', 'O', 'O', 'O', 'O', 'O', 'O', 'O', 'O', 'O', 'O', 'O', 'O', 'O', 'U-GRADYEAR', 'O', 'O', 'O', 'O', 'O', 'O', 'O', 'O', 'O', 'O', 'O', 'O', 'O', 'O', 'O', 'O', 'O', 'O', 'O', 'O', 'O', 'O', 'O', 'O', 'O', 'O', 'O', 'O', 'O', 'O', 'O', 'O', 'O', 'O', 'O', 'O', 'O', 'O'], ['O', 'O', 'O', 'O', 'O', 'O', 'O', 'O', 'O', 'O', 'O', 'O', 'O', 'O', 'O', 'O', 'O', 'O', 'O', 'O', 'O', 'O', 'O', 'O', 'O', 'O', 'O', 'O', 'O', 'U-DEG', 'B-DEG', 'I-DEG', 'L-DEG', 'O', 'B-DEG', 'I-DEG', 'L-DEG', 'O', 'O', 'O', 'O', 'O', 'O', 'O', 'O', 'O', 'L-DEG', 'O', 'B-DEG', 'I-DEG', 'L-DEG', 'O', 'O', 'O', 'O', 'O', 'O', 'O', 'O', 'O', 'O', 'O', 'O', 'O', 'O', 'O', 'O', 'O', 'O', 'O', 'U-DEG', 'B-CLG', 'I-CLG', 'I-CLG', 'L-CLG', 'O', 'O', 'O', 'O', 'O', 'O', 'O', 'O', 'O', 'O', 'B-SKILLS', 'I-SKILLS', 'I-SKILLS', 'I-SKILLS', 'I-SKILLS', 'I-SKILLS', 'I-SKILLS', 'I-SKILLS', 'I-SKILLS', 'I-SKILLS', 'I-SKILLS', 'I-SKILLS', 'I-SKILLS', 'I-SKILLS', 'I-SKILLS', 'I-SKILLS', 'I-SKILLS', 'I-SKILLS', 'I-SKILLS', 'I-SKILLS', 'I-SKILLS', 'I-SKILLS', 'I-SKILLS', 'I-SKILLS', 'I-SKILLS', 'I-SKILLS', 'I-SKILLS', 'I-SKILLS', 'I-SKILLS', 'I-SKILLS', 'L-SKILLS', 'O', 'O', 'O', 'O', 'O', 'B-SKILLS', 'I-SKILLS', 'I-SKILLS', 'I-SKILLS', 'I-SKILLS', 'I-SKILLS', 'I-SKILLS', 'I-SKILLS', 'I-SKILLS', 'I-SKILLS', 'I-SKILLS', 'I-SKILLS', 'I-SKILLS', 'I-SKILLS', 'I-SKILLS', 'I-SKILLS', 'I-SKILLS', 'I-SKILLS', 'I-SKILLS', 'I-SKILLS', 'I-SKILLS', 'I-SKILLS', 'I-SKILLS', 'I-SKILLS', 'L-SKILLS'], ['O', 'O', 'O', 'O', 'O', 'O', 'O', 'O', 'O', 'B-DEG', 'I-DEG', 'I-DEG', 'I-DEG', 'I-DEG', 'I-DEG', 'I-DEG', 'I-DEG', 'L-DEG', 'B-CLG', 'L-CLG', 'O', 'O', 'O', 'O', 'O', 'O', 'U-YOE', 'B-DEG', 'I-DEG', 'I-DEG', 'I-DEG', 'I-DEG', 'I-DEG', 'B-CLG', 'L-CLG', 'O', 'O', 'O', 'O', 'O', 'U-GRADYEAR', 'O', 'O', 'O', 'O', 'O', 'O', 'O', 'O', 'O', 'O', 'O', 'O', 'O', 'B-SKILLS', 'I-SKILLS', 'I-SKILLS', 'I-SKILLS', 'I-SKILLS', 'I-SKILLS', 'I-SKILLS', 'I-SKILLS', 'I-SKILLS', 'I-SKILLS', 'I-SKILLS', 'I-SKILLS', 'I-SKILLS', 'I-SKILLS', 'I-SKILLS', 'I-SKILLS', 'I-SKILLS', 'I-SKILLS', 'L-SKILLS', 'O', 'O', 'O', 'O', 'O', 'O', 'O', 'O', 'O', 'O', 'O', 'O', 'O', 'O', 'O', 'O', 'O', 'O', 'O', 'O', 'O', 'O', 'O', 'O', 'O', 'O', 'O', 'O', 'O', 'O', 'O', 'O', 'O', 'O', 'O', 'O', 'O', 'O', 'O', 'O', 'O', 'O', 'O', 'O'], ['O', 'O', 'O', 'O', 'O', 'O', 'O', 'O', 'O', 'O', 'O', 'O', 'O', 'O', 'O', 'O', 'O', 'O', 'O', 'U-DESIG', 'B-COMPANY', 'L-COMPANY', 'O', 'O', 'O', 'O', 'O', 'O', 'O', 'O', 'O', 'O', 'O', 'O', 'O', 'O', 'O', 'O'], ['O', 'O', 'O', 'O', 'O', 'O', 'O', 'O', 'O', 'O', 'O', 'O', 'O', 'O', 'O', 'O', 'O', 'O', 'O', 'O', 'O', 'O', 'O', 'O', 'U-LOC'], ['O', 'O', 'B-SKILLS', 'I-SKILLS', 'I-SKILLS', 'I-SKILLS', 'I-SKILLS', 'I-SKILLS', 'I-SKILLS', 'I-SKILLS', 'I-SKILLS', 'I-SKILLS', 'I-SKILLS', 'I-SKILLS', 'I-SKILLS', 'I-SKILLS', 'I-SKILLS', 'I-SKILLS', 'I-SKILLS', 'I-SKILLS', 'I-SKILLS', 'I-SKILLS', 'I-SKILLS', 'I-SKILLS', 'I-SKILLS', 'I-SKILLS', 'I-SKILLS', 'I-SKILLS', 'I-SKILLS', 'I-SKILLS', 'I-SKILLS', 'I-SKILLS', 'I-SKILLS', 'I-SKILLS', 'I-SKILLS', 'I-SKILLS', 'I-SKILLS', 'L-SKILLS', 'O', 'O', 'O', 'O', 'O', 'B-SKILLS', 'I-SKILLS', 'I-SKILLS', 'I-SKILLS', 'I-SKILLS', 'I-SKILLS', 'I-SKILLS', 'I-SKILLS', 'I-SKILLS', 'I-SKILLS', 'I-SKILLS', 'I-SKILLS', 'I-SKILLS', 'I-SKILLS', 'I-SKILLS', 'I-SKILLS', 'I-SKILLS', 'I-SKILLS', 'I-SKILLS', 'I-SKILLS', 'I-SKILLS', 'I-SKILLS', 'I-SKILLS', 'I-SKILLS', 'I-SKILLS', 'I-SKILLS', 'I-SKILLS', 'I-SKILLS', 'I-SKILLS', 'I-SKILLS', 'I-SKILLS', 'I-SKILLS', 'I-SKILLS', 'I-SKILLS', 'I-SKILLS', 'I-SKILLS', 'I-SKILLS', 'I-SKILLS', 'I-SKILLS', 'I-SKILLS', 'I-SKILLS', 'I-SKILLS', 'I-SKILLS', 'I-SKILLS', 'I-SKILLS', 'I-SKILLS', 'I-SKILLS', 'I-SKILLS', 'I-SKILLS', 'I-SKILLS', 'I-SKILLS', 'I-SKILLS', 'I-SKILLS', 'I-SKILLS', 'I-SKILLS', 'I-SKILLS', 'I-SKILLS', 'I-SKILLS', 'I-SKILLS', 'I-SKILLS', 'I-SKILLS', 'I-SKILLS', 'I-SKILLS', 'I-SKILLS', 'I-SKILLS', 'I-SKILLS', 'I-SKILLS', 'I-SKILLS', 'I-SKILLS', 'I-SKILLS', 'I-SKILLS', 'I-SKILLS', 'I-SKILLS', 'L-SKILLS', 'O', 'O', 'U-GRADYEAR', 'B-DEG', 'I-DEG', 'I-DEG', 'L-DEG', 'B-CLG', 'I-CLG', 'L-CLG'], ['O', 'O', 'B-DEG', 'I-DEG', 'I-DEG', 'I-DEG', 'L-DEG', 'B-CLG', 'I-CLG', 'L-CLG', 'O', 'O', 'O', 'O', 'O', 'O', 'B-CLG', 'I-CLG', 'I-CLG', 'I-CLG', 'L-CLG', 'O', 'U-LOC', 'O', 'O', 'O', 'O', 'O', 'B-CLG', 'I-CLG', 'I-CLG', 'I-CLG', 'I-CLG', 'O', 'O', 'O', 'O', 'B-SKILLS', 'I-SKILLS', 'I-SKILLS', 'I-SKILLS', 'I-SKILLS', 'I-SKILLS', 'I-SKILLS', 'I-SKILLS', 'I-SKILLS', 'I-SKILLS', 'I-SKILLS', 'I-SKILLS', 'I-SKILLS', 'I-SKILLS', 'I-SKILLS', 'I-SKILLS', 'I-SKILLS', 'I-SKILLS', 'I-SKILLS', 'I-SKILLS', 'I-SKILLS', 'I-SKILLS', 'I-SKILLS', 'I-SKILLS', 'I-SKILLS', 'I-SKILLS', 'I-SKILLS', 'I-SKILLS', 'I-SKILLS', 'I-SKILLS', 'I-SKILLS', 'I-SKILLS', 'I-SKILLS', 'I-SKILLS', 'I-SKILLS', 'I-SKILLS', 'I-SKILLS', 'I-SKILLS', 'I-SKILLS', 'I-SKILLS', 'I-SKILLS', 'I-SKILLS', 'I-SKILLS', 'I-SKILLS', 'I-SKILLS', 'I-SKILLS', 'O', 'O', 'O', 'O', 'O', 'O'], ['O', 'B-COMPANY', 'L-COMPANY', 'O', 'O', 'O', 'O', 'O', 'O', 'O', 'O', 'O', 'O', 'O', 'O', 'O', 'B-COMPANY', 'L-COMPANY', 'O', 'O', 'O', 'O', 'O', 'O', 'O', 'O', 'O', 'O', 'O', 'O', 'U-LOC', 'O', 'O', 'O', 'O', 'O', 'O', 'O', 'O', 'O', 'O', 'O', 'O', 'O', 'O', 'O', 'O', 'O', 'B-COMPANY', 'L-COMPANY', 'O', 'O', 'O', 'O', 'O', 'O', 'O', 'O', 'O', 'O', 'O', 'O', 'U-LOC', 'O', 'O', 'O', 'O', 'O', 'O', 'O', 'O', 'O', 'O', 'O', 'O', 'O', 'O', 'O', 'O', 'O', 'B-COMPANY', 'L-COMPANY', 'O', 'O', 'O', 'O', 'O', 'O', 'O', 'O', 'O', 'O', 'B-COMPANY', 'L-COMPANY', 'O', 'O', 'O', 'O', 'O', 'O', 'O', 'O', 'O', 'O', 'O', 'O', 'U-LOC', 'O', 'O', 'O', 'O', 'O', 'O', 'O', 'O', 'O', 'O', 'O', 'O', 'O', 'O', 'O', 'O', 'O', 'O', 'B-COMPANY', 'I-COMPANY', 'I-COMPANY', 'O', 'O', 'O', 'O'], ['B-NAME', 'L-NAME', 'B-DESIG', 'I-DESIG', 'L-DESIG', 'U-LOC', 'O', 'O', 'O', 'O', 'O', 'O', 'O', 'O', 'U-EMAIL', 'O', 'O', 'O', 'O', 'O', 'O', 'O', 'B-DESIG', 'I-DESIG', 'L-DESIG', 'U-COMPANY', 'O', 'O', 'O', 'O', 'O', 'O', 'O', 'O', 'O', 'O', 'O', 'O', 'O', 'O', 'O', 'O', 'U-COMPANY', 'O', 'O', 'O'], ['B-NAME', 'L-NAME', 'B-DESIG', 'I-DESIG', 'L-DESIG', 'O', 'O', 'O', 'O', 'O', 'O', 'O', 'B-DEG', 'I-DEG', 'I-DEG', 'L-DEG'], ['O', 'O', 'B-DEG', 'I-DEG', 'I-DEG', 'I-DEG', 'I-DEG', 'L-DEG', 'B-CLG', 'I-CLG', 'L-CLG', 'U-GRADYEAR', 'O', 'U-GRADYEAR', 'B-DEG', 'I-DEG', 'I-DEG', 'I-DEG', 'I-DEG', 'B-DEG', 'I-DEG', 'I-DEG', 'L-DEG', 'O', 'U-LOC', 'O', 'O', 'O', 'O', 'U-GRADYEAR', 'O', 'O', 'O', 'O', 'O', 'O', 'O', 'B-GRADYEAR', 'O', 'B-SKILLS', 'I-SKILLS', 'I-SKILLS', 'I-SKILLS', 'I-SKILLS', 'I-SKILLS', 'I-SKILLS', 'I-SKILLS', 'I-SKILLS', 'I-SKILLS', 'I-SKILLS', 'I-SKILLS', 'I-SKILLS', 'I-SKILLS', 'I-SKILLS', 'I-SKILLS', 'I-SKILLS', 'I-SKILLS', 'I-SKILLS', 'I-SKILLS', 'I-SKILLS', 'I-SKILLS', 'I-SKILLS', 'I-SKILLS', 'I-SKILLS', 'I-SKILLS', 'I-SKILLS', 'I-SKILLS', 'O', 'O', 'O', 'O', 'O', 'O', 'O', 'O', 'O', 'O', 'O', 'O', 'O', 'O', 'O', 'O', 'O'], ['B-NAME', 'L-NAME', 'B-DESIG', 'I-DESIG', 'I-DESIG', 'I-DESIG', 'I-DESIG', 'L-DESIG', 'O', 'O', 'U-LOC', 'O', 'O', 'O', 'O', 'O', 'O', 'O', 'O', 'B-EMAIL', 'I-EMAIL', 'O', 'O', 'O', 'O', 'O', 'O', 'O', 'O', 'O', 'O', 'O', 'O', 'O', 'O'], ['O', 'O', 'O', 'O', 'O', 'O', 'O', 'O', 'B-DESIG', 'I-DESIG', 'I-DESIG', 'O', 'O', 'O', 'O', 'U-LOC', 'O', 'O', 'O', 'O', 'O', 'O', 'O', 'O', 'O', 'O', 'O', 'O', 'O', 'O', 'O'], ['B-NAME', 'L-NAME', 'U-LOC', 'O', 'O', 'O', 'O', 'O', 'O', 'O', 'O', 'U-EMAIL', 'O', 'O', 'O', 'O', 'O', 'O', 'O', 'O', 'O', 'O', 'O', 'O', 'O', 'O', 'O', 'O', 'O', 'O', 'O', 'O', 'O', 'O', 'O', 'O', 'O', 'O', 'O', 'O', 'O', 'O', 'O', 'O', 'O', 'O', 'O', 'O', 'O', 'O', 'O', 'O', 'O'], ['O', 'O', 'O', 'B-DESIG', 'I-DESIG', 'L-DESIG', 'B-COMPANY', 'L-COMPANY', 'O', 'O', 'O', 'O', 'O', 'O', 'O', 'O', 'O', 'O', 'O', 'O', 'O', 'O', 'O', 'O', 'O', 'O', 'O', 'O', 'O', 'O', 'O'], ['O', 'O', 'O', 'O', 'O', 'O', 'O', 'O', 'O', 'O', 'O', 'O', 'O', 'O', 'O', 'O', 'B-DESIG', 'I-DESIG', 'L-DESIG', 'B-COMPANY', 'L-COMPANY', 'O', 'U-LOC', 'O', 'O', 'O', 'O', 'O', 'O', 'O', 'O', 'O', 'O', 'O', 'O', 'O', 'O', 'O', 'O', 'O', 'O', 'O', 'O', 'O'], ['O', 'O', 'O', 'O', 'O', 'O', 'O', 'O', 'U-SKILLS', 'O'], ['B-NAME', 'L-NAME', 'B-DESIG', 'I-DESIG', 'L-DESIG', 'O', 'U-COMPANY', 'O', 'U-LOC', 'O', 'O', 'O', 'O', 'O', 'O', 'O', 'O', 'U-EMAIL', 'O', 'O', 'O', 'O', 'O', 'O', 'O', 'B-DESIG', 'I-DESIG', 'L-DESIG', 'U-COMPANY', 'O', 'O', 'O', 'O', 'O', 'O', 'O', 'O', 'O', 'O', 'O', 'O', 'O', 'O', 'O', 'O', 'O', 'O', 'O', 'O', 'O', 'O', 'O', 'O', 'O', 'O', 'O', 'O', 'O', 'O', 'O', 'O', 'O', 'O', 'O', 'O', 'O', 'O', 'O', 'O', 'O', 'O', 'O', 'O', 'O', 'O', 'O', 'O', 'O', 'O', 'O', 'O', 'O', 'O', 'O', 'O', 'O', 'O', 'O', 'O', 'O', 'O', 'O', 'O', 'O', 'O', 'O', 'O', 'O', 'O', 'O', 'O', 'O', 'O', 'O', 'O', 'O', 'O', 'O', 'O', 'O', 'O', 'O', 'O', 'O', 'O', 'O', 'O', 'O', 'O', 'O', 'O', 'O', 'O', 'O', 'O', 'O', 'O', 'O', 'O', 'O', 'O', 'O', 'O', 'O', 'O', 'O', 'O', 'O', 'O', 'O', 'O', 'O', 'O', 'O', 'O', 'O', 'O', 'O', 'O', 'O', 'O', 'O', 'O', 'O', 'O', 'O', 'O', 'O', 'O', 'O', 'O', 'O', 'O', 'O', 'O', 'O', 'O', 'O', 'O', 'O', 'O', 'O', 'O', 'O', 'O', 'O', 'O', 'O', 'O', 'O', 'O', 'O', 'O', 'O', 'O', 'O', 'B-DESIG', 'I-DESIG', 'L-DESIG', 'O', 'O', 'O', 'O', 'O', 'O', 'O', 'O', 'O', 'O', 'O', 'O', 'O', 'O', 'O', 'O', 'O', 'O', 'O', 'O', 'O', 'O', 'O', 'O', 'O', 'O', 'O', 'O', 'O', 'O', 'O', 'O', 'O', 'O', 'O', 'O', 'O', 'O', 'O', 'O', 'O', 'O', 'O', 'O', 'O', 'O', 'O', 'O', 'O', 'O', 'O', 'O', 'O', 'O', 'O', 'O', 'O', 'O', 'O', 'O', 'O', 'O', 'O', 'O', 'O', 'O', 'O', 'O', 'O', 'O', 'O', 'O', 'O', 'O', 'O', 'O', 'O', 'O', 'O', 'O', 'O', 'O', 'O', 'O', 'O', 'O', 'O', 'O', 'O', 'O', 'O', 'O', 'O', 'O', 'O', 'O', 'O', 'O', 'O', 'O', 'O', 'O', 'O', 'O', 'O', 'O', 'O', 'O', 'O', 'O', 'O', 'O', 'O', 'O', 'O', 'O', 'O', 'O', 'O', 'O', 'O', 'O', 'O', 'O', 'O', 'O', 'O', 'O', 'O', 'O', 'O', 'O', 'O', 'O', 'O', 'O', 'O', 'O', 'O', 'O', 'O', 'O', 'O', 'O', 'O', 'O', 'O', 'O', 'O', 'O', 'O', 'O', 'O', 'O', 'O', 'O', 'B-DESIG', 'I-DESIG', 'L-DESIG', 'O', 'O', 'O', 'O', 'O', 'O', 'O', 'O', 'O', 'O', 'O', 'O', 'O', 'O', 'O', 'O', 'O', 'O', 'O', 'O', 'O', 'O', 'O', 'O', 'O', 'O', 'O', 'O', 'O', 'O', 'O', 'O', 'O', 'O', 'O', 'O', 'O', 'O', 'O', 'O', 'O', 'O', 'O', 'O', 'O', 'O', 'O', 'O', 'O', 'O', 'O', 'O', 'O', 'O', 'O', 'O', 'O', 'O', 'O', 'O', 'O', 'O', 'O', 'O', 'O', 'O', 'O', 'O', 'O', 'O', 'O', 'O', 'O', 'O'], ['B-NAME', 'L-NAME', 'O', 'O', 'O', 'O', 'O', 'U-LOC', 'O', 'O', 'O', 'O', 'O', 'O', 'O', 'O', 'U-EMAIL', 'O', 'O', 'O', 'O', 'O', 'O', 'O', 'O', 'O', 'O'], ['O', 'O', 'O', 'U-LOC', 'O', 'O', 'O', 'O'], ['O', 'O', 'O', 'O', 'O', 'U-COMPANY', 'O', 'O', 'O', 'O', 'O', 'O', 'O', 'O', 'O'], ['O', 'O', 'O', 'O', 'U-GRADYEAR', 'O', 'O', 'O'], ['O', 'O', 'O', 'O', 'O', 'U-COMPANY', 'O', 'O', 'O', 'O', 'O', 'O', 'O', 'O', 'O', 'O', 'O', 'O', 'O', 'O', 'O', 'O', 'O', 'O', 'O', 'O', 'O', 'O', 'O', 'O', 'O', 'O', 'O', 'O', 'B-DESIG', 'I-DESIG', 'I-DESIG', 'I-DESIG', 'I-DESIG', 'I-DESIG', 'I-DESIG', 'I-DESIG', 'I-DESIG', 'I-DESIG', 'I-DESIG', 'I-DESIG', 'L-DESIG', 'U-COMPANY', 'O', 'O', 'O', 'U-LOC', 'O', 'O', 'O', 'O', 'O', 'O', 'O', 'O', 'O', 'U-COMPANY', 'O', 'O', 'O', 'O', 'O', 'O', 'O', 'O', 'U-COMPANY', 'O', 'O', 'O', 'O', 'O', 'O', 'O', 'O', 'O', 'O', 'B-DESIG', 'I-DESIG', 'I-DESIG', 'I-DESIG', 'I-DESIG', 'I-DESIG', 'I-DESIG', 'I-DESIG', 'I-DESIG', 'I-DESIG', 'I-DESIG', 'I-DESIG', 'L-DESIG', 'O', 'O', 'O', 'O', 'O', 'O', 'O', 'O', 'O', 'O', 'O', 'O', 'O', 'O', 'O', 'O', 'O', 'O', 'O'], ['B-NAME', 'L-NAME', 'U-LOC', 'O', 'O', 'O', 'O', 'O', 'O', 'O', 'O', 'B-EMAIL', 'O', 'O', 'O', 'O', 'O', 'O', 'O', 'O', 'O', 'O', 'O', 'O', 'O', 'O', 'O', 'O', 'O', 'O', 'O', 'O', 'O', 'O', 'O'], ['O', 'O', 'O', 'O', 'O', 'O', 'O', 'O', 'O', 'O', 'O', 'O', 'B-SKILLS', 'I-SKILLS', 'I-SKILLS', 'I-SKILLS', 'I-SKILLS', 'I-SKILLS', 'I-SKILLS', 'I-SKILLS', 'I-SKILLS', 'I-SKILLS', 'I-SKILLS', 'I-SKILLS', 'I-SKILLS', 'I-SKILLS', 'I-SKILLS', 'I-SKILLS', 'I-SKILLS', 'I-SKILLS', 'I-SKILLS', 'I-SKILLS', 'I-SKILLS', 'I-SKILLS', 'I-SKILLS', 'I-SKILLS', 'I-SKILLS', 'I-SKILLS', 'I-SKILLS', 'I-SKILLS', 'I-SKILLS', 'I-SKILLS', 'I-SKILLS', 'I-SKILLS', 'I-SKILLS', 'I-SKILLS', 'I-SKILLS', 'I-SKILLS', 'I-SKILLS', 'I-SKILLS', 'I-SKILLS', 'I-SKILLS', 'I-SKILLS', 'I-SKILLS', 'I-SKILLS', 'I-SKILLS', 'I-SKILLS', 'I-SKILLS', 'I-SKILLS', 'I-SKILLS', 'I-SKILLS', 'I-SKILLS', 'I-SKILLS', 'L-SKILLS', 'O', 'O', 'O', 'O', 'O', 'O', 'O', 'O', 'O', 'O', 'O', 'O', 'O', 'O', 'O', 'O', 'O', 'O', 'O', 'O', 'O', 'O', 'O', 'O', 'O', 'O', 'O', 'O', 'O', 'O', 'O'], ['O', 'O', 'O', 'O', 'O', 'O', 'O', 'O', 'O', 'O', 'O', 'B-SKILLS', 'I-SKILLS', 'I-SKILLS', 'I-SKILLS', 'I-SKILLS', 'I-SKILLS', 'L-SKILLS'], ['B-NAME', 'L-NAME', 'O', 'O', 'O', 'O', 'O', 'O', 'O', 'O', 'O', 'O', 'O', 'B-COMPANY', 'I-COMPANY', 'I-COMPANY', 'I-COMPANY', 'L-COMPANY', 'B-LOC', 'L-LOC', 'O', 'O', 'O', 'O', 'O', 'O', 'O', 'U-EMAIL', 'O', 'O', 'O', 'O', 'O', 'O', 'O', 'O', 'O', 'O', 'O', 'O', 'O', 'O', 'O', 'O', 'O', 'O', 'O', 'O', 'O', 'O'], ['O', 'O', 'O', 'O', 'O', 'O', 'O', 'O', 'O', 'U-GRADYEAR', 'O', 'O', 'O', 'O', 'O', 'O', 'O', 'O', 'O', 'O', 'O', 'O', 'O', 'O', 'O', 'O', 'O', 'O', 'O', 'O', 'O', 'O', 'O', 'O', 'O', 'O', 'O', 'O', 'O', 'O', 'O', 'O', 'O', 'O'], ['O', 'O', 'O', 'B-DESIG', 'L-DESIG', 'O', 'O', 'O', 'O', 'B-DESIG', 'L-DESIG', 'O'], ['O', 'O', 'O', 'O', 'O', 'O', 'O', 'O', 'O', 'O', 'O', 'O', 'O', 'O', 'O', 'O', 'O', 'O', 'O', 'O', 'O', 'O', 'O', 'O', 'U-LOC', 'O', 'O', 'O', 'O', 'B-DESIG', 'I-DESIG', 'I-DESIG', 'I-DESIG', 'I-DESIG', 'I-DESIG', 'L-DESIG', 'U-COMPANY', 'O', 'U-LOC', 'O', 'O', 'O', 'O', 'O', 'O', 'O', 'O', 'O', 'O', 'O', 'O', 'O', 'O', 'O', 'O', 'O', 'O', 'O', 'O', 'O', 'O', 'O', 'O', 'O', 'O', 'O', 'O', 'O', 'O', 'O', 'O', 'O', 'O', 'O', 'O', 'O', 'O', 'O', 'O', 'O', 'O'], ['O', 'O', 'U-COMPANY', 'O', 'O', 'O', 'O', 'O', 'O', 'O', 'O'], ['O', 'O', 'O', 'O', 'U-SKILLS', 'O', 'O', 'O', 'O', 'O', 'O', 'O'], ['O', 'O', 'O', 'O', 'O', 'O', 'O', 'O', 'O', 'O', 'O', 'O', 'O', 'O', 'O', 'O', 'O', 'O', 'U-LOC', 'O', 'O', 'O', 'O', 'O', 'O', 'O', 'O', 'O', 'O', 'O', 'O', 'O', 'O', 'O', 'O', 'O', 'O', 'O', 'O', 'O', 'O', 'O', 'O', 'O'], ['O', 'O', 'O', 'O', 'O', 'O', 'O', 'O', 'O', 'O', 'O', 'U-COMPANY', 'O', 'O', 'O'], ['O', 'O', 'O', 'O', 'O', 'O', 'O', 'O', 'O', 'O', 'O', 'O', 'O', 'O', 'O', 'O', 'O', 'O', 'O', 'O', 'O', 'O', 'O', 'O', 'O', 'O', 'O', 'O', 'O', 'O', 'O', 'O', 'O', 'O', 'O', 'O', 'O', 'O', 'O', 'O', 'O', 'O', 'B-DESIG', 'I-DESIG', 'I-DESIG', 'I-DESIG', 'I-DESIG', 'B-COMPANY', 'L-COMPANY', 'O', 'O', 'O', 'O', 'O', 'O', 'O', 'O', 'O', 'O', 'O', 'O', 'O', 'O', 'O', 'O', 'O', 'O', 'O', 'O', 'O', 'O', 'O', 'O', 'O', 'O', 'O', 'O', 'O', 'O', 'O', 'O', 'O', 'O', 'O', 'O', 'O', 'O', 'O', 'O'], ['O', 'O', 'O', 'B-DESIG', 'I-DESIG', 'I-DESIG', 'U-COMPANY', 'O', 'O', 'O', 'O', 'O', 'O', 'O', 'U-COMPANY', 'O', 'O', 'U-COMPANY', 'O', 'O', 'O', 'O', 'O', 'O', 'U-COMPANY', 'O', 'O', 'O', 'O', 'O', 'O', 'O', 'O', 'O', 'O', 'O', 'O', 'O', 'O', 'O', 'O', 'U-COMPANY', 'O', 'O', 'O', 'O', 'O', 'O', 'O', 'O', 'O', 'O', 'O', 'O', 'O', 'O', 'O', 'O', 'O', 'O', 'O', 'O', 'O', 'U-COMPANY', 'O', 'O', 'O', 'O', 'O', 'O', 'O', 'O', 'O'], ['B-NAME', 'L-NAME', 'B-DESIG', 'L-DESIG', 'O', 'B-COMPANY', 'U-LOC', 'O', 'O', 'O', 'O', 'O', 'O', 'O', 'O', 'O', 'O', 'O', 'O', 'O', 'O', 'O', 'O', 'O', 'O', 'O', 'O', 'O', 'O', 'O', 'O', 'O', 'O', 'O', 'O', 'O', 'O', 'O', 'O', 'O', 'O', 'O', 'O', 'O', 'O'], ['B-NAME', 'L-NAME', 'B-DESIG', 'I-DESIG', 'I-DESIG', 'I-DESIG', 'I-DESIG', 'I-DESIG', 'I-DESIG', 'L-DESIG', 'U-LOC', 'O', 'O', 'O', 'O', 'O', 'O', 'O', 'O', 'U-EMAIL', 'O', 'O', 'O', 'O', 'O', 'O', 'O', 'O', 'O', 'O', 'O', 'O', 'O', 'O', 'O', 'O', 'O', 'O', 'O', 'O', 'O', 'O', 'O', 'O', 'O', 'O', 'O', 'O'], ['O', 'O', 'O', 'O', 'O', 'O', 'O', 'O', 'O', 'O', 'O', 'O', 'O', 'O', 'O', 'B-DESIG', 'L-DESIG', 'B-COMPANY', 'L-COMPANY', 'O', 'O', 'O', 'O', 'O', 'O', 'O', 'O', 'O', 'O', 'O', 'O', 'O', 'O', 'O', 'O', 'O', 'O', 'O', 'O', 'O', 'O', 'O', 'O', 'O', 'O', 'O', 'O', 'O', 'O', 'O', 'O', 'O', 'O', 'O', 'O', 'O', 'O', 'O', 'O', 'O', 'O', 'O', 'O'], ['O', 'O', 'O', 'B-SKILLS', 'I-SKILLS', 'I-SKILLS', 'I-SKILLS', 'I-SKILLS', 'I-SKILLS', 'I-SKILLS', 'I-SKILLS', 'I-SKILLS', 'I-SKILLS', 'I-SKILLS', 'I-SKILLS', 'I-SKILLS', 'I-SKILLS', 'I-SKILLS', 'I-SKILLS', 'I-SKILLS', 'I-SKILLS', 'I-SKILLS', 'I-SKILLS', 'I-SKILLS', 'I-SKILLS', 'I-SKILLS', 'I-SKILLS', 'I-SKILLS', 'I-SKILLS', 'I-SKILLS', 'I-SKILLS', 'I-SKILLS', 'I-SKILLS', 'I-SKILLS', 'I-SKILLS', 'I-SKILLS', 'I-SKILLS', 'I-SKILLS', 'I-SKILLS', 'L-SKILLS'], ['O', 'O', 'B-DEG', 'I-DEG', 'I-DEG', 'I-DEG', 'I-DEG', 'I-DEG', 'B-CLG', 'I-CLG', 'I-CLG', 'I-CLG', 'I-CLG', 'I-CLG', 'I-CLG', 'I-CLG', 'I-CLG', 'I-CLG', 'O', 'O', 'U-GRADYEAR', 'O', 'O', 'O', 'B-CLG', 'I-CLG', 'I-CLG', 'L-CLG', 'U-GRADYEAR', 'B-CLG', 'I-CLG', 'L-CLG', 'O', 'O', 'O', 'O', 'O', 'O', 'B-SKILLS', 'I-SKILLS', 'L-SKILLS', 'O', 'O', 'O', 'O', 'O', 'O', 'O', 'B-SKILLS', 'I-SKILLS', 'L-SKILLS', 'O', 'O', 'O', 'O', 'O', 'O', 'O', 'U-SKILLS', 'O', 'O', 'O', 'O', 'O', 'O', 'O', 'B-SKILLS', 'L-SKILLS', 'O', 'O', 'O', 'O', 'O', 'O', 'O', 'B-SKILLS', 'L-SKILLS', 'O', 'O', 'O', 'O', 'O', 'O', 'O', 'O', 'O', 'O', 'O', 'O', 'O', 'B-SKILLS', 'I-SKILLS', 'I-SKILLS', 'I-SKILLS', 'I-SKILLS', 'I-SKILLS', 'L-SKILLS'], ['O', 'O', 'O', 'O', 'O', 'O', 'O', 'O', 'O', 'O', 'O', 'O', 'O', 'O', 'O', 'O', 'O', 'O', 'O', 'O', 'O', 'O', 'U-COMPANY', 'O', 'O', 'O', 'O', 'O', 'O', 'O', 'O', 'O', 'O'], ['O', 'O', 'O', 'O', 'O', 'B-COMPANY', 'L-COMPANY', 'O', 'O', 'O', 'O', 'O', 'O', 'O', 'O', 'O', 'O', 'O', 'O', 'O', 'O', 'O', 'O', 'O', 'O', 'O', 'O', 'O', 'O'], ['O', 'B-DESIG', 'L-DESIG', 'B-COMPANY', 'L-COMPANY', 'O', 'U-LOC', 'O', 'O', 'O', 'O', 'O', 'O', 'O', 'O', 'O', 'O', 'O', 'O', 'O', 'O', 'O', 'O', 'O', 'O', 'O', 'O', 'O', 'O', 'O', 'O', 'O', 'O', 'O', 'O', 'O'], ['O', 'O', 'O', 'O', 'O', 'O', 'O', 'O', 'O', 'O', 'O', 'B-DEG', 'I-DEG', 'I-DEG', 'I-DEG', 'L-DEG', 'B-CLG', 'I-CLG', 'I-CLG', 'L-CLG', 'O', 'O', 'U-GRADYEAR', 'O', 'B-SKILLS', 'I-SKILLS', 'I-SKILLS', 'I-SKILLS', 'I-SKILLS', 'I-SKILLS', 'I-SKILLS', 'I-SKILLS', 'I-SKILLS', 'I-SKILLS', 'I-SKILLS', 'I-SKILLS', 'I-SKILLS', 'I-SKILLS', 'I-SKILLS', 'I-SKILLS', 'I-SKILLS', 'I-SKILLS', 'I-SKILLS', 'I-SKILLS', 'I-SKILLS', 'I-SKILLS', 'I-SKILLS', 'I-SKILLS', 'I-SKILLS', 'I-SKILLS', 'I-SKILLS', 'I-SKILLS', 'L-SKILLS', 'O', 'O', 'O', 'O', 'O', 'B-SKILLS', 'I-SKILLS', 'I-SKILLS', 'I-SKILLS', 'I-SKILLS', 'I-SKILLS', 'I-SKILLS', 'I-SKILLS', 'I-SKILLS', 'I-SKILLS', 'I-SKILLS', 'I-SKILLS', 'I-SKILLS', 'I-SKILLS', 'I-SKILLS', 'I-SKILLS', 'I-SKILLS', 'I-SKILLS', 'I-SKILLS', 'I-SKILLS', 'I-SKILLS', 'I-SKILLS', 'I-SKILLS', 'I-SKILLS', 'I-SKILLS', 'I-SKILLS', 'I-SKILLS', 'I-SKILLS', 'I-SKILLS', 'I-SKILLS', 'I-SKILLS', 'I-SKILLS', 'I-SKILLS', 'I-SKILLS', 'I-SKILLS', 'I-SKILLS', 'I-SKILLS', 'I-SKILLS', 'I-SKILLS', 'I-SKILLS', 'I-SKILLS', 'I-SKILLS', 'I-SKILLS', 'I-SKILLS', 'I-SKILLS', 'I-SKILLS', 'I-SKILLS', 'I-SKILLS', 'I-SKILLS', 'I-SKILLS', 'I-SKILLS', 'I-SKILLS', 'I-SKILLS', 'I-SKILLS', 'I-SKILLS', 'I-SKILLS', 'I-SKILLS', 'I-SKILLS', 'I-SKILLS', 'I-SKILLS', 'I-SKILLS', 'I-SKILLS', 'I-SKILLS', 'I-SKILLS', 'I-SKILLS', 'I-SKILLS', 'I-SKILLS', 'I-SKILLS', 'I-SKILLS', 'I-SKILLS', 'I-SKILLS', 'I-SKILLS', 'I-SKILLS', 'I-SKILLS', 'I-SKILLS', 'I-SKILLS', 'I-SKILLS', 'I-SKILLS', 'I-SKILLS', 'I-SKILLS', 'I-SKILLS', 'I-SKILLS', 'I-SKILLS', 'I-SKILLS', 'I-SKILLS', 'I-SKILLS', 'I-SKILLS', 'I-SKILLS', 'I-SKILLS', 'I-SKILLS', 'I-SKILLS', 'I-SKILLS', 'I-SKILLS', 'I-SKILLS', 'I-SKILLS', 'I-SKILLS', 'I-SKILLS', 'I-SKILLS', 'I-SKILLS', 'I-SKILLS', 'I-SKILLS', 'I-SKILLS', 'I-SKILLS', 'I-SKILLS', 'I-SKILLS', 'I-SKILLS', 'I-SKILLS', 'I-SKILLS', 'I-SKILLS', 'I-SKILLS', 'I-SKILLS', 'I-SKILLS', 'I-SKILLS', 'I-SKILLS', 'I-SKILLS', 'I-SKILLS', 'I-SKILLS', 'I-SKILLS', 'I-SKILLS', 'I-SKILLS', 'I-SKILLS', 'I-SKILLS', 'I-SKILLS', 'I-SKILLS', 'I-SKILLS', 'I-SKILLS', 'I-SKILLS', 'I-SKILLS', 'I-SKILLS', 'I-SKILLS', 'I-SKILLS', 'I-SKILLS', 'I-SKILLS', 'I-SKILLS', 'I-SKILLS', 'I-SKILLS', 'I-SKILLS', 'I-SKILLS', 'I-SKILLS', 'I-SKILLS', 'I-SKILLS', 'I-SKILLS', 'I-SKILLS', 'I-SKILLS', 'I-SKILLS', 'I-SKILLS', 'I-SKILLS', 'L-SKILLS'], ['O', 'O', 'O', 'B-COMPANY', 'L-COMPANY', 'O', 'O', 'O', 'O', 'O', 'O', 'O', 'O', 'O', 'O', 'O', 'O', 'O', 'O', 'O', 'O', 'O', 'O', 'O', 'O', 'O', 'O', 'O', 'O', 'O', 'O'], ['O', 'O', 'O', 'O', 'O', 'O', 'O', 'O', 'O', 'O', 'O', 'O', 'O', 'O', 'O', 'O', 'O', 'O', 'O', 'O', 'U-LOC', 'O', 'O', 'O', 'O', 'O', 'O', 'O', 'O', 'O', 'O', 'O', 'O', 'O', 'O', 'O', 'O', 'O', 'O', 'O', 'O', 'O', 'O', 'O', 'O', 'O', 'O', 'O', 'O', 'O'], ['B-NAME', 'L-NAME', 'U-DESIG', 'O', 'B-COMPANY', 'L-COMPANY', 'U-LOC', 'O', 'O', 'O', 'O', 'O', 'O', 'O', 'O', 'O', 'B-EMAIL', 'L-EMAIL', 'O', 'O', 'O', 'O', 'O', 'O', 'O', 'O', 'O', 'O', 'O', 'O', 'O', 'O', 'O', 'O', 'O', 'O', 'O', 'O', 'U-DESIG', 'B-COMPANY', 'L-COMPANY', 'O', 'O', 'O', 'O', 'O', 'O', 'O', 'O', 'O', 'O', 'O', 'O', 'O', 'O', 'O', 'O', 'O', 'O', 'O', 'O', 'O', 'O', 'O', 'O', 'O', 'O', 'O', 'O', 'O'], ['O', 'O', 'O', 'O', 'O', 'O', 'B-SKILLS', 'I-SKILLS', 'I-SKILLS', 'B-SKILLS', 'B-SKILLS', 'I-SKILLS', 'L-SKILLS', 'B-SKILLS', 'I-SKILLS', 'L-SKILLS', 'B-SKILLS', 'I-SKILLS', 'I-SKILLS', 'I-SKILLS', 'I-SKILLS', 'I-SKILLS', 'I-SKILLS', 'L-SKILLS', 'B-SKILLS', 'I-SKILLS', 'I-SKILLS', 'L-SKILLS', 'O', 'O', 'B-SKILLS', 'L-SKILLS', 'O', 'O', 'B-SKILLS', 'I-SKILLS', 'I-SKILLS', 'I-SKILLS', 'O', 'O', 'O', 'O', 'O', 'O', 'O', 'O', 'O', 'O', 'O', 'O', 'O', 'O', 'O', 'U-COMPANY', 'O', 'O', 'O', 'O', 'B-SKILLS', 'I-SKILLS', 'L-SKILLS', 'B-SKILLS', 'B-SKILLS', 'B-SKILLS', 'I-SKILLS', 'U-SKILLS', 'O', 'O', 'O', 'U-DEG', 'O', 'B-CLG', 'I-CLG', 'I-CLG', 'L-CLG', 'O', 'O', 'U-LOC', 'O', 'U-GRADYEAR', 'O', 'O', 'O', 'O', 'O', 'O', 'O', 'O', 'O', 'O', 'O', 'O', 'O', 'O', 'O', 'O', 'O', 'O', 'B-DESIG', 'L-DESIG', 'O', 'O', 'O', 'O', 'O', 'O', 'U-SKILLS', 'O', 'O', 'O', 'O', 'O', 'U-SKILLS', 'O', 'O', 'O', 'O', 'O', 'O', 'O', 'O', 'O', 'O', 'O', 'O', 'O', 'O', 'O', 'O', 'O', 'O', 'O', 'O', 'O', 'O', 'O', 'O', 'O', 'O', 'O', 'O', 'O', 'O', 'O'], ['O', 'O', 'O', 'B-COMPANY', 'L-COMPANY', 'O', 'O', 'O', 'O', 'O', 'O', 'O', 'O', 'O', 'O', 'O', 'O', 'O', 'O', 'O', 'O', 'O', 'O', 'O', 'O', 'O', 'O'], ['O', 'O', 'O', 'O', 'O', 'O', 'O', 'O', 'O', 'U-COMPANY', 'O', 'O', 'O', 'O', 'O', 'O', 'O', 'O', 'O', 'O', 'O', 'O', 'O', 'O', 'O', 'U-COMPANY', 'O', 'O', 'O', 'O', 'O', 'O', 'O', 'O', 'O', 'O'], ['B-NAME', 'L-NAME', 'U-DESIG', 'O', 'B-COMPANY', 'L-COMPANY', 'U-LOC', 'O', 'O', 'O', 'O', 'O', 'O', 'O', 'O', 'O', 'O', 'O', 'O', 'O', 'O', 'O', 'O', 'O', 'O', 'O', 'U-DESIG', 'B-COMPANY', 'L-COMPANY', 'O', 'U-LOC', 'O', 'O', 'O', 'O', 'O', 'O', 'O', 'O', 'O', 'O', 'O', 'O', 'O', 'O', 'O', 'O', 'O', 'O', 'O', 'O', 'O', 'O', 'O', 'O', 'O', 'O'], ['B-NAME', 'L-NAME', 'B-DESIG', 'L-DESIG', 'O', 'B-LOC', 'L-LOC', 'U-LOC', 'O', 'O', 'O', 'O', 'O', 'O', 'O', 'O', 'O', 'O', 'O', 'O', 'O', 'O', 'O', 'O', 'O', 'O', 'O', 'O', 'O', 'O', 'O', 'O', 'O', 'O', 'O', 'O', 'O', 'O', 'O', 'O', 'O', 'O', 'O', 'O', 'U-GRADYEAR', 'O', 'O', 'O', 'O', 'O', 'O', 'O', 'O', 'O', 'O', 'O', 'O', 'O', 'O', 'O', 'O', 'O', 'O', 'U-GRADYEAR', 'O', 'O', 'O', 'O', 'O', 'O', 'O', 'O', 'O', 'O', 'O', 'O', 'O', 'O', 'O', 'O', 'O', 'O', 'O', 'O', 'O', 'O', 'O', 'O', 'O', 'O', 'O', 'O', 'O', 'O', 'O', 'O', 'O', 'O', 'O', 'O', 'O', 'O', 'O', 'O', 'O', 'O', 'O', 'O', 'O', 'O', 'O', 'O', 'O', 'O', 'O', 'O', 'O', 'O', 'O', 'O', 'O', 'O', 'O', 'O', 'O', 'O', 'O', 'O', 'O', 'O', 'O', 'O', 'O', 'O', 'O', 'O', 'O', 'O', 'O', 'O', 'O', 'O', 'O', 'O', 'O', 'O', 'O', 'O', 'O', 'O', 'O', 'O', 'O', 'O', 'O', 'O', 'O', 'O', 'O', 'O', 'O', 'O', 'O', 'U-LOC', 'O', 'O', 'O', 'O', 'O', 'O', 'B-DESIG', 'L-DESIG', 'O', 'O', 'O', 'B-DESIG', 'L-DESIG', 'O', 'O', 'O', 'O', 'O', 'O', 'O', 'O', 'O', 'O', 'O', 'O', 'O', 'O', 'O', 'O', 'O', 'O', 'O', 'O', 'O', 'O', 'O', 'O', 'O', 'O', 'O', 'O', 'O', 'O', 'O', 'O', 'O', 'O', 'O', 'O', 'O', 'O', 'O', 'O', 'O', 'O', 'O', 'O', 'O', 'O'], ['O', 'O', 'B-DEG', 'I-DEG', 'I-DEG', 'L-DEG', 'B-CLG', 'I-CLG', 'I-CLG', 'I-CLG', 'L-CLG', 'O', 'O', 'O', 'O', 'B-DEG', 'I-DEG', 'I-DEG', 'I-DEG', 'L-DEG', 'B-CLG', 'I-CLG', 'L-CLG', 'O', 'O', 'O', 'O', 'O', 'I-SKILLS', 'I-SKILLS', 'I-SKILLS', 'I-SKILLS', 'I-SKILLS', 'I-SKILLS', 'I-SKILLS', 'I-SKILLS', 'I-SKILLS', 'I-SKILLS', 'I-SKILLS', 'I-SKILLS', 'I-SKILLS', 'I-SKILLS', 'I-SKILLS', 'I-SKILLS', 'I-SKILLS', 'I-SKILLS', 'I-SKILLS', 'I-SKILLS', 'I-SKILLS', 'I-SKILLS', 'I-SKILLS', 'I-SKILLS', 'I-SKILLS', 'I-SKILLS', 'I-SKILLS', 'I-SKILLS', 'I-SKILLS', 'I-SKILLS', 'I-SKILLS', 'I-SKILLS', 'I-SKILLS', 'I-SKILLS', 'I-SKILLS', 'I-SKILLS', 'I-SKILLS', 'I-SKILLS', 'I-SKILLS', 'I-SKILLS', 'I-SKILLS', 'I-SKILLS', 'I-SKILLS', 'I-SKILLS', 'I-SKILLS', 'I-SKILLS', 'I-SKILLS', 'I-SKILLS', 'O', 'O', 'O', 'O', 'O', 'O', 'O', 'O', 'O', 'O', 'O', 'O', 'O', 'O', 'O', 'O', 'O', 'O', 'O', 'O', 'O', 'O', 'O', 'O', 'O', 'O', 'O', 'O', 'O', 'O', 'O', 'O', 'O', 'O', 'O', 'O', 'O', 'O', 'O', 'O', 'O', 'O', 'O', 'O', 'O'], ['B-LOC', 'I-LOC', 'L-LOC', 'O', 'O', 'O', 'O', 'O', 'O', 'O', 'O', 'U-EMAIL', 'O', 'O', 'B-DESIG', 'I-DESIG', 'I-DESIG', 'O', 'O', 'U-LOC', 'O', 'O', 'O', 'O', 'O', 'O', 'O', 'O', 'O', 'O', 'O', 'O', 'O', 'O', 'O', 'O', 'O', 'O', 'O'], ['O', 'O', 'O', 'O', 'O', 'O', 'O', 'O', 'O', 'O', 'O', 'O', 'O', 'O', 'O', 'O', 'B-DEG', 'O', 'O', 'O', 'O', 'O', 'O', 'O', 'O', 'O', 'O', 'U-DEG', 'B-CLG', 'I-CLG', 'I-CLG', 'I-CLG', 'L-CLG', 'O', 'O'], ['O', 'O', 'O', 'O', 'O', 'O', 'O', 'O', 'O', 'O', 'O', 'O', 'O', 'O', 'O', 'O', 'O', 'O', 'O', 'B-COMPANY', 'L-COMPANY', 'O'], ['O', 'O', 'O', 'B-COMPANY', 'L-COMPANY', 'O', 'O', 'O', 'O', 'O', 'U-GRADYEAR', 'O', 'O', 'O', 'O', 'O', 'O', 'O', 'O', 'O', 'O', 'O', 'O', 'O', 'O', 'O', 'O', 'O', 'O', 'O', 'O', 'O', 'O', 'O', 'O', 'O', 'O', 'O', 'O', 'O', 'O', 'O', 'O', 'O', 'O', 'O', 'O', 'O', 'O', 'O', 'O', 'O', 'O', 'O', 'O', 'O', 'O', 'O'], ['B-NAME', 'L-NAME', 'U-LOC', 'O', 'O', 'O', 'O', 'O', 'O', 'O', 'O', 'U-EMAIL', 'O', 'O', 'O', 'O', 'O', 'O', 'O', 'O', 'O', 'O', 'O', 'O', 'O', 'O', 'O', 'O', 'O', 'O', 'O', 'O', 'O', 'O', 'O', 'O'], ['O', 'O', 'O', 'O', 'O', 'O', 'O', 'O', 'O', 'O', 'O', 'O', 'O', 'O', 'O', 'O', 'O', 'O', 'O', 'O', 'B-DESIG', 'B-COMPANY', 'I-COMPANY', 'I-COMPANY', 'I-COMPANY', 'I-COMPANY', 'I-COMPANY', 'O', 'O', 'O', 'O', 'O'], ['B-NAME', 'L-NAME', 'U-LOC', 'O', 'O', 'O', 'O', 'O', 'O', 'O', 'O', 'O', 'O', 'O', 'O', 'B-DESIG', 'I-DESIG', 'L-DESIG', 'U-COMPANY', 'O', 'U-LOC', 'O', 'O', 'O', 'B-DEG', 'I-DEG', 'I-DEG', 'O', 'O', 'O', 'U-LOC', 'O', 'O', 'O', 'O', 'O', 'O', 'O', 'B-DEG', 'I-DEG', 'L-DEG', 'O', 'O', 'O', 'U-LOC', 'O', 'O', 'O', 'O'], ['B-NAME', 'L-NAME', 'B-DESIG', 'I-DESIG', 'U-LOC', 'O', 'O', 'O', 'O', 'O', 'O', 'O', 'O', 'O', 'O', 'O', 'O', 'O', 'O', 'O', 'O', 'O', 'O', 'O', 'O', 'O', 'O', 'O', 'O', 'O', 'O', 'O', 'O', 'O', 'O', 'O', 'O', 'O', 'O', 'O', 'O', 'O'], ['O', 'O', 'O', 'O', 'O', 'O', 'O', 'O', 'O', 'O', 'O', 'O', 'O', 'O', 'O', 'O', 'O', 'O', 'O', 'O', 'U-COMPANY', 'O', 'O', 'O', 'O', 'O', 'O', 'O', 'O', 'O', 'O', 'O', 'O', 'O', 'O', 'O', 'O', 'O', 'O', 'O', 'O', 'O', 'O', 'O', 'O', 'O', 'O', 'O', 'O', 'O', 'O', 'O', 'O', 'O', 'O', 'O', 'O', 'O', 'O', 'O', 'O', 'O', 'O', 'O', 'O', 'O', 'O', 'O', 'O', 'O', 'O', 'O', 'O', 'O', 'O', 'O', 'O', 'O', 'O', 'O', 'O', 'O', 'O', 'O', 'O', 'O', 'O', 'O', 'O', 'O', 'O', 'O', 'O', 'O', 'O', 'O', 'O', 'O', 'O', 'O', 'O', 'O', 'O', 'O', 'O', 'O', 'O', 'O', 'O', 'O', 'O', 'O', 'O', 'O', 'O', 'O', 'O', 'O', 'O', 'O', 'O', 'O', 'O', 'O', 'O', 'O', 'O', 'O', 'O', 'O', 'O', 'O', 'O', 'O', 'O', 'O', 'O', 'O', 'O', 'O', 'O', 'O', 'O', 'O', 'O', 'O', 'O', 'O', 'O', 'O', 'O', 'O', 'O', 'O', 'O', 'O', 'O', 'O', 'O', 'O', 'O', 'O', 'O', 'O', 'O', 'O', 'O', 'O', 'O', 'O', 'O', 'O', 'O', 'O', 'O', 'O', 'O', 'O', 'O', 'O', 'O', 'U-COMPANY', 'O', 'O', 'O', 'O', 'O', 'O', 'O', 'O', 'O', 'O', 'O', 'O', 'O', 'O', 'O', 'O', 'O', 'O', 'O', 'O', 'O', 'O', 'O', 'O', 'O', 'O', 'O', 'O', 'O', 'O', 'O', 'O', 'O', 'O', 'O', 'O', 'O', 'O', 'O', 'O', 'O', 'O', 'O', 'O', 'O', 'O', 'O', 'O', 'O'], ['O', 'O', 'O', 'O', 'O', 'O', 'O', 'O', 'U-LOC', 'O', 'O'], ['O', 'O', 'O', 'U-DESIG', 'O', 'O', 'O', 'U-LOC', 'O', 'O', 'O', 'O', 'O', 'O', 'O', 'O', 'O', 'O'], ['O', 'O', 'O', 'O', 'O', 'O', 'O', 'O', 'O', 'O', 'O', 'O', 'O', 'O', 'O', 'O', 'O', 'O', 'O', 'O', 'O', 'O', 'O', 'O', 'O', 'O', 'O', 'O', 'O', 'O', 'O', 'O', 'O', 'O', 'O', 'O', 'O', 'O', 'O', 'O', 'O', 'O', 'O', 'O', 'O', 'O', 'O', 'O', 'O', 'O', 'O', 'O', 'O', 'O', 'O', 'O', 'O', 'O', 'O', 'O', 'O', 'O', 'O', 'O', 'O', 'O', 'O', 'O', 'O', 'O', 'O', 'O', 'O', 'O', 'O', 'O', 'O', 'O', 'O', 'O', 'O', 'O', 'O', 'O', 'B-DESIG', 'L-DESIG', 'O', 'O', 'O', 'O', 'O', 'O', 'O', 'O', 'O', 'O', 'O', 'O', 'O', 'O', 'O', 'O', 'O', 'O', 'O', 'O', 'O', 'O', 'O', 'O', 'O', 'O', 'O', 'O', 'O'], ['O', 'O', 'O', 'O', 'O', 'O', 'B-DEG', 'I-DEG', 'L-DEG', 'B-CLG', 'I-CLG', 'I-CLG', 'L-CLG', 'O', 'O', 'O', 'O', 'U-GRADYEAR', 'B-DEG', 'I-DEG', 'I-DEG', 'I-DEG', 'L-DEG', 'B-DEG', 'I-DEG', 'I-DEG', 'I-DEG', 'I-DEG', 'I-DEG', 'L-DEG', 'O', 'O', 'O', 'O', 'U-GRADYEAR', 'O', 'O', 'O', 'O', 'U-SKILLS', 'O', 'O', 'O', 'O', 'O', 'O', 'O', 'O', 'U-SKILLS', 'O', 'O', 'O', 'O', 'O', 'O', 'O', 'U-SKILLS', 'O', 'O', 'O', 'O', 'O', 'O', 'O', 'O', 'O', 'O', 'O', 'B-SKILLS', 'L-SKILLS', 'O', 'O', 'O', 'O', 'B-SKILLS', 'L-SKILLS'], ['O', 'O', 'B-DEG', 'I-DEG', 'I-DEG', 'I-DEG', 'L-DEG', 'B-CLG', 'I-CLG', 'L-CLG', 'O', 'O', 'O', 'O', 'O', 'U-DEG', 'B-CLG', 'L-CLG', 'O', 'O', 'O', 'O', 'O', 'B-DEG', 'I-DEG', 'I-DEG', 'I-DEG', 'I-DEG', 'I-DEG', 'L-DEG', 'B-CLG', 'L-CLG', 'O', 'O', 'O', 'O', 'O', 'O', 'U-SKILLS', 'O', 'O', 'O', 'O', 'O', 'O', 'O', 'O', 'O', 'O', 'O', 'O', 'O', 'O', 'O', 'O', 'O', 'O', 'O', 'O', 'O', 'O', 'O', 'O', 'O', 'O', 'O', 'O', 'O', 'O', 'O', 'O', 'O'], ['B-NAME', 'L-NAME', 'B-DESIG', 'I-DESIG', 'I-DESIG', 'U-LOC', 'O', 'O', 'O', 'O', 'O', 'O', 'O', 'O', 'U-EMAIL', 'O', 'O', 'O', 'O', 'O', 'O', 'O', 'O', 'O', 'O', 'O', 'O', 'O', 'O', 'O', 'O', 'O', 'O', 'O', 'O', 'O', 'O', 'O', 'O'], ['O', 'O', 'B-DEG', 'I-DEG', 'I-DEG', 'I-DEG', 'I-DEG', 'B-CLG', 'L-CLG', 'O', 'U-LOC', 'O', 'O', 'U-GRADYEAR', 'B-DEG', 'I-DEG', 'I-DEG', 'I-DEG', 'L-DEG', 'O', 'O', 'O', 'O', 'O', 'O', 'O', 'O', 'O', 'O', 'O', 'O', 'U-CLG', 'B-CLG', 'I-CLG', 'I-CLG', 'L-CLG', 'O', 'O', 'O', 'O', 'O', 'U-GRADYEAR', 'O', 'O', 'B-SKILLS', 'I-SKILLS', 'I-SKILLS', 'I-SKILLS', 'I-SKILLS', 'I-SKILLS', 'I-SKILLS', 'I-SKILLS', 'I-SKILLS', 'I-SKILLS', 'I-SKILLS', 'I-SKILLS', 'I-SKILLS', 'I-SKILLS', 'I-SKILLS', 'I-SKILLS', 'I-SKILLS', 'I-SKILLS', 'I-SKILLS', 'I-SKILLS', 'I-SKILLS', 'I-SKILLS', 'I-SKILLS', 'I-SKILLS', 'I-SKILLS', 'I-SKILLS', 'I-SKILLS', 'I-SKILLS', 'I-SKILLS', 'I-SKILLS', 'I-SKILLS', 'I-SKILLS', 'I-SKILLS', 'I-SKILLS', 'I-SKILLS', 'I-SKILLS', 'I-SKILLS', 'I-SKILLS', 'I-SKILLS', 'I-SKILLS', 'I-SKILLS', 'I-SKILLS', 'I-SKILLS', 'I-SKILLS', 'I-SKILLS', 'I-SKILLS', 'I-SKILLS', 'I-SKILLS', 'I-SKILLS', 'I-SKILLS', 'I-SKILLS', 'I-SKILLS', 'I-SKILLS', 'I-SKILLS', 'I-SKILLS', 'I-SKILLS', 'I-SKILLS', 'I-SKILLS', 'I-SKILLS', 'I-SKILLS', 'I-SKILLS', 'I-SKILLS', 'I-SKILLS', 'I-SKILLS', 'I-SKILLS', 'I-SKILLS', 'I-SKILLS', 'I-SKILLS', 'I-SKILLS', 'I-SKILLS', 'I-SKILLS', 'I-SKILLS', 'I-SKILLS', 'I-SKILLS', 'I-SKILLS', 'I-SKILLS', 'I-SKILLS', 'I-SKILLS', 'I-SKILLS', 'I-SKILLS', 'I-SKILLS', 'I-SKILLS', 'I-SKILLS', 'I-SKILLS', 'I-SKILLS', 'I-SKILLS', 'I-SKILLS', 'I-SKILLS', 'I-SKILLS', 'I-SKILLS', 'I-SKILLS', 'I-SKILLS', 'I-SKILLS', 'I-SKILLS', 'I-SKILLS', 'I-SKILLS', 'I-SKILLS', 'I-SKILLS', 'I-SKILLS', 'I-SKILLS', 'I-SKILLS', 'I-SKILLS', 'I-SKILLS', 'I-SKILLS', 'I-SKILLS', 'I-SKILLS', 'I-SKILLS', 'I-SKILLS', 'I-SKILLS', 'I-SKILLS', 'I-SKILLS', 'I-SKILLS', 'I-SKILLS', 'I-SKILLS', 'I-SKILLS', 'I-SKILLS', 'I-SKILLS', 'I-SKILLS', 'I-SKILLS', 'I-SKILLS', 'I-SKILLS', 'I-SKILLS', 'I-SKILLS', 'I-SKILLS', 'I-SKILLS', 'I-SKILLS', 'I-SKILLS', 'I-SKILLS', 'I-SKILLS', 'I-SKILLS', 'I-SKILLS', 'I-SKILLS', 'I-SKILLS', 'I-SKILLS', 'I-SKILLS', 'I-SKILLS', 'I-SKILLS', 'I-SKILLS', 'I-SKILLS', 'I-SKILLS', 'I-SKILLS', 'I-SKILLS', 'I-SKILLS', 'I-SKILLS', 'I-SKILLS', 'I-SKILLS', 'I-SKILLS', 'I-SKILLS', 'I-SKILLS', 'I-SKILLS', 'I-SKILLS', 'I-SKILLS', 'I-SKILLS', 'I-SKILLS', 'I-SKILLS', 'I-SKILLS', 'I-SKILLS', 'I-SKILLS', 'I-SKILLS', 'I-SKILLS', 'L-SKILLS'], ['O', 'B-DESIG', 'I-DESIG', 'L-DESIG', 'B-COMPANY', 'I-COMPANY', 'I-COMPANY', 'O', 'O', 'O', 'O', 'O', 'O', 'O', 'O', 'O', 'O', 'O', 'O', 'O'], ['O', 'O', 'O', 'I-DESIG', 'I-DESIG', 'U-COMPANY', 'O', 'O', 'O', 'O', 'O', 'O', 'O', 'O', 'O', 'O', 'O', 'O', 'O', 'O', 'O', 'O', 'O', 'O', 'O', 'O', 'O'], ['O', 'O', 'O', 'O', 'O', 'O', 'O', 'O', 'O', 'O', 'U-COMPANY', 'O', 'O', 'O', 'O', 'U-SKILLS', 'O', 'O', 'O', 'O', 'O', 'O', 'O', 'O', 'O', 'O', 'O', 'O', 'O', 'U-LOC', 'O', 'O', 'O', 'O', 'O', 'O', 'O', 'O', 'O', 'O', 'O', 'O', 'O', 'O', 'B-DESIG', 'L-DESIG', 'U-COMPANY', 'O', 'U-LOC', 'O', 'O', 'O', 'O', 'O', 'O', 'O', 'O', 'O', 'O', 'O', 'O', 'O', 'O', 'O', 'O', 'O', 'O', 'O', 'O', 'O', 'O', 'O', 'O', 'O'], ['O', 'O', 'O', 'B-DESIG', 'L-DESIG', 'O', 'O', 'O', 'O', 'O', 'O', 'O', 'O', 'O', 'O', 'O', 'O', 'O', 'O', 'O', 'O', 'O', 'O', 'O', 'O', 'O', 'O', 'O', 'O', 'O', 'O', 'O', 'O', 'O', 'O', 'O', 'O', 'O', 'O', 'O', 'O', 'O', 'O', 'O', 'O', 'O', 'O', 'O'], ['O', 'O', 'O', 'O', 'O', 'O', 'O', 'O', 'O', 'O', 'B-DESIG', 'I-DESIG', 'I-DESIG', 'O', 'O', 'O', 'O', 'O', 'O', 'O', 'O', 'O', 'O', 'O', 'O', 'O', 'O', 'O', 'O', 'O', 'O', 'O', 'O', 'O', 'O', 'O', 'O', 'O'], ['B-NAME', 'L-NAME', 'U-LOC', 'O', 'O', 'O', 'O', 'O', 'O', 'O', 'O', 'O', 'O', 'O', 'O', 'O', 'O', 'O', 'O', 'O', 'O', 'O', 'O', 'O', 'O', 'O', 'O', 'O', 'O', 'O', 'O', 'O', 'O', 'O', 'O', 'O', 'O'], ['O', 'O', 'O', 'O', 'O', 'O', 'O', 'B-DEG', 'I-DEG', 'L-DEG', 'B-CLG', 'L-CLG', 'O', 'O', 'O', 'O', 'O', 'O', 'O', 'O', 'O', 'O', 'O', 'O', 'B-SKILLS', 'I-SKILLS', 'I-SKILLS', 'I-SKILLS', 'I-SKILLS', 'I-SKILLS', 'I-SKILLS', 'I-SKILLS', 'I-SKILLS', 'I-SKILLS', 'I-SKILLS', 'I-SKILLS', 'I-SKILLS', 'I-SKILLS', 'L-SKILLS', 'O', 'O', 'O', 'O', 'I-SKILLS', 'I-SKILLS', 'I-SKILLS', 'I-SKILLS', 'I-SKILLS', 'I-SKILLS', 'I-SKILLS', 'I-SKILLS', 'I-SKILLS', 'I-SKILLS', 'I-SKILLS', 'I-SKILLS', 'I-SKILLS', 'I-SKILLS', 'I-SKILLS', 'I-SKILLS', 'I-SKILLS', 'I-SKILLS', 'I-SKILLS', 'I-SKILLS', 'I-SKILLS', 'I-SKILLS', 'I-SKILLS', 'I-SKILLS', 'I-SKILLS', 'I-SKILLS', 'I-SKILLS', 'I-SKILLS', 'I-SKILLS', 'I-SKILLS', 'I-SKILLS', 'I-SKILLS', 'I-SKILLS', 'I-SKILLS', 'I-SKILLS', 'I-SKILLS', 'L-SKILLS', 'O', 'O', 'O'], ['O', 'O', 'O', 'O', 'O', 'O', 'O', 'O', 'O', 'O', 'O', 'O', 'O', 'O', 'O', 'U-SKILLS', 'O', 'O', 'O', 'O', 'O', 'O', 'O', 'O', 'O'], ['O', 'O', 'O', 'O', 'O', 'O', 'O', 'O', 'O', 'O', 'O', 'O', 'U-COMPANY', 'O', 'O', 'O'], ['B-NAME', 'L-NAME', 'B-DESIG', 'I-DESIG', 'I-DESIG', 'I-DESIG', 'L-DESIG', 'U-COMPANY', 'O', 'O', 'O', 'O', 'O', 'U-LOC', 'O', 'O', 'O', 'O', 'O', 'O', 'O', 'O', 'O', 'O', 'O', 'O', 'O', 'O', 'O', 'O', 'O', 'O', 'O', 'O', 'O', 'O', 'O', 'O', 'O', 'O', 'O', 'O', 'O', 'O', 'O', 'O', 'O', 'O'], ['O', 'O', 'O', 'O', 'O', 'O', 'O', 'O', 'O', 'O', 'O', 'O', 'O', 'O', 'O', 'O', 'O', 'O', 'O', 'O', 'O', 'O', 'O', 'O', 'U-SKILLS', 'O', 'O', 'O', 'O', 'O', 'U-SKILLS', 'O', 'U-SKILLS', 'O', 'O', 'O', 'O', 'O', 'O', 'O', 'O', 'O', 'O', 'O', 'O', 'O', 'O', 'O', 'O', 'O', 'O', 'O'], ['O', 'O', 'B-DESIG', 'I-DESIG', 'I-DESIG', 'L-DESIG', 'O', 'O', 'O', 'O', 'O', 'O', 'O', 'O', 'O', 'O', 'O', 'O', 'O', 'O', 'O', 'O', 'O', 'O', 'O', 'O', 'O', 'O', 'O', 'O', 'O', 'O', 'O', 'O', 'O', 'O', 'O', 'O', 'O', 'O', 'O', 'O', 'O', 'O', 'O', 'O', 'O', 'O', 'O', 'O', 'O', 'O', 'O', 'O', 'O', 'O', 'O', 'O', 'O', 'O', 'O', 'O'], ['O', 'O', 'O', 'B-DESIG', 'I-DESIG', 'L-DESIG', 'B-COMPANY', 'I-COMPANY', 'U-COMPANY', 'O', 'O', 'O', 'B-DEG', 'I-DEG', 'I-DEG', 'I-DEG', 'B-CLG', 'L-CLG', 'O', 'O', 'O', 'O', 'B-DEG', 'I-DEG', 'I-DEG', 'L-DEG', 'B-CLG', 'I-CLG', 'I-CLG', 'I-CLG', 'O', 'B-SKILLS', 'I-SKILLS', 'I-SKILLS', 'I-SKILLS', 'I-SKILLS', 'I-SKILLS', 'I-SKILLS', 'I-SKILLS', 'I-SKILLS', 'I-SKILLS', 'I-SKILLS', 'I-SKILLS', 'I-SKILLS', 'I-SKILLS', 'I-SKILLS', 'I-SKILLS', 'I-SKILLS', 'I-SKILLS', 'I-SKILLS', 'I-SKILLS', 'I-SKILLS', 'I-SKILLS', 'I-SKILLS', 'I-SKILLS', 'I-SKILLS', 'I-SKILLS', 'I-SKILLS', 'I-SKILLS', 'I-SKILLS', 'I-SKILLS', 'I-SKILLS', 'I-SKILLS', 'I-SKILLS', 'I-SKILLS', 'I-SKILLS', 'I-SKILLS', 'I-SKILLS', 'I-SKILLS', 'I-SKILLS', 'I-SKILLS', 'I-SKILLS', 'I-SKILLS', 'I-SKILLS', 'I-SKILLS', 'I-SKILLS', 'I-SKILLS', 'I-SKILLS', 'I-SKILLS', 'I-SKILLS', 'I-SKILLS', 'I-SKILLS', 'I-SKILLS', 'I-SKILLS', 'I-SKILLS', 'I-SKILLS', 'I-SKILLS', 'I-SKILLS', 'I-SKILLS', 'I-SKILLS', 'I-SKILLS', 'I-SKILLS', 'I-SKILLS', 'I-SKILLS', 'I-SKILLS', 'I-SKILLS', 'I-SKILLS', 'I-SKILLS', 'I-SKILLS', 'I-SKILLS', 'I-SKILLS', 'I-SKILLS', 'I-SKILLS', 'I-SKILLS', 'I-SKILLS', 'I-SKILLS', 'I-SKILLS', 'I-SKILLS', 'I-SKILLS', 'I-SKILLS', 'I-SKILLS', 'I-SKILLS', 'I-SKILLS', 'I-SKILLS', 'I-SKILLS', 'I-SKILLS', 'I-SKILLS', 'I-SKILLS', 'I-SKILLS', 'I-SKILLS', 'I-SKILLS', 'I-SKILLS', 'I-SKILLS', 'I-SKILLS', 'I-SKILLS', 'I-SKILLS', 'I-SKILLS', 'I-SKILLS', 'I-SKILLS', 'I-SKILLS', 'I-SKILLS', 'I-SKILLS', 'I-SKILLS', 'I-SKILLS', 'I-SKILLS', 'I-SKILLS', 'L-SKILLS', 'O', 'O', 'O', 'O', 'O', 'O', 'O', 'O', 'O', 'O', 'O', 'O', 'O', 'O', 'O', 'O', 'O', 'O', 'O', 'O', 'O', 'O', 'O', 'O', 'O', 'O', 'O', 'O', 'O', 'O', 'O', 'O', 'O', 'O', 'O', 'O', 'O', 'O', 'O', 'O', 'O', 'O', 'O', 'O', 'O', 'O', 'O', 'O', 'O', 'O', 'O', 'O', 'O', 'O', 'O', 'O', 'O', 'O', 'O', 'O', 'O', 'O', 'O', 'O', 'O', 'O', 'O', 'O', 'O', 'O', 'O', 'O', 'O', 'O', 'O', 'O', 'O', 'O', 'O', 'O', 'O', 'O', 'O', 'O', 'O', 'O', 'O', 'O', 'O', 'O', 'O', 'O', 'O', 'O', 'O', 'O', 'O', 'O', 'O', 'O', 'O', 'O', 'O', 'O', 'O', 'O', 'O', 'O', 'O', 'O', 'O', 'O', 'O', 'O', 'O', 'O', 'O', 'O', 'O'], ['B-NAME', 'L-NAME', 'B-DESIG', 'I-DESIG', 'I-DESIG', 'I-DESIG', 'I-DESIG', 'I-DESIG', 'L-DESIG', 'O', 'U-COMPANY', 'O', 'O', 'O', 'O', 'U-LOC', 'O', 'O', 'O', 'O', 'O', 'O', 'O', 'O', 'U-EMAIL', 'O', 'O', 'O', 'O', 'O', 'O', 'U-COMPANY', 'O', 'O', 'O', 'O', 'O', 'O', 'O', 'O', 'O', 'O', 'O', 'O', 'O', 'O', 'O', 'O', 'O', 'O', 'O', 'O', 'O', 'O', 'O'], ['O', 'O', 'U-SKILLS'], ['B-NAME', 'I-NAME', 'L-NAME', 'U-LOC', 'O', 'O', 'O', 'O', 'O', 'O', 'O', 'O', 'O', 'O', 'O', 'O', 'O', 'B-DESIG', 'I-DESIG', 'L-DESIG', 'O', 'O', 'O', 'O', 'O', 'O', 'O', 'O', 'O', 'O', 'O', 'B-DEG', 'B-CLG', 'I-CLG', 'L-CLG', 'O', 'O', 'O', 'O', 'O'], ['O', 'B-DESIG', 'L-DESIG', 'O', 'O', 'O', 'O', 'O', 'O', 'O', 'O', 'O', 'O', 'O', 'O', 'O', 'B-DESIG', 'I-DESIG', 'I-DESIG', 'O', 'O', 'O', 'U-GRADYEAR', 'O', 'O', 'O', 'O', 'O', 'O', 'O', 'O', 'O', 'O', 'O', 'O', 'O', 'O', 'O', 'O', 'O', 'O'], ['O', 'O', 'B-DEG', 'I-DEG', 'I-DEG', 'I-DEG', 'I-DEG', 'I-DEG', 'B-CLG', 'I-CLG', 'I-CLG', 'I-CLG', 'L-CLG', 'O', 'O', 'O', 'O', 'O', 'B-SKILLS', 'I-SKILLS', 'I-SKILLS', 'I-SKILLS', 'I-SKILLS', 'I-SKILLS', 'I-SKILLS', 'I-SKILLS', 'I-SKILLS', 'I-SKILLS', 'I-SKILLS', 'I-SKILLS', 'I-SKILLS', 'I-SKILLS', 'I-SKILLS', 'I-SKILLS', 'I-SKILLS', 'I-SKILLS', 'I-SKILLS', 'I-SKILLS', 'I-SKILLS', 'I-SKILLS', 'I-SKILLS', 'I-SKILLS', 'I-SKILLS', 'I-SKILLS', 'I-SKILLS', 'I-SKILLS', 'I-SKILLS', 'I-SKILLS', 'I-SKILLS', 'I-SKILLS', 'I-SKILLS', 'I-SKILLS', 'I-SKILLS', 'I-SKILLS', 'I-SKILLS', 'I-SKILLS', 'I-SKILLS', 'O', 'O', 'O', 'O', 'O', 'O', 'O', 'O', 'O', 'O', 'O', 'O', 'O', 'O', 'O', 'O', 'O', 'O', 'O', 'O', 'O', 'O', 'O', 'O', 'O', 'O', 'O', 'O', 'O', 'O', 'O'], ['B-NAME', 'L-NAME', 'B-DESIG', 'L-DESIG', 'U-LOC', 'O', 'O', 'O', 'O', 'O', 'O', 'O', 'O', 'O', 'O', 'O', 'O', 'O', 'O', 'O', 'O', 'O', 'O', 'O', 'O', 'O', 'O', 'O', 'O', 'O', 'O', 'O', 'O', 'O', 'O', 'O', 'O', 'O', 'O', 'O', 'O', 'O', 'O', 'O', 'O', 'O', 'O', 'O', 'O'], ['O', 'O', 'O', 'O', 'U-COMPANY', 'O', 'U-LOC', 'O', 'O', 'O', 'O', 'O', 'O', 'O', 'O', 'O'], ['B-NAME', 'L-NAME', 'B-DESIG', 'I-DESIG', 'I-DESIG', 'B-LOC', 'L-LOC', 'O', 'O', 'O', 'O', 'O', 'O', 'O', 'B-EMAIL', 'O', 'B-YOE', 'L-YOE', 'O', 'O', 'O', 'O', 'O', 'O', 'O', 'O', 'O', 'O', 'O', 'O', 'O', 'O', 'O', 'O', 'O', 'O', 'O', 'O', 'O'], ['O', 'O', 'O', 'O', 'O', 'O', 'O', 'O', 'O', 'O', 'B-DESIG', 'I-DESIG', 'I-DESIG', 'O', 'O', 'O', 'O', 'O', 'B-DEG', 'I-DEG', 'L-DEG', 'B-CLG', 'I-CLG', 'L-CLG', 'O', 'O', 'O', 'O', 'O', 'U-GRADYEAR', 'O', 'O', 'O', 'B-CLG', 'I-CLG', 'L-CLG', 'O', 'O', 'O', 'U-GRADYEAR', 'O', 'O', 'O', 'B-CLG', 'I-CLG', 'I-CLG', 'O', 'O', 'O', 'O', 'O', 'O', 'B-SKILLS', 'I-SKILLS', 'I-SKILLS', 'I-SKILLS', 'I-SKILLS', 'I-SKILLS', 'I-SKILLS', 'I-SKILLS', 'I-SKILLS', 'I-SKILLS', 'I-SKILLS', 'I-SKILLS', 'I-SKILLS', 'I-SKILLS', 'I-SKILLS', 'I-SKILLS', 'I-SKILLS', 'I-SKILLS', 'I-SKILLS', 'I-SKILLS', 'I-SKILLS', 'I-SKILLS', 'I-SKILLS', 'I-SKILLS', 'I-SKILLS', 'I-SKILLS', 'I-SKILLS', 'I-SKILLS', 'I-SKILLS', 'I-SKILLS', 'I-SKILLS', 'I-SKILLS', 'I-SKILLS', 'I-SKILLS', 'I-SKILLS', 'I-SKILLS', 'I-SKILLS', 'I-SKILLS', 'I-SKILLS', 'I-SKILLS', 'I-SKILLS', 'I-SKILLS', 'I-SKILLS', 'I-SKILLS', 'I-SKILLS', 'I-SKILLS', 'L-SKILLS', 'O', 'O', 'O', 'O', 'O', 'O', 'O', 'O', 'O', 'O', 'O', 'O', 'O', 'O', 'O', 'O', 'O', 'O', 'O', 'O', 'O', 'O', 'O', 'O'], ['O', 'O', 'O', 'O', 'O', 'O', 'O', 'O', 'U-COMPANY', 'O', 'O', 'O', 'O', 'O', 'O', 'O', 'O', 'U-COMPANY', 'O', 'O', 'O', 'O', 'O', 'O', 'O', 'O', 'O'], ['O', 'O', 'O', 'O', 'O', 'O', 'O', 'O', 'O', 'O', 'O', 'O', 'O', 'O', 'O', 'O', 'O', 'O', 'B-NAME', 'L-NAME', 'O', 'O'], ['O', 'O', 'O', 'O', 'O', 'U-COMPANY', 'O', 'O', 'O', 'O', 'O', 'O', 'O', 'O', 'O', 'O', 'O', 'O', 'O', 'O', 'O', 'O', 'O', 'O', 'O'], ['O', 'O', 'U-COMPANY', 'O', 'O', 'O', 'O', 'O', 'O', 'O'], ['B-NAME', 'L-NAME', 'B-DESIG', 'I-DESIG', 'L-DESIG', 'O', 'O', 'O', 'O', 'O', 'O', 'O', 'O', 'O', 'O', 'U-LOC', 'O', 'O', 'O', 'O', 'O', 'O', 'O', 'O', 'O', 'O', 'O', 'O', 'O', 'O', 'O', 'O', 'O', 'O', 'O', 'O', 'O', 'O', 'O', 'O', 'O', 'O', 'O', 'O', 'O', 'O', 'O', 'O', 'O', 'O', 'O', 'O', 'O'], ['O', 'O', 'O', 'O', 'O', 'O', 'O', 'O', 'O', 'O', 'O', 'O', 'O', 'O', 'O', 'O', 'O', 'O', 'O', 'O', 'O', 'O', 'O', 'O', 'O', 'O', 'O', 'O', 'O', 'O', 'O', 'O', 'O', 'O', 'O', 'O', 'O', 'O', 'O', 'O', 'O', 'O', 'O', 'O', 'O', 'O', 'O', 'O', 'O', 'O', 'O', 'O', 'O', 'O', 'O', 'O', 'O', 'O', 'O', 'O', 'O', 'O', 'O', 'O', 'O', 'O', 'O', 'O', 'O', 'O', 'O', 'O', 'O', 'O', 'O', 'O', 'O', 'O', 'O', 'O', 'O', 'O', 'O', 'O', 'O', 'O', 'O', 'O', 'O', 'O', 'O', 'O', 'O', 'O', 'O', 'O', 'O', 'O', 'O', 'B-COMPANY', 'L-COMPANY', 'O', 'O', 'O', 'O', 'O', 'O', 'O', 'O', 'O', 'O', 'O', 'O', 'O', 'O', 'O', 'O', 'O', 'O', 'O', 'O', 'O', 'O', 'O', 'O', 'O', 'O', 'O', 'O', 'O', 'O', 'O', 'B-DEG', 'L-DEG', 'O', 'B-SKILLS', 'I-SKILLS', 'I-SKILLS', 'I-SKILLS', 'I-SKILLS', 'I-SKILLS', 'I-SKILLS', 'I-SKILLS', 'I-SKILLS', 'I-SKILLS', 'I-SKILLS', 'I-SKILLS', 'I-SKILLS', 'I-SKILLS', 'I-SKILLS', 'O', 'O', 'O', 'O', 'O', 'O', 'O', 'O', 'O', 'O', 'O', 'O', 'O', 'O', 'O', 'O', 'O', 'O', 'O', 'O', 'O', 'O', 'O', 'O', 'O', 'O', 'O', 'O', 'O', 'O'], ['O', 'U-COMPANY', 'O', 'O', 'O', 'O', 'O', 'O', 'O', 'U-COMPANY', 'O', 'O', 'O', 'O', 'O', 'O', 'O', 'O', 'O', 'O', 'O', 'O'], ['O', 'O', 'O', 'O', 'O', 'O', 'O', 'O', 'O', 'O', 'O', 'O', 'O', 'O', 'O', 'O', 'O', 'O', 'O', 'O', 'O', 'O', 'O', 'O', 'O', 'O', 'O', 'O', 'O', 'O', 'O', 'O', 'O', 'O', 'O', 'O', 'O', 'O', 'O', 'O', 'O', 'O', 'O', 'O', 'O', 'O', 'O', 'O', 'O', 'O', 'O', 'O', 'O', 'O', 'B-SKILLS', 'I-SKILLS', 'I-SKILLS', 'I-SKILLS', 'I-SKILLS', 'I-SKILLS', 'I-SKILLS', 'I-SKILLS', 'I-SKILLS', 'I-SKILLS', 'I-SKILLS', 'I-SKILLS', 'I-SKILLS', 'I-SKILLS', 'I-SKILLS', 'I-SKILLS', 'I-SKILLS', 'I-SKILLS', 'I-SKILLS', 'I-SKILLS', 'I-SKILLS', 'I-SKILLS', 'I-SKILLS', 'I-SKILLS', 'I-SKILLS', 'I-SKILLS', 'I-SKILLS', 'I-SKILLS', 'I-SKILLS', 'I-SKILLS', 'I-SKILLS', 'I-SKILLS', 'I-SKILLS', 'I-SKILLS', 'L-SKILLS', 'O', 'O', 'O', 'O', 'O', 'O', 'O', 'O'], ['O', 'O', 'O', 'O', 'O', 'O', 'O', 'O', 'O', 'O', 'O', 'O', 'O', 'O', 'B-DEG', 'I-DEG', 'O', 'O', 'O', 'O', 'O', 'O', 'O', 'O', 'O', 'B-SKILLS', 'I-SKILLS', 'I-SKILLS', 'I-SKILLS', 'I-SKILLS', 'I-SKILLS', 'I-SKILLS', 'I-SKILLS', 'I-SKILLS', 'I-SKILLS', 'I-SKILLS', 'I-SKILLS', 'I-SKILLS', 'I-SKILLS', 'I-SKILLS', 'I-SKILLS', 'I-SKILLS', 'I-SKILLS', 'I-SKILLS', 'I-SKILLS', 'I-SKILLS', 'I-SKILLS', 'I-SKILLS', 'L-SKILLS', 'O', 'O', 'O', 'O', 'O', 'O', 'O', 'O', 'O', 'O', 'O', 'O', 'O'], ['O', 'O', 'O', 'O', 'O', 'O', 'O', 'O', 'O', 'O', 'O', 'O', 'U-COMPANY', 'O', 'O', 'O'], ['O', 'O', 'O', 'O', 'O', 'B-SKILLS', 'I-SKILLS', 'I-SKILLS', 'I-SKILLS', 'I-SKILLS', 'L-SKILLS', 'O', 'O', 'O', 'B-SKILLS', 'L-SKILLS', 'O', 'U-SKILLS'], ['B-NAME', 'L-NAME', 'B-DESIG', 'I-DESIG', 'L-DESIG', 'U-LOC', 'O', 'O', 'O', 'O', 'O', 'O', 'O', 'O', 'U-EMAIL', 'O', 'O', 'O', 'O', 'O', 'O', 'O', 'O', 'O', 'O', 'O', 'O', 'O', 'O', 'O', 'O'], ['O', 'O', 'O', 'O', 'O', 'O', 'O', 'O', 'B-DESIG', 'I-DESIG', 'I-DESIG', 'O', 'O', 'O'], ['O', 'O', 'O', 'O', 'O', 'O', 'B-DESIG', 'L-DESIG'], ['B-NAME', 'I-NAME', 'L-NAME', 'U-LOC', 'O', 'O', 'O', 'O', 'O', 'O', 'O', 'O', 'O', 'B-EMAIL', 'L-EMAIL', 'O', 'O', 'O', 'O', 'O', 'U-LOC', 'O', 'O', 'O', 'O', 'O', 'O', 'O', 'O', 'O', 'O', 'O', 'O', 'O', 'O', 'O', 'B-SKILLS', 'L-SKILLS', 'O', 'O', 'U-LOC', 'O', 'O', 'O', 'O', 'O', 'O', 'O', 'O', 'O', 'O', 'O', 'O', 'O', 'O', 'O', 'O', 'O', 'B-CLG', 'I-CLG', 'L-CLG', 'O', 'U-LOC', 'O', 'O', 'O', 'O', 'O', 'O', 'O', 'O', 'O', 'B-SKILLS', 'I-SKILLS', 'I-SKILLS', 'I-SKILLS', 'I-SKILLS', 'I-SKILLS', 'I-SKILLS', 'I-SKILLS', 'I-SKILLS', 'I-SKILLS', 'I-SKILLS', 'L-SKILLS', 'O', 'O', 'O', 'B-DEG', 'I-DEG', 'I-DEG', 'I-DEG', 'I-DEG', 'I-DEG', 'O', 'O', 'O', 'O', 'O', 'O', 'O', 'O', 'O', 'O', 'O', 'O', 'O', 'O', 'O', 'O', 'O', 'O'], ['O', 'O', 'O', 'O', 'B-SKILLS', 'I-SKILLS', 'I-SKILLS', 'I-SKILLS', 'L-SKILLS', 'O', 'O', 'O', 'O', 'O', 'O', 'O', 'O', 'O', 'O', 'O', 'O'], ['O', 'O', 'O', 'O', 'O', 'O', 'O', 'O', 'O', 'O', 'O', 'O', 'O', 'O', 'O', 'O', 'O', 'O', 'O', 'O', 'O', 'O', 'O', 'O', 'O', 'O', 'O', 'O', 'O', 'O', 'O', 'O', 'O', 'O', 'O', 'I-DEG', 'I-DEG', 'I-DEG', 'I-DEG', 'I-DEG', 'I-DEG', 'L-DEG', 'B-CLG', 'I-CLG', 'I-CLG', 'I-CLG', 'I-CLG', 'I-CLG', 'I-CLG', 'L-CLG', 'O', 'U-LOC', 'O', 'O', 'O', 'O', 'O', 'O', 'O', 'O', 'O', 'O', 'O', 'O', 'O', 'O', 'B-SKILLS', 'I-SKILLS', 'I-SKILLS', 'I-SKILLS', 'I-SKILLS', 'I-SKILLS', 'I-SKILLS', 'I-SKILLS', 'I-SKILLS', 'I-SKILLS', 'I-SKILLS', 'I-SKILLS', 'I-SKILLS', 'I-SKILLS', 'I-SKILLS', 'I-SKILLS', 'I-SKILLS', 'I-SKILLS', 'I-SKILLS', 'I-SKILLS', 'I-SKILLS', 'I-SKILLS', 'I-SKILLS', 'I-SKILLS', 'I-SKILLS', 'I-SKILLS', 'I-SKILLS', 'I-SKILLS', 'I-SKILLS', 'I-SKILLS', 'I-SKILLS', 'I-SKILLS', 'I-SKILLS', 'I-SKILLS', 'I-SKILLS', 'I-SKILLS', 'I-SKILLS', 'I-SKILLS', 'I-SKILLS', 'L-SKILLS', 'O', 'O', 'O', 'O', 'O', 'O', 'O', 'O', 'O', 'O', 'O', 'O', 'O', 'O', 'O', 'O', 'O', 'O', 'O', 'O', 'O', 'O', 'O', 'O', 'O', 'O', 'O', 'O', 'O', 'O', 'O', 'O', 'O', 'O', 'O', 'O', 'O', 'O', 'O', 'O', 'O', 'O', 'O', 'O', 'O', 'O', 'O', 'O', 'O', 'O', 'O', 'O', 'O'], ['O', 'B-DESIG', 'I-DESIG', 'U-COMPANY', 'O', 'O', 'O', 'O', 'O', 'O', 'O', 'O', 'O', 'O', 'O', 'O', 'O', 'O'], ['O', 'I-DESIG', 'L-DESIG', 'B-COMPANY', 'L-COMPANY', 'O', 'O', 'O', 'O', 'O', 'O', 'O', 'O', 'O', 'O', 'O', 'O', 'O', 'O', 'O', 'O', 'O', 'O', 'O', 'O', 'O', 'O', 'O'], ['O', 'O', 'O', 'O', 'O', 'O', 'B-COMPANY', 'I-COMPANY', 'L-COMPANY', 'O', 'O', 'O', 'O', 'O', 'O', 'O', 'O', 'O', 'O', 'O', 'O', 'O', 'O', 'O', 'O', 'O', 'O', 'B-COMPANY', 'I-COMPANY', 'L-COMPANY', 'O', 'O', 'O', 'O', 'O', 'O', 'O'], ['O', 'O', 'O', 'O', 'O', 'O', 'O', 'O', 'O', 'O', 'O', 'O', 'O', 'O', 'O', 'O', 'O', 'O', 'O', 'O', 'O', 'O', 'O', 'O', 'O', 'O', 'O', 'O', 'O', 'O', 'O', 'O', 'O', 'O', 'O', 'O', 'O', 'O', 'O', 'O', 'O', 'O', 'O', 'O', 'O', 'O', 'O', 'O', 'O', 'O', 'O', 'O', 'O', 'O', 'O', 'O', 'O', 'O', 'O', 'O', 'O', 'O', 'O', 'O', 'O', 'O', 'O', 'O', 'O', 'O', 'O', 'O', 'O', 'O', 'O', 'O', 'O', 'O', 'O', 'O', 'O', 'O', 'O', 'O', 'O', 'O', 'O', 'O', 'O', 'O', 'O', 'O', 'O', 'O', 'O', 'O', 'O', 'O', 'O', 'O', 'O', 'O', 'O', 'O', 'O', 'O', 'O', 'O', 'O', 'O', 'O', 'O', 'O', 'O', 'O', 'O', 'O', 'O', 'O', 'O', 'O', 'O', 'O', 'O', 'O', 'O', 'O', 'B-DESIG', 'L-DESIG', 'B-COMPANY', 'L-COMPANY', 'O', 'O', 'O', 'O', 'O', 'O', 'O', 'O', 'O', 'O', 'O', 'O', 'O', 'O', 'O', 'O', 'O', 'O', 'O', 'O', 'O', 'O'], ['O', 'O', 'O', 'O', 'B-DEG', 'I-DEG', 'I-DEG', 'I-DEG', 'I-DEG', 'I-DEG', 'L-DEG', 'O', 'O', 'B-CLG', 'L-CLG', 'O', 'O', 'O', 'O', 'O', 'O', 'O', 'O', 'U-GRADYEAR', 'O', 'O', 'O', 'O', 'O', 'O', 'O', 'O', 'O', 'O', 'O', 'O', 'O', 'O', 'O', 'O', 'O', 'O', 'O', 'O', 'O', 'O', 'O', 'O', 'O', 'O', 'O', 'O', 'O', 'O', 'O', 'O', 'O', 'O', 'O', 'O', 'O', 'O', 'O', 'O', 'O', 'O', 'O', 'O', 'O', 'O', 'O', 'O'], ['O', 'O', 'O', 'U-SKILLS', 'O', 'U-SKILLS', 'O', 'O', 'O', 'O', 'O', 'O', 'O', 'O', 'O', 'O', 'O', 'O', 'O', 'O', 'O', 'O', 'U-SKILLS', 'O', 'O', 'U-SKILLS', 'O', 'U-SKILLS', 'O', 'U-SKILLS', 'O', 'B-SKILLS', 'L-SKILLS', 'O', 'U-SKILLS', 'O', 'O', 'O', 'O', 'U-SKILLS', 'O', 'O', 'O', 'O', 'U-SKILLS', 'O', 'O', 'O'], ['O', 'B-DESIG', 'L-DESIG', 'O', 'O', 'O', 'O', 'U-LOC', 'O', 'O', 'O', 'O', 'U-GRADYEAR', 'O', 'O', 'O', 'B-DEG', 'I-DEG', 'L-DEG', 'B-CLG', 'I-CLG', 'I-CLG', 'I-CLG', 'U-GRADYEAR', 'I-CLG', 'I-CLG', 'I-CLG', 'I-CLG', 'U-GRADYEAR', 'O', 'I-SKILLS', 'I-SKILLS', 'I-SKILLS', 'I-SKILLS', 'I-SKILLS', 'I-SKILLS', 'L-SKILLS'], ['O', 'O', 'O', 'O', 'O', 'O', 'O', 'U-COMPANY', 'O', 'O', 'O', 'O', 'O', 'O', 'O', 'O', 'O', 'O', 'O', 'O', 'O', 'O', 'O', 'O', 'O', 'O', 'O', 'O', 'O', 'O', 'O', 'O', 'O', 'O', 'O', 'O', 'O', 'O', 'O', 'O', 'O', 'O', 'O'], ['O', 'O', 'O', 'B-DESIG', 'I-DESIG', 'I-DESIG', 'U-COMPANY', 'O', 'O', 'O', 'O', 'O', 'O', 'O', 'O', 'O', 'O', 'O', 'O', 'O', 'O', 'O', 'O', 'O', 'U-COMPANY', 'O', 'O', 'O'], ['B-NAME', 'I-NAME', 'L-NAME', 'O', 'O', 'U-LOC', 'O', 'O', 'O', 'O', 'O', 'O', 'O', 'O', 'O', 'B-EMAIL', 'L-EMAIL', 'O', 'O', 'O', 'O', 'O', 'O', 'O', 'O', 'O', 'O', 'O', 'O', 'O', 'O', 'B-DESIG', 'I-DESIG', 'U-COMPANY', 'O', 'O', 'O', 'O', 'O', 'O', 'O', 'O', 'O', 'O', 'O', 'O', 'O', 'O', 'O', 'O', 'O', 'O', 'O', 'O', 'O', 'U-COMPANY', 'O', 'O', 'O', 'O', 'O', 'O', 'O', 'O', 'O', 'O', 'O', 'O', 'O', 'O', 'O', 'O', 'O', 'O', 'O', 'O', 'O', 'O', 'O', 'O', 'O', 'O', 'O', 'O', 'O', 'O', 'O', 'O', 'O', 'O', 'O', 'B-SKILLS', 'I-SKILLS', 'I-SKILLS', 'I-SKILLS', 'I-SKILLS', 'I-SKILLS', 'I-SKILLS', 'L-SKILLS', 'O', 'O', 'B-SKILLS', 'I-SKILLS', 'I-SKILLS', 'O', 'O'], ['O', 'O', 'B-DEG', 'I-DEG', 'I-DEG', 'I-DEG', 'I-DEG', 'B-CLG', 'I-CLG', 'L-CLG', 'O', 'U-LOC', 'O', 'O', 'U-GRADYEAR', 'O', 'O', 'B-CLG', 'I-CLG', 'I-CLG', 'I-CLG', 'L-CLG', 'B-CLG', 'I-CLG', 'I-CLG', 'I-CLG', 'L-CLG', 'O', 'B-SKILLS', 'I-SKILLS', 'I-SKILLS', 'I-SKILLS', 'I-SKILLS', 'I-SKILLS', 'I-SKILLS', 'I-SKILLS', 'I-SKILLS', 'I-SKILLS', 'I-SKILLS', 'I-SKILLS', 'I-SKILLS', 'I-SKILLS', 'I-SKILLS', 'I-SKILLS', 'I-SKILLS', 'I-SKILLS', 'L-SKILLS', 'O', 'O', 'O', 'O', 'O', 'O', 'O', 'O', 'O', 'O', 'O', 'O', 'O', 'O', 'O', 'O', 'O', 'O', 'O', 'O', 'O', 'O', 'O', 'O'], ['O', 'O', 'O', 'B-DESIG', 'L-DESIG', 'O', 'O', 'O', 'O', 'O', 'O', 'O', 'O', 'O', 'O', 'O', 'B-DESIG', 'L-DESIG', 'U-COMPANY', 'O', 'B-DESIG', 'L-DESIG', 'O', 'O', 'O', 'O', 'O', 'O', 'O', 'O', 'O', 'O', 'O', 'O', 'O', 'O', 'O', 'O', 'O', 'O', 'O'], ['B-NAME', 'L-NAME', 'B-DESIG', 'I-DESIG', 'L-DESIG', 'O', 'B-CLG', 'I-CLG', 'L-CLG', 'O', 'O', 'O', 'O', 'O', 'O', 'O', 'O', 'O', 'O', 'O', 'O', 'O', 'O', 'O', 'O', 'O', 'O', 'O', 'O', 'O', 'O', 'O', 'O', 'O', 'O', 'O', 'O', 'O', 'O', 'O', 'O', 'O', 'O', 'O', 'O', 'O', 'O', 'O', 'O', 'O'], ['O', 'O', 'O', 'O', 'O', 'O', 'O', 'O', 'O', 'O', 'O', 'O', 'O', 'O', 'O', 'O', 'O', 'O', 'O', 'O', 'O', 'O', 'O', 'O', 'O', 'O', 'O', 'O', 'O', 'O', 'O', 'O', 'O', 'O', 'O', 'B-SKILLS', 'I-SKILLS', 'I-SKILLS', 'I-SKILLS', 'I-SKILLS', 'I-SKILLS', 'I-SKILLS', 'I-SKILLS', 'I-SKILLS', 'I-SKILLS', 'I-SKILLS', 'I-SKILLS', 'I-SKILLS', 'I-SKILLS', 'I-SKILLS', 'I-SKILLS', 'I-SKILLS', 'I-SKILLS', 'I-SKILLS', 'I-SKILLS', 'I-SKILLS', 'I-SKILLS', 'I-SKILLS', 'I-SKILLS', 'I-SKILLS', 'I-SKILLS', 'I-SKILLS', 'I-SKILLS', 'I-SKILLS', 'I-SKILLS', 'I-SKILLS', 'I-SKILLS', 'I-SKILLS', 'I-SKILLS', 'I-SKILLS', 'I-SKILLS', 'I-SKILLS', 'I-SKILLS', 'I-SKILLS', 'I-SKILLS', 'I-SKILLS', 'O', 'O', 'O', 'O', 'O', 'O', 'O', 'O', 'O', 'O', 'O', 'O', 'O', 'O', 'O', 'O'], ['O', 'O', 'O', 'O', 'O', 'O', 'O', 'O', 'O', 'O', 'O', 'O', 'O', 'O', 'B-DEG', 'I-DEG', 'I-DEG', 'I-DEG', 'B-CLG', 'I-CLG', 'L-CLG', 'O', 'O', 'O', 'O', 'O', 'U-GRADYEAR', 'O', 'O', 'O', 'O', 'O', 'O', 'B-SKILLS', 'I-SKILLS', 'I-SKILLS', 'I-SKILLS', 'I-SKILLS', 'I-SKILLS', 'I-SKILLS', 'L-SKILLS', 'O', 'O', 'O', 'O', 'O', 'O', 'O', 'O', 'O', 'O', 'O', 'O', 'O', 'O', 'O', 'O', 'O', 'O', 'O', 'O', 'O', 'O', 'O', 'O', 'O', 'O', 'O', 'O'], ['B-NAME', 'L-NAME', 'U-LOC', 'O', 'O', 'O', 'O', 'O', 'O', 'O', 'O', 'B-EMAIL', 'L-EMAIL', 'O', 'O', 'O', 'O', 'O', 'O', 'O', 'O', 'O', 'O', 'O', 'O', 'O', 'O', 'O', 'O', 'O', 'O', 'O', 'O', 'O', 'O', 'O'], ['O', 'O', 'O', 'O', 'O', 'O', 'O', 'O', 'O', 'O', 'O', 'O', 'O', 'O', 'O', 'O', 'O', 'O', 'O', 'O', 'U-COMPANY', 'O', 'O', 'O', 'O', 'O', 'O', 'O', 'O', 'O', 'O', 'O', 'O', 'O', 'O', 'O', 'O', 'O', 'O', 'O', 'O', 'O', 'O', 'O', 'O', 'O', 'O', 'O', 'O', 'O', 'O', 'O', 'O', 'O', 'O', 'O', 'O', 'O', 'O', 'O', 'O', 'O', 'O', 'O', 'O', 'O', 'O', 'O', 'O', 'O', 'O', 'O', 'O', 'O', 'O', 'O', 'O', 'O', 'O', 'O', 'O', 'O', 'O', 'O', 'O', 'O', 'O', 'O', 'O', 'O', 'O', 'O', 'O', 'O', 'O', 'O', 'O', 'O', 'O', 'O', 'O', 'O', 'O', 'O', 'O', 'O', 'O', 'O', 'O', 'O', 'O', 'O', 'O', 'O', 'O', 'O', 'O', 'O', 'O', 'O', 'O', 'O', 'O', 'O', 'O', 'O', 'O', 'O', 'O', 'O', 'O', 'O', 'O', 'O', 'O', 'O', 'O', 'O', 'O', 'O', 'O', 'O', 'O', 'O', 'O', 'O', 'O', 'O', 'O', 'O', 'O', 'O', 'O', 'O', 'O', 'O', 'O', 'O', 'O', 'O', 'O', 'O', 'O', 'O', 'O', 'O', 'O', 'O', 'O', 'O', 'O', 'O', 'O', 'B-COMPANY', 'I-COMPANY', 'I-COMPANY', 'I-COMPANY', 'L-COMPANY', 'B-CLG', 'I-CLG', 'L-CLG', 'O', 'B-SKILLS', 'I-SKILLS', 'I-SKILLS', 'I-SKILLS', 'I-SKILLS', 'I-SKILLS', 'I-SKILLS', 'I-SKILLS', 'I-SKILLS', 'I-SKILLS', 'I-SKILLS', 'I-SKILLS', 'I-SKILLS', 'I-SKILLS', 'I-SKILLS', 'I-SKILLS', 'I-SKILLS', 'I-SKILLS', 'I-SKILLS', 'I-SKILLS', 'I-SKILLS', 'I-SKILLS', 'I-SKILLS', 'I-SKILLS', 'I-SKILLS', 'I-SKILLS', 'I-SKILLS', 'I-SKILLS', 'I-SKILLS', 'I-SKILLS', 'I-SKILLS', 'I-SKILLS', 'I-SKILLS', 'I-SKILLS', 'I-SKILLS', 'I-SKILLS', 'I-SKILLS', 'I-SKILLS', 'I-SKILLS', 'I-SKILLS', 'I-SKILLS', 'I-SKILLS', 'I-SKILLS', 'I-SKILLS', 'I-SKILLS', 'I-SKILLS', 'I-SKILLS', 'O', 'O', 'O', 'O', 'O', 'O', 'U-COMPANY', 'O', 'O', 'O', 'U-COMPANY', 'O', 'O', 'O', 'U-COMPANY', 'O', 'O', 'O', 'O', 'O', 'O', 'O', 'O', 'O', 'O', 'O', 'U-COMPANY', 'O', 'O', 'O', 'U-COMPANY', 'O', 'O', 'O', 'O', 'O', 'O', 'O', 'O', 'O', 'O', 'O', 'O', 'O', 'O', 'O', 'O', 'O', 'O', 'O', 'O', 'O', 'O', 'O', 'O', 'O', 'O', 'O', 'O', 'O', 'O', 'O', 'O', 'O', 'O', 'O', 'O', 'O', 'O', 'O', 'O', 'O', 'O', 'O', 'O', 'O', 'O', 'O', 'O', 'O', 'O', 'O', 'O'], ['O', 'O', 'O', 'O', 'O', 'O', 'O', 'O', 'O', 'O', 'O', 'O', 'O', 'O', 'O', 'O', 'O', 'O', 'O', 'O', 'O', 'O', 'U-GRADYEAR', 'O', 'O', 'O', 'O', 'O', 'O', 'O', 'O', 'O'], ['O', 'O', 'O', 'O', 'O', 'O', 'O', 'O', 'O', 'O', 'O', 'O', 'O', 'O', 'O', 'O', 'O', 'O', 'O', 'O', 'O', 'O', 'O', 'O', 'O', 'O', 'O', 'O', 'O', 'O', 'O', 'O', 'O', 'O', 'O', 'O', 'O', 'O', 'O', 'O', 'O', 'O', 'O', 'O', 'O', 'O', 'O', 'O', 'O', 'O', 'O', 'O', 'O', 'O', 'O', 'O', 'O', 'O', 'O', 'O', 'O', 'O', 'O', 'O', 'O', 'O', 'O', 'O', 'O', 'O', 'O', 'O', 'O', 'O', 'O', 'O', 'O', 'O', 'O', 'O', 'O', 'O', 'O', 'O', 'O', 'O', 'O', 'O', 'O', 'O', 'O', 'O', 'O', 'O', 'O', 'O', 'O', 'O', 'O', 'O', 'B-DEG', 'I-DEG', 'L-DEG', 'O', 'O', 'O', 'O', 'O', 'O', 'U-GRADYEAR', 'O', 'O', 'B-DEG', 'I-DEG', 'I-DEG', 'I-DEG', 'I-DEG', 'I-DEG', 'I-DEG', 'O', 'O', 'O', 'O', 'O', 'O', 'O', 'O', 'O', 'O', 'O', 'O', 'O', 'O', 'O', 'O', 'O', 'U-GRADYEAR', 'O', 'O', 'O', 'O', 'O', 'O', 'O', 'O', 'O', 'O', 'O', 'O', 'O', 'O', 'O', 'O', 'O', 'O', 'O', 'O', 'O', 'O', 'O', 'O', 'O', 'O', 'O', 'O', 'O', 'O', 'O', 'I-SKILLS', 'I-SKILLS', 'I-SKILLS', 'I-SKILLS', 'I-SKILLS', 'L-SKILLS'], ['O', 'B-DESIG', 'I-DESIG', 'B-COMPANY', 'L-COMPANY', 'O', 'O', 'O', 'O', 'O', 'O', 'O', 'O', 'O', 'O', 'O', 'O', 'O', 'O', 'O', 'O', 'O', 'O', 'O', 'O', 'O', 'O', 'O', 'O', 'O', 'O', 'O', 'O', 'O', 'O', 'O', 'O', 'O', 'O', 'O'], ['B-NAME', 'L-NAME', 'O', 'O', 'O', 'O', 'B-COMPANY', 'L-COMPANY', 'U-LOC', 'O', 'O', 'O', 'O', 'O', 'O', 'O', 'O', 'B-EMAIL', 'O', 'O', 'O', 'O', 'O', 'B-COMPANY', 'L-COMPANY', 'O', 'O', 'U-GRADYEAR', 'O', 'O', 'O', 'O', 'O', 'O', 'O', 'O', 'O', 'O', 'O', 'O', 'O', 'O', 'O', 'O', 'O', 'O', 'O', 'O', 'O'], ['O', 'O', 'O', 'O', 'O', 'O', 'O', 'O', 'B-DESIG', 'I-DESIG', 'L-DESIG', 'O', 'O', 'O', 'O', 'O', 'O', 'O', 'O', 'O', 'O', 'O', 'O', 'O', 'O', 'O', 'O', 'O', 'O', 'O', 'O', 'O'], ['O', 'O', 'O', 'O', 'O', 'O', 'O', 'O', 'O', 'O', 'O', 'B-DESIG', 'L-DESIG', 'U-COMPANY', 'O', 'O', 'O', 'O', 'O', 'O', 'U-GRADYEAR', 'O', 'O', 'O', 'O', 'O', 'O', 'O', 'O', 'B-YOE', 'L-YOE', 'O', 'B-COMPANY', 'I-COMPANY', 'L-COMPANY', 'O', 'O', 'O', 'O', 'O', 'O', 'O'], ['O', 'O', 'O', 'O', 'B-DESIG', 'L-DESIG', 'O', 'U-COMPANY', 'O', 'O', 'O', 'O', 'O', 'O', 'O', 'O', 'O', 'O', 'O', 'O', 'O', 'U-COMPANY', 'O', 'O', 'O', 'O', 'O'], ['O', 'O', 'O', 'U-SKILLS', 'O', 'U-SKILLS', 'O', 'O', 'O', 'O', 'O', 'O'], ['O', 'O', 'O', 'B-DESIG', 'I-DESIG', 'I-DESIG', 'I-DESIG', 'I-DESIG', 'L-DESIG', 'O', 'O', 'O', 'O', 'O', 'O', 'O', 'O'], ['O', 'O', 'O', 'B-DESIG', 'I-DESIG', 'I-DESIG', 'I-DESIG', 'I-DESIG', 'I-DESIG', 'I-DESIG', 'I-DESIG', 'I-DESIG', 'O', 'O', 'O', 'O', 'O', 'O', 'O', 'U-DEG', 'B-CLG', 'I-CLG', 'I-CLG', 'I-CLG', 'I-CLG', 'I-CLG', 'I-CLG', 'O', 'U-DEG', 'B-CLG', 'I-CLG', 'I-CLG', 'I-CLG', 'I-CLG', 'I-CLG', 'I-CLG', 'U-GRADYEAR', 'O', 'B-LOC', 'I-LOC', 'I-LOC', 'I-LOC', 'I-LOC', 'I-LOC', 'I-LOC', 'L-LOC', 'U-GRADYEAR', 'O', 'B-LOC', 'I-LOC', 'I-LOC', 'I-LOC', 'I-LOC', 'I-LOC', 'I-LOC', 'L-LOC', 'U-GRADYEAR', 'O', 'U-SKILLS', 'O', 'O', 'O', 'O', 'O', 'O', 'O', 'U-SKILLS', 'O', 'O', 'O', 'O', 'O', 'O', 'O', 'U-SKILLS', 'O', 'U-SKILLS', 'O', 'O', 'O', 'O', 'O', 'O', 'O', 'U-SKILLS', 'O', 'O', 'O', 'O', 'O', 'O', 'O', 'O', 'O', 'O', 'O', 'O', 'O', 'O', 'O', 'O', 'O', 'O', 'O', 'O', 'O', 'O', 'O', 'O', 'O', 'O', 'O', 'O', 'O', 'O', 'O', 'O', 'O', 'O', 'O', 'O', 'O', 'O', 'O', 'O', 'O', 'U-SKILLS', 'O', 'O', 'O', 'O', 'O', 'O', 'O', 'O', 'O', 'O', 'O', 'O', 'O', 'O', 'O', 'O', 'O', 'O', 'O', 'O', 'O', 'O', 'O', 'O', 'O', 'O', 'O', 'O', 'O', 'O'], ['O', 'O', 'O', 'O', 'O', 'O', 'U-LOC', 'O', 'O', 'O', 'O', 'B-DESIG', 'L-DESIG', 'U-COMPANY', 'O', 'O', 'O', 'O', 'O', 'O', 'O', 'O', 'O', 'O', 'O', 'O', 'O', 'O', 'O', 'O', 'O', 'O', 'O', 'O', 'O', 'O', 'O', 'O', 'O', 'O', 'O', 'O', 'O', 'O', 'O', 'O', 'O', 'O', 'O', 'O', 'O'], ['O', 'O', 'O', 'O', 'O', 'O', 'O', 'O', 'O', 'O', 'O', 'O', 'B-DEG', 'I-DEG', 'I-DEG', 'I-DEG', 'I-DEG', 'O', 'O', 'O', 'O', 'O', 'O', 'B-GRADYEAR', 'O', 'O', 'O', 'U-LOC', 'O', 'O', 'O', 'O', 'U-DEG', 'O', 'O', 'O', 'O', 'O', 'U-LOC', 'O', 'O', 'O', 'O', 'O', 'O', 'O', 'O', 'O', 'O'], ['O', 'O', 'U-LOC', 'O', 'O', 'O', 'O', 'O', 'O', 'O', 'O', 'O', 'O', 'O', 'O', 'O', 'O', 'O', 'O', 'O', 'O', 'U-COMPANY', 'O', 'O', 'O', 'O', 'O', 'O', 'O', 'O', 'O', 'O', 'O', 'O', 'O', 'O', 'O', 'O', 'O', 'O'], ['O', 'O', 'O', 'U-COMPANY', 'O', 'O', 'O', 'O', 'O', 'O', 'O', 'O', 'O', 'O', 'O', 'O', 'O', 'O', 'O', 'O', 'O', 'O', 'O', 'O', 'O', 'O', 'O', 'O', 'O', 'O', 'O', 'O', 'O', 'O', 'O', 'O', 'O', 'O', 'O', 'O', 'O', 'O', 'O', 'O', 'O', 'O', 'O', 'O', 'O', 'O', 'O', 'O', 'O', 'O', 'O', 'O'], ['O', 'O', 'O', 'O', 'O', 'O', 'O', 'O', 'O', 'O', 'O', 'O', 'O', 'U-COMPANY', 'O', 'O'], ['O', 'O', 'O', 'O', 'O', 'O', 'O', 'U-COMPANY', 'O', 'U-LOC', 'O', 'O', 'O', 'O', 'O', 'O', 'O', 'O', 'O', 'O', 'O', 'O', 'O', 'O', 'O', 'O', 'O', 'O', 'O', 'O', 'O', 'O', 'O', 'O', 'O', 'O', 'O', 'O', 'O', 'O'], ['O', 'O', 'O', 'B-DESIG', 'I-DESIG', 'I-DESIG', 'I-DESIG', 'O', 'O', 'O', 'O', 'O', 'O', 'O', 'O', 'O', 'O', 'O', 'O', 'O', 'O', 'B-SKILLS', 'I-SKILLS', 'I-SKILLS', 'I-SKILLS', 'I-SKILLS', 'I-SKILLS', 'I-SKILLS', 'I-SKILLS', 'I-SKILLS', 'I-SKILLS', 'I-SKILLS', 'I-SKILLS', 'I-SKILLS', 'I-SKILLS', 'I-SKILLS', 'I-SKILLS', 'I-SKILLS', 'O', 'O', 'O', 'O', 'O', 'O', 'O', 'O', 'O', 'O', 'O', 'O', 'O', 'O', 'O', 'O', 'O', 'O', 'O', 'O', 'O', 'O', 'O', 'O', 'O', 'O', 'O', 'O', 'O', 'O', 'O', 'O', 'O', 'O', 'O', 'O', 'O', 'O', 'O', 'O', 'O', 'O', 'O', 'O', 'O', 'O', 'O', 'O', 'O', 'O', 'O', 'O', 'O', 'O', 'O', 'O', 'O', 'O', 'O', 'O', 'O', 'O', 'O', 'O', 'O', 'O', 'O', 'U-LOC', 'O', 'O', 'O', 'O', 'O', 'O', 'O', 'O', 'B-CLG', 'I-CLG', 'L-CLG', 'O', 'U-LOC', 'O', 'O', 'O', 'O', 'O', 'O', 'O', 'O', 'O', 'O', 'O', 'O', 'O'], ['B-NAME', 'L-NAME', 'O', 'O', 'O', 'O', 'O', 'O', 'O', 'U-EMAIL', 'O', 'O', 'B-DESIG', 'I-DESIG', 'U-COMPANY', 'O', 'O', 'O', 'O', 'O', 'O', 'B-DEG', 'I-DEG', 'B-CLG', 'I-CLG', 'I-CLG', 'O', 'B-SKILLS', 'I-SKILLS', 'I-SKILLS', 'I-SKILLS', 'L-SKILLS', 'O'], ['O', 'O', 'O', 'O', 'O', 'O', 'O', 'O', 'B-DESIG', 'I-DESIG', 'L-DESIG', 'U-COMPANY', 'O', 'O', 'B-COMPANY', 'I-COMPANY', 'L-COMPANY', 'O', 'B-YOE', 'L-YOE', 'U-GRADYEAR', 'O', 'O', 'O', 'O', 'O', 'O', 'O', 'O', 'O', 'O', 'U-COMPANY', 'O', 'U-COMPANY', 'O', 'O', 'O', 'O', 'O', 'O', 'O', 'O', 'O', 'O', 'O', 'O', 'O', 'O'], ['O', 'B-DESIG', 'I-DESIG', 'I-DESIG', 'I-DESIG', 'L-DESIG', 'U-COMPANY', 'O', 'O', 'O', 'O', 'O', 'O', 'O', 'O', 'O', 'O', 'O', 'O', 'O', 'O', 'O', 'O', 'O', 'O', 'O', 'O', 'O', 'O', 'O', 'O', 'O', 'O', 'O', 'O', 'O', 'O', 'O'], ['O', 'O', 'O', 'O', 'O', 'O', 'O', 'O', 'O', 'O', 'O', 'B-DESIG', 'L-DESIG', 'B-COMPANY', 'L-COMPANY', 'O', 'U-LOC', 'O', 'O', 'O', 'O', 'O', 'O', 'O', 'O', 'O', 'O', 'O', 'O', 'O', 'O', 'O', 'O', 'O', 'O', 'O', 'O', 'O', 'O', 'O', 'O', 'O', 'O', 'O', 'O', 'O'], ['O', 'O', 'O', 'O', 'O', 'O', 'O', 'O', 'O', 'O', 'O', 'O', 'O', 'O', 'O', 'O', 'O', 'O', 'O', 'O', 'O', 'O', 'O', 'O', 'O', 'O', 'O', 'O', 'O', 'O', 'O', 'O', 'O', 'O', 'O', 'O', 'O', 'U-COMPANY', 'O', 'O', 'O', 'O', 'O', 'U-COMPANY', 'O', 'O', 'O', 'O', 'U-COMPANY', 'O', 'O', 'O', 'O', 'U-COMPANY', 'O', 'O', 'O', 'O', 'O', 'O', 'O', 'O', 'O', 'O', 'O', 'O', 'O', 'O', 'O', 'O', 'O', 'O', 'O', 'O', 'O', 'O', 'O', 'B-DESIG', 'I-DESIG', 'L-DESIG', 'U-COMPANY', 'O', 'O', 'O', 'O', 'O', 'O', 'O', 'O', 'O', 'O', 'O', 'O', 'O', 'O', 'O', 'O', 'O', 'O', 'O', 'O', 'O', 'O', 'O', 'O', 'O', 'O', 'O', 'O', 'O', 'O', 'O', 'O', 'O', 'O', 'O', 'O', 'O'], ['O', 'O', 'O', 'O', 'B-COMPANY', 'L-COMPANY', 'O', 'O', 'O', 'O', 'O', 'O', 'O', 'O', 'O', 'O', 'O', 'O', 'O', 'O', 'O', 'O', 'O', 'O', 'O', 'O', 'O', 'O', 'O', 'O', 'O', 'O', 'O', 'O', 'O', 'O', 'O', 'O', 'O', 'O', 'O'], ['O', 'B-DESIG', 'L-DESIG', 'O', 'O', 'O'], ['O', 'O', 'O', 'O', 'O', 'O', 'O', 'O', 'O', 'O', 'O', 'O', 'O', 'O', 'O', 'O', 'O', 'O', 'O', 'O', 'O', 'O', 'O', 'O', 'O', 'O', 'O', 'O', 'O', 'O', 'O', 'O', 'O', 'O', 'O', 'O', 'O', 'O', 'O', 'O', 'O', 'O', 'O', 'O', 'O', 'O', 'O', 'O', 'O', 'O', 'O', 'O', 'O', 'O', 'O', 'O', 'O', 'O', 'O', 'O', 'O', 'O', 'O', 'O', 'O', 'O', 'O', 'O', 'O', 'O', 'O', 'O', 'O', 'O', 'O', 'O', 'O', 'O', 'O', 'O', 'O', 'O', 'O', 'O', 'O', 'O', 'O', 'O', 'O', 'O', 'O', 'O', 'O', 'O', 'O', 'O', 'O', 'O', 'O', 'O', 'O', 'O', 'O', 'O', 'O', 'O', 'O', 'O', 'O', 'O', 'O', 'O', 'O', 'O', 'O', 'O', 'O', 'O', 'O', 'O', 'O', 'O', 'B-DESIG', 'L-DESIG', 'O', 'O', 'O', 'O', 'O', 'O', 'O', 'O', 'O', 'O', 'O', 'O', 'O', 'O', 'O', 'O', 'O', 'O', 'O', 'O', 'O', 'O', 'O'], ['O', 'O', 'O', 'O', 'O', 'O', 'O', 'O', 'O', 'O', 'O', 'O', 'O', 'O', 'O', 'O', 'O', 'O', 'O', 'O', 'O', 'O', 'O', 'O', 'B-DEG', 'I-DEG', 'I-DEG', 'I-DEG', 'L-DEG', 'O', 'O', 'O', 'O', 'O', 'O', 'O', 'U-GRADYEAR'], ['O', 'O', 'O', 'O', 'O', 'O', 'O', 'O', 'O', 'O', 'O', 'O', 'O', 'O', 'O', 'O', 'O', 'O', 'O', 'U-COMPANY', 'O', 'O', 'O', 'O', 'O', 'O', 'O', 'U-COMPANY', 'O', 'O', 'O', 'O', 'O', 'O', 'O', 'O', 'O', 'O', 'O', 'O', 'O', 'O', 'O', 'O', 'O', 'O', 'O', 'O', 'O', 'O', 'O', 'O', 'O', 'O', 'O', 'O', 'O', 'O', 'O', 'O', 'O', 'O', 'O', 'O', 'O', 'O', 'O', 'O', 'O', 'O', 'O', 'O', 'O', 'O', 'O', 'O', 'O', 'O', 'O', 'O', 'O', 'O', 'O', 'O', 'O', 'O', 'O', 'O', 'O', 'O', 'O', 'O', 'O', 'O', 'O', 'O', 'O', 'O', 'O', 'O', 'O', 'O', 'O', 'O', 'O', 'O', 'O', 'O'], ['O', 'O', 'O', 'O', 'O', 'U-SKILLS', 'O', 'O', 'O', 'O'], ['B-NAME', 'L-NAME', 'U-LOC', 'O', 'O', 'O', 'O', 'O', 'O', 'O', 'O', 'O', 'O', 'O', 'O', 'O', 'B-DESIG', 'L-DESIG', 'U-COMPANY', 'O', 'O', 'O', 'O', 'O', 'B-DESIG', 'L-DESIG', 'O', 'U-DEG', 'U-CLG', 'O', 'B-SKILLS', 'I-SKILLS', 'I-SKILLS', 'I-SKILLS', 'I-SKILLS', 'I-SKILLS', 'I-SKILLS', 'I-SKILLS', 'O', 'O'], ['O', 'O', 'O', 'O', 'O', 'O', 'O', 'O', 'O', 'U-LOC', 'O', 'O', 'O', 'O', 'O', 'O', 'O', 'O', 'O', 'O', 'O', 'O', 'O', 'O', 'O', 'O', 'O', 'O', 'O', 'O', 'O', 'O', 'O', 'O', 'O', 'O', 'O', 'O', 'O', 'O', 'O', 'O', 'O', 'O', 'O', 'O', 'O', 'O'], ['B-NAME', 'L-NAME', 'O', 'O', 'O', 'O', 'B-COMPANY', 'L-COMPANY', 'U-LOC', 'O', 'O', 'O', 'O', 'O', 'O', 'O', 'O', 'O', 'O', 'O', 'O', 'O', 'O', 'O', 'O', 'O', 'O', 'O', 'O', 'O', 'O', 'O', 'O', 'O', 'O', 'O', 'O', 'O', 'O', 'O'], ['O', 'O', 'O', 'O', 'O', 'U-SKILLS', 'O', 'O', 'O', 'O', 'O', 'O', 'O', 'O', 'O', 'O', 'O', 'O', 'O', 'O'], ['B-NAME', 'L-NAME', 'B-DESIG', 'I-DESIG', 'I-DESIG', 'L-DESIG', 'O', 'B-DEG', 'I-DEG', 'I-DEG', 'I-DEG', 'L-DEG', 'O', 'B-YOE', 'L-YOE', 'O', 'U-LOC', 'O', 'O', 'O', 'O', 'O', 'O', 'O', 'O', 'U-EMAIL', 'O', 'O', 'O', 'O', 'O', 'O', 'O', 'O', 'O', 'O', 'O', 'O', 'O', 'O', 'O', 'O', 'O', 'O', 'O', 'O', 'O', 'O', 'O', 'O', 'O', 'O', 'O', 'O', 'O', 'O', 'O', 'O', 'O'], ['O', 'O', 'O', 'O', 'O', 'O', 'O', 'O', 'O', 'O', 'O', 'O', 'O', 'O', 'O', 'O', 'O', 'O', 'O', 'O', 'O', 'O', 'O', 'O', 'O', 'O', 'O', 'O', 'O', 'O', 'O', 'O', 'O', 'O', 'O', 'O', 'O', 'O', 'O', 'O', 'O', 'O', 'O', 'O', 'O', 'O', 'O', 'O', 'O', 'O', 'O', 'O', 'O', 'O', 'O', 'O', 'O', 'O', 'O', 'O', 'O', 'O', 'O', 'O', 'O', 'O', 'O', 'O', 'O', 'O', 'O', 'O', 'O', 'O', 'O', 'O', 'O', 'O', 'O', 'O', 'O', 'O', 'O', 'O', 'O', 'O', 'O', 'O', 'O', 'O', 'O', 'O', 'O', 'O', 'O', 'O', 'O', 'O', 'O', 'O', 'O', 'O', 'O', 'O', 'O', 'O', 'O', 'O', 'O', 'O', 'O', 'O', 'O', 'O', 'O', 'O', 'O', 'O', 'O', 'O', 'O', 'B-DEG', 'I-DEG', 'L-DEG', 'B-CLG', 'I-CLG', 'I-CLG', 'I-CLG', 'I-CLG', 'U-GRADYEAR', 'O', 'B-SKILLS', 'I-SKILLS', 'I-SKILLS', 'I-SKILLS', 'I-SKILLS', 'I-SKILLS', 'I-SKILLS', 'I-SKILLS', 'I-SKILLS', 'I-SKILLS', 'I-SKILLS', 'I-SKILLS', 'I-SKILLS', 'I-SKILLS', 'I-SKILLS', 'I-SKILLS', 'I-SKILLS', 'I-SKILLS', 'I-SKILLS', 'I-SKILLS', 'I-SKILLS', 'I-SKILLS', 'I-SKILLS', 'I-SKILLS', 'I-SKILLS', 'I-SKILLS', 'I-SKILLS', 'I-SKILLS', 'I-SKILLS', 'I-SKILLS', 'I-SKILLS', 'I-SKILLS', 'I-SKILLS', 'I-SKILLS', 'I-SKILLS', 'I-SKILLS', 'I-SKILLS', 'I-SKILLS', 'I-SKILLS', 'I-SKILLS', 'I-SKILLS', 'I-SKILLS', 'I-SKILLS', 'I-SKILLS', 'I-SKILLS', 'I-SKILLS', 'I-SKILLS', 'I-SKILLS', 'I-SKILLS', 'I-SKILLS', 'I-SKILLS', 'I-SKILLS', 'I-SKILLS', 'I-SKILLS', 'I-SKILLS', 'I-SKILLS', 'I-SKILLS', 'I-SKILLS', 'I-SKILLS', 'I-SKILLS', 'I-SKILLS', 'I-SKILLS', 'I-SKILLS', 'I-SKILLS', 'I-SKILLS', 'I-SKILLS', 'I-SKILLS', 'I-SKILLS', 'I-SKILLS', 'I-SKILLS', 'I-SKILLS', 'I-SKILLS', 'I-SKILLS', 'I-SKILLS', 'I-SKILLS', 'I-SKILLS', 'I-SKILLS', 'I-SKILLS', 'I-SKILLS', 'I-SKILLS', 'I-SKILLS', 'I-SKILLS', 'I-SKILLS', 'I-SKILLS', 'I-SKILLS', 'I-SKILLS', 'I-SKILLS', 'I-SKILLS', 'I-SKILLS', 'I-SKILLS', 'I-SKILLS', 'I-SKILLS', 'I-SKILLS', 'I-SKILLS', 'I-SKILLS', 'I-SKILLS', 'I-SKILLS', 'I-SKILLS', 'I-SKILLS', 'I-SKILLS', 'I-SKILLS', 'I-SKILLS', 'I-SKILLS', 'I-SKILLS', 'I-SKILLS', 'I-SKILLS', 'I-SKILLS', 'I-SKILLS', 'I-SKILLS', 'I-SKILLS', 'I-SKILLS', 'I-SKILLS', 'I-SKILLS', 'I-SKILLS', 'I-SKILLS', 'I-SKILLS', 'I-SKILLS', 'I-SKILLS', 'I-SKILLS', 'I-SKILLS', 'I-SKILLS', 'I-SKILLS', 'I-SKILLS', 'I-SKILLS', 'I-SKILLS', 'I-SKILLS', 'I-SKILLS', 'I-SKILLS', 'I-SKILLS', 'I-SKILLS', 'I-SKILLS', 'I-SKILLS', 'I-SKILLS', 'I-SKILLS', 'I-SKILLS', 'I-SKILLS', 'I-SKILLS', 'I-SKILLS', 'I-SKILLS', 'I-SKILLS', 'I-SKILLS', 'I-SKILLS', 'I-SKILLS', 'I-SKILLS', 'I-SKILLS', 'I-SKILLS', 'I-SKILLS', 'I-SKILLS', 'I-SKILLS', 'I-SKILLS', 'I-SKILLS', 'I-SKILLS', 'I-SKILLS', 'I-SKILLS', 'I-SKILLS', 'I-SKILLS', 'I-SKILLS', 'I-SKILLS', 'I-SKILLS', 'I-SKILLS', 'I-SKILLS', 'I-SKILLS', 'I-SKILLS', 'I-SKILLS', 'I-SKILLS', 'I-SKILLS', 'I-SKILLS', 'I-SKILLS', 'I-SKILLS', 'I-SKILLS', 'I-SKILLS', 'I-SKILLS', 'I-SKILLS', 'I-SKILLS', 'I-SKILLS', 'I-SKILLS', 'I-SKILLS', 'I-SKILLS', 'I-SKILLS', 'I-SKILLS', 'I-SKILLS', 'I-SKILLS', 'I-SKILLS', 'I-SKILLS', 'I-SKILLS', 'I-SKILLS', 'I-SKILLS', 'I-SKILLS', 'I-SKILLS', 'I-SKILLS', 'I-SKILLS', 'I-SKILLS', 'I-SKILLS', 'I-SKILLS', 'I-SKILLS', 'I-SKILLS', 'I-SKILLS', 'I-SKILLS', 'I-SKILLS', 'I-SKILLS', 'I-SKILLS', 'I-SKILLS', 'I-SKILLS', 'I-SKILLS', 'I-SKILLS', 'I-SKILLS', 'I-SKILLS', 'I-SKILLS', 'I-SKILLS', 'I-SKILLS', 'I-SKILLS', 'I-SKILLS', 'I-SKILLS', 'I-SKILLS', 'I-SKILLS', 'I-SKILLS', 'I-SKILLS', 'I-SKILLS', 'I-SKILLS', 'I-SKILLS', 'I-SKILLS', 'I-SKILLS', 'I-SKILLS', 'I-SKILLS', 'I-SKILLS', 'I-SKILLS', 'I-SKILLS', 'I-SKILLS', 'I-SKILLS', 'I-SKILLS', 'I-SKILLS', 'I-SKILLS', 'I-SKILLS', 'I-SKILLS', 'I-SKILLS', 'I-SKILLS', 'I-SKILLS', 'I-SKILLS', 'I-SKILLS', 'I-SKILLS', 'I-SKILLS', 'I-SKILLS', 'I-SKILLS', 'I-SKILLS', 'I-SKILLS', 'I-SKILLS', 'I-SKILLS', 'I-SKILLS', 'I-SKILLS', 'I-SKILLS', 'I-SKILLS', 'I-SKILLS', 'I-SKILLS', 'I-SKILLS', 'I-SKILLS', 'I-SKILLS', 'I-SKILLS', 'I-SKILLS', 'I-SKILLS', 'I-SKILLS', 'I-SKILLS', 'I-SKILLS', 'I-SKILLS', 'I-SKILLS', 'I-SKILLS', 'I-SKILLS', 'I-SKILLS', 'I-SKILLS', 'I-SKILLS', 'I-SKILLS', 'I-SKILLS', 'I-SKILLS', 'I-SKILLS', 'I-SKILLS', 'I-SKILLS', 'I-SKILLS', 'I-SKILLS', 'I-SKILLS', 'I-SKILLS', 'I-SKILLS', 'I-SKILLS', 'I-SKILLS', 'I-SKILLS', 'I-SKILLS', 'I-SKILLS', 'I-SKILLS', 'I-SKILLS', 'I-SKILLS', 'I-SKILLS', 'I-SKILLS', 'I-SKILLS', 'I-SKILLS', 'I-SKILLS', 'I-SKILLS', 'I-SKILLS', 'I-SKILLS', 'I-SKILLS', 'I-SKILLS', 'I-SKILLS', 'I-SKILLS', 'I-SKILLS', 'I-SKILLS', 'I-SKILLS', 'I-SKILLS', 'I-SKILLS', 'I-SKILLS', 'I-SKILLS', 'I-SKILLS', 'I-SKILLS', 'L-SKILLS', 'O', 'O', 'O', 'O', 'O', 'O', 'O', 'O', 'O', 'O', 'O', 'O', 'O', 'O', 'O', 'O', 'O', 'O', 'O', 'O', 'O'], ['O', 'O', 'O', 'O', 'O', 'B-DESIG', 'L-DESIG', 'O', 'O', 'O', 'O', 'O', 'O', 'O', 'O', 'U-COMPANY', 'O', 'O', 'O', 'O', 'O', 'O', 'O', 'O'], ['B-NAME', 'L-NAME', 'B-DESIG', 'L-DESIG', 'O', 'B-COMPANY', 'I-COMPANY', 'U-LOC', 'O', 'O', 'O', 'O', 'O', 'O', 'O', 'O', 'O', 'B-EMAIL', 'L-EMAIL', 'O', 'O', 'O', 'O', 'O', 'O', 'O', 'O', 'O', 'O', 'O', 'O', 'O', 'O', 'O', 'O', 'O', 'O', 'O', 'O', 'O', 'O', 'O', 'O', 'O', 'O', 'O', 'O', 'O', 'O', 'O', 'O', 'O', 'O', 'O', 'O', 'O'], ['O', 'O', 'B-DEG', 'I-DEG', 'I-DEG', 'L-DEG', 'O', 'U-CLG', 'O', 'O', 'U-CLG', 'O', 'U-LOC', 'O', 'O', 'O', 'O', 'U-GRADYEAR', 'O', 'B-SKILLS', 'I-SKILLS', 'I-SKILLS', 'I-SKILLS', 'I-SKILLS', 'I-SKILLS', 'I-SKILLS', 'I-SKILLS', 'I-SKILLS', 'I-SKILLS', 'I-SKILLS', 'I-SKILLS', 'I-SKILLS', 'I-SKILLS', 'I-SKILLS', 'I-SKILLS', 'I-SKILLS', 'I-SKILLS', 'I-SKILLS', 'I-SKILLS', 'I-SKILLS', 'I-SKILLS', 'I-SKILLS', 'I-SKILLS', 'I-SKILLS', 'I-SKILLS', 'I-SKILLS', 'I-SKILLS', 'L-SKILLS', 'O', 'O', 'O', 'O', 'O', 'O', 'B-SKILLS', 'I-SKILLS', 'I-SKILLS', 'I-SKILLS', 'I-SKILLS', 'I-SKILLS', 'I-SKILLS', 'I-SKILLS', 'I-SKILLS', 'I-SKILLS', 'I-SKILLS', 'I-SKILLS', 'I-SKILLS', 'I-SKILLS', 'I-SKILLS', 'I-SKILLS', 'I-SKILLS', 'I-SKILLS', 'I-SKILLS', 'I-SKILLS', 'I-SKILLS', 'I-SKILLS', 'L-SKILLS', 'O', 'O', 'B-SKILLS', 'I-SKILLS', 'I-SKILLS', 'I-SKILLS', 'I-SKILLS', 'I-SKILLS', 'O', 'O'], ['B-NAME', 'L-NAME', 'U-LOC', 'O', 'O', 'O', 'O', 'O', 'O', 'O', 'O', 'U-EMAIL', 'O', 'O', 'O', 'O', 'O', 'U-LOC', 'O', 'O', 'O', 'O', 'O', 'O', 'O', 'O', 'B-DESIG', 'I-DESIG', 'L-DESIG', 'U-COMPANY', 'O', 'B-DEG', 'I-DEG', 'I-DEG', 'L-DEG', 'B-CLG', 'L-CLG', 'O', 'U-LOC', 'O', 'O', 'O'], ['O', 'O', 'O', 'O', 'O', 'U-SKILLS', 'O', 'O', 'O', 'O', 'O', 'O', 'O', 'O', 'O', 'O', 'O', 'O', 'U-SKILLS'], ['O', 'U-COMPANY', 'O', 'O', 'O', 'O', 'O', 'O', 'O', 'U-COMPANY', 'O', 'O', 'O', 'O', 'O', 'O', 'O', 'O', 'O', 'O', 'O', 'O'], ['O', 'O', 'O', 'O', 'O', 'O', 'O', 'O', 'O', 'O', 'O', 'O', 'U-SKILLS', 'O', 'O', 'O', 'O', 'O', 'O', 'O', 'O', 'O', 'O', 'O', 'O', 'O', 'O', 'O'], ['B-NAME', 'L-NAME', 'B-DESIG', 'I-DESIG', 'I-DESIG', 'L-DESIG', 'U-LOC', 'O', 'O', 'O', 'O', 'O', 'O', 'O', 'O', 'U-EMAIL', 'O', 'O', 'O', 'O', 'O', 'O', 'O', 'O', 'O', 'O', 'O', 'O', 'O', 'O', 'O', 'O', 'O', 'O', 'O', 'O', 'O', 'O', 'O', 'O', 'O', 'O', 'O', 'O', 'O', 'O', 'O', 'O', 'O', 'O']]\n",
            "[['B-NAME', 'L-NAME', 'U-LOC', 'O', 'O', 'O', 'O', 'O', 'O', 'O', 'O', 'U-EMAIL', 'X', 'O', 'O', 'O', 'O', 'O', 'O', 'O', 'O', 'O', 'O', 'O', 'O', 'O', 'O', 'O', 'O', 'O', 'O', 'O', 'O', 'O'], ['O', 'O', 'O', 'O', 'O', 'O', 'O', 'O', 'O', 'O', 'O', 'O', 'O', 'O', 'O', 'O', 'O', 'O', 'O', 'O', 'O', 'O', 'O', 'O', 'O', 'O', 'O', 'O', 'O', 'O', 'O', 'O', 'O', 'O', 'O', 'O', 'O', 'O', 'O', 'O', 'O', 'O', 'O', 'O', 'O', 'O', 'O', 'O', 'O', 'O', 'O', 'O', 'O', 'O', 'O', 'O', 'O', 'O', 'O', 'O', 'O', 'I-SKILLS', 'O', 'O', 'O', 'O', 'O', 'O', 'O', 'O', 'O', 'O', 'O', 'O', 'O', 'O', 'O', 'O', 'O', 'O', 'O', 'O', 'O', 'O', 'O', 'O', 'O', 'O', 'O', 'O', 'O', 'O', 'O', 'O', 'I-CLG', 'I-CLG', 'L-CLG', 'O', 'O', 'O', 'O', 'O', 'O', 'O', 'O', 'O', 'O', 'O', 'O', 'O', 'O', 'O', 'O', 'O', 'O', 'O', 'O', 'I-SKILLS', 'I-SKILLS', 'O', 'I-SKILLS', 'O', 'O', 'O', 'I-SKILLS', 'I-SKILLS', 'I-SKILLS', 'I-SKILLS', 'I-SKILLS', 'I-SKILLS', 'I-SKILLS', 'I-SKILLS', 'I-SKILLS', 'I-SKILLS', 'I-SKILLS', 'I-SKILLS', 'I-SKILLS', 'I-SKILLS', 'I-SKILLS', 'I-SKILLS', 'I-SKILLS', 'I-SKILLS', 'I-SKILLS', 'I-SKILLS', 'I-SKILLS', 'I-SKILLS', 'I-SKILLS', 'I-SKILLS', 'I-SKILLS', 'I-SKILLS', 'I-SKILLS', 'I-SKILLS', 'I-SKILLS', 'I-SKILLS', 'I-SKILLS', 'I-SKILLS', 'I-SKILLS', 'I-SKILLS', 'I-SKILLS', 'I-SKILLS', 'I-SKILLS', 'L-SKILLS'], ['O', 'O', 'O', 'O', 'O', 'O', 'O', 'O', 'O', 'O', 'O', 'O', 'O', 'O', 'O', 'O', 'O', 'O', 'O', 'O', 'O', 'O', 'O', 'O', 'O', 'O', 'O'], ['O', 'O', 'O', 'O', 'O', 'O', 'O', 'O', 'O', 'B-COMPANY', 'I-COMPANY', 'L-COMPANY', 'O', 'O', 'O', 'O', 'O', 'O', 'O', 'O', 'O', 'O', 'O', 'O', 'O', 'O', 'O', 'O', 'O', 'B-COMPANY', 'L-COMPANY', 'O', 'B-LOC', 'O', 'O', 'O', 'O', 'O', 'O', 'O', 'O', 'O', 'O', 'O', 'O', 'O', 'O', 'O', 'O', 'O', 'O', 'O', 'O', 'O', 'O', 'O', 'O', 'O', 'O', 'O', 'O', 'O', 'O', 'O', 'O', 'O', 'O', 'O', 'O', 'O'], ['O', 'O', 'O', 'O', 'O', 'B-COMPANY', 'O', 'O', 'O', 'O', 'O', 'O', 'O', 'O', 'O', 'O', 'O', 'O', 'O', 'O'], ['B-NAME', 'I-NAME', 'L-NAME', 'B-LOC', 'O', 'O', 'O', 'O', 'O', 'O', 'U-EMAIL', 'O', 'O', 'O', 'O', 'O', 'U-LOC', 'O', 'O', 'O', 'B-COMPANY', 'B-DESIG', 'U-DESIG', 'U-COMPANY', 'O', 'O', 'O', 'O', 'O', 'O', 'O', 'O', 'O', 'O', 'O', 'O', 'O', 'O', 'O'], ['B-NAME', 'L-NAME', 'O', 'O', 'O', 'X', 'X', 'U-LOC', 'O', 'O', 'O', 'O', 'O', 'O', 'O', 'O', 'O', 'O', 'U-EMAIL', 'X', 'O', 'O', 'O', 'O', 'O', 'O', 'O', 'O', 'O', 'X', 'X', 'O', 'I-COMPANY', 'L-COMPANY', 'O', 'O', 'O', 'O', 'O', 'O', 'O', 'O', 'O'], ['B-NAME', '[SEP]', 'B-DESIG', 'L-DESIG', 'O', 'O', 'O', 'I-COMPANY', 'L-COMPANY', 'L-COMPANY', 'U-LOC', 'O', 'O', 'O', 'O', 'O', 'O', 'O', 'O', 'U-EMAIL', 'O', 'O', 'O', 'L-YOE', 'O', 'O', 'O', 'O', 'O', 'O', 'O', 'O', 'O', 'O', 'O', 'O'], ['O', 'O', 'O', 'O', 'O', 'O', 'O', 'O', 'O', 'O', 'O', 'O', 'O', 'O', 'O', 'O', 'U-COMPANY', 'O', 'O', 'O', 'O', 'O', 'O', 'O', 'O', 'O', 'O', 'O', 'O', 'O', 'O'], ['O', 'O', 'O', 'O', 'O', 'O', 'O', 'O', 'O', 'O', 'O', 'O', 'O', 'O', 'O', 'O', 'O', 'O', 'O', 'O', 'O', 'O', 'O', 'O', 'O', 'O'], ['B-NAME', 'L-NAME', 'B-DESIG', 'U-LOC', 'O', 'O', 'O', 'O', 'O', 'O', 'O', 'O', 'U-EMAIL', 'O', 'O', 'B-DESIG', 'L-DESIG', 'L-DESIG', 'U-COMPANY', 'O', 'O', 'O', 'O', 'O', 'O', 'O', 'O', 'O', 'O', 'O', 'O', 'O', 'O', 'O', 'O', 'O', 'O', 'O', 'O', 'O', 'O', 'O', 'O', 'O', 'O', 'O', 'O', 'O', 'O', 'O', 'O', 'O'], ['B-NAME', 'L-NAME', 'O', 'O', 'O', 'O', 'O', 'O', 'O', 'O', 'O', 'O', 'O', 'O', 'O'], ['O', 'O', 'O', 'O', 'O', 'B-COMPANY', 'L-COMPANY', 'O', 'O', 'O', 'O', 'O', 'O', 'O', 'O'], ['O', 'O', 'O', 'O', 'O', 'O', 'O', 'O', 'B-DESIG', 'I-DESIG', 'B-COMPANY', 'B-COMPANY', 'O', 'O', 'U-LOC', 'O', 'O', 'O', 'O', 'U-GRADYEAR', 'O', 'O', 'O', 'O', 'O', 'O', 'O', 'O', 'O', 'O', 'O', 'O', 'O', 'O', 'O', 'O'], ['O', 'O', 'O', 'O', 'O', 'O', 'O', 'O', 'O', 'O', 'O', 'O', 'O', 'O', 'O', 'O', 'O', 'O', 'O', 'O', 'U-COMPANY'], ['O', 'O', 'B-DEG', 'I-DEG', 'I-DEG', 'I-DEG', 'I-DEG', 'O', 'L-CLG', 'O', 'O', 'L-CLG', 'O', 'O', 'O', 'U-GRADYEAR', 'B-DEG', 'U-DEG', 'X', 'L-CLG', 'O', 'O', 'L-CLG', 'O', 'O', 'O', 'B-DEG', 'I-DEG', 'I-DEG', 'O', 'I-CLG', 'I-CLG', 'L-CLG', 'O', 'O', 'O', 'O', 'O', 'O', 'I-SKILLS', 'I-SKILLS', 'I-SKILLS', 'I-SKILLS', 'I-SKILLS', 'I-SKILLS', 'I-SKILLS', 'I-SKILLS', 'I-SKILLS', 'I-SKILLS', 'I-SKILLS', 'I-SKILLS', 'I-SKILLS', 'I-SKILLS', 'I-SKILLS', 'I-SKILLS', 'I-SKILLS', 'I-SKILLS', 'I-SKILLS', 'I-SKILLS', 'I-SKILLS', 'I-SKILLS', 'I-SKILLS', 'I-SKILLS', 'I-SKILLS', 'I-SKILLS', 'I-SKILLS', 'I-SKILLS', 'I-SKILLS', 'I-SKILLS', 'O', 'O', 'O', 'O', 'O', 'I-SKILLS', 'I-SKILLS', 'O', 'O', 'O', 'O', 'O', 'O', 'O', 'O', 'O', 'O', 'O', 'O', 'O', 'O', 'O', 'O', 'O', 'O', 'O', 'O', 'O', 'O', 'O', 'O', 'O', 'O', 'O', 'O', 'O', 'O', 'O', 'O', 'O', 'O', 'O', 'O', 'O', 'O', 'O', 'O', 'O', 'O', 'O', 'O', 'O', 'I-SKILLS', 'I-SKILLS', 'I-SKILLS', 'I-SKILLS', 'I-SKILLS', 'I-SKILLS', 'O', 'I-SKILLS', 'I-SKILLS', 'O', 'I-SKILLS', 'O', 'O', 'O', 'I-SKILLS', 'O', 'O', 'O', 'O', 'O', 'O', 'O', 'O', 'O', 'O', 'O', 'O', 'O', 'O', 'O', 'O', 'O', 'O', 'O', 'O', 'O', 'I-SKILLS', 'O', 'O', 'I-SKILLS', 'O', 'O', 'I-SKILLS', 'O', 'O', 'O', 'O', 'O', 'O', 'O', 'I-SKILLS', 'I-SKILLS', 'I-SKILLS', 'I-SKILLS', 'I-SKILLS', 'I-SKILLS', 'I-SKILLS', 'O', 'I-SKILLS', 'O', 'I-SKILLS', 'I-SKILLS', 'O', 'O', 'O', 'O', 'O', 'O', 'O', 'I-SKILLS', 'I-SKILLS', 'I-SKILLS', 'I-SKILLS', 'I-SKILLS', 'I-SKILLS', 'I-SKILLS', 'I-SKILLS', 'O', 'L-SKILLS', 'O', 'O', 'O', 'O', 'O', 'O', 'O', 'O', 'I-SKILLS', 'I-SKILLS', 'I-SKILLS', 'I-SKILLS', 'I-SKILLS', 'I-SKILLS', 'I-SKILLS', 'I-SKILLS', 'O', 'O', 'O', 'O', 'O', 'I-SKILLS', 'I-SKILLS', 'I-SKILLS', 'O', 'O', 'O', 'O', 'L-DEG', 'I-DEG', 'O', 'O', 'O', 'I-SKILLS', 'I-SKILLS', 'I-SKILLS', 'I-SKILLS', 'I-SKILLS', 'I-SKILLS', 'I-SKILLS', 'I-SKILLS', 'I-SKILLS', 'I-SKILLS', 'I-SKILLS', 'O', 'I-SKILLS', 'I-SKILLS', 'O', 'I-SKILLS', 'I-SKILLS', 'I-SKILLS', 'I-SKILLS', 'I-SKILLS', 'I-SKILLS', 'I-SKILLS', 'I-SKILLS', 'I-SKILLS', 'I-SKILLS', 'I-SKILLS', 'I-SKILLS', 'I-SKILLS', 'I-SKILLS', 'I-SKILLS', 'I-SKILLS', 'I-SKILLS', 'I-SKILLS', 'I-SKILLS', 'I-SKILLS', 'I-SKILLS', 'O', 'I-SKILLS', 'I-SKILLS', 'I-SKILLS', 'I-SKILLS', 'I-SKILLS', 'I-SKILLS', 'I-SKILLS', 'I-SKILLS', 'I-SKILLS', 'I-SKILLS', 'I-SKILLS', 'I-SKILLS', 'I-SKILLS', 'I-SKILLS', 'I-SKILLS', 'I-SKILLS', 'I-SKILLS', 'I-SKILLS', 'I-SKILLS', 'I-SKILLS', 'I-SKILLS', 'I-SKILLS', 'I-SKILLS', 'I-SKILLS', 'I-SKILLS', 'I-SKILLS', 'I-SKILLS', 'I-SKILLS', 'L-SKILLS', 'O', 'O', 'O', 'O', 'O', 'I-SKILLS', 'O', 'O', 'O', 'O', 'O', 'O', 'O', 'O', 'O', 'O', 'O'], ['B-NAME', 'L-NAME', 'O', 'O', 'O', 'O', 'O', 'U-LOC', 'O', 'O', 'O', 'O', 'O', 'O', 'O', 'O', 'O', 'O', 'O', 'O', 'U-EMAIL', 'L-EMAIL', 'O', 'O', 'O', 'O', 'O', 'O', 'O', 'O', 'O', 'O', 'O', 'O', 'O', 'O', 'O', 'O', 'O', 'O', 'O', 'O', 'O', 'O', 'O', 'O', 'O', 'O', 'O', 'O', 'O', 'O', 'O', 'O', 'O', 'O', 'O', 'O'], ['O', 'O', 'O', 'O', 'O', 'O', 'O', 'O', 'O', 'O', 'O', 'O', 'O', 'O', 'O', 'O', 'O', 'O', 'O', 'O', 'O', 'O'], ['O', 'O', 'O', 'O', 'O', 'O', 'O', 'O', 'O', 'O', 'O', 'O', 'O', 'O', 'O', 'O', 'O', 'O', 'O', 'O', 'O', 'O', 'O', 'O', 'O', 'O', 'O', 'O', 'O', 'O', 'O', 'O', 'O', 'O', 'B-DESIG', 'O', 'O', 'B-COMPANY', 'I-COMPANY', 'L-COMPANY', 'O', 'U-LOC', 'O', 'O', 'O', 'O', 'U-GRADYEAR', 'O', 'O', 'O', 'O', 'O', 'O', 'O', 'O', 'O', 'O', 'O', 'O', 'O', 'O', 'O', 'O', 'O', 'O', 'O', 'O', 'O', 'O', 'O', 'O', 'O', 'O', 'O', 'O', 'O', 'O', 'O', 'O', 'O', 'O', 'O', 'O', 'B-DESIG', 'B-COMPANY', 'L-COMPANY', 'O', 'U-LOC', 'O', 'O', 'O', 'O', 'O', 'O', 'O', 'O', 'O', 'O', 'O', 'U-GRADYEAR', 'O', 'O', 'O', 'O', 'O', 'O', 'O', 'O', 'O', 'O', 'O', 'O', 'O', 'O', 'O', 'O', 'O', 'O', 'O', 'O', 'O', 'O', 'O', 'O', 'O', 'O', 'O', 'O', 'O', 'O', 'O', 'O', 'O', 'O', 'O', 'O', 'O', 'O', 'O', 'O', 'O', 'O', 'O', 'O', 'O', 'O', 'O', 'O', 'O', 'O', 'O', 'O', 'O', 'O', 'O', 'O', 'O', 'O', 'O'], ['O', 'O', 'O', 'O', 'O', 'O', 'O', 'O', 'O', 'B-DESIG', 'L-DESIG', 'B-COMPANY', 'O', 'I-COMPANY', 'U-GRADYEAR', 'O', 'O', 'O', 'O', 'O', 'O', 'O', 'O', 'O', 'O', 'O', 'O', 'O', 'O', 'O', 'O', 'O', 'O', 'O', 'O', 'O', 'O', 'O', 'O', 'O', 'O', 'O', 'O', 'O', 'O', 'O', 'O', 'O', 'O', 'O', 'O', 'O', 'O', 'O', 'O', 'O', 'O', 'O', 'O', 'O', 'O', 'O', 'O', 'O', 'O', 'O', 'O', 'O', 'O', 'O', 'O', 'O', 'O', 'O', 'O', 'O', 'O', 'O', 'O'], ['O', 'O', 'O', 'O', 'O', 'O', 'O', 'O', 'U-COMPANY', 'O', 'O', 'O', 'O'], ['O', 'O', 'O', 'O', 'O', 'O', 'O', 'O', 'O', 'O', 'O', 'O', 'O', 'O', 'O', 'O', 'O', 'O', 'O', 'O', 'O', 'O', 'O', 'O', 'O', 'O', 'O', 'O', 'O', 'O', 'O', 'O', 'O', 'O', 'O', 'O', 'O', 'O', 'O', 'O', 'O', 'O', 'O', 'O', 'O', 'O', 'O', 'U-GRADYEAR', 'O', 'U-GRADYEAR', 'O', 'O', 'O', 'B-DEG', 'I-DEG', 'I-DEG', 'I-DEG', 'I-DEG', 'I-DEG', 'I-DEG', 'I-DEG', 'I-DEG', 'I-DEG', 'B-CLG', 'I-CLG', 'I-CLG', 'I-CLG', 'L-CLG', 'O', 'O', 'O', 'O', 'O', 'O', 'O', 'U-GRADYEAR', 'O', 'B-DEG', 'I-DEG', 'I-DEG', 'I-DEG', 'I-DEG', 'I-DEG', 'B-CLG', 'O', 'O', 'I-CLG', 'I-CLG', 'I-CLG', 'I-CLG', 'L-CLG', 'O', 'O', 'U-GRADYEAR', 'O', 'O', 'O', 'O', 'O', 'O', 'O'], ['B-NAME', 'L-NAME', 'B-DESIG', 'I-DESIG', 'I-DESIG', 'L-DESIG', 'L-DESIG', 'U-LOC', 'O', 'O', 'O', 'O', 'O', 'O', 'O', 'O', 'U-EMAIL', 'O', 'O', 'O', 'O', 'O', 'O', 'O', 'O', 'O', 'O', 'O', 'O', 'O', 'O', 'O', 'O', 'O', 'O', 'O', 'O', 'O', 'O', 'O', 'O', 'O', 'O', 'O', 'O', 'O', 'O', 'O', 'O', 'O', 'O', 'O'], ['O', 'O', 'O', 'O', 'O', 'O', 'O', 'O', 'O', 'O', 'O', 'U-LOC', 'O', 'O', 'O', 'O', 'O', 'O', 'O', 'O', 'O', 'O', 'B-DESIG', 'L-DESIG', 'O', 'O', 'O', 'O', 'O', 'O', 'O', 'O', 'O', 'O', 'O', 'O', 'O', 'O', 'O', 'O', 'O', 'O', 'O'], ['O', 'O', 'O', 'O', 'O', 'O', 'O', 'O', 'O', 'O', 'O', 'O', 'O', 'O', 'O', 'O', 'O', 'O', 'O', 'O', 'O', 'O', 'O', 'O', 'X', 'O', 'O', 'O', 'I-DEG', 'B-CLG', 'L-CLG', 'O', 'U-LOC', 'O', 'O', 'O', 'O', 'O', 'U-DEG', 'X', 'X', 'L-CLG', 'I-CLG', 'I-CLG', 'O', 'I-CLG', 'O', 'O', 'U-GRADYEAR', 'O', 'O', 'I-SKILLS', 'I-SKILLS', 'I-SKILLS', 'I-SKILLS', 'I-SKILLS', 'U-GRADYEAR', 'O', 'I-SKILLS', 'I-SKILLS', 'I-SKILLS', 'I-SKILLS', 'I-SKILLS', 'O', 'O'], ['O', 'O', 'O', 'O', 'O', 'O', 'O', 'O', 'O', 'O', 'O', 'O', 'U-COMPANY', 'O', 'O', 'O', 'O', 'O'], ['O', 'O', 'O', 'O', 'O', 'O', 'O', 'O', 'O', 'O', 'O', 'O', 'O', 'O', 'O', 'O', 'O', 'O', 'O', 'O', 'O', 'O', 'O', 'O', 'O', 'O', 'O', 'O', 'O', 'O', 'O', 'O', 'O', 'O', 'O', 'O', 'O', 'O', 'O', 'O', 'O', 'O', 'O', 'O', 'O', 'O', 'O', 'O', 'O', 'O', 'O', 'O', 'O', 'O', 'O', 'O', 'O', 'O', 'O', 'O', 'O', 'O', 'O', 'O', 'O', 'O', 'O', 'O', 'O', 'O', 'O', 'O', 'O', 'O', 'O', 'O', 'O', 'O', 'O', 'O', 'O', 'O', 'U-COMPANY', 'O', 'O', 'O', 'O', 'O', 'O', 'O', 'O', 'O', 'O', 'O', 'O', 'O'], ['O', 'O', 'O', 'U-COMPANY', 'O', 'O', 'O', 'O', 'O', 'O', 'O', 'U-COMPANY', 'O', 'O', 'O', 'O', 'O', 'O', 'O', 'O', 'O', 'O', 'O', 'O', 'O', 'O', 'O', 'O', 'O', 'O', 'O', 'O', 'O', 'O', 'O', 'O', 'O', 'O'], ['B-NAME', 'L-NAME', 'B-DESIG', 'I-DESIG', 'L-DESIG', 'O', 'O', 'O', 'O', 'O', 'O', 'O', 'O', 'O', 'O', 'O', 'O', 'O', 'O', 'O', 'O', 'O', 'O'], ['O', 'B-LOC', 'L-LOC', 'O', 'O', 'O', 'O', 'O', 'O', 'O', 'O', 'U-EMAIL', 'X', 'O', 'O', 'O', 'O', 'O', 'O', 'O', 'O', 'U-GRADYEAR', 'O', 'O', 'O', 'O', 'O', 'O', 'O', 'O', 'O', 'O', 'O', 'O', 'O', 'O', 'O', 'O', 'O', 'O', 'O', 'O', 'O', 'O', 'O', 'O', 'O', 'O', 'O', 'O', 'O', 'O'], ['O', 'O', 'O', 'O', 'O', 'O', 'O', 'O', 'O', 'O', 'O', 'O', 'O', 'O', 'O', 'O', 'O', 'O', 'O', 'O', 'O', 'O', 'O', 'O', 'O', 'O', 'O', 'O', 'O', 'U-GRADYEAR', 'O', 'O', 'O', 'O', 'O', 'O', 'O', 'O', 'O', 'U-GRADYEAR', 'O', 'O', 'O', 'O', 'O', 'O', 'O', 'O', 'O', 'O', 'O', 'O', 'O', 'O', 'O', 'O', 'O', 'O', 'O', 'O', 'O', 'O', 'O', 'O', 'O', 'O', 'O', 'O', 'O', 'O', 'O', 'O', 'O', 'O', 'O', 'O', 'O', 'O', 'O', 'O', 'O', 'O', 'O', 'O', 'O', 'O', 'O', 'O', 'O', 'O', 'O', 'O', 'O', 'X', 'B-DEG', 'I-DEG', 'I-CLG', 'I-CLG', 'I-CLG', 'O', 'O', 'U-GRADYEAR', 'O', 'U-GRADYEAR', 'O', 'B-DEG', 'X', 'I-DEG', 'I-DEG', 'B-CLG', 'L-CLG', 'O', 'O', 'U-GRADYEAR', 'O', 'O', 'O', 'I-CLG', 'I-CLG', 'L-CLG', 'U-GRADYEAR', 'O', 'U-GRADYEAR', 'O', 'O', 'O', 'O'], ['B-NAME', 'L-NAME', 'O', 'L-LOC', 'O', 'O', 'O', 'O', 'O', 'O', 'O', 'O', 'O', 'U-EMAIL', 'X', 'O', 'O', 'O', 'O', 'O', 'O', 'O', 'O', 'O', 'O', 'O', 'O', 'O', 'O', 'O', 'O', 'O', 'O', 'O', 'O', 'O', 'O', 'O', 'O', 'O', 'O', 'O', 'O', 'O', 'O', 'O', 'O', 'O', 'O', 'O', 'O', 'O', 'O', 'O', 'O'], ['O', 'O', 'U-DEG', 'X', 'O', 'I-CLG', 'I-CLG', 'O', 'O', 'O', 'U-GRADYEAR', 'O', 'O', 'O', 'O', 'O', 'O', 'O', 'O', 'O', 'O', 'O', 'O', 'O', 'O', 'O', 'O', 'O', 'O', 'O', 'O', 'O', 'O', 'O', 'O', 'O', 'O', 'O', 'O', 'O', 'O', 'O', 'O', 'O', 'O', 'O', 'O', 'O', 'O', 'O', 'O', 'O', 'O', 'O', 'O', 'O', 'O', 'O', 'O', 'O', 'O', 'O', 'O', 'O', 'O', 'O', 'O', 'O', 'O', 'O', 'O', 'O', 'O', 'O', 'O', 'O', 'O', 'O', 'O', 'O', 'O', 'O', 'O', 'O', 'O', 'O', 'O', 'O', 'O', 'O', 'O', 'O', 'O', 'O', 'O', 'O', 'O', 'O', 'O', 'O', 'O', 'O', 'O', 'O', 'O', 'O', 'O', 'O', 'O', 'O', 'O', 'O', 'O', 'O', 'O', 'O', 'O', 'O', 'O', 'O', 'O', 'O', 'O', 'O', 'O', 'O', 'O', 'O', 'O', 'O', 'O', 'O', 'O', 'O', 'O', 'O', 'O', 'O', 'O', 'O', 'O', 'O', 'O', 'O', 'O', 'O', 'O', 'O', 'O', 'O'], ['O', 'O', 'O', 'O', 'O', 'O', 'O', 'O', 'O', 'O', 'O', 'O', 'O', 'O', 'O', 'B-DESIG', 'I-DESIG', 'I-DESIG', 'I-DESIG', 'L-DESIG', 'B-COMPANY', 'B-COMPANY', 'L-COMPANY', 'O', 'O', 'O', 'O', 'O', 'O', 'O', 'O', 'O', 'O', 'O', 'O', 'O', 'O', 'O', 'O', 'O', 'O', 'O', 'O', 'O', 'O', 'O', 'O', 'O', 'O', 'O', 'O', 'O', 'O', 'O', 'O', 'O', 'O', 'O', 'O', 'O', 'O', 'O', 'O', 'O', 'O', 'O', 'O', 'O', 'O', 'O', 'O', 'O', 'O', 'O', 'O', 'O', 'O', 'O', 'O', 'O', 'O', 'O', 'O', 'O', 'O', 'O', 'O', 'O', 'O', 'O', 'O', 'O', 'O', 'O', 'O', 'O', 'O', 'O', 'O', 'O', 'O', 'O', 'O', 'O', 'O', 'O', 'O', 'O', 'O', 'O', 'O', 'O', 'O', 'O', 'O', 'O', 'O', 'O', 'O', 'O', 'O', 'O', 'O', 'O', 'O', 'O', 'O', 'O', 'O', 'O', 'O', 'O', 'O', 'O', 'O', 'O', 'O', 'O', 'O'], ['O', 'O', 'O', 'O', 'O', 'O', 'O', 'O', 'O', 'O', 'O', 'O', 'O', 'O', 'O', 'O', 'O', 'O', 'O'], ['O', 'O', 'O', 'O', 'O', 'O', 'O', 'O', 'O', 'O', 'O', 'O', 'O', 'O', 'O', 'O', 'O', 'O', 'O', 'O', 'O', 'O', 'O', 'O', 'O', 'O', 'O', 'O', 'O', 'O', 'O', 'O', 'O', 'O', 'O', 'O', 'O', 'O'], ['B-NAME', 'L-NAME', 'U-LOC', 'O', 'O', 'O', 'O', 'O', 'O', 'O', 'O', 'U-EMAIL', 'X', 'O', 'O', 'O', 'O', 'O', 'O', 'B-DESIG', 'B-DESIG', 'B-DESIG', 'L-DESIG', 'I-COMPANY', 'L-COMPANY', 'O', 'O', 'O', 'O', 'O', 'O', 'O', 'O', 'O', 'O', 'O', 'I-CLG', 'I-CLG', 'I-CLG', 'B-CLG', 'O', 'O', 'O', 'U-GRADYEAR', 'O', 'B-SKILLS', 'I-SKILLS', 'I-SKILLS', 'I-SKILLS', 'I-SKILLS', 'I-SKILLS', 'I-SKILLS', 'I-SKILLS', 'I-SKILLS', 'I-SKILLS', 'I-SKILLS', 'I-SKILLS', 'O', 'O', 'O', 'O', 'O', 'O', 'O', 'O', 'O', 'O', 'O', 'O', 'O', 'O', 'O', 'O', 'O', 'O', 'O'], ['O', 'O', 'O', 'O', 'O', 'O', 'O', 'O', 'O', 'O', 'O', 'B-DEG', 'I-DEG', 'I-DEG', 'I-DEG', 'I-DEG', 'B-CLG', 'I-CLG', 'L-CLG', 'O', 'O', 'O', 'O', 'B-DEG', 'I-DEG', 'I-DEG', 'I-DEG', 'I-DEG', 'I-DEG', 'B-CLG', 'I-CLG', 'I-CLG', 'I-CLG', 'I-CLG', 'I-CLG', 'O', 'B-SKILLS', 'I-SKILLS', 'I-SKILLS', 'I-SKILLS', 'I-SKILLS', 'I-SKILLS', 'I-SKILLS', 'I-SKILLS', 'I-SKILLS', 'I-SKILLS', 'I-SKILLS', 'I-SKILLS', 'I-SKILLS', 'I-SKILLS', 'I-SKILLS', 'I-SKILLS', 'I-SKILLS', 'I-SKILLS', 'I-SKILLS', 'I-SKILLS', 'I-SKILLS', 'I-SKILLS', 'I-SKILLS', 'I-SKILLS', 'I-SKILLS', 'I-SKILLS', 'I-SKILLS', 'I-SKILLS', 'I-SKILLS', 'I-SKILLS', 'O', 'I-SKILLS', 'I-SKILLS', 'I-SKILLS', 'I-SKILLS', 'I-SKILLS', 'I-SKILLS', 'I-SKILLS', 'I-SKILLS', 'I-SKILLS', 'I-SKILLS', 'I-SKILLS', 'I-SKILLS', 'I-SKILLS', 'I-SKILLS', 'I-SKILLS', 'I-SKILLS', 'I-SKILLS', 'I-SKILLS', 'I-SKILLS', 'I-SKILLS', 'I-SKILLS', 'I-SKILLS', 'I-SKILLS', 'I-SKILLS', 'I-SKILLS', 'I-SKILLS', 'I-SKILLS', 'I-SKILLS', 'I-SKILLS', 'I-SKILLS', 'I-SKILLS', 'I-SKILLS', 'I-SKILLS', 'O', 'O', 'O', 'O', 'O', 'O', 'O', 'O', 'O', 'O', 'O', 'O', 'O', 'O', 'O', 'O', 'O', 'O', 'O', 'O', 'O', 'O', 'O', 'O', 'O', 'O', 'O', 'O', 'O', 'O', 'O', 'O', 'O', 'O', 'O', 'O', 'O', 'O', 'O', 'O', 'O', 'O', 'O', 'O', 'O'], ['O', 'O', 'O', 'O', 'O', 'O', 'O', 'O', 'B-DESIG', 'L-DESIG', 'B-COMPANY', 'L-COMPANY', 'O', 'U-LOC', 'O', 'O', 'O', 'O', 'O', 'O', 'O', 'O', 'B-DESIG', 'B-COMPANY', 'L-COMPANY', 'O', 'U-LOC', 'O', 'O', 'O', 'O', 'U-GRADYEAR', 'O', 'O', 'O', 'O', 'O', 'O', 'O', 'O', 'O', 'O', 'O', 'O', 'O', 'O'], ['O', 'O', 'O', 'O', 'O', 'O', 'O', 'O', 'O', 'O', 'O', 'O', 'O', 'O', 'O', 'O', 'O', 'O', 'O', 'O', 'O', 'O', 'O', 'U-LOC', 'O', 'O', 'L-COMPANY', 'O', 'U-LOC', 'O', 'O', 'O', 'U-LOC', 'O', 'O', 'O', 'B-DESIG', 'B-DESIG', 'L-DESIG', 'B-COMPANY', 'L-COMPANY', 'O', 'U-LOC', 'O', 'I-COMPANY', 'L-COMPANY', 'O', 'O', 'U-GRADYEAR', 'O', 'O', 'O', 'O', 'O', 'O', 'O', 'O', 'O', 'O', 'O', 'O', 'O', 'O', 'O', 'O', 'O', 'O', 'O', 'O', 'O', 'O', 'O', 'O', 'O'], ['O', 'O', 'O', 'O', 'O', 'O', 'O', 'O', 'O', 'O', 'O', 'O', 'O', 'O', 'O', 'O', 'O', 'B-COMPANY', 'I-COMPANY', 'L-COMPANY', 'O', 'U-LOC', 'O', 'O', 'O', 'O', 'O', 'O', 'O', 'O', 'O', 'O', 'O', 'O', 'O', 'O', 'O', 'O', 'O', 'O', 'O', 'O', 'O', 'O', 'O', 'O', 'O', 'O', 'O', 'O', 'O', 'O', 'O', 'O', 'O', 'O', 'O', 'O', 'O', 'O', 'O', 'O', 'O', 'O', 'O', 'O', 'O', 'O', 'O', 'O', 'O'], ['B-NAME', 'L-NAME', 'B-DESIG', 'L-DESIG', 'O', 'B-COMPANY', 'I-COMPANY', 'O', 'O', 'X', 'O', 'O', 'O', 'O', 'O', 'I-COMPANY', 'U-LOC', 'O', 'O', 'O', 'O', 'O', 'O', 'O', 'O', 'U-EMAIL', 'X', 'O', 'O', 'O', 'O', 'O', 'O', 'O', 'O', 'O', 'O', 'O', 'O', 'O', 'O', 'O', 'O', 'O', 'O', 'O', 'O', 'O', 'O', 'O'], ['B-NAME', 'L-NAME', 'B-YOE', 'L-YOE', 'O', 'O', 'O', 'O', 'O', 'O', 'O', 'O', 'O', 'O', 'O', 'O', 'O', 'O'], ['O', 'B-DESIG', 'L-COMPANY', 'O', 'O', 'O', 'O', 'O', 'O', 'O', 'O', 'O', 'O', 'O', 'O', 'O', 'O', 'O', 'O', 'O', 'O', 'O', 'O', 'O', 'O', 'O', 'O', 'O', 'O', 'O', 'O', 'O', 'O', 'O'], ['O', 'O', 'O', 'O', 'O', 'O', 'O', 'O', 'B-DESIG', 'L-DESIG', 'O', 'O', 'O', 'U-LOC', 'O', 'O', 'O', 'O', 'O', 'O', 'O', 'O', 'B-DEG', 'I-DEG', 'I-DEG', 'I-DEG', 'B-CLG', 'I-CLG', 'I-CLG', 'I-CLG', 'X', 'X', 'I-CLG', 'I-CLG', 'L-CLG', 'I-CLG', 'L-CLG', 'O', 'O', 'O', 'O', 'U-GRADYEAR', 'O', 'U-GRADYEAR', 'O', 'O', 'O', 'O', 'O', 'O', 'O', 'O', 'O', 'O', 'O', 'O', 'O', 'O', 'O', 'O', 'O', 'O', 'O', 'O', 'O', 'O', 'O', 'O', 'O', 'O', 'O', 'O', 'O', 'O', 'O', 'O', 'O', 'O', 'O', 'O', 'O', 'O', 'O', 'O', 'O', 'O', 'O', 'O', 'O', 'O', 'O', 'O', 'O', 'O', 'O', 'O', 'O', 'O', 'O', 'O', 'O', 'O', 'O', 'O', 'O', 'O', 'O', 'O', 'O', 'O', 'O', 'O', 'O', 'O', 'O', 'O', 'O', 'O', 'O', 'O', 'O', 'O', 'U-GRADYEAR', 'O', 'O', 'O'], ['O', 'O', 'O', 'O', 'O', 'O', 'O', 'O', 'O', 'O', 'O', 'O', 'O', 'O', 'O', 'O', 'O', 'O', 'O', 'O', 'O', 'O', 'O', 'O', 'O', 'O', 'O', 'O', 'O', 'B-SKILLS', 'I-SKILLS', 'O', 'I-SKILLS', 'O', 'O', 'B-SKILLS', 'I-SKILLS', 'O', 'O', 'O', 'O', 'B-SKILLS', 'I-SKILLS', 'I-SKILLS', 'O', 'I-SKILLS', 'O', 'O', 'O', 'I-SKILLS', 'I-SKILLS', 'O', 'O', 'I-SKILLS', 'I-SKILLS', 'I-SKILLS', 'O', 'I-SKILLS', 'O'], ['O', 'O', 'O', 'B-DESIG', 'B-COMPANY', 'O', 'O', 'U-LOC', 'O', 'O', 'O', 'O', 'O', 'O', 'O', 'B-DESIG', 'B-COMPANY', 'B-COMPANY', 'L-COMPANY', 'O', 'U-LOC', 'O', 'O', 'O', 'O', 'O', 'O', 'O', 'O'], ['O', 'O', 'O', 'B-COMPANY', 'L-COMPANY', 'O', 'B-COMPANY', 'L-COMPANY', 'O', 'O', 'O', 'O', 'U-GRADYEAR', 'O', 'O', 'O', 'O', 'O', 'O', 'O', 'O', 'O', 'O', 'O', 'O', 'O', 'O', 'O', 'O', 'O', 'O', 'O', 'O', 'O', 'O', 'O', 'O', 'O'], ['O', 'O', 'O', 'O', 'O', 'O', 'U-LOC', 'O', 'O', 'O', 'O', 'U-LOC', 'O', 'O', 'O', 'O', 'O', 'O', 'O', 'O', 'O', 'O', 'O', 'O', 'O', 'O', 'B-DESIG', 'I-DESIG', 'I-DESIG', 'I-DESIG', 'B-COMPANY', 'L-COMPANY', 'O', 'O', 'O', 'O', 'O', 'O', 'O', 'O', 'O', 'O', 'O', 'O', 'O'], ['B-NAME', '[SEP]', 'U-LOC', 'O', 'O', 'O', 'O', 'O', 'O', 'O', 'O', 'U-EMAIL', 'O', 'O', 'O', 'O', 'O', 'O', 'O', 'O', 'O', 'O', 'O', 'O', 'O', 'O', 'O'], ['B-NAME', 'L-NAME', 'B-DESIG', 'O', 'O', 'O', 'O', 'O', 'B-COMPANY', 'L-COMPANY', 'U-LOC', 'O', 'O', 'O', 'O', 'O', 'O', 'O', 'O', 'O', 'U-EMAIL', 'X', 'O', 'O', 'B-DESIG', 'L-DESIG', 'O', 'O', 'O', 'B-COMPANY', 'L-COMPANY', 'O', 'U-LOC', 'O', 'O', 'O', 'O', 'O', 'O', 'O', 'O', 'O', 'O', 'O', 'O', 'O', 'O', 'O', 'O', 'O', 'O', 'O', 'O', 'O', 'O', 'O', 'O', 'O', 'O', 'O', 'O', 'O', 'O', 'O', 'O', 'O', 'O', 'O', 'O', 'O', 'O', 'O', 'O', 'O', 'O', 'O', 'O', 'O', 'O', 'O', 'O', 'O', 'O', 'O', 'O', 'O', 'O'], ['O', 'O', 'B-DEG', 'I-DEG', 'I-DEG', 'I-DEG', 'B-CLG', 'I-CLG', 'L-CLG', 'U-GRADYEAR', 'O', 'I-DEG', 'I-CLG', 'I-CLG', 'I-CLG', 'L-CLG', 'O', 'O', 'O', 'O', 'O', 'U-GRADYEAR', 'O', 'B-DEG', 'I-DEG', 'I-DEG', 'I-DEG', 'I-DEG', 'B-CLG', 'L-CLG', 'U-GRADYEAR', 'O', 'I-DEG', 'I-DEG', 'I-DEG', 'I-DEG', 'I-DEG', 'B-CLG', 'L-CLG', 'U-GRADYEAR', 'O', 'B-SKILLS', 'B-SKILLS', 'I-SKILLS', 'I-SKILLS', 'I-SKILLS', 'I-SKILLS', 'I-SKILLS', 'I-SKILLS', 'I-SKILLS', 'I-SKILLS', 'I-SKILLS', 'I-SKILLS', 'I-SKILLS', 'I-SKILLS', 'I-SKILLS', 'I-SKILLS', 'I-SKILLS', 'I-SKILLS', 'I-SKILLS', 'I-SKILLS', 'I-SKILLS', 'I-SKILLS', 'I-SKILLS', 'I-SKILLS', 'I-SKILLS', 'I-SKILLS', 'I-SKILLS', 'I-SKILLS', 'I-SKILLS', 'I-SKILLS', 'I-SKILLS', 'I-SKILLS', 'I-SKILLS', 'X', 'I-SKILLS', 'I-SKILLS', 'I-SKILLS', 'I-SKILLS', 'I-SKILLS', 'I-SKILLS', 'I-SKILLS', 'I-SKILLS', 'I-SKILLS', 'I-SKILLS', 'I-SKILLS', 'I-SKILLS', 'I-SKILLS', 'I-SKILLS', 'I-SKILLS', 'I-SKILLS', 'I-SKILLS', 'I-SKILLS', 'I-SKILLS', 'I-SKILLS', 'I-SKILLS', 'I-SKILLS', 'I-SKILLS', 'I-SKILLS', 'I-SKILLS', 'I-SKILLS', 'I-SKILLS', 'I-SKILLS', 'I-SKILLS', 'I-SKILLS', 'I-SKILLS', 'I-SKILLS', 'I-SKILLS', 'I-SKILLS', 'I-SKILLS', 'I-SKILLS', 'I-SKILLS', 'I-SKILLS', 'I-SKILLS', 'I-SKILLS', 'I-SKILLS', 'I-SKILLS', 'I-SKILLS', 'I-SKILLS', 'I-SKILLS', 'I-SKILLS', 'I-SKILLS', 'I-SKILLS', 'I-SKILLS', 'I-SKILLS', 'I-SKILLS', 'I-SKILLS', 'I-SKILLS', 'I-SKILLS', 'I-SKILLS', 'I-SKILLS', 'I-SKILLS', 'O', 'O', 'O', 'O', 'O', 'O', 'O', 'U-GRADYEAR', 'O', 'O', 'O', 'O', 'O', 'O', 'O'], ['B-NAME', 'L-NAME', 'U-LOC', 'O', 'O', 'O', 'O', 'O', 'O', 'O', 'O', 'O', 'O', 'O', 'O', 'U-EMAIL', 'X', 'O', 'O', 'O', 'O', 'O', 'O', 'O', 'O', 'O', 'O', 'O', 'O', 'O', 'O', 'O', 'O', 'O', 'O'], ['O', 'O', 'B-DEG', 'I-DEG', 'I-DEG', 'I-DEG', 'I-DEG', 'I-DEG', 'B-CLG', 'I-CLG', 'I-CLG', 'I-CLG', 'L-CLG', 'O', 'O', 'O', 'O', 'O', 'U-GRADYEAR', 'B-DEG', 'I-DEG', 'I-DEG', 'I-DEG', 'I-DEG', 'I-DEG', 'I-DEG', 'I-DEG', 'B-CLG', 'O', 'O', 'O', 'O', 'L-CLG', 'O', 'O', 'O', 'O', 'U-GRADYEAR', 'B-DEG', 'I-DEG', 'U-GRADYEAR', 'O', 'I-SKILLS', 'I-SKILLS', 'I-SKILLS', 'I-SKILLS', 'I-SKILLS', 'I-SKILLS', 'I-SKILLS', 'I-SKILLS', 'I-SKILLS', 'I-SKILLS', 'I-SKILLS', 'I-SKILLS', 'I-SKILLS', 'I-SKILLS', 'I-SKILLS', 'I-SKILLS', 'I-SKILLS', 'I-SKILLS', 'I-SKILLS', 'I-SKILLS', 'I-SKILLS', 'I-SKILLS', 'I-SKILLS', 'I-SKILLS', 'I-SKILLS', 'I-SKILLS', 'I-SKILLS', 'I-SKILLS', 'I-SKILLS', 'I-SKILLS', 'I-SKILLS', 'I-SKILLS', 'I-SKILLS', 'I-SKILLS', 'I-SKILLS', 'I-SKILLS', 'I-SKILLS', 'I-SKILLS', 'I-SKILLS', 'I-SKILLS', 'I-SKILLS', 'I-SKILLS', 'I-SKILLS', 'I-SKILLS', 'I-SKILLS', 'I-SKILLS', 'I-SKILLS', 'I-SKILLS', 'I-SKILLS', 'I-SKILLS', 'I-SKILLS', 'I-SKILLS', 'I-SKILLS', 'I-SKILLS', 'O', 'I-SKILLS', 'I-SKILLS', 'I-SKILLS', 'I-SKILLS', 'I-SKILLS', 'I-SKILLS', 'I-SKILLS', 'I-SKILLS', 'I-SKILLS', 'I-SKILLS', 'I-SKILLS', 'I-SKILLS', 'I-SKILLS', 'I-SKILLS', 'I-SKILLS', 'I-SKILLS', 'I-SKILLS', 'I-SKILLS', 'I-SKILLS', 'I-SKILLS', 'I-SKILLS', 'I-SKILLS', 'I-SKILLS', 'O', 'O', 'O', 'O', 'O', 'O', 'O', 'O', 'O', 'O', 'O', 'O', 'O', 'O', 'O'], ['O', 'O', 'O', 'O', 'O', 'O', 'O', 'U-COMPANY', 'O', 'O', 'O', 'O', 'O', 'O', 'O', 'O', 'O', 'O', 'O', 'O', 'O', 'O', 'O', 'O', 'O', 'O'], ['B-NAME', 'L-NAME', 'O', 'O', 'O', 'O', 'I-DESIG', 'I-DESIG', 'L-DESIG', 'I-DESIG', 'I-DESIG', 'O', 'O', 'B-COMPANY', 'L-COMPANY', 'U-LOC', 'O', 'O', 'O', 'O', 'O', 'O', 'O', 'O', 'U-EMAIL', 'O', 'O', 'O', 'O', 'O', 'B-DESIG', 'I-DESIG', 'I-DESIG', 'I-DESIG', 'I-DESIG', 'I-DESIG', 'L-DESIG', 'B-COMPANY', 'L-COMPANY', 'O', 'O', 'O', 'O', 'O', 'O', 'O', 'O', 'O', 'O', 'O', 'O', 'O', 'O', 'O', 'O', 'O', 'O', 'O', 'O', 'O', 'O', 'O', 'O', 'O', 'O', 'O', 'O', 'O', 'O', 'O', 'O', 'O', 'O', 'O', 'O', 'O', 'O', 'O', 'O', 'O', 'O', 'O', 'O', 'O', 'O', 'O', 'O', 'O', 'O', 'O', 'O', 'O', 'O', 'O', 'O', 'O', 'O', 'O'], ['O', 'O', 'O', 'O', 'O', 'O', 'O', 'O', 'O', 'O', 'O', 'I-CLG', 'I-CLG', 'I-CLG', 'I-CLG', 'I-CLG', 'O', 'O', 'O', 'O', 'O', 'O', 'O', 'O', 'O', 'O', 'O', 'O', 'O', 'O', 'O', 'O', 'O', 'O', 'O', 'O', 'O', 'O', 'O', 'O', 'O', 'O', 'O', 'O', 'O', 'O', 'O', 'O', 'O', 'O', 'O', 'O', 'O', 'O', 'O', 'O', 'O', 'O', 'O', 'O'], ['O', 'O', 'O', 'O', 'O', 'O', 'O', 'O', 'O', 'O', 'O', 'U-DEG', 'X', 'I-DEG', 'I-DEG', 'I-DEG', 'O', 'O', 'O', 'O', 'O', 'O', 'O', 'O', 'O', 'O', 'O', 'O', 'O', 'O', 'O', 'O', 'O', 'O', 'O', 'O', 'B-DEG', 'X', 'I-DEG', 'I-CLG', 'I-DEG', 'I-DEG', 'I-DEG', 'I-DEG', 'L-CLG', 'O', 'O', 'O', 'O', 'O', 'U-GRADYEAR', 'O', 'I-CLG', 'I-CLG', 'L-CLG', 'O', 'O', 'O', 'O', 'O', 'U-GRADYEAR', 'U-DEG', 'I-CLG', 'I-CLG', 'O', 'U-GRADYEAR', 'O', 'B-SKILLS', 'I-SKILLS', 'I-SKILLS', 'I-SKILLS', 'I-SKILLS', 'I-SKILLS', 'I-SKILLS', 'I-SKILLS', 'I-SKILLS', 'I-SKILLS', 'I-SKILLS', 'I-SKILLS', 'I-SKILLS', 'I-SKILLS', 'I-SKILLS', 'I-SKILLS', 'I-SKILLS', 'I-SKILLS', 'I-SKILLS', 'I-SKILLS', 'I-SKILLS', 'I-SKILLS', 'I-SKILLS', 'I-SKILLS', 'I-SKILLS', 'I-SKILLS', 'I-SKILLS', 'I-SKILLS', 'I-SKILLS', 'I-SKILLS', 'I-SKILLS', 'I-SKILLS', 'I-SKILLS', 'I-SKILLS', 'I-SKILLS', 'O', 'O', 'O', 'O', 'O', 'O', 'O', 'O', 'O', 'O', 'O', 'O', 'O', 'O', 'O', 'O', 'O', 'O', 'O', 'O', 'O', 'O', 'O', 'O', 'O', 'O', 'O', 'O', 'O', 'O', 'O', 'O', 'O', 'I-SKILLS', 'I-SKILLS', 'O', 'O', 'O', 'O', 'O', 'I-SKILLS', 'O', 'I-SKILLS', 'I-SKILLS', 'I-SKILLS', 'O', 'O', 'I-SKILLS', 'O', 'I-SKILLS', 'I-SKILLS', 'I-SKILLS', 'I-SKILLS', 'I-SKILLS', 'I-SKILLS', 'O', 'I-SKILLS', 'O', 'O', 'O', 'O', 'O', 'I-SKILLS', 'I-SKILLS', 'I-SKILLS', 'I-SKILLS', 'I-SKILLS', 'I-SKILLS', 'I-SKILLS', 'I-SKILLS', 'I-SKILLS', 'I-SKILLS', 'O', 'O', 'O', 'O', 'O', 'O', 'O', 'O', 'O', 'O', 'O'], ['B-NAME', 'L-NAME', 'B-DESIG', 'I-DESIG', 'I-DESIG', 'I-DESIG', 'I-COMPANY', 'U-LOC', 'O', 'O', 'O', 'O', 'O', 'O', 'O', 'O', 'U-EMAIL', 'X', 'O', 'O', 'O', 'O', 'O', 'O', 'O', 'O', 'O', 'O', 'O', 'O', 'O', 'O', 'O', 'O', 'O', 'O', 'O', 'O'], ['B-NAME', 'L-NAME', 'O', 'O', 'O', 'O', 'O', 'O', 'U-LOC', 'O', 'O', 'O', 'O', 'O', 'O', 'O', 'O', 'U-EMAIL', 'O', 'O', 'O', 'O', 'O', 'O', 'O', 'O', 'O', 'O', 'O', 'O', 'O', 'O', 'O', 'O', 'O', 'O', 'O', 'O', 'O', 'O', 'O', 'O', 'O', 'O'], ['O', 'O', 'O', 'O', 'O', 'O', 'O', 'O', 'O', 'O', 'O', 'O', 'O', 'O', 'O', 'O', 'O', 'O', 'O', 'O', 'O', 'O', 'O', 'O', 'O', 'O', 'O', 'O', 'O', 'O', 'O', 'O', 'O', 'O', 'O', 'O', 'O', 'O', 'O', 'O', 'O', 'O', 'O', 'O', 'O', 'O', 'O', 'O', 'O', 'O', 'O', 'O', 'O', 'O', 'O', 'O', 'O', 'O', 'O', 'O', 'O', 'U-COMPANY', 'O', 'O', 'O', 'O', 'O', 'O', 'O', 'O', 'O', 'O', 'O', 'O', 'O', 'O', 'O', 'O', 'O', 'O', 'O', 'O', 'O', 'O', 'O', 'O', 'O', 'O', 'O', 'O', 'O', 'O', 'O', 'O', 'O', 'O', 'O', 'O', 'O', 'O', 'O', 'O', 'O', 'O', 'O', 'O', 'O', 'O', 'O', 'O', 'O', 'O'], ['O', 'O', 'O', 'O', 'O', 'O', 'B-DESIG', 'L-DESIG', 'U-COMPANY', 'O', 'O', 'O', 'O', 'O', 'O', 'O', 'O', 'O', 'O', 'O', 'B-COMPANY', 'B-COMPANY', 'O', 'U-LOC', 'O', 'O', 'O', 'U-GRADYEAR', 'O', 'O', 'O', 'O', 'O', 'O', 'O', 'O', 'O', 'O', 'O', 'O', 'O', 'O', 'O', 'O', 'L-SKILLS', 'O', 'O', 'O', 'O', 'O', 'O'], ['O', 'U-LOC', 'L-LOC', 'O', 'O', 'O', 'O', 'O', 'O', 'O', 'U-EMAIL', 'O', 'O', 'O', 'O', 'O', 'B-COMPANY', 'I-COMPANY', 'O', 'O', 'O', 'O', 'O', 'O', 'O', 'O', 'O', 'O', 'O', 'O', 'O', 'O', 'O', 'O', 'O', 'O'], ['O', 'O', 'O', 'O', 'O', 'O', 'O', 'O', 'O', 'O', 'O', 'O', 'O', 'O', 'O', 'O', 'O', 'O', 'O', 'O', 'O', 'O', 'O', 'O', 'O', 'O', 'O', 'O', 'O', 'O', 'O', 'O', 'O', 'O', 'O', 'O', 'O', 'O', 'O', 'O', 'O', 'O', 'O', 'O', 'O', 'O', 'O', 'O', 'O', 'O', 'B-DEG', 'I-DEG', 'I-DEG', 'I-DEG', 'I-DEG', 'B-CLG', 'I-CLG', 'I-CLG', 'L-CLG', 'O', 'O', 'O', 'O', 'O', 'U-GRADYEAR', 'B-SKILLS', 'I-SKILLS', 'I-SKILLS', 'I-SKILLS', 'I-SKILLS', 'I-SKILLS', 'I-SKILLS', 'I-SKILLS', 'I-SKILLS', 'I-SKILLS', 'I-SKILLS', 'I-SKILLS', 'I-SKILLS', 'I-SKILLS', 'I-SKILLS', 'I-SKILLS', 'I-SKILLS', 'I-SKILLS', 'I-SKILLS', 'I-SKILLS', 'I-SKILLS', 'I-SKILLS', 'I-SKILLS', 'I-SKILLS', 'I-SKILLS', 'I-SKILLS', 'I-SKILLS', 'I-SKILLS', 'I-SKILLS', 'I-SKILLS', 'I-SKILLS', 'I-SKILLS', 'I-SKILLS', 'I-SKILLS', 'I-SKILLS', 'I-SKILLS', 'I-SKILLS', 'I-SKILLS', 'I-SKILLS', 'I-SKILLS', 'I-SKILLS', 'O', 'O', 'O', 'O', 'O', 'O', 'O', 'B-SKILLS', 'I-SKILLS', 'I-SKILLS', 'I-SKILLS', 'I-SKILLS', 'I-SKILLS', 'I-SKILLS', 'I-SKILLS', 'I-SKILLS', 'I-SKILLS', 'I-SKILLS', 'I-SKILLS', 'I-SKILLS', 'I-SKILLS', 'I-SKILLS', 'I-SKILLS', 'I-SKILLS', 'I-SKILLS', 'I-SKILLS', 'I-SKILLS', 'I-SKILLS', 'I-SKILLS', 'I-SKILLS', 'I-SKILLS', 'I-SKILLS', 'I-SKILLS', 'I-SKILLS', 'I-SKILLS', 'I-SKILLS', 'I-SKILLS', 'I-SKILLS', 'I-SKILLS', 'I-SKILLS', 'I-SKILLS', 'I-SKILLS', 'I-SKILLS', 'I-SKILLS', 'I-SKILLS', 'I-SKILLS', 'I-SKILLS', 'I-SKILLS', 'I-SKILLS', 'I-SKILLS', 'I-SKILLS', 'I-SKILLS', 'I-SKILLS', 'I-SKILLS', 'I-SKILLS', 'I-SKILLS', 'I-SKILLS', 'I-SKILLS', 'I-SKILLS', 'I-SKILLS', 'I-SKILLS', 'I-SKILLS', 'I-SKILLS', 'I-SKILLS', 'I-SKILLS', 'I-SKILLS', 'I-SKILLS', 'I-SKILLS', 'I-SKILLS', 'I-SKILLS', 'I-SKILLS', 'I-SKILLS', 'I-SKILLS', 'I-SKILLS', 'I-SKILLS', 'I-SKILLS', 'I-SKILLS', 'I-SKILLS', 'L-SKILLS', 'I-SKILLS', 'I-SKILLS', 'I-SKILLS', 'I-SKILLS', 'I-SKILLS', 'I-SKILLS', 'I-SKILLS', 'I-SKILLS', 'I-SKILLS', 'I-SKILLS', 'I-SKILLS', 'I-SKILLS', 'I-SKILLS', 'I-SKILLS', 'I-SKILLS', 'I-SKILLS', 'I-SKILLS', 'I-SKILLS', 'I-SKILLS', 'I-SKILLS', 'I-SKILLS', 'I-SKILLS', 'I-SKILLS', 'I-SKILLS', 'I-SKILLS', 'I-SKILLS', 'I-SKILLS', 'I-SKILLS', 'I-SKILLS', 'I-SKILLS', 'I-SKILLS', 'I-SKILLS', 'I-SKILLS', 'I-SKILLS', 'I-SKILLS', 'I-SKILLS', 'I-SKILLS', 'I-SKILLS', 'I-SKILLS', 'I-SKILLS', 'I-SKILLS', 'I-SKILLS', 'I-SKILLS', 'I-SKILLS', 'I-SKILLS', 'I-SKILLS', 'I-SKILLS', 'I-SKILLS', 'I-SKILLS', 'I-SKILLS', 'I-SKILLS', 'I-SKILLS', 'I-SKILLS', 'I-SKILLS', 'I-SKILLS', 'I-SKILLS', 'I-SKILLS', 'I-SKILLS', 'I-SKILLS', 'I-SKILLS', 'I-SKILLS', 'I-SKILLS', 'L-SKILLS'], ['O', 'O', 'O', 'O', 'B-DESIG', 'L-DESIG', 'O', 'B-DESIG', 'L-DESIG', 'O', 'O', 'O', 'O', 'O', 'O', 'O', 'O', 'O', 'O', 'O', 'O', 'O', 'O', 'O', 'O', 'O', 'O'], ['O', 'O', 'O', 'B-COMPANY', 'L-COMPANY', 'O', 'U-LOC', 'O', 'O', 'O', 'O', 'O', 'O', 'O', 'O', 'O', 'O', 'O', 'O', 'O', 'O', 'O', 'O', 'O', 'O', 'O', 'O', 'O', 'O', 'O', 'O', 'O', 'O', 'O', 'O', 'O', 'O', 'O', 'O', 'O'], ['O', 'O', 'O', 'O', 'O', 'O', 'O', 'O', 'O', 'O', 'O', 'O', 'O', 'O', 'O', 'O', 'O', 'O', 'O', 'O', 'O', 'O', 'O', 'O', 'O', 'O', 'O', 'O', 'O'], ['O', 'O', 'O', 'O', 'O', 'O', 'O', 'O', 'O', 'O', 'O', 'O', 'O', 'O', 'O', 'O', 'O', 'O', 'O', 'O', 'O', 'O', 'O', 'O', 'O', 'O', 'O', 'O', 'O', 'O', 'O', 'O', 'O', 'O', 'O', 'O', 'O', 'O', 'O', 'O', 'O', 'O', 'O', 'O', 'O', 'O', 'O', 'O', 'O', 'O', 'O', 'O', 'O', 'O', 'O', 'O', 'O', 'O', 'O', 'O'], ['O', 'O', 'O', 'O', 'O', 'O', 'O', 'O', 'O', 'O', 'O', 'O', 'O', 'O', 'O', 'O', 'O', 'O', 'O', 'O', 'O', 'O', 'O', 'O', 'O', 'O', 'O', 'O', 'O', 'O', 'O', 'I-CLG', 'O', 'U-GRADYEAR', 'B-DEG', 'I-DEG', 'I-DEG', 'B-CLG', 'I-CLG', 'L-CLG', 'O', 'O', 'O', 'O', 'O', 'U-GRADYEAR', 'O', 'I-DEG', 'I-DEG', 'I-DEG', 'B-CLG', 'I-CLG', 'I-CLG', 'I-CLG', 'I-CLG', 'I-CLG', 'I-CLG', 'I-CLG', 'O', 'O', 'O', 'O', 'I-CLG', 'I-CLG', 'O', 'O', 'O', 'O', 'O', 'O', 'U-DEG', 'U-DEG', 'X', 'I-CLG', 'L-CLG', 'O', 'L-CLG', 'I-CLG', 'O', 'O', 'O', 'U-GRADYEAR', 'O', 'O', 'O', 'B-SKILLS', 'I-SKILLS', 'I-SKILLS', 'I-SKILLS', 'I-SKILLS', 'I-SKILLS', 'I-SKILLS', 'I-SKILLS', 'I-SKILLS', 'I-SKILLS', 'I-SKILLS', 'I-SKILLS', 'I-SKILLS', 'I-SKILLS', 'I-SKILLS', 'I-SKILLS', 'I-SKILLS', 'I-SKILLS', 'I-SKILLS', 'I-SKILLS', 'I-SKILLS', 'I-SKILLS', 'I-SKILLS', 'I-SKILLS', 'I-SKILLS', 'I-SKILLS', 'I-SKILLS', 'I-SKILLS', 'I-SKILLS', 'I-SKILLS', 'I-SKILLS', 'O', 'I-SKILLS', 'I-SKILLS', 'X', 'X', 'I-SKILLS', 'I-SKILLS', 'I-SKILLS', 'I-SKILLS', 'I-SKILLS', 'I-SKILLS', 'I-SKILLS', 'I-SKILLS', 'I-SKILLS', 'I-SKILLS', 'I-SKILLS', 'I-SKILLS', 'I-SKILLS', 'I-SKILLS', 'I-SKILLS', 'I-SKILLS', 'I-SKILLS', 'I-SKILLS', 'I-SKILLS', 'I-SKILLS', 'I-SKILLS', 'I-SKILLS', 'I-SKILLS', 'I-SKILLS', 'L-SKILLS'], ['O', 'O', 'O', 'O', 'O', 'O', 'O', 'O', 'O', 'B-DEG', 'I-DEG', 'I-DEG', 'I-DEG', 'I-DEG', 'I-DEG', 'I-DEG', 'I-DEG', 'I-DEG', 'I-CLG', 'I-CLG', 'L-CLG', 'O', 'O', 'O', 'O', 'O', 'U-GRADYEAR', 'B-DEG', 'I-DEG', 'I-DEG', 'I-DEG', 'I-DEG', 'I-DEG', 'B-CLG', 'L-CLG', 'O', 'O', 'O', 'O', 'O', 'U-GRADYEAR', 'O', 'B-CLG', 'I-CLG', 'I-CLG', 'I-CLG', 'L-CLG', 'O', 'O', 'O', 'O', 'O', 'U-GRADYEAR', 'O', 'B-SKILLS', 'O', 'O', 'I-SKILLS', 'O', 'O', 'I-SKILLS', 'I-SKILLS', 'I-SKILLS', 'O', 'I-SKILLS', 'O', 'O', 'O', 'O', 'O', 'O', 'O', 'O', 'O', 'O', 'O', 'O', 'O', 'O', 'O', 'O', 'O', 'O', 'O', 'O', 'O', 'O', 'O', 'O', 'O', 'O', 'O', 'X', 'X', 'O', 'O', 'O', 'O', 'O', 'O', 'O', 'O', 'O', 'O', 'O', 'O', 'O', 'O', 'O', 'O', 'O', 'O', 'O', 'O', 'O', 'O', 'O'], ['O', 'O', 'O', 'O', 'O', 'O', 'O', 'O', 'O', 'O', 'O', 'O', 'O', 'O', 'O', 'O', 'O', 'O', 'O', 'B-COMPANY', 'B-COMPANY', 'L-COMPANY', 'O', 'O', 'O', 'O', 'O', 'O', 'O', 'O', 'O', 'O', 'O', 'O', 'O', 'O', 'O', 'O'], ['O', 'O', 'O', 'O', 'O', 'O', 'O', 'O', 'O', 'O', 'O', 'O', 'O', 'O', 'O', 'O', 'O', 'O', 'O', 'O', 'O', 'O', 'O', 'O', 'U-LOC'], ['O', 'O', 'B-SKILLS', 'I-SKILLS', 'I-SKILLS', 'I-SKILLS', 'I-SKILLS', 'I-SKILLS', 'I-SKILLS', 'I-SKILLS', 'I-SKILLS', 'I-SKILLS', 'I-SKILLS', 'I-SKILLS', 'I-SKILLS', 'I-SKILLS', 'I-SKILLS', 'I-SKILLS', 'I-SKILLS', 'I-SKILLS', 'I-SKILLS', 'I-SKILLS', 'I-SKILLS', 'I-SKILLS', 'I-SKILLS', 'I-SKILLS', 'I-SKILLS', 'I-SKILLS', 'I-SKILLS', 'I-SKILLS', 'I-SKILLS', 'I-SKILLS', 'I-SKILLS', 'I-SKILLS', 'I-SKILLS', 'I-SKILLS', 'I-SKILLS', 'I-SKILLS', 'O', 'O', 'O', 'O', 'O', 'O', 'O', 'I-SKILLS', 'I-SKILLS', 'I-SKILLS', 'I-SKILLS', 'I-SKILLS', 'I-SKILLS', 'I-SKILLS', 'I-SKILLS', 'I-SKILLS', 'I-SKILLS', 'I-SKILLS', 'I-SKILLS', 'I-SKILLS', 'I-SKILLS', 'I-SKILLS', 'I-SKILLS', 'I-SKILLS', 'I-SKILLS', 'I-SKILLS', 'I-SKILLS', 'I-SKILLS', 'I-SKILLS', 'I-SKILLS', 'I-SKILLS', 'I-SKILLS', 'I-SKILLS', 'I-SKILLS', 'I-SKILLS', 'I-SKILLS', 'I-SKILLS', 'I-SKILLS', 'I-SKILLS', 'I-SKILLS', 'I-SKILLS', 'I-SKILLS', 'I-SKILLS', 'I-SKILLS', 'I-SKILLS', 'I-SKILLS', 'I-SKILLS', 'I-SKILLS', 'I-SKILLS', 'I-SKILLS', 'I-SKILLS', 'I-SKILLS', 'I-SKILLS', 'I-SKILLS', 'I-SKILLS', 'I-SKILLS', 'I-SKILLS', 'O', 'O', 'O', 'I-SKILLS', 'O', 'I-SKILLS', 'I-SKILLS', 'I-SKILLS', 'I-SKILLS', 'I-SKILLS', 'O', 'I-SKILLS', 'I-SKILLS', 'O', 'O', 'O', 'O', 'O', 'O', 'O', 'O', 'O', 'O', 'O', 'U-GRADYEAR', 'O', 'O', 'O', 'O', 'O', 'X', 'O'], ['O', 'O', 'B-DEG', 'I-DEG', 'I-DEG', 'I-DEG', 'I-DEG', 'B-CLG', 'I-CLG', 'L-CLG', 'O', 'O', 'O', 'O', 'O', 'U-GRADYEAR', 'O', 'B-CLG', 'I-CLG', 'I-CLG', 'L-CLG', 'O', 'O', 'O', 'O', 'O', 'U-GRADYEAR', 'O', 'U-DEG', 'X', 'X', 'I-CLG', 'L-CLG', 'O', 'O', 'O', 'O', 'B-SKILLS', 'B-SKILLS', 'I-SKILLS', 'I-SKILLS', 'I-SKILLS', 'I-SKILLS', 'I-SKILLS', 'I-SKILLS', 'I-SKILLS', 'I-SKILLS', 'I-SKILLS', 'I-SKILLS', 'I-SKILLS', 'I-SKILLS', 'I-SKILLS', 'I-SKILLS', 'I-SKILLS', 'I-SKILLS', 'I-SKILLS', 'I-SKILLS', 'I-SKILLS', 'I-SKILLS', 'I-SKILLS', 'I-SKILLS', 'I-SKILLS', 'I-SKILLS', 'I-SKILLS', 'I-SKILLS', 'I-SKILLS', 'I-SKILLS', 'I-SKILLS', 'I-SKILLS', 'I-SKILLS', 'I-SKILLS', 'I-SKILLS', 'I-SKILLS', 'I-SKILLS', 'I-SKILLS', 'I-SKILLS', 'I-SKILLS', 'I-SKILLS', 'I-SKILLS', 'I-SKILLS', 'I-SKILLS', 'I-SKILLS', 'L-SKILLS', 'O', 'O', 'O', 'O', 'O', 'O'], ['O', 'B-DESIG', 'U-COMPANY', 'O', 'O', 'O', 'O', 'O', 'O', 'O', 'O', 'O', 'O', 'O', 'B-DESIG', 'L-DESIG', 'B-COMPANY', 'L-COMPANY', 'O', 'O', 'O', 'O', 'O', 'O', 'U-GRADYEAR', 'O', 'O', 'U-GRADYEAR', 'O', 'O', 'O', 'O', 'O', 'O', 'O', 'O', 'O', 'O', 'O', 'O', 'O', 'O', 'O', 'O', 'U-GRADYEAR', 'O', 'X', 'U-GRADYEAR', 'O', 'O', 'O', 'O', 'O', 'O', 'O', 'O', 'U-GRADYEAR', 'O', 'O', 'O', 'O', 'O', 'O', 'O', 'O', 'O', 'O', 'O', 'O', 'O', 'O', 'O', 'O', 'O', 'O', 'O', 'O', 'O', 'O', 'U-GRADYEAR', 'O', 'O', 'O', 'O', 'O', 'O', 'O', 'O', 'U-GRADYEAR', 'O', 'O', 'U-GRADYEAR', 'O', 'O', 'O', 'O', 'O', 'O', 'O', 'O', 'O', 'O', 'O', 'U-GRADYEAR', 'O', 'O', 'O', 'O', 'O', 'O', 'O', 'O', 'O', 'O', 'O', 'O', 'O', 'O', 'O', 'U-GRADYEAR', 'O', 'O', 'O', 'O', 'O', 'O', 'O', 'I-COMPANY', 'U-GRADYEAR', 'O', 'O', 'O'], ['B-NAME', 'L-NAME', 'B-DESIG', 'I-DESIG', 'I-DESIG', 'U-LOC', 'O', 'O', 'O', 'O', 'O', 'O', 'O', 'O', 'B-EMAIL', 'O', 'O', 'O', 'O', 'O', 'O', 'B-DESIG', 'B-DESIG', 'L-DESIG', 'B-COMPANY', 'U-COMPANY', 'O', 'O', 'O', 'O', 'O', 'O', 'O', 'O', 'O', 'O', 'O', 'O', 'O', 'O', 'O', 'O', 'O', 'O', 'O', 'O'], ['B-NAME', 'L-NAME', 'B-DESIG', 'O', 'L-DESIG', 'O', 'O', 'O', 'O', 'O', 'O', 'O', 'O', 'X', 'I-DEG', 'O'], ['O', 'O', 'O', 'I-DEG', 'I-DEG', 'I-DEG', 'I-DEG', 'L-DEG', 'B-CLG', 'I-CLG', 'L-CLG', 'O', 'O', 'U-GRADYEAR', 'O', 'B-DEG', 'I-DEG', 'I-DEG', 'L-DEG', 'B-CLG', 'I-CLG', 'I-CLG', 'L-CLG', 'O', 'O', 'O', 'O', 'O', 'O', 'U-GRADYEAR', 'B-CLG', 'I-CLG', 'L-CLG', 'O', 'O', 'O', 'O', 'O', 'O', 'B-SKILLS', 'I-SKILLS', 'I-SKILLS', 'I-SKILLS', 'I-SKILLS', 'I-SKILLS', 'I-SKILLS', 'I-SKILLS', 'I-SKILLS', 'I-SKILLS', 'I-SKILLS', 'I-SKILLS', 'I-SKILLS', 'I-SKILLS', 'I-SKILLS', 'I-SKILLS', 'I-SKILLS', 'I-SKILLS', 'I-SKILLS', 'I-SKILLS', 'I-SKILLS', 'I-SKILLS', 'I-SKILLS', 'I-SKILLS', 'I-SKILLS', 'I-SKILLS', 'I-SKILLS', 'O', 'O', 'O', 'O', 'O', 'O', 'O', 'O', 'O', 'O', 'O', 'O', 'O', 'O', 'O', 'O', 'O', 'O'], ['B-NAME', 'L-NAME', 'B-DESIG', 'I-DESIG', 'L-DESIG', 'O', 'O', 'I-COMPANY', 'O', 'B-COMPANY', 'U-LOC', 'O', 'O', 'O', 'O', 'O', 'O', 'O', 'O', 'U-EMAIL', 'X', 'O', 'O', 'O', 'O', 'O', 'O', 'O', 'O', 'O', 'O', 'O', 'O', 'O', 'O'], ['O', 'O', 'O', 'O', 'O', 'O', 'O', 'O', 'B-DESIG', 'L-DESIG', 'B-COMPANY', 'L-COMPANY', 'O', 'U-LOC', 'O', 'O', 'O', 'O', 'O', 'O', 'O', 'O', 'O', 'O', 'O', 'O', 'O', 'O', 'O', 'O', 'O'], ['B-NAME', 'L-NAME', 'U-LOC', 'O', 'O', 'O', 'O', 'O', 'O', 'O', 'O', 'U-EMAIL', 'O', 'O', 'O', 'O', 'O', 'O', 'O', 'O', 'O', 'O', 'O', 'O', 'O', 'O', 'O', 'O', 'O', 'X', 'O', 'O', 'B-DESIG', 'I-DEG', 'I-DEG', 'O', 'I-DEG', 'I-DEG', 'O', 'O', 'O', 'O', 'O', 'O', 'O', 'O', 'O', 'O', 'O', 'O', 'O', 'O', 'O'], ['O', 'O', 'O', 'B-DESIG', 'L-DESIG', 'O', 'O', 'O', 'O', 'O', 'O', 'O', 'O', 'O', 'O', 'O', 'O', 'O', 'O', 'O', 'O', 'O', 'O', 'O', 'O', 'O', 'O', 'O', 'O', 'O', 'O'], ['O', 'O', 'O', 'O', 'O', 'O', 'U-LOC', 'O', 'O', 'O', 'O', 'O', 'O', 'O', 'O', 'O', 'B-DESIG', 'B-COMPANY', 'B-COMPANY', 'I-COMPANY', 'L-COMPANY', 'O', 'U-LOC', 'O', 'O', 'O', 'O', 'O', 'O', 'O', 'O', 'O', 'O', 'O', 'O', 'O', 'O', 'O', 'O', 'O', 'O', 'O', 'O', 'O'], ['O', 'O', 'O', 'O', 'O', 'O', 'O', 'O', 'U-SKILLS', 'O'], ['B-NAME', 'L-NAME', 'B-DESIG', 'I-DESIG', 'O', 'O', 'B-COMPANY', 'I-COMPANY', 'U-LOC', 'O', 'O', 'O', 'O', 'O', 'O', 'O', 'O', 'U-EMAIL', 'O', 'O', 'O', 'O', 'O', 'O', 'O', 'O', 'I-DESIG', 'O', 'B-COMPANY', 'O', 'O', 'O', 'O', 'O', 'O', 'O', 'O', 'O', 'O', 'O', 'O', 'O', 'O', 'O', 'O', 'O', 'O', 'O', 'O', 'O', 'O', 'O', 'O', 'O', 'O', 'O', 'O', 'O', 'O', 'O', 'O', 'O', 'O', 'O', 'O', 'O', 'O', 'O', 'O', 'O', 'O', 'O', 'O', 'O', 'O', 'O', 'O', 'O', 'O', 'O', 'O', 'O', 'O', 'O', 'O', 'O', 'O', 'O', 'O', 'O', 'O', 'O', 'O', 'O', 'O', 'O', 'O', 'O', 'O', 'O', 'O', 'O', 'O', 'O', 'O', 'O', 'O', 'O', 'O', 'O', 'O', 'O', 'O', 'O', 'O', 'O', 'O', 'O', 'O', 'O', 'O', 'O', 'O', 'O', 'O', 'O', 'O', 'O', 'O', 'O', 'O', 'O', 'O', 'O', 'O', 'O', 'O', 'O', 'O', 'O', 'O', 'O', 'O', 'O', 'O', 'O', 'O', 'O', 'O', 'O', 'O', 'O', 'O', 'O', 'O', 'O', 'O', 'O', 'O', 'O', 'O', 'O', 'O', 'O', 'O', 'O', 'O', 'O', 'O', 'O', 'O', 'O', 'O', 'O', 'O', 'O', 'O', 'O', 'O', 'O', 'O', 'O', 'O', 'O', 'O', 'O', 'O', 'O', 'O', 'O', 'O', 'O', 'O', 'O', 'O', 'O', 'O', 'O', 'O', 'O', 'O', 'O', 'O', 'O', 'O', 'O', 'O', 'O', 'O', 'O', 'O', 'O', 'O', 'O', 'O', 'O', 'O', 'O', 'O', 'O', 'O', 'O', 'O', 'O', 'O', 'O', 'O', 'O', 'O', 'O', 'O', 'O', 'O', 'O', 'O', 'O', 'O', 'O', 'O', 'O', 'O', 'O', 'O', 'O', 'O', 'O', 'O', 'O', 'O', 'O', 'O', 'O', 'O', 'O', 'O', 'O', 'O', 'O', 'O', 'O', 'O', 'O', 'O', 'O', 'O', 'O', 'O', 'O', 'O', 'O', 'O', 'O', 'O', 'O', 'O', 'O', 'O', 'O', 'O', 'O', 'O', 'O', 'O', 'O', 'O', 'O', 'O', 'O', 'O', 'O', 'O', 'O', 'O', 'O', 'O', 'O', 'O', 'O', 'O', 'O', 'O', 'O', 'O', 'O', 'O', 'O', 'O', 'O', 'O', 'O', 'O', 'O', 'O', 'O', 'O', 'O', 'O', 'O', 'O', 'O', 'O', 'O', 'O', 'O', 'O', 'O', 'O', 'O', 'O', 'O', 'O', 'O', 'O', 'O', 'O', 'O', 'O', 'O', 'O', 'O', 'O', 'O', 'O', 'O', 'O', 'O', 'O', 'O', 'O', 'O', 'O', 'O', 'O', 'O', 'O', 'O', 'O', 'O', 'O', 'O', 'O', 'O', 'O', 'O', 'O', 'O', 'O', 'O', 'O', 'O', 'O', 'O', 'O', 'O', 'O', 'O', 'O', 'O', 'O', 'O', 'O', 'O', 'O', 'O', 'O', 'O', 'O', 'O', 'O', 'O', 'O', 'O', 'O', 'O', 'O', 'O', 'O', 'O', 'O', 'O', 'O', 'O', 'O', 'O', 'O', 'O', 'O', 'O', 'O', 'O', 'O', 'O', 'O', 'O', 'O', 'O', 'O', 'O', 'O', 'O', 'O', 'O'], ['B-NAME', 'L-NAME', 'B-DESIG', 'I-DESIG', 'L-DESIG', 'O', 'U-COMPANY', 'U-LOC', 'O', 'O', 'O', 'O', 'O', 'O', 'O', 'O', 'U-EMAIL', 'O', 'O', 'O', 'O', 'O', 'O', 'O', 'O', 'O', 'O'], ['O', 'O', 'O', 'U-SKILLS', 'O', 'B-DESIG', 'L-COMPANY', 'O'], ['O', 'O', 'O', 'O', 'O', 'U-COMPANY', 'O', 'O', 'O', 'O', 'O', 'O', 'O', 'O', 'O'], ['O', 'O', 'O', 'O', 'U-GRADYEAR', 'O', 'O', 'O'], ['O', 'O', 'O', 'O', 'O', 'B-COMPANY', 'L-COMPANY', 'O', 'O', 'O', 'O', 'O', 'O', 'O', 'I-COMPANY', 'I-DESIG', 'O', 'O', 'O', 'O', 'O', 'O', 'O', 'O', 'O', 'L-CLG', 'O', 'O', 'O', 'O', 'O', 'O', 'O', 'O', 'O', 'O', 'B-COMPANY', 'I-COMPANY', 'I-COMPANY', 'O', 'O', 'I-COMPANY', 'I-DESIG', 'I-DESIG', 'I-DESIG', 'I-DESIG', 'L-DESIG', 'O', 'O', 'O', 'O', 'O', 'O', 'O', 'O', 'O', 'O', 'O', 'O', 'O', 'O', 'O', 'O', 'O', 'O', 'O', 'O', 'O', 'O', 'O', 'O', 'O', 'O', 'O', 'O', 'O', 'O', 'O', 'O', 'O', 'O', 'O', 'O', 'B-COMPANY', 'O', 'O', 'O', 'O', 'O', 'I-COMPANY', 'O', 'O', 'O', 'O', 'O', 'O', 'O', 'O', 'O', 'O', 'O', 'O', 'O', 'O', 'O', 'O', 'O', 'O', 'O', 'O', 'O', 'O', 'O'], ['B-NAME', 'L-NAME', 'U-LOC', 'O', 'O', 'O', 'O', 'O', 'O', 'O', 'O', 'U-EMAIL', 'O', 'O', 'O', 'O', 'O', 'O', 'O', 'O', 'O', 'O', 'O', 'O', 'O', 'O', 'O', 'O', 'O', 'O', 'O', 'O', 'O', 'O', 'O'], ['O', 'O', 'B-DEG', 'I-DEG', 'I-DEG', 'I-DEG', 'I-CLG', 'L-CLG', 'O', 'O', 'O', 'O', 'O', 'B-SKILLS', 'I-SKILLS', 'I-SKILLS', 'I-SKILLS', 'I-SKILLS', 'I-SKILLS', 'I-SKILLS', 'I-SKILLS', 'I-SKILLS', 'I-SKILLS', 'I-SKILLS', 'I-SKILLS', 'I-SKILLS', 'I-SKILLS', 'I-SKILLS', 'I-SKILLS', 'I-SKILLS', 'I-SKILLS', 'I-SKILLS', 'I-SKILLS', 'I-SKILLS', 'I-SKILLS', 'I-SKILLS', 'I-SKILLS', 'I-SKILLS', 'I-SKILLS', 'I-SKILLS', 'I-SKILLS', 'I-SKILLS', 'I-SKILLS', 'I-SKILLS', 'I-SKILLS', 'I-SKILLS', 'I-SKILLS', 'I-SKILLS', 'I-SKILLS', 'I-SKILLS', 'I-SKILLS', 'I-SKILLS', 'I-SKILLS', 'I-SKILLS', 'I-SKILLS', 'I-SKILLS', 'I-SKILLS', 'I-SKILLS', 'I-SKILLS', 'I-SKILLS', 'I-SKILLS', 'I-SKILLS', 'I-SKILLS', 'I-SKILLS', 'I-SKILLS', 'I-SKILLS', 'O', 'O', 'O', 'O', 'O', 'O', 'O', 'O', 'O', 'O', 'O', 'O', 'O', 'O', 'O', 'O', 'O', 'O', 'O', 'O', 'O', 'O', 'O', 'O', 'O', 'O', 'O', 'O', 'O'], ['O', 'O', 'O', 'I-SKILLS', 'I-SKILLS', 'I-SKILLS', 'I-SKILLS', 'I-SKILLS', 'O', 'O', 'O', 'I-SKILLS', 'O', 'I-SKILLS', 'I-SKILLS', 'I-SKILLS', 'I-SKILLS', 'L-SKILLS'], ['B-NAME', 'L-NAME', 'B-DESIG', 'I-DESIG', 'O', 'I-DESIG', 'I-COMPANY', 'I-COMPANY', 'O', 'O', 'B-COMPANY', 'I-DEG', 'I-DEG', 'I-DEG', 'B-CLG', 'B-CLG', 'I-CLG', 'I-CLG', 'U-LOC', 'O', 'O', 'O', 'O', 'O', 'O', 'O', 'O', 'U-EMAIL', 'O', 'O', 'O', 'O', 'O', 'O', 'O', 'O', 'O', 'O', 'O', 'O', 'O', 'O', 'O', 'O', 'O', 'O', 'O', 'O', 'O', 'O'], ['O', 'O', 'O', 'O', 'O', 'O', 'O', 'O', 'O', 'O', 'O', 'O', 'U-GRADYEAR', 'O', 'O', 'O', 'O', 'O', 'O', 'O', 'O', 'O', 'O', 'O', 'O', 'O', 'O', 'O', 'O', 'O', 'O', 'O', 'O', 'O', 'O', 'O', 'O', 'O', 'O', 'O', 'O', 'O', 'O', 'O'], ['O', 'O', 'O', 'O', 'O', 'O', 'O', 'O', 'O', 'O', 'O', 'O'], ['O', 'O', 'O', 'O', 'O', 'O', 'O', 'O', 'O', 'O', 'O', 'O', 'O', 'O', 'O', 'O', 'O', 'O', 'O', 'O', 'O', 'O', 'O', 'O', 'U-LOC', 'O', 'O', 'O', 'B-DESIG', 'B-DESIG', 'L-DESIG', 'I-DESIG', 'I-DESIG', 'L-DESIG', 'L-DESIG', 'B-COMPANY', 'L-COMPANY', 'O', 'U-LOC', 'O', 'O', 'O', 'O', 'O', 'O', 'O', 'O', 'O', 'O', 'O', 'O', 'O', 'O', 'O', 'O', 'O', 'O', 'O', 'O', 'O', 'O', 'O', 'O', 'O', 'O', 'O', 'O', 'O', 'O', 'O', 'O', 'O', 'O', 'O', 'O', 'O', 'O', 'O', 'O', 'O', 'O'], ['O', 'O', 'O', 'O', 'O', 'O', 'O', 'O', 'U-COMPANY', 'O', 'O'], ['O', 'O', 'O', 'O', 'U-SKILLS', 'O', 'U-SKILLS', 'O', 'O', 'O', 'O', 'O'], ['O', 'O', 'U-LOC', 'O', 'O', 'O', 'O', 'O', 'O', 'O', 'O', 'O', 'O', 'O', 'O', 'O', 'O', 'O', 'U-LOC', 'O', 'O', 'O', 'O', 'O', 'O', 'O', 'O', 'O', 'O', 'O', 'O', 'O', 'O', 'O', 'O', 'O', 'O', 'O', 'O', 'O', 'O', 'O', 'O', 'O'], ['O', 'O', 'O', 'O', 'O', 'O', 'O', 'O', 'B-DESIG', 'I-DEG', 'I-DEG', 'I-DEG', 'I-CLG', 'I-DEG', 'U-GRADYEAR'], ['O', 'O', 'O', 'O', 'O', 'O', 'O', 'O', 'O', 'O', 'O', 'O', 'O', 'O', 'O', 'O', 'O', 'O', 'O', 'O', 'O', 'O', 'O', 'O', 'O', 'O', 'O', 'O', 'O', 'O', 'O', 'O', 'O', 'O', 'O', 'O', 'O', 'O', 'O', 'O', 'O', 'O', 'B-DESIG', 'B-DESIG', 'L-DESIG', 'L-DESIG', 'L-DESIG', 'B-COMPANY', 'L-COMPANY', 'O', 'O', 'O', 'O', 'O', 'O', 'O', 'O', 'O', 'O', 'O', 'O', 'O', 'O', 'O', 'O', 'O', 'O', 'O', 'O', 'O', 'O', 'O', 'O', 'O', 'O', 'O', 'O', 'O', 'O', 'O', 'O', 'O', 'O', 'O', 'O', 'O', 'O', 'O', 'O'], ['O', 'O', 'O', 'B-DESIG', 'I-DESIG', 'L-DESIG', 'O', 'O', 'O', 'O', 'O', 'O', 'O', 'O', 'O', 'O', 'O', 'O', 'O', 'O', 'O', 'O', 'O', 'O', 'O', 'O', 'O', 'O', 'O', 'O', 'O', 'O', 'O', 'O', 'O', 'O', 'O', 'O', 'O', 'O', 'O', 'O', 'O', 'O', 'O', 'O', 'O', 'O', 'O', 'O', 'O', 'O', 'O', 'O', 'O', 'O', 'O', 'O', 'O', 'O', 'O', 'O', 'O', 'O', 'O', 'O', 'O', 'O', 'O', 'O', 'O', 'O', 'O'], ['B-NAME', 'L-NAME', 'B-DESIG', 'L-DESIG', 'O', 'B-COMPANY', 'U-LOC', 'O', 'O', 'O', 'O', 'O', 'O', 'O', 'O', 'U-EMAIL', 'O', 'O', 'O', 'O', 'O', 'O', 'O', 'O', 'O', 'O', 'O', 'O', 'O', 'O', 'O', 'O', 'O', 'O', 'O', 'O', 'O', 'O', 'O', 'O', 'O', 'O', 'O', 'O', 'O'], ['B-NAME', 'L-NAME', 'B-DESIG', 'I-DESIG', 'L-DESIG', 'O', 'B-COMPANY', 'I-COMPANY', 'I-COMPANY', 'I-COMPANY', 'U-LOC', 'O', 'O', 'O', 'O', 'O', 'O', 'O', 'O', 'U-EMAIL', 'O', 'O', 'B-DESIG', 'B-DESIG', 'L-DESIG', 'L-DESIG', 'B-COMPANY', 'I-COMPANY', 'L-COMPANY', 'O', 'O', 'O', 'O', 'O', 'O', 'O', 'O', 'O', 'O', 'O', 'O', 'O', 'O', 'O', 'O', 'O', 'O', 'O'], ['O', 'O', 'O', 'O', 'O', 'O', 'B-COMPANY', 'L-COMPANY', 'O', 'O', 'O', 'O', 'O', 'O', 'O', 'B-DESIG', 'L-DESIG', 'B-COMPANY', 'L-COMPANY', 'O', 'U-LOC', 'O', 'O', 'O', 'O', 'O', 'O', 'O', 'O', 'O', 'O', 'O', 'O', 'O', 'O', 'O', 'O', 'O', 'O', 'O', 'O', 'O', 'O', 'O', 'O', 'O', 'O', 'O', 'O', 'O', 'O', 'O', 'O', 'O', 'O', 'O', 'O', 'O', 'O', 'O', 'O', 'O', 'O'], ['O', 'O', 'O', 'O', 'B-SKILLS', 'I-SKILLS', 'I-SKILLS', 'I-SKILLS', 'I-SKILLS', 'I-SKILLS', 'I-SKILLS', 'I-SKILLS', 'I-SKILLS', 'I-SKILLS', 'I-SKILLS', 'I-SKILLS', 'I-SKILLS', 'I-SKILLS', 'I-SKILLS', 'I-SKILLS', 'I-SKILLS', 'I-SKILLS', 'I-SKILLS', 'I-SKILLS', 'I-SKILLS', 'I-SKILLS', 'I-SKILLS', 'I-SKILLS', 'I-SKILLS', 'I-SKILLS', 'I-SKILLS', 'I-SKILLS', 'I-SKILLS', 'I-SKILLS', 'I-SKILLS', 'I-SKILLS', 'I-SKILLS', 'I-SKILLS', 'I-SKILLS', 'L-SKILLS'], ['O', 'O', 'O', 'O', 'O', 'O', 'O', 'O', 'O', 'O', 'O', 'O', 'O', 'O', 'O', 'O', 'O', 'O', 'O', 'O', 'U-GRADYEAR', 'O', 'O', 'O', 'U-DEG', 'I-CLG', 'I-CLG', 'I-CLG', 'U-GRADYEAR', 'O', 'O', 'O', 'O', 'O', 'O', 'O', 'O', 'O', 'O', 'B-SKILLS', 'B-SKILLS', 'I-SKILLS', 'I-SKILLS', 'I-SKILLS', 'I-SKILLS', 'I-SKILLS', 'I-SKILLS', 'I-SKILLS', 'I-SKILLS', 'I-SKILLS', 'I-SKILLS', 'I-SKILLS', 'I-SKILLS', 'I-SKILLS', 'I-SKILLS', 'I-SKILLS', 'I-SKILLS', 'I-SKILLS', 'I-SKILLS', 'I-SKILLS', 'I-SKILLS', 'I-SKILLS', 'I-SKILLS', 'I-SKILLS', 'I-SKILLS', 'I-SKILLS', 'I-SKILLS', 'I-SKILLS', 'I-SKILLS', 'I-SKILLS', 'I-SKILLS', 'I-SKILLS', 'I-SKILLS', 'I-SKILLS', 'I-SKILLS', 'I-SKILLS', 'I-SKILLS', 'I-SKILLS', 'I-SKILLS', 'I-SKILLS', 'I-SKILLS', 'I-SKILLS', 'L-SKILLS', 'O', 'I-SKILLS', 'O', 'O', 'O', 'O', 'O', 'I-SKILLS', 'I-SKILLS', 'I-SKILLS', 'I-SKILLS', 'I-SKILLS', 'I-SKILLS', 'L-SKILLS'], ['O', 'O', 'O', 'O', 'O', 'O', 'O', 'O', 'O', 'O', 'O', 'O', 'O', 'O', 'O', 'O', 'O', 'O', 'O', 'O', 'O', 'O', 'O', 'O', 'O', 'O', 'O', 'O', 'O', 'O', 'O', 'O', 'O'], ['O', 'O', 'O', 'B-DESIG', 'B-COMPANY', 'B-COMPANY', 'L-COMPANY', 'O', 'B-COMPANY', 'L-COMPANY', 'O', 'O', 'O', 'O', 'O', 'O', 'O', 'O', 'O', 'O', 'O', 'O', 'O', 'O', 'O', 'O', 'O', 'O', 'O'], ['O', 'O', 'O', 'B-COMPANY', 'L-COMPANY', 'O', 'U-LOC', 'O', 'O', 'O', 'O', 'O', 'O', 'O', 'O', 'O', 'O', 'O', 'O', 'O', 'O', 'O', 'O', 'O', 'O', 'O', 'O', 'O', 'O', 'O', 'O', 'O', 'O', 'O', 'O', 'O'], ['O', 'O', 'O', 'O', 'O', 'O', 'O', 'O', 'O', 'O', 'O', 'B-DEG', 'I-DEG', 'I-DEG', 'I-DEG', 'I-DEG', 'B-CLG', 'I-CLG', 'I-CLG', 'I-CLG', 'O', 'O', 'U-GRADYEAR', 'O', 'B-SKILLS', 'I-SKILLS', 'I-SKILLS', 'I-SKILLS', 'I-SKILLS', 'I-SKILLS', 'I-SKILLS', 'I-SKILLS', 'I-SKILLS', 'I-SKILLS', 'I-SKILLS', 'I-SKILLS', 'I-SKILLS', 'I-SKILLS', 'I-SKILLS', 'I-SKILLS', 'I-SKILLS', 'I-SKILLS', 'I-SKILLS', 'I-SKILLS', 'I-SKILLS', 'I-SKILLS', 'I-SKILLS', 'I-SKILLS', 'I-SKILLS', 'I-SKILLS', 'I-SKILLS', 'I-SKILLS', 'I-SKILLS', 'O', 'O', 'O', 'I-SKILLS', 'I-SKILLS', 'B-SKILLS', 'I-SKILLS', 'I-SKILLS', 'I-SKILLS', 'I-SKILLS', 'I-SKILLS', 'I-SKILLS', 'I-SKILLS', 'I-SKILLS', 'I-SKILLS', 'I-SKILLS', 'I-SKILLS', 'I-SKILLS', 'I-SKILLS', 'I-SKILLS', 'I-SKILLS', 'I-SKILLS', 'I-SKILLS', 'I-SKILLS', 'I-SKILLS', 'I-SKILLS', 'I-SKILLS', 'I-SKILLS', 'I-SKILLS', 'I-SKILLS', 'I-SKILLS', 'I-SKILLS', 'I-SKILLS', 'I-SKILLS', 'I-SKILLS', 'I-SKILLS', 'I-SKILLS', 'I-SKILLS', 'I-SKILLS', 'I-SKILLS', 'I-SKILLS', 'I-SKILLS', 'I-SKILLS', 'I-SKILLS', 'I-SKILLS', 'I-SKILLS', 'I-SKILLS', 'I-SKILLS', 'I-SKILLS', 'I-SKILLS', 'I-SKILLS', 'I-SKILLS', 'I-SKILLS', 'I-SKILLS', 'I-SKILLS', 'I-SKILLS', 'I-SKILLS', 'I-SKILLS', 'I-SKILLS', 'I-SKILLS', 'I-SKILLS', 'I-SKILLS', 'I-SKILLS', 'I-SKILLS', 'I-SKILLS', 'I-SKILLS', 'I-SKILLS', 'I-SKILLS', 'I-SKILLS', 'I-SKILLS', 'I-SKILLS', 'I-SKILLS', 'I-SKILLS', 'I-SKILLS', 'I-SKILLS', 'I-SKILLS', 'I-SKILLS', 'I-SKILLS', 'I-SKILLS', 'I-SKILLS', 'I-SKILLS', 'I-SKILLS', 'I-SKILLS', 'I-SKILLS', 'I-SKILLS', 'I-SKILLS', 'I-SKILLS', 'I-SKILLS', 'I-SKILLS', 'I-SKILLS', 'I-SKILLS', 'I-SKILLS', 'I-SKILLS', 'I-SKILLS', 'I-SKILLS', 'I-SKILLS', 'I-SKILLS', 'I-SKILLS', 'I-SKILLS', 'I-SKILLS', 'I-SKILLS', 'I-SKILLS', 'I-SKILLS', 'I-SKILLS', 'I-SKILLS', 'I-SKILLS', 'I-SKILLS', 'I-SKILLS', 'I-SKILLS', 'I-SKILLS', 'I-SKILLS', 'I-SKILLS', 'I-SKILLS', 'I-SKILLS', 'I-SKILLS', 'I-SKILLS', 'I-SKILLS', 'I-SKILLS', 'I-SKILLS', 'I-SKILLS', 'I-SKILLS', 'I-SKILLS', 'I-SKILLS', 'I-SKILLS', 'I-SKILLS', 'I-SKILLS', 'I-SKILLS', 'I-SKILLS', 'I-SKILLS', 'I-SKILLS', 'I-SKILLS', 'I-SKILLS', 'I-SKILLS', 'I-SKILLS', 'I-SKILLS', 'I-SKILLS', 'I-SKILLS', 'I-SKILLS', 'I-SKILLS', 'I-SKILLS', 'I-SKILLS', 'I-SKILLS', 'I-SKILLS', 'I-SKILLS', 'I-SKILLS', 'I-SKILLS', 'I-SKILLS', 'I-SKILLS', 'I-SKILLS', 'I-SKILLS', 'I-SKILLS', 'I-SKILLS', 'L-SKILLS'], ['O', 'O', 'O', 'B-COMPANY', 'L-COMPANY', 'O', 'B-COMPANY', 'L-COMPANY', 'O', 'O', 'O', 'O', 'O', 'O', 'O', 'O', 'O', 'O', 'O', 'O', 'O', 'O', 'O', 'O', 'O', 'O', 'O', 'O', 'O', 'O', 'O'], ['O', 'O', 'O', 'O', 'O', 'O', 'O', 'O', 'O', 'O', 'O', 'O', 'O', 'O', 'O', 'B-DESIG', 'L-DESIG', 'B-COMPANY', 'L-COMPANY', 'O', 'U-LOC', 'O', 'O', 'O', 'O', 'O', 'O', 'O', 'O', 'U-GRADYEAR', 'O', 'O', 'O', 'O', 'O', 'O', 'O', 'O', 'O', 'O', 'O', 'O', 'O', 'O', 'O', 'O', 'O', 'O', 'O', 'O'], ['B-NAME', 'L-NAME', 'U-DESIG', 'O', 'B-COMPANY', 'I-COMPANY', 'U-LOC', 'O', 'O', 'O', 'O', 'O', 'O', 'O', 'O', 'O', 'B-EMAIL', 'X', 'O', 'O', 'O', 'O', 'O', 'U-LOC', 'O', 'O', 'O', 'O', 'O', 'O', 'O', 'O', 'U-LOC', 'O', 'O', 'O', 'O', 'B-DESIG', 'L-DESIG', 'B-COMPANY', 'L-COMPANY', 'O', 'U-LOC', 'O', 'O', 'O', 'O', 'O', 'O', 'O', 'O', 'O', 'O', 'O', 'O', 'O', 'O', 'O', 'O', 'O', 'O', 'O', 'O', 'O', 'O', 'O', 'O', 'O', 'O', 'O'], ['O', 'O', 'O', 'O', 'O', 'O', 'O', 'O', 'O', 'O', 'O', 'O', 'O', 'O', 'O', 'O', 'O', 'O', 'O', 'O', 'O', 'O', 'O', 'O', 'O', 'O', 'O', 'O', 'O', 'O', 'O', 'O', 'O', 'O', 'O', 'O', 'O', 'O', 'O', 'O', 'O', 'O', 'O', 'O', 'O', 'O', 'O', 'O', 'O', 'O', 'O', 'O', 'O', 'O', 'O', 'O', 'O', 'O', 'O', 'O', 'O', 'O', 'O', 'O', 'O', 'O', 'O', 'O', 'O', 'O', 'O', 'I-CLG', 'I-CLG', 'I-CLG', 'L-CLG', 'O', 'O', 'O', 'O', 'U-GRADYEAR', 'O', 'O', 'O', 'O', 'O', 'O', 'O', 'O', 'O', 'O', 'O', 'O', 'O', 'O', 'O', 'O', 'O', 'O', 'O', 'O', 'O', 'O', 'O', 'O', 'O', 'O', 'O', 'O', 'O', 'O', 'O', 'O', 'O', 'O', 'U-SKILLS', 'O', 'L-SKILLS', 'O', 'O', 'O', 'O', 'O', 'O', 'O', 'O', 'O', 'O', 'O', 'O', 'O', 'O', 'O', 'O', 'O', 'O', 'O', 'O', 'O', 'O', 'O', 'O', 'O', 'O', 'O'], ['O', 'B-DESIG', 'L-DESIG', 'O', 'O', 'O', 'O', 'O', 'O', 'O', 'O', 'O', 'O', 'O', 'O', 'O', 'O', 'O', 'O', 'O', 'O', 'O', 'O', 'O', 'O', 'O', 'O'], ['O', 'O', 'O', 'O', 'O', 'O', 'O', 'O', 'O', 'O', 'O', 'O', 'O', 'O', 'O', 'O', 'O', 'O', 'O', 'O', 'O', 'O', 'O', 'O', 'O', 'O', 'O', 'O', 'O', 'O', 'O', 'O', 'O', 'O', 'O', 'O'], ['B-NAME', 'L-NAME', 'U-DESIG', 'O', 'B-COMPANY', 'I-COMPANY', 'U-LOC', 'O', 'O', 'O', 'O', 'O', 'O', 'O', 'O', 'U-EMAIL', 'O', 'O', 'O', 'O', 'O', 'O', 'O', 'O', 'O', 'O', 'B-DESIG', 'B-COMPANY', 'L-COMPANY', 'O', 'U-LOC', 'O', 'O', 'O', 'O', 'O', 'O', 'O', 'O', 'O', 'O', 'O', 'O', 'O', 'O', 'O', 'O', 'O', 'O', 'O', 'O', 'O', 'O', 'O', 'O', 'O', 'O'], ['B-NAME', 'L-NAME', 'L-NAME', 'U-LOC', 'O', 'B-COMPANY', 'I-COMPANY', 'L-COMPANY', 'U-LOC', 'O', 'O', 'O', 'O', 'O', 'O', 'O', 'O', 'B-EMAIL', 'X', 'O', 'O', 'O', 'O', 'O', 'O', 'O', 'O', 'O', 'O', 'O', 'O', 'O', 'O', 'I-CLG', 'I-CLG', 'I-CLG', 'I-CLG', 'I-CLG', 'I-CLG', 'I-CLG', 'L-CLG', 'O', 'O', 'O', 'O', 'O', 'O', 'O', 'O', 'O', 'O', 'O', 'O', 'O', 'O', 'O', 'O', 'O', 'O', 'O', 'O', 'O', 'O', 'O', 'O', 'O', 'O', 'O', 'O', 'O', 'O', 'O', 'O', 'O', 'O', 'O', 'O', 'O', 'O', 'O', 'O', 'O', 'O', 'O', 'O', 'O', 'O', 'O', 'O', 'O', 'O', 'O', 'O', 'O', 'O', 'O', 'O', 'O', 'O', 'O', 'O', 'O', 'O', 'O', 'O', 'O', 'O', 'O', 'O', 'O', 'O', 'O', 'O', 'O', 'O', 'O', 'O', 'O', 'O', 'O', 'O', 'O', 'O', 'O', 'O', 'O', 'O', 'O', 'O', 'O', 'O', 'O', 'O', 'O', 'O', 'O', 'O', 'O', 'O', 'O', 'O', 'O', 'O', 'O', 'O', 'O', 'O', 'O', 'O', 'O', 'O', 'O', 'O', 'O', 'O', 'O', 'O', 'O', 'O', 'O', 'O', 'O', 'O', 'O', 'O', 'O', 'O', 'O', 'O', 'B-DESIG', 'B-DESIG', 'I-DESIG', 'L-DESIG', 'I-DESIG', 'I-DESIG', 'O', 'U-LOC', 'O', 'O', 'O', 'O', 'O', 'O', 'U-LOC', 'O', 'O', 'O', 'O', 'U-GRADYEAR', 'O', 'O', 'U-GRADYEAR', 'O', 'O', 'O', 'O', 'O', 'O', 'O', 'O', 'O', 'O', 'O', 'O', 'O', 'O', 'O', 'O', 'O', 'O', 'O', 'O', 'O', 'O', 'O', 'O', 'O', 'O', 'O', 'O', 'O', 'O', 'O'], ['O', 'O', 'B-DEG', 'I-DEG', 'I-DEG', 'I-DEG', 'B-CLG', 'I-CLG', 'I-CLG', 'I-CLG', 'L-CLG', 'O', 'O', 'O', 'O', 'O', 'O', 'B-DEG', 'I-DEG', 'I-DEG', 'L-DEG', 'I-CLG', 'L-CLG', 'O', 'O', 'O', 'O', 'O', 'O', 'O', 'O', 'O', 'O', 'O', 'O', 'O', 'O', 'O', 'O', 'O', 'O', 'O', 'O', 'O', 'O', 'O', 'O', 'O', 'O', 'O', 'O', 'O', 'O', 'O', 'O', 'O', 'O', 'O', 'O', 'O', 'O', 'O', 'O', 'O', 'O', 'O', 'O', 'O', 'O', 'O', 'O', 'O', 'O', 'O', 'O', 'O', 'O', 'O', 'O', 'O', 'O', 'O', 'O', 'O', 'O', 'O', 'O', 'O', 'O', 'O', 'O', 'O', 'O', 'O', 'O', 'O', 'I-SKILLS', 'I-SKILLS', 'I-SKILLS', 'I-SKILLS', 'I-SKILLS', 'I-SKILLS', 'I-SKILLS', 'I-SKILLS', 'I-SKILLS', 'I-SKILLS', 'I-SKILLS', 'I-SKILLS', 'I-SKILLS', 'I-SKILLS', 'I-SKILLS', 'I-SKILLS', 'I-SKILLS', 'I-SKILLS', 'I-SKILLS', 'I-SKILLS', 'I-SKILLS', 'I-SKILLS', 'I-SKILLS', 'I-SKILLS', 'L-SKILLS'], ['B-NAME', 'L-NAME', 'U-LOC', 'O', 'O', 'O', 'O', 'O', 'O', 'O', 'O', 'B-EMAIL', 'O', 'O', 'B-DESIG', 'I-DESIG', 'L-DESIG', 'U-COMPANY', 'O', 'O', 'O', 'O', 'O', 'O', 'O', 'O', 'O', 'O', 'O', 'O', 'O', 'O', 'O', 'O', 'O', 'O', 'O', 'O', 'O'], ['O', 'O', 'O', 'O', 'O', 'O', 'O', 'O', 'O', 'O', 'O', 'O', 'O', 'O', 'O', 'O', 'B-COMPANY', 'L-CLG', 'O', 'O', 'O', 'O', 'O', 'O', 'O', 'O', 'U-GRADYEAR', 'O', 'O', 'O', 'O', 'O', 'O', 'O', 'O'], ['O', 'O', 'O', 'O', 'O', 'O', 'O', 'O', 'O', 'O', 'O', 'O', 'O', 'O', 'O', 'O', 'O', 'O', 'O', 'O', 'O', 'O'], ['O', 'B-DESIG', 'O', 'B-COMPANY', 'L-COMPANY', 'O', 'O', 'O', 'O', 'O', 'O', 'O', 'O', 'O', 'O', 'O', 'O', 'O', 'O', 'O', 'O', 'O', 'O', 'O', 'O', 'O', 'O', 'O', 'O', 'O', 'O', 'O', 'O', 'O', 'O', 'O', 'O', 'O', 'O', 'O', 'O', 'O', 'O', 'O', 'O', 'O', 'O', 'O', 'O', 'O', 'O', 'O', 'O', 'O', 'O', 'O', 'O', 'O'], ['B-NAME', '[SEP]', 'U-LOC', 'O', 'O', 'O', 'O', 'O', 'O', 'O', 'O', 'U-EMAIL', 'O', 'O', 'O', 'O', 'O', 'O', 'O', 'O', 'O', 'O', 'O', 'O', 'O', 'O', 'O', 'O', 'O', 'O', 'O', 'O', 'O', 'O', 'O', 'O'], ['O', 'O', 'O', 'O', 'O', 'O', 'U-LOC', 'O', 'O', 'O', 'O', 'O', 'O', 'O', 'O', 'O', 'O', 'O', 'O', 'O', 'O', 'O', 'O', 'O', 'X', 'O', 'O', 'O', 'O', 'O', 'O', 'O'], ['B-NAME', 'L-NAME', 'B-DESIG', 'U-LOC', 'O', 'O', 'O', 'O', 'O', 'O', 'O', 'O', 'B-EMAIL', 'O', 'O', 'B-DESIG', 'L-DESIG', 'I-CLG', 'L-CLG', 'O', 'U-LOC', 'O', 'O', 'O', 'B-DEG', 'I-DEG', 'I-DEG', 'B-CLG', 'I-CLG', 'O', 'O', 'O', 'O', 'O', 'O', 'O', 'O', 'B-GRADYEAR', 'B-DEG', 'O', 'O', 'B-CLG', 'I-CLG', 'O', 'O', 'O', 'I-SKILLS', 'L-SKILLS', 'O'], ['B-NAME', 'L-NAME', 'B-DESIG', 'I-DESIG', 'U-LOC', 'O', 'O', 'O', 'O', 'O', 'O', 'O', 'O', 'O', 'U-EMAIL', 'O', 'O', 'O', 'O', 'O', 'O', 'O', 'O', 'O', 'O', 'O', 'O', 'O', 'O', 'O', 'O', 'O', 'O', 'O', 'O', 'O', 'O', 'O', 'O', 'O', 'O', 'O'], ['O', 'O', 'O', 'O', 'O', 'O', 'O', 'O', 'O', 'O', 'O', 'O', 'O', 'O', 'O', 'O', 'O', 'O', 'O', 'O', 'O', 'O', 'O', 'O', 'O', 'O', 'O', 'O', 'O', 'O', 'O', 'O', 'O', 'O', 'O', 'O', 'O', 'O', 'O', 'O', 'O', 'O', 'O', 'O', 'O', 'O', 'O', 'O', 'O', 'O', 'O', 'O', 'O', 'O', 'O', 'O', 'O', 'O', 'O', 'O', 'O', 'O', 'O', 'O', 'O', 'O', 'O', 'O', 'O', 'O', 'O', 'O', 'O', 'O', 'O', 'O', 'O', 'O', 'O', 'O', 'O', 'O', 'O', 'O', 'O', 'O', 'O', 'O', 'O', 'O', 'O', 'O', 'O', 'O', 'O', 'O', 'O', 'O', 'O', 'O', 'O', 'O', 'O', 'O', 'O', 'O', 'O', 'O', 'O', 'O', 'O', 'O', 'O', 'O', 'O', 'O', 'O', 'O', 'O', 'O', 'O', 'O', 'O', 'O', 'O', 'O', 'O', 'O', 'O', 'O', 'O', 'O', 'O', 'O', 'O', 'O', 'O', 'O', 'O', 'O', 'O', 'O', 'O', 'O', 'O', 'O', 'O', 'O', 'O', 'O', 'O', 'O', 'O', 'O', 'O', 'O', 'O', 'O', 'O', 'O', 'O', 'O', 'O', 'O', 'O', 'O', 'O', 'O', 'O', 'O', 'O', 'O', 'O', 'O', 'O', 'O', 'O', 'O', 'O', 'O', 'O', 'O', 'O', 'O', 'O', 'O', 'O', 'O', 'O', 'O', 'O', 'O', 'O', 'O', 'O', 'O', 'O', 'O', 'O', 'O', 'O', 'O', 'O', 'O', 'O', 'O', 'O', 'O', 'O', 'O', 'O', 'O', 'O', 'O', 'O', 'O', 'O', 'O', 'O', 'O', 'O', 'O', 'O', 'O', 'O', 'O', 'O', 'O', 'O', 'O', 'O'], ['O', 'O', 'O', 'B-SKILLS', 'O', 'O', 'I-SKILLS', 'O', 'U-SKILLS', 'O', 'O'], ['O', 'O', 'O', 'L-DESIG', 'B-COMPANY', 'L-COMPANY', 'O', 'U-LOC', 'O', 'O', 'O', 'O', 'O', 'O', 'O', 'O', 'O', 'O'], ['O', 'O', 'O', 'O', 'O', 'O', 'O', 'O', 'O', 'O', 'O', 'O', 'O', 'O', 'O', 'O', 'O', 'O', 'O', 'O', 'O', 'O', 'O', 'O', 'O', 'O', 'O', 'O', 'O', 'O', 'O', 'O', 'O', 'O', 'O', 'O', 'O', 'O', 'O', 'O', 'O', 'O', 'O', 'O', 'O', 'O', 'O', 'O', 'O', 'O', 'O', 'O', 'O', 'O', 'O', 'O', 'O', 'O', 'O', 'O', 'O', 'O', 'O', 'O', 'O', 'O', 'O', 'O', 'O', 'O', 'O', 'O', 'O', 'O', 'O', 'O', 'O', 'O', 'O', 'O', 'O', 'O', 'O', 'O', 'O', 'O', 'O', 'O', 'O', 'O', 'O', 'O', 'O', 'O', 'O', 'O', 'O', 'O', 'O', 'O', 'O', 'O', 'O', 'O', 'O', 'O', 'O', 'O', 'O', 'O', 'O', 'O', 'O', 'O', 'O'], ['O', 'O', 'O', 'O', 'O', 'O', 'O', 'I-DEG', 'I-DEG', 'B-CLG', 'O', 'O', 'O', 'O', 'O', 'O', 'O', 'U-GRADYEAR', 'B-DEG', 'I-DEG', 'I-DEG', 'I-DEG', 'I-DEG', 'I-DEG', 'B-CLG', 'I-CLG', 'I-CLG', 'I-CLG', 'I-CLG', 'L-CLG', 'O', 'L-CLG', 'O', 'O', 'O', 'O', 'O', 'O', 'B-SKILLS', 'I-SKILLS', 'I-SKILLS', 'I-SKILLS', 'I-SKILLS', 'I-SKILLS', 'I-SKILLS', 'I-SKILLS', 'I-SKILLS', 'I-SKILLS', 'I-SKILLS', 'I-SKILLS', 'I-SKILLS', 'I-SKILLS', 'I-SKILLS', 'I-SKILLS', 'I-SKILLS', 'I-SKILLS', 'I-SKILLS', 'I-SKILLS', 'I-SKILLS', 'I-SKILLS', 'I-SKILLS', 'I-SKILLS', 'I-SKILLS', 'O', 'O', 'O', 'O', 'O', 'O', 'O', 'O', 'O', 'O', 'O', 'O', 'O'], ['O', 'O', 'B-DEG', 'X', 'X', 'I-DEG', 'L-DEG', 'B-CLG', 'I-CLG', 'L-CLG', 'O', 'O', 'O', 'O', 'O', 'O', 'I-CLG', 'L-CLG', 'O', 'O', 'O', 'O', 'O', 'O', 'O', 'B-DEG', 'I-DEG', 'I-DEG', 'B-CLG', 'B-CLG', 'I-CLG', 'L-CLG', 'O', 'O', 'O', 'O', 'O', 'O', 'O', 'O', 'O', 'O', 'O', 'O', 'O', 'O', 'O', 'O', 'O', 'O', 'O', 'O', 'O', 'O', 'O', 'O', 'O', 'O', 'O', 'O', 'O', 'O', 'O', 'O', 'O', 'O', 'O', 'O', 'O', 'O', 'O', 'O'], ['B-NAME', '[SEP]', 'B-DESIG', 'I-DESIG', 'L-DESIG', 'U-LOC', 'O', 'O', 'O', 'O', 'O', 'O', 'O', 'O', 'U-EMAIL', 'O', 'O', 'O', 'O', 'O', 'O', 'O', 'O', 'O', 'O', 'O', 'O', 'O', 'O', 'O', 'O', 'O', 'O', 'O', 'O', 'O', 'O', 'O', 'O'], ['O', 'O', 'B-DEG', 'I-DEG', 'I-DEG', 'I-DEG', 'I-DEG', 'B-CLG', 'L-CLG', 'O', 'O', 'O', 'O', 'U-GRADYEAR', 'B-DEG', 'I-DEG', 'I-DEG', 'I-DEG', 'L-DEG', 'O', 'O', 'I-CLG', 'I-CLG', 'I-CLG', 'I-CLG', 'L-CLG', 'O', 'O', 'O', 'O', 'O', 'O', 'O', 'O', 'I-CLG', 'O', 'O', 'O', 'O', 'O', 'O', 'O', 'O', 'B-SKILLS', 'I-SKILLS', 'I-SKILLS', 'I-SKILLS', 'I-SKILLS', 'I-SKILLS', 'I-SKILLS', 'I-SKILLS', 'I-SKILLS', 'I-SKILLS', 'I-SKILLS', 'I-SKILLS', 'I-SKILLS', 'I-SKILLS', 'I-SKILLS', 'I-SKILLS', 'I-SKILLS', 'I-SKILLS', 'I-SKILLS', 'I-SKILLS', 'I-SKILLS', 'I-SKILLS', 'I-SKILLS', 'I-SKILLS', 'I-SKILLS', 'I-SKILLS', 'I-SKILLS', 'I-SKILLS', 'I-SKILLS', 'I-SKILLS', 'I-SKILLS', 'I-SKILLS', 'I-SKILLS', 'I-SKILLS', 'I-SKILLS', 'I-SKILLS', 'I-SKILLS', 'I-SKILLS', 'I-SKILLS', 'I-SKILLS', 'I-SKILLS', 'I-SKILLS', 'I-SKILLS', 'I-SKILLS', 'O', 'O', 'O', 'O', 'O', 'O', 'O', 'O', 'O', 'O', 'O', 'O', 'O', 'O', 'O', 'O', 'O', 'O', 'O', 'O', 'O', 'O', 'O', 'O', 'O', 'O', 'O', 'O', 'O', 'I-SKILLS', 'I-SKILLS', 'I-SKILLS', 'I-SKILLS', 'I-SKILLS', 'I-SKILLS', 'I-SKILLS', 'I-SKILLS', 'I-SKILLS', 'I-SKILLS', 'I-SKILLS', 'I-SKILLS', 'I-SKILLS', 'I-SKILLS', 'I-SKILLS', 'I-SKILLS', 'I-SKILLS', 'I-SKILLS', 'I-SKILLS', 'I-SKILLS', 'I-SKILLS', 'I-SKILLS', 'I-SKILLS', 'I-SKILLS', 'I-SKILLS', 'I-SKILLS', 'I-SKILLS', 'I-SKILLS', 'I-SKILLS', 'I-SKILLS', 'I-SKILLS', 'I-SKILLS', 'I-SKILLS', 'I-SKILLS', 'I-SKILLS', 'I-SKILLS', 'I-SKILLS', 'I-SKILLS', 'I-SKILLS', 'I-SKILLS', 'I-SKILLS', 'I-SKILLS', 'I-SKILLS', 'O', 'I-SKILLS', 'I-SKILLS', 'I-SKILLS', 'I-SKILLS', 'I-SKILLS', 'I-SKILLS', 'I-SKILLS', 'I-SKILLS', 'I-SKILLS', 'I-SKILLS', 'I-SKILLS', 'I-SKILLS', 'I-SKILLS', 'I-SKILLS', 'I-SKILLS', 'I-SKILLS', 'I-SKILLS', 'I-SKILLS', 'I-SKILLS', 'L-SKILLS', 'O', 'O', 'O', 'O', 'I-SKILLS', 'O', 'O', 'O', 'O', 'O', 'I-SKILLS', 'O', 'I-SKILLS', 'I-SKILLS', 'O', 'O', 'I-SKILLS', 'O', 'I-SKILLS', 'O', 'I-SKILLS', 'I-SKILLS', 'I-SKILLS', 'O', 'L-SKILLS'], ['O', 'O', 'O', 'B-COMPANY', 'I-COMPANY', 'I-COMPANY', 'I-COMPANY', 'O', 'O', 'O', 'O', 'O', 'O', 'B-DESIG', 'L-COMPANY', 'O', 'O', 'O', 'O', 'O'], ['O', 'O', 'O', 'B-DESIG', 'L-DESIG', 'O', 'O', 'O', 'O', 'O', 'O', 'O', 'O', 'O', 'O', 'O', 'O', 'O', 'O', 'O', 'O', 'O', 'O', 'O', 'O', 'O', 'O'], ['O', 'O', 'O', 'O', 'O', 'O', 'O', 'O', 'O', 'O', 'O', 'O', 'O', 'O', 'O', 'O', 'O', 'O', 'O', 'O', 'O', 'O', 'O', 'O', 'O', 'O', 'O', 'O', 'O', 'U-LOC', 'O', 'O', 'O', 'O', 'O', 'O', 'O', 'O', 'U-LOC', 'O', 'O', 'O', 'O', 'B-DESIG', 'L-DESIG', 'B-COMPANY', 'L-COMPANY', 'O', 'U-LOC', 'O', 'O', 'O', 'O', 'O', 'O', 'O', 'O', 'O', 'O', 'O', 'O', 'O', 'O', 'O', 'O', 'O', 'O', 'O', 'O', 'O', 'O', 'O', 'O', 'O'], ['O', 'O', 'O', 'B-DESIG', 'L-DESIG', 'O', 'O', 'O', 'O', 'O', 'O', 'O', 'O', 'O', 'O', 'O', 'O', 'O', 'O', 'O', 'O', 'O', 'O', 'O', 'O', 'O', 'O', 'O', 'O', 'O', 'O', 'O', 'O', 'O', 'O', 'O', 'O', 'O', 'O', 'O', 'O', 'O', 'O', 'O', 'O', 'O', 'O', 'O'], ['O', 'O', 'O', 'O', 'O', 'O', 'O', 'O', 'O', 'O', 'O', 'O', 'O', 'O', 'O', 'O', 'O', 'O', 'O', 'O', 'O', 'O', 'O', 'O', 'O', 'O', 'O', 'O', 'O', 'O', 'O', 'O', 'O', 'O', 'O', 'O', 'O', 'O'], ['B-NAME', '[SEP]', 'U-LOC', 'O', 'O', 'O', 'O', 'O', 'O', 'O', 'O', 'U-EMAIL', 'O', 'O', 'O', 'O', 'O', 'O', 'O', 'O', 'O', 'O', 'O', 'O', 'O', 'O', 'O', 'O', 'O', 'O', 'O', 'O', 'O', 'O', 'O', 'O', 'O'], ['O', 'O', 'O', 'O', 'O', 'O', 'O', 'B-DEG', 'I-DEG', 'I-DEG', 'B-CLG', 'L-CLG', 'O', 'O', 'O', 'O', 'O', 'O', 'O', 'O', 'U-GRADYEAR', 'U-DEG', 'X', 'O', 'O', 'X', 'O', 'O', 'X', 'X', 'O', 'O', 'X', 'X', 'O', 'O', 'X', 'X', 'O', 'O', 'O', 'O', 'O', 'O', 'O', 'X', 'X', 'X', 'X', 'O', 'O', 'O', 'O', 'O', 'O', 'O', 'O', 'O', 'O', 'O', 'O', 'O', 'O', 'O', 'O', 'O', 'O', 'X', 'O', 'O', 'O', 'O', 'O', 'O', 'O', 'X', 'O', 'O', 'O', 'O', 'O', 'O', 'O'], ['O', 'O', 'O', 'O', 'O', 'O', 'O', 'O', 'O', 'O', 'O', 'O', 'O', 'O', 'O', 'O', 'O', 'O', 'O', 'O', 'O', 'O', 'O', 'O', 'O'], ['O', 'O', 'O', 'O', 'O', 'O', 'O', 'O', 'O', 'O', 'O', 'O', 'O', 'O', 'O', 'O'], ['B-NAME', 'B-DESIG', 'I-DESIG', 'I-DESIG', 'I-DESIG', 'I-DESIG', 'I-DESIG', 'O', 'O', 'B-COMPANY', 'I-COMPANY', 'I-COMPANY', 'I-COMPANY', 'U-LOC', 'O', 'O', 'O', 'O', 'O', 'O', 'O', 'O', 'O', 'U-EMAIL', 'X', 'O', 'O', 'O', 'O', 'O', 'O', 'O', 'O', 'O', 'O', 'O', 'O', 'O', 'O', 'O', 'O', 'O', 'O', 'O', 'O', 'O', 'O', 'O'], ['O', 'O', 'O', 'O', 'O', 'O', 'O', 'O', 'O', 'O', 'O', 'O', 'O', 'O', 'O', 'O', 'O', 'O', 'O', 'O', 'O', 'O', 'O', 'O', 'O', 'O', 'O', 'O', 'O', 'O', 'U-SKILLS', 'O', 'O', 'O', 'O', 'O', 'O', 'O', 'O', 'O', 'O', 'O', 'O', 'O', 'O', 'O', 'O', 'O', 'O', 'O', 'O', 'O'], ['O', 'O', 'O', 'X', 'O', 'O', 'O', 'O', 'U-LOC', 'O', 'O', 'O', 'O', 'O', 'O', 'O', 'O', 'O', 'O', 'O', 'B-COMPANY', 'B-COMPANY', 'L-COMPANY', 'O', 'I-COMPANY', 'O', 'O', 'O', 'O', 'O', 'O', 'O', 'O', 'O', 'O', 'O', 'O', 'O', 'O', 'O', 'O', 'O', 'O', 'O', 'O', 'O', 'O', 'O', 'O', 'O', 'O', 'O', 'O', 'O', 'O', 'O', 'O', 'O', 'O', 'O', 'O', 'O'], ['O', 'O', 'O', 'B-DESIG', 'B-DESIG', 'O', 'O', 'O', 'O', 'O', 'O', 'I-DEG', 'B-DEG', 'I-DEG', 'I-DEG', 'B-CLG', 'I-CLG', 'L-CLG', 'O', 'O', 'O', 'O', 'B-DEG', 'I-DEG', 'I-DEG', 'B-CLG', 'I-CLG', 'I-CLG', 'I-CLG', 'L-CLG', 'O', 'O', 'O', 'O', 'O', 'O', 'O', 'O', 'O', 'O', 'O', 'O', 'O', 'O', 'O', 'O', 'O', 'O', 'O', 'O', 'O', 'O', 'O', 'O', 'O', 'O', 'O', 'O', 'O', 'O', 'O', 'O', 'O', 'O', 'O', 'O', 'O', 'O', 'O', 'O', 'O', 'O', 'O', 'O', 'O', 'O', 'O', 'O', 'O', 'O', 'O', 'O', 'O', 'O', 'O', 'O', 'O', 'O', 'O', 'O', 'O', 'O', 'O', 'O', 'O', 'O', 'O', 'O', 'O', 'O', 'O', 'O', 'O', 'O', 'O', 'O', 'O', 'O', 'O', 'O', 'O', 'O', 'O', 'O', 'O', 'O', 'O', 'O', 'O', 'O', 'O', 'O', 'O', 'O', 'O', 'O', 'O', 'O', 'O', 'O', 'O', 'O', 'O', 'O', 'O', 'O', 'O', 'O', 'O', 'O', 'O', 'O', 'O', 'O', 'O', 'O', 'O', 'O', 'O', 'O', 'O', 'O', 'O', 'O', 'O', 'O', 'O', 'O', 'O', 'O', 'O', 'O', 'O', 'O', 'O', 'O', 'O', 'O', 'O', 'O', 'O', 'O', 'O', 'O', 'O', 'O', 'O', 'O', 'O', 'O', 'O', 'O', 'O', 'O', 'O', 'O', 'O', 'O', 'O', 'O', 'O', 'O', 'O', 'O', 'O', 'O', 'O', 'O', 'O', 'O', 'O', 'O', 'O', 'O', 'O', 'O', 'O', 'O', 'O', 'O', 'O', 'O', 'O', 'O', 'O', 'O', 'O', 'O', 'O', 'O', 'O', 'O', 'O', 'O', 'O', 'O', 'O', 'O', 'O', 'O', 'O', 'O', 'O', 'O', 'O', 'O', 'O', 'O', 'O', 'O', 'O', 'O', 'O', 'O', 'O', 'O', 'O', 'O', 'O', 'O', 'O', 'O', 'O', 'O', 'O', 'O'], ['B-NAME', 'L-NAME', 'U-DESIG', 'O', 'U-COMPANY', 'O', 'B-COMPANY', 'I-COMPANY', 'O', 'O', 'U-COMPANY', 'O', 'O', 'O', 'O', 'U-LOC', 'O', 'O', 'O', 'O', 'O', 'O', 'O', 'O', 'U-EMAIL', 'O', 'O', 'O', 'O', 'O', 'O', 'O', 'O', 'O', 'O', 'O', 'O', 'O', 'O', 'O', 'O', 'O', 'O', 'O', 'O', 'O', 'O', 'O', 'O', 'O', 'O', 'O', 'O', 'O', 'O'], ['O', 'O', 'O'], ['B-NAME', 'I-NAME', 'B-DESIG', 'U-LOC', 'O', 'O', 'O', 'O', 'O', 'O', 'O', 'O', 'O', 'B-EMAIL', 'X', 'O', 'O', 'B-DESIG', 'B-DESIG', 'B-DESIG', 'B-COMPANY', 'I-COMPANY', 'I-COMPANY', 'L-COMPANY', 'O', 'O', 'O', 'O', 'O', 'O', 'O', 'B-DEG', 'B-CLG', 'I-CLG', 'O', 'O', 'O', 'B-SKILLS', 'O', 'O'], ['O', 'B-DESIG', 'L-DESIG', 'L-COMPANY', 'O', 'U-LOC', 'O', 'O', 'O', 'O', 'O', 'U-GRADYEAR', 'O', 'O', 'U-GRADYEAR', 'O', 'O', 'B-DESIG', 'B-COMPANY', 'L-COMPANY', 'O', 'O', 'O', 'O', 'O', 'O', 'O', 'O', 'O', 'O', 'O', 'O', 'O', 'O', 'O', 'O', 'O', 'O', 'O', 'O', 'O'], ['O', 'O', 'B-DEG', 'I-DEG', 'I-DEG', 'I-DEG', 'I-DEG', 'L-DEG', 'B-CLG', 'I-CLG', 'I-CLG', 'I-CLG', 'L-CLG', 'O', 'O', 'O', 'O', 'O', 'B-SKILLS', 'I-SKILLS', 'I-SKILLS', 'I-SKILLS', 'I-SKILLS', 'I-SKILLS', 'I-SKILLS', 'I-SKILLS', 'I-SKILLS', 'I-SKILLS', 'I-SKILLS', 'I-SKILLS', 'I-SKILLS', 'I-SKILLS', 'I-SKILLS', 'I-SKILLS', 'I-SKILLS', 'I-SKILLS', 'I-SKILLS', 'I-SKILLS', 'I-SKILLS', 'I-SKILLS', 'I-SKILLS', 'I-SKILLS', 'I-SKILLS', 'I-SKILLS', 'I-SKILLS', 'I-SKILLS', 'I-SKILLS', 'I-SKILLS', 'I-SKILLS', 'O', 'I-SKILLS', 'I-SKILLS', 'I-SKILLS', 'I-SKILLS', 'I-SKILLS', 'I-SKILLS', 'I-SKILLS', 'O', 'O', 'O', 'O', 'O', 'O', 'O', 'O', 'O', 'O', 'O', 'O', 'O', 'O', 'O', 'O', 'O', 'O', 'O', 'O', 'O', 'O', 'O', 'O', 'O', 'O', 'O', 'O', 'O', 'O', 'O'], ['B-NAME', 'L-NAME', 'B-DESIG', 'L-DESIG', 'U-LOC', 'O', 'O', 'O', 'O', 'O', 'O', 'O', 'O', 'U-EMAIL', 'X', 'O', 'O', 'O', 'O', 'O', 'O', 'O', 'O', 'O', 'O', 'O', 'O', 'O', 'O', 'O', 'O', 'O', 'O', 'O', 'O', 'O', 'O', 'O', 'O', 'O', 'O', 'O', 'O', 'O', 'O', 'O', 'O', 'O', 'O'], ['O', 'O', 'O', 'O', 'U-COMPANY', 'O', 'O', 'O', 'B-DESIG', 'L-DESIG', 'O', 'O', 'O', 'O', 'O', 'O'], ['B-NAME', '[SEP]', 'B-DESIG', 'I-DESIG', 'I-DESIG', 'U-LOC', 'O', 'O', 'O', 'O', 'O', 'O', 'O', 'O', 'U-EMAIL', 'O', 'O', 'O', 'O', 'O', 'O', 'O', 'O', 'O', 'O', 'O', 'O', 'O', 'O', 'O', 'O', 'O', 'B-DESIG', 'L-DESIG', 'O', 'O', 'O', 'O', 'O'], ['O', 'O', 'O', 'O', 'O', 'O', 'O', 'O', 'O', 'O', 'O', 'O', 'O', 'O', 'O', 'O', 'O', 'O', 'O', 'O', 'B-COMPANY', 'I-COMPANY', 'I-CLG', 'L-CLG', 'O', 'O', 'O', 'O', 'O', 'U-GRADYEAR', 'O', 'O', 'O', 'B-CLG', 'I-CLG', 'I-CLG', 'L-CLG', 'O', 'O', 'U-GRADYEAR', 'B-DEG', 'O', 'I-CLG', 'I-CLG', 'I-CLG', 'L-CLG', 'U-GRADYEAR', 'O', 'O', 'O', 'O', 'O', 'B-SKILLS', 'I-SKILLS', 'B-SKILLS', 'I-SKILLS', 'I-SKILLS', 'I-SKILLS', 'I-SKILLS', 'I-SKILLS', 'I-SKILLS', 'I-SKILLS', 'I-SKILLS', 'I-SKILLS', 'I-SKILLS', 'I-SKILLS', 'I-SKILLS', 'I-SKILLS', 'I-SKILLS', 'I-SKILLS', 'I-SKILLS', 'I-SKILLS', 'I-SKILLS', 'I-SKILLS', 'I-SKILLS', 'I-SKILLS', 'I-SKILLS', 'I-SKILLS', 'I-SKILLS', 'I-SKILLS', 'I-SKILLS', 'I-SKILLS', 'I-SKILLS', 'I-SKILLS', 'I-SKILLS', 'I-SKILLS', 'I-SKILLS', 'I-SKILLS', 'I-SKILLS', 'I-SKILLS', 'I-SKILLS', 'I-SKILLS', 'I-SKILLS', 'I-SKILLS', 'I-SKILLS', 'I-SKILLS', 'I-SKILLS', 'I-SKILLS', 'I-SKILLS', 'I-SKILLS', 'I-SKILLS', 'I-SKILLS', 'I-SKILLS', 'I-SKILLS', 'I-SKILLS', 'I-SKILLS', 'I-SKILLS', 'I-SKILLS', 'I-SKILLS', 'I-SKILLS', 'I-SKILLS', 'I-SKILLS', 'I-SKILLS', 'O', 'O', 'I-SKILLS', 'O', 'I-SKILLS', 'O', 'O', 'I-SKILLS', 'O', 'L-SKILLS'], ['O', 'O', 'O', 'O', 'O', 'O', 'O', 'O', 'O', 'O', 'O', 'O', 'O', 'O', 'O', 'O', 'O', 'U-COMPANY', 'O', 'O', 'O', 'O', 'O', 'O', 'O', 'O', 'O'], ['O', 'O', 'O', 'O', 'O', 'O', 'O', 'O', 'O', 'U-GRADYEAR', 'O', 'O', 'O', 'O', 'O', 'O', 'O', 'O', 'O', 'O', 'O', 'O'], ['O', 'O', 'O', 'O', 'O', 'U-COMPANY', 'O', 'O', 'O', 'O', 'O', 'O', 'O', 'O', 'O', 'O', 'O', 'O', 'O', 'O', 'O', 'O', 'O', 'O', 'O'], ['O', 'O', 'O', 'O', 'O', 'O', 'O', 'O', 'O', 'O'], ['B-NAME', '[SEP]', 'B-DESIG', 'I-DESIG', 'L-DESIG', 'O', 'O', 'O', 'B-COMPANY', 'I-COMPANY', 'O', 'I-COMPANY', 'I-COMPANY', 'I-COMPANY', 'I-COMPANY', 'U-LOC', 'O', 'O', 'O', 'O', 'O', 'O', 'O', 'O', 'U-EMAIL', 'O', 'O', 'O', 'O', 'O', 'O', 'O', 'O', 'O', 'O', 'O', 'O', 'O', 'O', 'O', 'O', 'O', 'O', 'O', 'O', 'O', 'O', 'O', 'O', 'O', 'O', 'O', 'O'], ['O', 'O', 'O', 'L-DESIG', 'U-COMPANY', 'O', 'O', 'O', 'O', 'O', 'O', 'O', 'O', 'O', 'O', 'O', 'O', 'O', 'O', 'O', 'O', 'O', 'O', 'O', 'O', 'O', 'O', 'O', 'O', 'O', 'O', 'O', 'O', 'O', 'O', 'O', 'O', 'O', 'O', 'O', 'O', 'O', 'O', 'O', 'O', 'O', 'O', 'O', 'O', 'O', 'O', 'O', 'I-CLG', 'I-CLG', 'L-CLG', 'O', 'O', 'O', 'O', 'O', 'O', 'O', 'O', 'O', 'O', 'O', 'U-GRADYEAR', 'O', 'O', 'O', 'O', 'O', 'O', 'O', 'O', 'O', 'O', 'O', 'O', 'O', 'O', 'O', 'O', 'O', 'O', 'O', 'O', 'O', 'O', 'O', 'O', 'O', 'O', 'O', 'O', 'O', 'O', 'O', 'O', 'B-DESIG', 'O', 'O', 'O', 'O', 'O', 'O', 'O', 'O', 'O', 'O', 'O', 'O', 'O', 'O', 'O', 'O', 'O', 'O', 'O', 'O', 'O', 'O', 'O', 'O', 'O', 'O', 'O', 'O', 'O', 'O', 'O', 'O', 'O', 'O', 'O', 'I-SKILLS', 'I-SKILLS', 'I-SKILLS', 'I-SKILLS', 'I-SKILLS', 'I-SKILLS', 'I-SKILLS', 'I-SKILLS', 'I-SKILLS', 'I-SKILLS', 'I-SKILLS', 'I-SKILLS', 'I-SKILLS', 'I-SKILLS', 'O', 'O', 'O', 'O', 'O', 'O', 'O', 'O', 'O', 'O', 'O', 'O', 'O', 'O', 'O', 'O', 'O', 'O', 'O', 'O', 'O', 'O', 'O', 'O', 'O', 'O', 'O', 'O', 'O', 'O', 'O'], ['O', 'O', 'O', 'O', 'O', 'O', 'O', 'X', 'X', 'O', 'O', 'O', 'O', 'O', 'O', 'O', 'O', 'O', 'O', 'O', 'O', 'O'], ['O', 'O', 'O', 'O', 'O', 'O', 'O', 'O', 'O', 'O', 'O', 'O', 'B-COMPANY', 'O', 'I-COMPANY', 'O', 'O', 'O', 'U-GRADYEAR', 'O', 'O', 'O', 'O', 'O', 'O', 'O', 'O', 'O', 'O', 'O', 'B-DEG', 'I-DEG', 'I-DEG', 'B-CLG', 'L-CLG', 'O', 'O', 'O', 'O', 'O', 'U-GRADYEAR', 'O', 'O', 'O', 'I-CLG', 'I-CLG', 'L-CLG', 'O', 'O', 'O', 'O', 'I-CLG', 'O', 'O', 'B-SKILLS', 'I-SKILLS', 'I-SKILLS', 'I-SKILLS', 'I-SKILLS', 'I-SKILLS', 'I-SKILLS', 'I-SKILLS', 'I-SKILLS', 'I-SKILLS', 'I-SKILLS', 'I-SKILLS', 'I-SKILLS', 'I-SKILLS', 'I-SKILLS', 'I-SKILLS', 'I-SKILLS', 'I-SKILLS', 'I-SKILLS', 'I-SKILLS', 'I-SKILLS', 'I-SKILLS', 'I-SKILLS', 'I-SKILLS', 'I-SKILLS', 'O', 'O', 'O', 'O', 'O', 'O', 'B-SKILLS', 'I-SKILLS', 'I-SKILLS', 'I-SKILLS', 'I-SKILLS', 'I-SKILLS', 'O', 'O', 'O', 'O', 'O', 'O'], ['O', 'O', 'O', 'O', 'O', 'O', 'O', 'O', 'O', 'O', 'O', 'O', 'O', 'O', 'O', 'B-CLG', 'B-CLG', 'I-CLG', 'O', 'O', 'O', 'O', 'O', 'O', 'O', 'O', 'O', 'I-SKILLS', 'I-SKILLS', 'I-SKILLS', 'I-SKILLS', 'I-SKILLS', 'I-SKILLS', 'I-SKILLS', 'I-SKILLS', 'I-SKILLS', 'I-SKILLS', 'I-SKILLS', 'I-SKILLS', 'I-SKILLS', 'I-SKILLS', 'I-SKILLS', 'I-SKILLS', 'I-SKILLS', 'I-SKILLS', 'I-SKILLS', 'I-SKILLS', 'I-SKILLS', 'I-SKILLS', 'O', 'O', 'O', 'O', 'B-SKILLS', 'I-SKILLS', 'I-SKILLS', 'I-SKILLS', 'I-SKILLS', 'I-SKILLS', 'O', 'O', 'O'], ['O', 'O', 'O', 'O', 'O', 'O', 'O', 'O', 'O', 'O', 'O', 'O', 'O', 'O', 'O', 'O'], ['O', 'O', 'O', 'O', 'O', 'O', 'O', 'O', 'O', 'O', 'O', 'O', 'O', 'O', 'O', 'O', 'O', 'O'], ['B-NAME', '[SEP]', 'B-DESIG', 'I-DESIG', 'I-DESIG', 'U-LOC', 'O', 'O', 'O', 'O', 'O', 'O', 'O', 'O', 'U-EMAIL', 'O', 'O', 'O', 'O', 'O', 'O', 'O', 'O', 'O', 'O', 'O', 'O', 'O', 'O', 'O', 'O'], ['O', 'O', 'O', 'O', 'O', 'O', 'O', 'O', 'B-DESIG', 'I-DESIG', 'I-DESIG', 'O', 'O', 'O'], ['O', 'O', 'O', 'O', 'O', 'B-DESIG', 'I-DESIG', 'L-DESIG'], ['B-NAME', 'L-NAME', 'L-NAME', 'U-LOC', 'O', 'O', 'O', 'O', 'O', 'O', 'O', 'O', 'O', 'B-EMAIL', 'X', 'O', 'O', 'O', 'O', 'O', 'U-LOC', 'O', 'O', 'O', 'O', 'O', 'O', 'O', 'O', 'O', 'O', 'O', 'O', 'O', 'O', 'O', 'B-DESIG', 'L-DESIG', 'U-COMPANY', 'O', 'U-LOC', 'O', 'O', 'O', 'O', 'O', 'O', 'O', 'O', 'O', 'O', 'O', 'O', 'O', 'O', 'O', 'O', 'O', 'O', 'O', 'O', 'O', 'O', 'O', 'O', 'O', 'O', 'O', 'O', 'O', 'O', 'O', 'O', 'O', 'O', 'O', 'O', 'O', 'O', 'O', 'O', 'O', 'O', 'O', 'O', 'O', 'O', 'O', 'O', 'O', 'O', 'O', 'O', 'O', 'O', 'O', 'O', 'O', 'O', 'O', 'O', 'X', 'O', 'O', 'O', 'O', 'O', 'O', 'O', 'O', 'O'], ['O', 'O', 'O', 'O', 'O', 'O', 'O', 'O', 'O', 'O', 'O', 'O', 'O', 'O', 'O', 'O', 'O', 'O', 'O', 'O', 'O'], ['O', 'O', 'O', 'O', 'O', 'O', 'O', 'O', 'O', 'O', 'O', 'O', 'O', 'O', 'O', 'O', 'O', 'O', 'O', 'O', 'O', 'O', 'O', 'O', 'O', 'O', 'O', 'O', 'O', 'O', 'O', 'O', 'O', 'O', 'O', 'B-DEG', 'I-DEG', 'I-DEG', 'I-DEG', 'I-DEG', 'I-DEG', 'B-CLG', 'I-CLG', 'I-CLG', 'I-CLG', 'I-CLG', 'I-CLG', 'I-CLG', 'I-CLG', 'L-CLG', 'O', 'O', 'O', 'O', 'O', 'U-GRADYEAR', 'O', 'O', 'O', 'O', 'O', 'O', 'O', 'O', 'O', 'O', 'B-SKILLS', 'I-SKILLS', 'I-SKILLS', 'I-SKILLS', 'I-SKILLS', 'I-SKILLS', 'I-SKILLS', 'I-SKILLS', 'I-SKILLS', 'I-SKILLS', 'I-SKILLS', 'I-SKILLS', 'I-SKILLS', 'I-SKILLS', 'I-SKILLS', 'I-SKILLS', 'I-SKILLS', 'I-SKILLS', 'I-SKILLS', 'I-SKILLS', 'I-SKILLS', 'I-SKILLS', 'I-SKILLS', 'I-SKILLS', 'I-SKILLS', 'I-SKILLS', 'I-SKILLS', 'I-SKILLS', 'I-SKILLS', 'I-SKILLS', 'I-SKILLS', 'I-SKILLS', 'I-SKILLS', 'I-SKILLS', 'I-SKILLS', 'I-SKILLS', 'I-SKILLS', 'I-SKILLS', 'I-SKILLS', 'I-SKILLS', 'O', 'O', 'O', 'O', 'O', 'O', 'O', 'O', 'O', 'O', 'O', 'O', 'O', 'O', 'O', 'O', 'O', 'O', 'O', 'O', 'O', 'O', 'O', 'O', 'O', 'O', 'O', 'O', 'O', 'O', 'O', 'O', 'O', 'O', 'O', 'O', 'O', 'O', 'O', 'O', 'O', 'O', 'O', 'O', 'O', 'O', 'O', 'O', 'O', 'O', 'O', 'O', 'O'], ['O', 'B-DESIG', 'B-COMPANY', 'L-COMPANY', 'O', 'O', 'O', 'O', 'O', 'O', 'O', 'O', 'O', 'O', 'O', 'O', 'O', 'O'], ['O', 'B-DESIG', 'L-DESIG', 'B-COMPANY', 'L-COMPANY', 'O', 'O', 'O', 'O', 'O', 'O', 'O', 'O', 'O', 'O', 'O', 'O', 'O', 'O', 'O', 'O', 'O', 'O', 'O', 'O', 'O', 'O', 'O'], ['O', 'O', 'O', 'B-DESIG', 'I-DESIG', 'I-DESIG', 'B-COMPANY', 'B-COMPANY', 'L-COMPANY', 'O', 'O', 'O', 'O', 'O', 'O', 'O', 'O', 'O', 'O', 'X', 'O', 'O', 'O', 'O', 'O', 'O', 'O', 'B-COMPANY', 'B-COMPANY', 'L-COMPANY', 'O', 'O', 'O', 'O', 'O', 'O', 'O'], ['O', 'O', 'O', 'O', 'O', 'O', 'O', 'O', 'O', 'O', 'O', 'O', 'O', 'O', 'O', 'O', 'O', 'O', 'O', 'O', 'O', 'O', 'O', 'O', 'O', 'O', 'O', 'O', 'O', 'O', 'O', 'O', 'O', 'O', 'O', 'O', 'O', 'O', 'O', 'O', 'O', 'O', 'O', 'O', 'O', 'O', 'O', 'O', 'O', 'O', 'O', 'O', 'O', 'O', 'O', 'O', 'O', 'O', 'O', 'O', 'O', 'O', 'O', 'O', 'O', 'O', 'O', 'O', 'O', 'O', 'O', 'O', 'O', 'O', 'O', 'O', 'O', 'O', 'O', 'O', 'O', 'O', 'O', 'O', 'O', 'O', 'O', 'O', 'O', 'O', 'O', 'O', 'O', 'O', 'O', 'O', 'O', 'O', 'O', 'O', 'O', 'O', 'O', 'O', 'O', 'O', 'O', 'O', 'O', 'O', 'O', 'O', 'O', 'O', 'O', 'O', 'O', 'O', 'O', 'O', 'O', 'O', 'O', 'O', 'O', 'O', 'O', 'O', 'B-COMPANY', 'B-COMPANY', 'L-COMPANY', 'O', 'O', 'O', 'O', 'O', 'O', 'O', 'O', 'O', 'O', 'O', 'O', 'O', 'O', 'O', 'O', 'O', 'O', 'O', 'O', 'O', 'O'], ['O', 'O', 'O', 'O', 'B-DEG', 'I-DEG', 'I-DEG', 'I-DEG', 'I-DEG', 'I-DEG', 'I-DEG', 'B-CLG', 'I-DEG', 'I-CLG', 'I-CLG', 'L-CLG', 'O', 'O', 'O', 'O', 'O', 'U-GRADYEAR', 'O', 'U-GRADYEAR', 'I-CLG', 'I-CLG', 'I-CLG', 'L-CLG', 'O', 'O', 'U-GRADYEAR', 'O', 'B-DEG', 'X', 'I-CLG', 'I-CLG', 'L-CLG', 'U-GRADYEAR', 'O', 'O', 'O', 'O', 'O', 'O', 'O', 'O', 'O', 'O', 'O', 'O', 'O', 'O', 'O', 'O', 'O', 'O', 'O', 'O', 'O', 'O', 'O', 'O', 'O', 'O', 'O', 'O', 'O', 'O', 'O', 'O', 'O', 'O'], ['O', 'O', 'O', 'O', 'O', 'O', 'O', 'O', 'O', 'O', 'O', 'O', 'O', 'O', 'O', 'O', 'O', 'O', 'O', 'O', 'O', 'O', 'O', 'O', 'O', 'O', 'O', 'O', 'O', 'O', 'O', 'O', 'O', 'O', 'O', 'O', 'O', 'O', 'O', 'O', 'O', 'O', 'O', 'O', 'O', 'O', 'O', 'O'], ['O', 'B-DESIG', 'L-DESIG', 'O', 'B-COMPANY', 'L-COMPANY', 'O', 'U-LOC', 'I-COMPANY', 'L-COMPANY', 'O', 'O', 'O', 'O', 'O', 'O', 'B-DEG', 'I-DEG', 'I-DEG', 'B-CLG', 'B-CLG', 'L-CLG', 'O', 'U-GRADYEAR', 'O', 'X', 'I-CLG', 'L-CLG', 'O', 'O', 'B-SKILLS', 'I-SKILLS', 'I-SKILLS', 'I-SKILLS', 'I-SKILLS', 'I-SKILLS', 'L-SKILLS'], ['O', 'O', 'O', 'O', 'O', 'O', 'O', 'O', 'O', 'O', 'O', 'O', 'O', 'O', 'O', 'O', 'O', 'O', 'O', 'O', 'O', 'O', 'O', 'O', 'O', 'O', 'O', 'O', 'O', 'O', 'O', 'O', 'O', 'O', 'O', 'O', 'O', 'O', 'O', 'O', 'O', 'O', 'O'], ['O', 'O', 'O', 'B-DESIG', 'L-DESIG', 'B-COMPANY', 'B-COMPANY', 'L-COMPANY', 'O', 'B-COMPANY', 'L-COMPANY', 'O', 'O', 'O', 'O', 'U-GRADYEAR', 'O', 'O', 'O', 'O', 'O', 'O', 'O', 'O', 'O', 'O', 'O', 'O'], ['B-NAME', 'L-NAME', 'L-NAME', 'O', 'L-DESIG', 'U-LOC', 'O', 'O', 'O', 'O', 'O', 'O', 'O', 'O', 'O', 'B-EMAIL', 'X', 'O', 'O', 'O', 'O', 'O', 'U-LOC', 'O', 'O', 'O', 'O', 'O', 'O', 'O', 'B-DESIG', 'O', 'O', 'O', 'O', 'O', 'O', 'O', 'O', 'O', 'O', 'O', 'O', 'O', 'O', 'O', 'O', 'O', 'O', 'O', 'O', 'O', 'O', 'O', 'O', 'I-CLG', 'I-CLG', 'L-CLG', 'O', 'U-LOC', 'O', 'O', 'O', 'O', 'O', 'O', 'O', 'O', 'O', 'O', 'O', 'O', 'B-DEG', 'I-DEG', 'I-DEG', 'I-DEG', 'I-DEG', 'I-DEG', 'B-CLG', 'I-CLG', 'L-CLG', 'O', 'O', 'O', 'O', 'O', 'O', 'O', 'O', 'O', 'O', 'O', 'O', 'I-SKILLS', 'I-SKILLS', 'O', 'O', 'O', 'O', 'O', 'O', 'O', 'O', 'O', 'O', 'O'], ['O', 'O', 'B-DEG', 'I-DEG', 'I-DEG', 'I-DEG', 'I-DEG', 'B-CLG', 'I-CLG', 'L-CLG', 'O', 'O', 'O', 'O', 'U-GRADYEAR', 'B-DEG', 'I-DEG', 'I-DEG', 'I-DEG', 'I-DEG', 'O', 'O', 'O', 'B-CLG', 'I-CLG', 'I-CLG', 'I-CLG', 'L-CLG', 'O', 'B-SKILLS', 'I-SKILLS', 'I-SKILLS', 'I-SKILLS', 'I-SKILLS', 'I-SKILLS', 'I-SKILLS', 'I-SKILLS', 'I-SKILLS', 'I-SKILLS', 'I-SKILLS', 'I-SKILLS', 'I-SKILLS', 'I-SKILLS', 'I-SKILLS', 'I-SKILLS', 'I-SKILLS', 'I-SKILLS', 'O', 'O', 'O', 'O', 'O', 'O', 'O', 'O', 'O', 'O', 'O', 'O', 'O', 'O', 'O', 'O', 'O', 'O', 'O', 'O', 'O', 'O', 'O', 'O'], ['O', 'O', 'B-DESIG', 'B-DESIG', 'I-COMPANY', 'L-COMPANY', 'O', 'O', 'O', 'O', 'O', 'O', 'O', 'O', 'O', 'O', 'O', 'O', 'O', 'O', 'B-COMPANY', 'I-COMPANY', 'I-COMPANY', 'L-COMPANY', 'O', 'O', 'O', 'O', 'O', 'O', 'O', 'O', 'O', 'O', 'O', 'O', 'O', 'O', 'O', 'O', 'O'], ['B-NAME', 'L-NAME', 'B-DESIG', 'X', 'I-DEG', 'I-DEG', 'L-DESIG', 'B-CLG', 'L-DESIG', 'U-LOC', 'O', 'O', 'O', 'O', 'O', 'O', 'O', 'O', 'U-EMAIL', 'O', 'O', 'O', 'O', 'O', 'O', 'O', 'O', 'O', 'O', 'O', 'O', 'O', 'O', 'O', 'O', 'O', 'O', 'O', 'O', 'O', 'O', 'O', 'O', 'O', 'O', 'O', 'O', 'O', 'O', 'O'], ['O', 'O', 'O', 'O', 'O', 'O', 'O', 'O', 'O', 'O', 'O', 'O', 'O', 'O', 'O', 'O', 'O', 'O', 'O', 'O', 'O', 'O', 'O', 'O', 'O', 'O', 'O', 'O', 'O', 'O', 'O', 'O', 'O', 'O', 'O', 'O', 'O', 'O', 'O', 'O', 'O', 'O', 'O', 'O', 'O', 'O', 'O', 'O', 'O', 'O', 'O', 'O', 'O', 'O', 'O', 'O', 'O', 'O', 'O', 'X', 'O', 'O', 'O', 'O', 'O', 'O', 'O', 'O', 'O', 'I-COMPANY', 'O', 'O', 'O', 'O', 'O', 'O', 'O', 'O', 'O', 'O', 'O', 'O', 'O', 'O', 'O', 'O', 'O', 'O', 'O', 'O', 'O', 'O'], ['O', 'O', 'O', 'O', 'B-SKILLS', 'I-SKILLS', 'O', 'I-SKILLS', 'I-SKILLS', 'O', 'O', 'O', 'O', 'O', 'B-DEG', 'I-DEG', 'I-DEG', 'I-DEG', 'B-CLG', 'I-CLG', 'L-CLG', 'O', 'O', 'O', 'O', 'O', 'U-GRADYEAR', 'O', 'O', 'O', 'O', 'U-GRADYEAR', 'O', 'B-SKILLS', 'B-SKILLS', 'I-SKILLS', 'I-SKILLS', 'I-SKILLS', 'I-SKILLS', 'I-SKILLS', 'I-SKILLS', 'O', 'O', 'O', 'O', 'O', 'O', 'O', 'O', 'O', 'O', 'O', 'O', 'O', 'I-SKILLS', 'I-SKILLS', 'I-SKILLS', 'I-SKILLS', 'I-SKILLS', 'I-SKILLS', 'I-SKILLS', 'I-SKILLS', 'I-SKILLS', 'I-SKILLS', 'I-SKILLS', 'I-SKILLS', 'I-SKILLS', 'I-SKILLS', 'O'], ['B-NAME', 'L-NAME', 'U-LOC', 'O', 'O', 'O', 'O', 'O', 'O', 'O', 'O', 'U-EMAIL', 'X', 'O', 'O', 'O', 'O', 'O', 'O', 'O', 'O', 'O', 'O', 'O', 'O', 'O', 'O', 'O', 'O', 'O', 'O', 'O', 'O', 'O', 'O', 'O'], ['O', 'O', 'O', 'O', 'O', 'O', 'O', 'O', 'O', 'O', 'O', 'O', 'O', 'O', 'O', 'O', 'O', 'O', 'O', 'O', 'O', 'O', 'O', 'O', 'O', 'O', 'O', 'O', 'O', 'O', 'O', 'O', 'O', 'O', 'O', 'O', 'O', 'O', 'O', 'O', 'O', 'O', 'O', 'O', 'O', 'O', 'O', 'O', 'O', 'O', 'O', 'O', 'O', 'O', 'O', 'O', 'O', 'O', 'O', 'O', 'O', 'O', 'O', 'O', 'O', 'O', 'O', 'O', 'O', 'O', 'O', 'O', 'O', 'O', 'O', 'O', 'O', 'O', 'O', 'O', 'O', 'O', 'O', 'O', 'O', 'O', 'O', 'O', 'O', 'O', 'O', 'O', 'O', 'O', 'O', 'O', 'O', 'O', 'O', 'O', 'O', 'O', 'O', 'O', 'O', 'O', 'O', 'O', 'O', 'O', 'O', 'O', 'O', 'O', 'O', 'O', 'O', 'O', 'O', 'O', 'O', 'O', 'O', 'O', 'O', 'O', 'O', 'O', 'O', 'O', 'O', 'O', 'O', 'O', 'O', 'O', 'O', 'O', 'O', 'O', 'O', 'O', 'O', 'O', 'O', 'O', 'O', 'O', 'O', 'O', 'O', 'O', 'O', 'O', 'O', 'O', 'O', 'O', 'O', 'O', 'O', 'O', 'O', 'O', 'O', 'O', 'O', 'O', 'O', 'O', 'O', 'O', 'O', 'B-DEG', 'I-DEG', 'I-DEG', 'I-DEG', 'I-DEG', 'L-CLG', 'O', 'L-DEG', 'B-CLG', 'B-SKILLS', 'I-SKILLS', 'I-SKILLS', 'I-SKILLS', 'I-SKILLS', 'I-SKILLS', 'I-SKILLS', 'I-SKILLS', 'X', 'I-SKILLS', 'I-SKILLS', 'I-SKILLS', 'I-SKILLS', 'I-SKILLS', 'I-SKILLS', 'I-SKILLS', 'I-SKILLS', 'I-SKILLS', 'I-SKILLS', 'I-SKILLS', 'I-SKILLS', 'I-SKILLS', 'B-SKILLS', 'I-SKILLS', 'I-SKILLS', 'I-SKILLS', 'I-SKILLS', 'I-SKILLS', 'I-SKILLS', 'I-SKILLS', 'I-SKILLS', 'I-SKILLS', 'I-SKILLS', 'I-SKILLS', 'I-SKILLS', 'I-SKILLS', 'I-SKILLS', 'I-SKILLS', 'I-SKILLS', 'I-SKILLS', 'I-SKILLS', 'I-SKILLS', 'I-SKILLS', 'I-SKILLS', 'I-SKILLS', 'I-SKILLS', 'I-SKILLS', 'O', 'O', 'O', 'I-SKILLS', 'X', 'X', 'O', 'O', 'O', 'O', 'O', 'O', 'O', 'O', 'O', 'O', 'O', 'I-SKILLS', 'I-SKILLS', 'I-SKILLS', 'I-SKILLS', 'I-SKILLS', 'I-SKILLS', 'I-SKILLS', 'I-SKILLS', 'I-SKILLS', 'I-SKILLS', 'I-SKILLS', 'I-SKILLS', 'I-SKILLS', 'I-SKILLS', 'I-SKILLS', 'I-SKILLS', 'I-SKILLS', 'I-SKILLS', 'I-SKILLS', 'I-SKILLS', 'I-SKILLS', 'O', 'O', 'I-SKILLS', 'I-SKILLS', 'I-SKILLS', 'I-SKILLS', 'I-SKILLS', 'I-SKILLS', 'I-SKILLS', 'I-SKILLS', 'I-SKILLS', 'I-SKILLS', 'I-SKILLS', 'I-SKILLS', 'I-SKILLS', 'I-SKILLS', 'I-SKILLS', 'I-SKILLS', 'I-SKILLS', 'I-SKILLS', 'I-SKILLS', 'I-SKILLS', 'I-SKILLS', 'I-SKILLS', 'I-SKILLS', 'I-SKILLS', 'I-SKILLS', 'I-SKILLS', 'I-SKILLS', 'I-SKILLS', 'I-SKILLS', 'I-SKILLS', 'I-SKILLS', 'I-SKILLS', 'I-SKILLS', 'I-SKILLS', 'I-SKILLS', 'O', 'O', 'O', 'O', 'O', 'O', 'O', 'O'], ['O', 'O', 'O', 'O', 'O', 'O', 'O', 'O', 'O', 'O', 'O', 'O', 'O', 'O', 'O', 'O', 'O', 'O', 'O', 'O', 'O', 'O', 'O', 'O', 'O', 'B-SKILLS', 'O', 'L-SKILLS', 'O', 'O', 'O', 'O'], ['O', 'O', 'O', 'O', 'O', 'O', 'O', 'O', 'O', 'O', 'O', 'O', 'O', 'O', 'O', 'O', 'O', 'O', 'O', 'O', 'O', 'O', 'O', 'O', 'O', 'O', 'O', 'O', 'O', 'O', 'O', 'O', 'O', 'O', 'O', 'O', 'O', 'O', 'O', 'O', 'O', 'O', 'O', 'O', 'O', 'O', 'O', 'O', 'O', 'O', 'O', 'O', 'O', 'O', 'O', 'O', 'O', 'O', 'O', 'O', 'O', 'O', 'O', 'O', 'O', 'O', 'O', 'O', 'O', 'O', 'O', 'O', 'O', 'O', 'O', 'O', 'O', 'O', 'O', 'O', 'O', 'O', 'O', 'O', 'O', 'O', 'O', 'O', 'O', 'O', 'O', 'O', 'O', 'O', 'O', 'O', 'O', 'O', 'O', 'O', 'B-DEG', 'I-DEG', 'I-DEG', 'B-CLG', 'L-CLG', 'O', 'O', 'O', 'O', 'O', 'O', 'U-GRADYEAR', 'B-DEG', 'I-DEG', 'I-DEG', 'I-DEG', 'I-DEG', 'I-DEG', 'I-DEG', 'B-CLG', 'B-CLG', 'I-CLG', 'I-CLG', 'I-CLG', 'I-CLG', 'I-CLG', 'I-CLG', 'I-CLG', 'L-CLG', 'O', 'O', 'O', 'O', 'O', 'O', 'O', 'U-GRADYEAR', 'O', 'U-DEG', 'O', 'I-CLG', 'L-CLG', 'O', 'O', 'O', 'O', 'O', 'U-GRADYEAR', 'O', 'U-GRADYEAR', 'O', 'O', 'O', 'B-SKILLS', 'B-SKILLS', 'I-SKILLS', 'I-SKILLS', 'I-SKILLS', 'I-SKILLS', 'O', 'O', 'O', 'O', 'O', 'O', 'O', 'U-GRADYEAR', 'O', 'B-SKILLS', 'I-SKILLS', 'I-SKILLS', 'I-SKILLS', 'I-SKILLS', 'L-SKILLS'], ['O', 'O', 'O', 'B-COMPANY', 'L-COMPANY', 'O', 'B-COMPANY', 'L-COMPANY', 'O', 'O', 'O', 'O', 'O', 'O', 'O', 'O', 'O', 'O', 'O', 'O', 'O', 'O', 'O', 'O', 'O', 'O', 'O', 'O', 'O', 'O', 'O', 'O', 'O', 'O', 'O', 'O', 'O', 'O', 'O', 'O'], ['B-NAME', 'L-NAME', 'B-DESIG', 'I-DESIG', 'L-DESIG', 'O', 'B-COMPANY', 'I-COMPANY', 'U-LOC', 'O', 'O', 'O', 'O', 'O', 'O', 'O', 'O', 'U-EMAIL', 'O', 'O', 'O', 'B-DESIG', 'L-DESIG', 'L-DESIG', 'L-COMPANY', 'O', 'O', 'O', 'O', 'O', 'O', 'O', 'O', 'O', 'O', 'O', 'O', 'O', 'O', 'O', 'O', 'O', 'O', 'O', 'O', 'O', 'O', 'O', 'O'], ['O', 'O', 'O', 'O', 'O', 'O', 'O', 'O', 'B-DESIG', 'I-DESIG', 'L-DESIG', 'O', 'O', 'O', 'O', 'O', 'O', 'O', 'O', 'O', 'O', 'O', 'O', 'O', 'O', 'O', 'O', 'O', 'O', 'O', 'O', 'O'], ['O', 'O', 'O', 'O', 'O', 'O', 'U-LOC', 'O', 'O', 'O', 'B-DESIG', 'L-DESIG', 'B-COMPANY', 'L-COMPANY', 'O', 'U-LOC', 'O', 'O', 'O', 'O', 'U-GRADYEAR', 'O', 'O', 'O', 'O', 'O', 'O', 'O', 'O', 'B-YOE', 'L-YOE', 'O', 'B-COMPANY', 'I-COMPANY', 'L-COMPANY', 'O', 'O', 'O', 'O', 'O', 'O', 'O'], ['O', 'O', 'O', 'O', 'B-DESIG', 'L-DESIG', 'O', 'B-DESIG', 'L-DESIG', 'O', 'O', 'O', 'O', 'O', 'O', 'O', 'O', 'O', 'O', 'O', 'O', 'O', 'O', 'O', 'O', 'O', 'O'], ['O', 'O', 'O', 'U-SKILLS', 'O', 'U-SKILLS', 'O', 'O', 'O', 'O', 'O', 'O'], ['O', 'O', 'O', 'B-DESIG', 'I-DESIG', 'L-DESIG', 'I-DESIG', 'I-DESIG', 'B-COMPANY', 'L-COMPANY', 'O', 'O', 'O', 'O', 'O', 'O', 'O'], ['O', 'O', 'O', 'O', 'I-DEG', 'I-DESIG', 'I-DESIG', 'I-DESIG', 'I-DESIG', 'O', 'O', 'O', 'O', 'O', 'O', 'U-GRADYEAR', 'O', 'U-GRADYEAR', 'O', 'B-CLG', 'I-CLG', 'I-CLG', 'L-CLG', 'O', 'O', 'O', 'O', 'U-GRADYEAR', 'O', 'O', 'O', 'L-CLG', 'O', 'O', 'O', 'O', 'U-GRADYEAR', 'O', 'B-CLG', 'I-CLG', 'I-CLG', 'I-CLG', 'I-CLG', 'L-CLG', 'O', 'O', 'U-GRADYEAR', 'O', 'B-CLG', 'I-CLG', 'I-CLG', 'I-CLG', 'I-CLG', 'I-CLG', 'I-CLG', 'O', 'O', 'O', 'B-SKILLS', 'I-SKILLS', 'I-SKILLS', 'I-SKILLS', 'I-SKILLS', 'I-SKILLS', 'I-SKILLS', 'I-SKILLS', 'I-SKILLS', 'I-SKILLS', 'I-SKILLS', 'I-SKILLS', 'I-SKILLS', 'I-SKILLS', 'I-SKILLS', 'I-SKILLS', 'I-SKILLS', 'I-SKILLS', 'I-SKILLS', 'I-SKILLS', 'I-SKILLS', 'I-SKILLS', 'I-SKILLS', 'I-SKILLS', 'I-SKILLS', 'I-SKILLS', 'I-SKILLS', 'I-SKILLS', 'I-SKILLS', 'I-SKILLS', 'I-SKILLS', 'I-SKILLS', 'I-SKILLS', 'I-SKILLS', 'I-SKILLS', 'I-SKILLS', 'I-SKILLS', 'I-SKILLS', 'I-SKILLS', 'I-SKILLS', 'I-SKILLS', 'O', 'O', 'O', 'O', 'O', 'O', 'O', 'O', 'O', 'O', 'O', 'O', 'O', 'O', 'O', 'O', 'O', 'I-SKILLS', 'O', 'I-SKILLS', 'I-SKILLS', 'I-SKILLS', 'I-SKILLS', 'I-SKILLS', 'I-SKILLS', 'I-SKILLS', 'I-SKILLS', 'I-SKILLS', 'I-SKILLS', 'I-SKILLS', 'I-SKILLS', 'I-SKILLS', 'I-SKILLS', 'I-SKILLS', 'I-SKILLS', 'I-SKILLS', 'I-SKILLS', 'I-SKILLS', 'I-SKILLS', 'I-SKILLS', 'O', 'O', 'I-SKILLS', 'I-SKILLS', 'I-SKILLS', 'I-SKILLS', 'I-SKILLS', 'I-SKILLS', 'O', 'O', 'O', 'O', 'O', 'O', 'O', 'O', 'O', 'O'], ['O', 'O', 'O', 'O', 'O', 'O', 'U-LOC', 'O', 'O', 'O', 'B-DESIG', 'L-DESIG', 'B-COMPANY', 'L-COMPANY', 'O', 'O', 'O', 'O', 'O', 'O', 'O', 'O', 'O', 'O', 'O', 'O', 'O', 'O', 'O', 'O', 'O', 'O', 'O', 'O', 'O', 'O', 'O', 'O', 'O', 'O', 'O', 'O', 'O', 'O', 'O', 'O', 'O', 'O', 'O', 'O', 'O'], ['O', 'O', 'O', 'O', 'O', 'O', 'O', 'O', 'O', 'O', 'O', 'O', 'B-DEG', 'I-DEG', 'I-DEG', 'I-DEG', 'I-DEG', 'L-CLG', 'O', 'O', 'O', 'O', 'O', 'U-GRADYEAR', 'B-DEG', 'L-CLG', 'O', 'O', 'O', 'O', 'O', 'U-GRADYEAR', 'O', 'B-SKILLS', 'B-SKILLS', 'I-CLG', 'O', 'O', 'O', 'O', 'O', 'O', 'O', 'O', 'I-DEG', 'I-DEG', 'B-CLG', 'L-CLG', 'O'], ['O', 'O', 'O', 'O', 'O', 'O', 'O', 'O', 'O', 'O', 'O', 'O', 'O', 'O', 'O', 'O', 'O', 'O', 'O', 'O', 'O', 'O', 'O', 'O', 'O', 'O', 'O', 'O', 'O', 'O', 'O', 'O', 'O', 'O', 'O', 'O', 'O', 'O', 'O', 'O'], ['O', 'B-DESIG', 'L-DESIG', 'O', 'O', 'O', 'O', 'O', 'O', 'O', 'O', 'O', 'O', 'O', 'O', 'O', 'O', 'O', 'O', 'O', 'O', 'O', 'O', 'O', 'O', 'O', 'O', 'O', 'O', 'O', 'O', 'O', 'O', 'O', 'O', 'O', 'O', 'O', 'O', 'O', 'O', 'O', 'O', 'O', 'O', 'O', 'O', 'O', 'O', 'O', 'O', 'O', 'O', 'O', 'O', 'O'], ['O', 'O', 'O', 'O', 'O', 'O', 'O', 'O', 'O', 'O', 'O', 'O', 'O', 'U-COMPANY', 'O', 'O'], ['O', 'O', 'O', 'O', 'O', 'O', 'B-COMPANY', 'L-COMPANY', 'O', 'U-LOC', 'O', 'O', 'O', 'O', 'U-GRADYEAR', 'O', 'O', 'O', 'O', 'O', 'O', 'O', 'O', 'O', 'O', 'O', 'O', 'O', 'O', 'O', 'O', 'B-DESIG', 'L-DESIG', 'O', 'O', 'O', 'O', 'O', 'O', 'O'], ['O', 'O', 'O', 'B-DESIG', 'L-DESIG', 'B-COMPANY', 'L-COMPANY', 'O', 'O', 'O', 'O', 'O', 'O', 'O', 'O', 'O', 'O', 'O', 'O', 'O', 'O', 'O', 'O', 'O', 'O', 'O', 'O', 'O', 'O', 'O', 'O', 'O', 'O', 'O', 'O', 'O', 'O', 'O', 'O', 'O', 'O', 'O', 'O', 'O', 'O', 'O', 'O', 'O', 'O', 'O', 'O', 'O', 'O', 'O', 'O', 'O', 'O', 'O', 'O', 'O', 'O', 'O', 'O', 'O', 'O', 'O', 'O', 'O', 'O', 'O', 'O', 'O', 'O', 'O', 'O', 'O', 'O', 'O', 'O', 'O', 'O', 'O', 'X', 'O', 'O', 'O', 'O', 'O', 'O', 'O', 'O', 'O', 'O', 'O', 'O', 'O', 'O', 'O', 'O', 'O', 'O', 'O', 'O', 'O', 'O', 'O', 'O', 'O', 'O', 'O', 'O', 'O', 'O', 'O', 'O', 'O', 'O', 'O', 'O', 'O', 'O', 'O', 'O', 'O', 'O', 'O', 'O', 'O', 'O', 'O', 'O', 'O'], ['B-NAME', 'L-NAME', 'U-LOC', 'O', 'O', 'O', 'O', 'O', 'O', 'U-EMAIL', 'O', 'O', 'I-DESIG', 'I-DESIG', 'U-COMPANY', 'O', 'O', 'O', 'O', 'O', 'O', 'B-DEG', 'L-DEG', 'B-DEG', 'I-CLG', 'L-CLG', 'O', 'B-SKILLS', 'I-SKILLS', 'I-SKILLS', 'I-SKILLS', 'L-SKILLS', 'O'], ['O', 'O', 'O', 'O', 'O', 'O', 'O', 'O', 'B-DESIG', 'I-DESIG', 'L-DESIG', 'L-DESIG', 'L-DESIG', 'O', 'O', 'O', 'O', 'O', 'O', 'O', 'O', 'O', 'O', 'O', 'O', 'O', 'O', 'O', 'O', 'O', 'O', 'O', 'O', 'O', 'O', 'O', 'O', 'O', 'O', 'O', 'O', 'O', 'O', 'O', 'O', 'O', 'O', 'O'], ['O', 'O', 'O', 'O', 'O', 'O', 'O', 'O', 'O', 'O', 'O', 'O', 'O', 'O', 'O', 'O', 'O', 'O', 'O', 'O', 'O', 'O', 'O', 'O', 'O', 'O', 'O', 'O', 'O', 'O', 'O', 'O', 'O', 'O', 'O', 'O', 'O', 'O'], ['O', 'O', 'O', 'O', 'O', 'O', 'O', 'O', 'O', 'O', 'O', 'O', 'O', 'O', 'L-COMPANY', 'O', 'U-LOC', 'O', 'O', 'O', 'O', 'O', 'U-GRADYEAR', 'O', 'O', 'U-GRADYEAR', 'O', 'O', 'O', 'O', 'O', 'O', 'O', 'O', 'O', 'O', 'O', 'O', 'O', 'O', 'O', 'O', 'O', 'O', 'O', 'O'], ['O', 'O', 'O', 'O', 'O', 'O', 'O', 'O', 'O', 'O', 'O', 'O', 'O', 'O', 'O', 'O', 'O', 'O', 'O', 'O', 'O', 'O', 'O', 'O', 'O', 'O', 'O', 'O', 'O', 'O', 'O', 'O', 'O', 'O', 'O', 'O', 'O', 'O', 'O', 'O', 'O', 'O', 'O', 'O', 'O', 'O', 'O', 'O', 'O', 'O', 'O', 'O', 'O', 'O', 'O', 'O', 'O', 'O', 'O', 'O', 'O', 'O', 'O', 'O', 'O', 'O', 'O', 'O', 'O', 'O', 'O', 'O', 'U-LOC', 'O', 'O', 'O', 'B-DESIG', 'O', 'O', 'L-DESIG', 'U-COMPANY', 'O', 'U-LOC', 'O', 'O', 'O', 'U-GRADYEAR', 'O', 'O', 'O', 'O', 'O', 'O', 'O', 'O', 'O', 'O', 'O', 'O', 'O', 'O', 'O', 'O', 'O', 'O', 'O', 'O', 'O', 'O', 'O', 'O', 'O', 'O', 'O', 'O', 'O', 'O', 'O'], ['O', 'O', 'O', 'B-DESIG', 'O', 'O', 'O', 'O', 'O', 'O', 'O', 'O', 'O', 'O', 'O', 'O', 'O', 'O', 'O', 'O', 'O', 'O', 'O', 'O', 'O', 'O', 'O', 'O', 'O', 'O', 'O', 'O', 'O', 'O', 'O', 'O', 'O', 'O', 'O', 'O', 'O'], ['O', 'O', 'O', 'B-DESIG', 'L-DESIG', 'O'], ['O', 'O', 'O', 'O', 'O', 'O', 'O', 'O', 'O', 'O', 'O', 'O', 'O', 'O', 'O', 'O', 'O', 'O', 'O', 'O', 'O', 'O', 'O', 'O', 'O', 'O', 'O', 'O', 'O', 'O', 'O', 'O', 'O', 'O', 'O', 'O', 'O', 'O', 'O', 'O', 'O', 'O', 'O', 'O', 'O', 'O', 'O', 'O', 'O', 'O', 'O', 'O', 'O', 'O', 'O', 'O', 'O', 'O', 'O', 'O', 'O', 'O', 'O', 'O', 'O', 'O', 'O', 'O', 'O', 'O', 'O', 'O', 'O', 'O', 'O', 'O', 'O', 'O', 'O', 'O', 'O', 'O', 'O', 'O', 'O', 'O', 'O', 'O', 'O', 'O', 'O', 'O', 'O', 'O', 'O', 'O', 'O', 'O', 'O', 'O', 'O', 'O', 'O', 'O', 'O', 'O', 'O', 'O', 'O', 'O', 'O', 'O', 'O', 'O', 'O', 'O', 'O', 'O', 'O', 'O', 'O', 'O', 'B-DESIG', 'O', 'O', 'O', 'O', 'O', 'O', 'O', 'O', 'O', 'O', 'O', 'O', 'O', 'O', 'O', 'O', 'O', 'O', 'O', 'O', 'O', 'O', 'O', 'O'], ['O', 'O', 'O', 'O', 'O', 'O', 'O', 'O', 'O', 'O', 'O', 'O', 'O', 'O', 'O', 'O', 'O', 'O', 'X', 'O', 'O', 'I-DEG', 'O', 'O', 'B-DEG', 'I-DEG', 'I-DEG', 'I-DEG', 'L-DEG', 'I-CLG', 'L-CLG', 'O', 'O', 'O', 'O', 'O', 'U-GRADYEAR'], ['O', 'O', 'O', 'O', 'O', 'O', 'O', 'O', 'O', 'O', 'O', 'O', 'O', 'O', 'O', 'O', 'O', 'I-COMPANY', 'I-COMPANY', 'O', 'O', 'O', 'O', 'O', 'O', 'O', 'U-GRADYEAR', 'O', 'O', 'O', 'O', 'O', 'U-GRADYEAR', 'O', 'O', 'O', 'O', 'O', 'O', 'O', 'O', 'O', 'O', 'O', 'O', 'O', 'O', 'O', 'O', 'O', 'O', 'O', 'O', 'O', 'O', 'O', 'O', 'O', 'O', 'O', 'O', 'O', 'O', 'O', 'O', 'O', 'O', 'O', 'O', 'O', 'O', 'O', 'O', 'O', 'O', 'O', 'O', 'O', 'O', 'O', 'O', 'O', 'O', 'O', 'O', 'O', 'O', 'O', 'O', 'O', 'O', 'O', 'O', 'O', 'O', 'O', 'O', 'O', 'O', 'O', 'O', 'O', 'O', 'O', 'O', 'O', 'O', 'O'], ['O', 'O', 'O', 'O', 'O', 'U-COMPANY', 'O', 'O', 'O', 'O'], ['B-NAME', 'I-NAME', 'U-LOC', 'O', 'O', 'O', 'O', 'O', 'O', 'O', 'O', 'O', 'B-EMAIL', 'X', 'O', 'O', 'B-DESIG', 'L-DESIG', 'U-COMPANY', 'O', 'O', 'O', 'O', 'O', 'B-DESIG', 'L-DESIG', 'O', 'O', 'O', 'O', 'B-SKILLS', 'I-SKILLS', 'I-SKILLS', 'I-SKILLS', 'I-SKILLS', 'I-SKILLS', 'I-SKILLS', 'L-SKILLS', 'O', 'O'], ['O', 'O', 'O', 'B-DESIG', 'L-DESIG', 'B-COMPANY', 'B-COMPANY', 'L-COMPANY', 'O', 'U-LOC', 'O', 'O', 'O', 'O', 'O', 'O', 'O', 'O', 'O', 'O', 'O', 'O', 'O', 'O', 'O', 'O', 'O', 'O', 'O', 'O', 'O', 'O', 'O', 'O', 'O', 'O', 'O', 'O', 'O', 'O', 'O', 'O', 'O', 'O', 'O', 'O', 'O', 'O'], ['B-NAME', 'L-NAME', 'B-DESIG', 'I-DESIG', 'L-DESIG', 'O', 'B-COMPANY', 'I-COMPANY', 'U-LOC', 'O', 'O', 'O', 'O', 'O', 'O', 'O', 'O', 'O', 'U-EMAIL', 'O', 'O', 'O', 'O', 'O', 'O', 'O', 'O', 'O', 'O', 'O', 'O', 'O', 'O', 'O', 'O', 'O', 'O', 'O', 'O', 'O'], ['O', 'O', 'O', 'O', 'O', 'O', 'O', 'O', 'O', 'O', 'O', 'O', 'O', 'O', 'O', 'O', 'O', 'O', 'O', 'O'], ['B-NAME', 'L-NAME', 'O', 'O', 'O', 'O', 'O', 'O', 'O', 'O', 'I-DEG', 'O', 'O', 'O', 'O', 'O', 'U-LOC', 'O', 'O', 'O', 'O', 'O', 'O', 'O', 'O', 'U-EMAIL', 'O', 'O', 'O', 'O', 'O', 'O', 'O', 'O', 'O', 'O', 'O', 'O', 'O', 'O', 'O', 'O', 'O', 'O', 'O', 'O', 'O', 'O', 'O', 'O', 'O', 'O', 'O', 'O', 'O', 'O', 'O', 'O', 'O'], ['O', 'B-DESIG', 'B-DESIG', 'B-DESIG', 'L-DESIG', 'U-COMPANY', 'O', 'O', 'O', 'O', 'O', 'U-GRADYEAR', 'O', 'O', 'O', 'O', 'O', 'O', 'I-CLG', 'O', 'O', 'O', 'O', 'O', 'O', 'O', 'O', 'O', 'O', 'L-COMPANY', 'O', 'O', 'O', 'I-SKILLS', 'I-SKILLS', 'O', 'I-SKILLS', 'O', 'O', 'O', 'O', 'O', 'O', 'O', 'O', 'O', 'O', 'O', 'O', 'O', 'O', 'O', 'O', 'O', 'O', 'O', 'O', 'O', 'O', 'I-SKILLS', 'I-SKILLS', 'O', 'O', 'O', 'O', 'O', 'O', 'O', 'O', 'O', 'O', 'O', 'O', 'O', 'O', 'O', 'O', 'O', 'O', 'O', 'O', 'O', 'O', 'O', 'O', 'I-SKILLS', 'I-SKILLS', 'O', 'O', 'O', 'I-SKILLS', 'O', 'O', 'O', 'O', 'O', 'O', 'O', 'O', 'O', 'O', 'O', 'O', 'O', 'O', 'O', 'O', 'O', 'O', 'O', 'O', 'O', 'O', 'O', 'O', 'O', 'O', 'O', 'O', 'O', 'O', 'B-DEG', 'I-DEG', 'I-DEG', 'L-DEG', 'B-CLG', 'I-CLG', 'I-CLG', 'I-CLG', 'U-GRADYEAR', 'O', 'O', 'O', 'O', 'O', 'O', 'X', 'O', 'O', 'O', 'O', 'O', 'O', 'O', 'O', 'O', 'O', 'O', 'O', 'O', 'O', 'O', 'O', 'O', 'O', 'O', 'O', 'O', 'X', 'X', 'X', 'X', 'O', 'O', 'O', 'O', 'O', 'O', 'O', 'O', 'O', 'O', 'O', 'O', 'O', 'O', 'O', 'O', 'O', 'O', 'O', 'O', 'O', 'O', 'O', 'O', 'O', 'O', 'O', 'O', 'O', 'O', 'O', 'O', 'O', 'O', 'O', 'O', 'O', 'O', 'O', 'O', 'O', 'O', 'O', 'L-SKILLS', 'O', 'O', 'O', 'O', 'O', 'O', 'O', 'O', 'O', 'O', 'O', 'O', 'O', 'I-SKILLS', 'O', 'O', 'O', 'O', 'O', 'O', 'O', 'O', 'O', 'O', 'O', 'O', 'O', 'O', 'O', 'O', 'O', 'O', 'O', 'O', 'O', 'O', 'O', 'O', 'O', 'O', 'O', 'O', 'O', 'O', 'O', 'O', 'O', 'O', 'O', 'O', 'O', 'O', 'O', 'O', 'O', 'O', 'O', 'O', 'O', 'O', 'O', 'O', 'O', 'O', 'I-SKILLS', 'O', 'O', 'O', 'O', 'O', 'O', 'O', 'O', 'O', 'O', 'O', 'O', 'O', 'O', 'O', 'O', 'O', 'I-SKILLS', 'O', 'O', 'O', 'O', 'O', 'O', 'O', 'O', 'O', 'O', 'O', 'O', 'O', 'O', 'I-SKILLS', 'O', 'O', 'O', 'O', 'O', 'O', 'O', 'O', 'O', 'O', 'O', 'I-SKILLS', 'O', 'O', 'O', 'O', 'O', 'O', 'O', 'O', 'O', 'O', 'O', 'O', 'O', 'O', 'O', 'O', 'O', 'O', 'O', 'O', 'O', 'O', 'O', 'O', 'O', 'O', 'O', 'O', 'O', 'O', 'O', 'O', 'O', 'O', 'O', 'O', 'O', 'O', 'O', 'O', 'L-SKILLS', 'O', 'O', 'O', 'O', 'O', 'O', 'O', 'O', 'O', 'O', 'O', 'O', 'O', 'O', 'O', 'O', 'O', 'O', 'O', 'O', 'O', 'O', 'O', 'O', 'O', 'O', 'O', 'O', 'O', 'O', 'O', 'O', 'O', 'O', 'O', 'O', 'O', 'O', 'O', 'O', 'O', 'O', 'O', 'O', 'O', 'O', 'O', 'O', 'O', 'O', 'O', 'O', 'O', 'O', 'O', 'O', 'O', 'O', 'O', 'O', 'O', 'O', 'O', 'O', 'O', 'O', 'O', 'O', 'O', 'O', 'O', 'O', 'O', 'O', 'O', 'O', 'O', 'O', 'O', 'O', 'O', 'O', 'O', 'O', 'O', 'O', 'O', 'O', 'O', 'O', 'O', 'O', 'O', 'O', 'O', 'O', 'O', 'O', 'O', 'O', 'O', 'O', 'O', 'O', 'O'], ['O', 'O', 'O', 'O', 'O', 'O', 'O', 'O', 'O', 'O', 'O', 'O', 'O', 'O', 'O', 'O', 'O', 'O', 'O', 'O', 'O', 'O', 'O', 'O'], ['B-NAME', 'L-NAME', 'B-DESIG', 'L-DESIG', 'O', 'B-COMPANY', 'I-COMPANY', 'U-LOC', 'O', 'O', 'O', 'O', 'O', 'O', 'O', 'O', 'O', 'U-EMAIL', 'X', 'O', 'O', 'O', 'O', 'O', 'O', 'O', 'O', 'O', 'O', 'O', 'O', 'O', 'O', 'O', 'O', 'O', 'O', 'O', 'O', 'O', 'O', 'O', 'O', 'O', 'O', 'O', 'O', 'O', 'O', 'O', 'O', 'O', 'O', 'O', 'O', 'O'], ['O', 'O', 'B-DEG', 'X', 'I-DEG', 'I-DEG', 'I-DEG', 'I-DEG', 'I-DEG', 'I-CLG', 'L-CLG', 'O', 'O', 'O', 'O', 'O', 'O', 'U-GRADYEAR', 'O', 'B-SKILLS', 'I-SKILLS', 'I-SKILLS', 'I-SKILLS', 'I-SKILLS', 'I-SKILLS', 'I-SKILLS', 'I-SKILLS', 'I-SKILLS', 'I-SKILLS', 'I-SKILLS', 'I-SKILLS', 'I-SKILLS', 'I-SKILLS', 'I-SKILLS', 'I-SKILLS', 'I-SKILLS', 'I-SKILLS', 'I-SKILLS', 'I-SKILLS', 'I-SKILLS', 'I-SKILLS', 'I-SKILLS', 'I-SKILLS', 'I-SKILLS', 'I-SKILLS', 'I-SKILLS', 'I-SKILLS', 'I-SKILLS', 'O', 'O', 'O', 'O', 'O', 'B-SKILLS', 'I-SKILLS', 'I-SKILLS', 'I-SKILLS', 'I-SKILLS', 'I-SKILLS', 'I-SKILLS', 'I-SKILLS', 'I-SKILLS', 'I-SKILLS', 'I-SKILLS', 'I-SKILLS', 'I-SKILLS', 'I-SKILLS', 'I-SKILLS', 'I-SKILLS', 'I-SKILLS', 'I-SKILLS', 'I-SKILLS', 'I-SKILLS', 'I-SKILLS', 'I-SKILLS', 'I-SKILLS', 'I-SKILLS', 'O', 'O', 'B-SKILLS', 'I-SKILLS', 'I-SKILLS', 'I-SKILLS', 'I-SKILLS', 'I-SKILLS', 'O', 'O'], ['B-NAME', 'L-NAME', 'U-LOC', 'O', 'O', 'O', 'O', 'O', 'O', 'O', 'O', 'B-EMAIL', 'O', 'O', 'O', 'O', 'O', 'U-LOC', 'O', 'O', 'O', 'O', 'O', 'O', 'O', 'O', 'U-DEG', 'U-DEG', 'U-DEG', 'B-DEG', 'B-DEG', 'I-DEG', 'I-DEG', 'I-DEG', 'B-CLG', 'I-CLG', 'L-CLG', 'O', 'O', 'O', 'O', 'O'], ['O', 'O', 'B-SKILLS', 'I-SKILLS', 'I-SKILLS', 'I-SKILLS', 'O', 'O', 'X', 'X', 'O', 'O', 'I-SKILLS', 'I-SKILLS', 'I-SKILLS', 'I-SKILLS', 'I-SKILLS', 'I-SKILLS', 'L-SKILLS'], ['O', 'O', 'O', 'O', 'O', 'O', 'O', 'O', 'X', 'O', 'O', 'O', 'O', 'O', 'O', 'O', 'O', 'O', 'O', 'O', 'O', 'O'], ['O', 'O', 'O', 'O', 'O', 'O', 'O', 'O', 'U-COMPANY', 'O', 'O', 'O', 'O', 'O', 'O', 'O', 'O', 'O', 'O', 'O', 'O', 'O', 'O', 'O', 'O', 'O', 'O', 'O'], ['B-NAME', 'L-NAME', 'B-DESIG', 'I-DESIG', 'B-DESIG', 'L-DESIG', 'U-LOC', 'O', 'O', 'O', 'O', 'O', 'O', 'O', 'O', 'U-EMAIL', 'O', 'O', 'O', 'O', 'O', 'O', 'O', 'O', 'O', 'O', 'O', 'O', 'O', 'O', 'O', 'O', 'O', 'O', 'O', 'O', 'O', 'O', 'O', 'O', 'O', 'O', 'O', 'O', 'O', 'O', 'O', 'O', 'O', 'O']]\n",
            "f1 socre: 0.343008\n",
            "Accuracy score: 0.808504\n",
            "              precision    recall  f1-score   support\n",
            "\n",
            "         CLG     0.1463    0.2727    0.1905        66\n",
            "     COMPANY     0.3252    0.3064    0.3155       173\n",
            "         DEG     0.2737    0.3421    0.3041        76\n",
            "       DESIG     0.2329    0.2857    0.2566       119\n",
            "       EMAIL     0.4182    0.6571    0.5111        35\n",
            "    GRADYEAR     0.2857    0.6071    0.3886        56\n",
            "         LOC     0.5983    0.5983    0.5983       117\n",
            "        NAME     0.7719    0.7586    0.7652        58\n",
            "        SEP]     0.0000    0.0000    0.0000         0\n",
            "      SKILLS     0.1273    0.1842    0.1505       114\n",
            "         YOE     0.6667    0.2000    0.3077        10\n",
            "           _     0.0000    0.0000    0.0000         0\n",
            "\n",
            "   micro avg     0.3035    0.3944    0.3430       824\n",
            "   macro avg     0.3205    0.3510    0.3157       824\n",
            "weighted avg     0.3410    0.3944    0.3581       824\n",
            "\n"
          ]
        },
        {
          "output_type": "stream",
          "name": "stderr",
          "text": [
            "/usr/local/lib/python3.7/dist-packages/seqeval/metrics/sequence_labeling.py:171: UserWarning: L-NAME seems not to be NE tag.\n",
            "  warnings.warn('{} seems not to be NE tag.'.format(chunk))\n",
            "/usr/local/lib/python3.7/dist-packages/seqeval/metrics/sequence_labeling.py:171: UserWarning: U-LOC seems not to be NE tag.\n",
            "  warnings.warn('{} seems not to be NE tag.'.format(chunk))\n",
            "/usr/local/lib/python3.7/dist-packages/seqeval/metrics/sequence_labeling.py:171: UserWarning: L-DESIG seems not to be NE tag.\n",
            "  warnings.warn('{} seems not to be NE tag.'.format(chunk))\n",
            "/usr/local/lib/python3.7/dist-packages/seqeval/metrics/sequence_labeling.py:171: UserWarning: L-SKILLS seems not to be NE tag.\n",
            "  warnings.warn('{} seems not to be NE tag.'.format(chunk))\n",
            "/usr/local/lib/python3.7/dist-packages/seqeval/metrics/sequence_labeling.py:171: UserWarning: U-COMPANY seems not to be NE tag.\n",
            "  warnings.warn('{} seems not to be NE tag.'.format(chunk))\n",
            "/usr/local/lib/python3.7/dist-packages/seqeval/metrics/sequence_labeling.py:171: UserWarning: L-COMPANY seems not to be NE tag.\n",
            "  warnings.warn('{} seems not to be NE tag.'.format(chunk))\n",
            "/usr/local/lib/python3.7/dist-packages/seqeval/metrics/sequence_labeling.py:171: UserWarning: U-DESIG seems not to be NE tag.\n",
            "  warnings.warn('{} seems not to be NE tag.'.format(chunk))\n",
            "/usr/local/lib/python3.7/dist-packages/seqeval/metrics/sequence_labeling.py:171: UserWarning: U-EMAIL seems not to be NE tag.\n",
            "  warnings.warn('{} seems not to be NE tag.'.format(chunk))\n",
            "/usr/local/lib/python3.7/dist-packages/seqeval/metrics/sequence_labeling.py:171: UserWarning: U-DEG seems not to be NE tag.\n",
            "  warnings.warn('{} seems not to be NE tag.'.format(chunk))\n",
            "/usr/local/lib/python3.7/dist-packages/seqeval/metrics/sequence_labeling.py:171: UserWarning: U-CLG seems not to be NE tag.\n",
            "  warnings.warn('{} seems not to be NE tag.'.format(chunk))\n",
            "/usr/local/lib/python3.7/dist-packages/seqeval/metrics/sequence_labeling.py:171: UserWarning: L-EMAIL seems not to be NE tag.\n",
            "  warnings.warn('{} seems not to be NE tag.'.format(chunk))\n",
            "/usr/local/lib/python3.7/dist-packages/seqeval/metrics/sequence_labeling.py:171: UserWarning: L-LOC seems not to be NE tag.\n",
            "  warnings.warn('{} seems not to be NE tag.'.format(chunk))\n",
            "/usr/local/lib/python3.7/dist-packages/seqeval/metrics/sequence_labeling.py:171: UserWarning: U-GRADYEAR seems not to be NE tag.\n",
            "  warnings.warn('{} seems not to be NE tag.'.format(chunk))\n",
            "/usr/local/lib/python3.7/dist-packages/seqeval/metrics/sequence_labeling.py:171: UserWarning: L-DEG seems not to be NE tag.\n",
            "  warnings.warn('{} seems not to be NE tag.'.format(chunk))\n",
            "/usr/local/lib/python3.7/dist-packages/seqeval/metrics/sequence_labeling.py:171: UserWarning: L-CLG seems not to be NE tag.\n",
            "  warnings.warn('{} seems not to be NE tag.'.format(chunk))\n",
            "/usr/local/lib/python3.7/dist-packages/seqeval/metrics/sequence_labeling.py:171: UserWarning: U-SKILLS seems not to be NE tag.\n",
            "  warnings.warn('{} seems not to be NE tag.'.format(chunk))\n",
            "/usr/local/lib/python3.7/dist-packages/seqeval/metrics/sequence_labeling.py:171: UserWarning: L-YOE seems not to be NE tag.\n",
            "  warnings.warn('{} seems not to be NE tag.'.format(chunk))\n",
            "/usr/local/lib/python3.7/dist-packages/seqeval/metrics/sequence_labeling.py:171: UserWarning: U-YOE seems not to be NE tag.\n",
            "  warnings.warn('{} seems not to be NE tag.'.format(chunk))\n",
            "/usr/local/lib/python3.7/dist-packages/seqeval/metrics/sequence_labeling.py:171: UserWarning: X seems not to be NE tag.\n",
            "  warnings.warn('{} seems not to be NE tag.'.format(chunk))\n",
            "/usr/local/lib/python3.7/dist-packages/seqeval/metrics/sequence_labeling.py:171: UserWarning: [SEP] seems not to be NE tag.\n",
            "  warnings.warn('{} seems not to be NE tag.'.format(chunk))\n",
            "/usr/local/lib/python3.7/dist-packages/seqeval/metrics/v1.py:57: UndefinedMetricWarning: Recall and F-score are ill-defined and being set to 0.0 in labels with no true samples. Use `zero_division` parameter to control this behavior.\n",
            "  _warn_prf(average, modifier, msg_start, len(result))\n"
          ]
        }
      ],
      "source": [
        "model.eval()\n",
        "\n",
        "y_true = []\n",
        "y_pred = []\n",
        "eval_loss, eval_accuracy = 0, 0\n",
        "nb_eval_steps, nb_eval_examples = 0, 0\n",
        "\n",
        "for batch in valid_dataloader:\n",
        "    batch = tuple(t.to(device) for t in batch)\n",
        "    input_ids, input_mask, label_ids = batch\n",
        "\n",
        "    #inputing data in cpu\n",
        "    with torch.no_grad():\n",
        "        logits = model(input_ids, token_type_ids=None, attention_mask=input_mask,)\n",
        "\n",
        "    logits = logits.detach().cpu().numpy()\n",
        "    logits = [list(p) for p in np.argmax(logits, axis=2)]\n",
        "    \n",
        "    label_ids = label_ids.to('cpu').numpy()\n",
        "    input_mask = input_mask.to('cpu').numpy()\n",
        "    \n",
        "    #evaluation main\n",
        "    for i,mask in enumerate(input_mask):\n",
        "        temp_1 = [] # Real one\n",
        "        temp_2 = [] # Predict one\n",
        "        \n",
        "        for j, m in enumerate(mask):\n",
        "            # Mark=0, meaning its a pad word, dont compare\n",
        "            if m:\n",
        "                if idx2tag[label_ids[i][j]] != \"X\" and idx2tag[label_ids[i][j]] != \"[CLS]\" and idx2tag[label_ids[i][j]] != \"[SEP]\" : # Exclude the X label\n",
        "                    #check which are true\n",
        "                    for k in entities:\n",
        "                      if idx2tag[logits[i][j]]==k:\n",
        "                        print(idx2tag[logits[i][j]])\n",
        "                    temp_1.append(idx2tag[label_ids[i][j]])\n",
        "                    temp_2.append(idx2tag[logits[i][j]])\n",
        "            else:\n",
        "                break\n",
        "        \n",
        "            \n",
        "        y_true.append(temp_1)\n",
        "        y_pred.append(temp_2)\n",
        "print(y_true)\n",
        "print(y_pred)\n",
        "\n",
        "print(\"f1 socre: %f\"%(f1_score(y_true, y_pred)))\n",
        "print(\"Accuracy score: %f\"%(accuracy_score(y_true, y_pred)))\n",
        "\n",
        "print(classification_report(y_true, y_pred,digits=4))"
      ]
    },
    {
      "cell_type": "markdown",
      "source": [
        "### SPACY"
      ],
      "metadata": {
        "id": "UiRds5tI5jIK"
      }
    },
    {
      "cell_type": "code",
      "source": [
        "pip install spacy==2.2.4 fitz textract tika &> /dev/null"
      ],
      "metadata": {
        "id": "EaMltypJ5QNA"
      },
      "execution_count": 2,
      "outputs": []
    },
    {
      "cell_type": "code",
      "source": [
        "import spacy #2.2.4 only compatabile\n",
        "\n",
        "model = '/content/drive/MyDrive/Colab Notebooks/Models/DeepBlue/spacy/model'\n",
        "nlp_model = spacy.load(model)"
      ],
      "metadata": {
        "id": "uE9ceWgD5Vhr"
      },
      "execution_count": 2,
      "outputs": []
    },
    {
      "cell_type": "code",
      "source": [
        "import textract\n",
        "import re\n",
        "from tika import parser \n",
        "fname = '/content/drive/MyDrive/Colab Notebooks/Models/DeepBlue/Test- Resumes/Resumes/Resume 2 pdf/type_14.pdf'\n",
        "\n",
        "# text1 = textract.process('/content/drive/MyDrive/Colab Notebooks/Models/DeepBlue/Test- Resumes/Profile.pdf')\n",
        "# text2 = textract.process('/content/drive/MyDrive/Colab Notebooks/Models/DeepBlue/Test- Resumes/test.pdf')\n",
        "\n",
        "raw = parser.from_file(fname)\n",
        "print(raw['content'])\n",
        "\n",
        "\n",
        "def pre_process(text):\n",
        "  text = re.sub(r'[^\\x00-\\x7f]',r'', text)\n",
        "  text = re.sub(\"\\n\", \" \",text)\n",
        "  return text\n",
        "\n",
        "#pre_process(text2) "
      ],
      "metadata": {
        "colab": {
          "base_uri": "https://localhost:8080/"
        },
        "id": "RynA2U_C7Ka8",
        "outputId": "e41b85c8-54ef-43e4-b82e-d10740d8368b"
      },
      "execution_count": 26,
      "outputs": [
        {
          "output_type": "stream",
          "name": "stdout",
          "text": [
            "\n",
            "\n",
            "\n",
            "\n",
            "\n",
            "\n",
            "\n",
            "\n",
            "\n",
            "\n",
            "\n",
            "\n",
            "\n",
            "\n",
            "\n",
            "\n",
            "\n",
            "\n",
            "\n",
            "\n",
            "\n",
            "\n",
            "\n",
            "\n",
            "\n",
            "\n",
            "\n",
            "\n",
            "\n",
            "\n",
            "\n",
            "\n",
            "\n",
            "\n",
            "\n",
            "\n",
            "\n",
            "\n",
            "\n",
            "\n",
            "2018 - 2021\n",
            "\n",
            "2018\n",
            "\n",
            "2015\n",
            "\n",
            "Jennifer Lawrence\n",
            "3535 Rosewood Court City, State, Zip: Rochester, Minnesota(MN), 55902\n",
            "\n",
            "507-270-2214 | lemuel1980@gmail.com\n",
            "\n",
            "Objective\n",
            "\n",
            "Diligent Manager with 8+ years experience with a large cloud services agency. Seeking to further IT career as a\n",
            "Department Manager at Aptive by leveraging my statistical, managerial and communicative skills.\n",
            "\n",
            "Experience\n",
            "\n",
            "Microsoft\n",
            "Senior Software Developer\n",
            "Oversaw software development and coded profitable apps using C++ and C#\n",
            "Developed cross platform compatible solutions.\n",
            "\n",
            "Education\n",
            "\n",
            "Carnegie Mellon University\n",
            "Masters of Computer Science \n",
            "9.6\n",
            "\n",
            "Pillai College of Engineering\n",
            "Bachelor of Information Technology \n",
            "7.8\n",
            "\n",
            "Skills\n",
            "\n",
            "C\n",
            "\n",
            "C++\n",
            "\n",
            "Data Structures and Algorithms\n",
            "\n",
            "Python\n",
            "\n",
            "Java\n",
            "\n",
            "Machine Learning\n",
            "\n",
            "Data Analytics\n",
            "\n",
            "PostgreSQL\n",
            "\n",
            "Oracle SQL\n",
            "\n",
            "Javascript\n",
            "\n",
            "Pearl\n",
            "\n",
            "Projects\n",
            "\n",
            "Customer Relationship Management\n",
            "This CRM project is an integrated approach of E-mail and user management to acquiring, recognizing & maintaining\n",
            "customers. This CRM allows the companies to co-ordinate & handle customer interactions across several\n",
            "departments, channels, business lines so that it helps the companies in enhancing the value of each customer\n",
            "interaction.\n",
            "\n",
            "Monitoring of Bandwidth\n",
            "This project implements a system to monitor the bandwidth (BW) who wishes to check their BW for their internet\n",
            "plan. This proposed system is mostly used by the users who contain the limit of the bandwidth. This project can be\n",
            "enhanced with a slight modification to use in a central server for monitoring the BW usage of associated clients.\n",
            "\n",
            "\n",
            "\n",
            "Payroll System\n",
            "In an organization, payroll details maintenance, as well as the pay, slips preparation every month is a time-\n",
            "consuming, laborious, and time-consuming process. This process is complicated to check manually because large\n",
            "files have to check, large files have to be stored, etc.\n",
            "\n",
            "To overcome this, the software is developed for a payroll system to avoid calculations, complications in less time to\n",
            "generate the payslip. By using this software, employees’ details can be maintained & employee payslips can be\n",
            "generated every month. This software is easy to operate, handle, and also flexible.\n",
            "\n",
            "\n",
            "\n"
          ]
        }
      ]
    },
    {
      "cell_type": "code",
      "source": [
        "import pickle\n",
        "train_data= pickle.load(open('/content/drive/MyDrive/Colab Notebooks/Models/DeepBlue/spacy/train_data.pkl','rb')) #trying model 2 bigger dataset\n",
        "\n",
        "\n",
        "doc = nlp_model(raw['content'])\n",
        "for ent in doc.ents:\n",
        "    print(f'{ent.label_.upper():{30}} - {ent.text}')"
      ],
      "metadata": {
        "colab": {
          "base_uri": "https://localhost:8080/"
        },
        "id": "y7XGaTW05eMG",
        "outputId": "715f8bb0-c579-4212-d44f-7244d0da037b"
      },
      "execution_count": 27,
      "outputs": [
        {
          "output_type": "stream",
          "name": "stdout",
          "text": [
            "DESIGNATION                    - Diligent Manager\n",
            "YEARS OF EXPERIENCE            - 8+ years experience with a large cloud services agency. Seeking to further IT career as a\n",
            "Department Manager at Aptive by leveraging my statistical, managerial and communicative skills.\n",
            "\n",
            "Experience\n",
            "\n",
            "Microsoft\n",
            "Senior Software Developer\n",
            "Oversaw software development and coded profitable apps using C++ and C#\n",
            "Developed cross platform compatible solutions.\n",
            "\n",
            "Education\n",
            "\n",
            "Carnegie Mellon University\n",
            "Masters of Computer Science \n",
            "9.6\n",
            "\n",
            "Pillai College of Engineering\n",
            "Bachelor of Information Technology \n",
            "7.8\n",
            "\n",
            "Skills\n",
            "\n",
            "C\n",
            "DEGREE                         - C++\n",
            "DEGREE                         - Java\n",
            "COLLEGE NAME                   - Machine Learning\n",
            "COMPANIES WORKED AT            - Oracle SQL\n",
            "DESIGNATION                    - Customer Relationship Management\n"
          ]
        }
      ]
    },
    {
      "cell_type": "code",
      "source": [
        "import pickle\n",
        "import json\n",
        "import spacy\n",
        "import random\n",
        "import spacy\n",
        "from spacy.util import minibatch, compounding \n",
        "from pathlib import Path\n",
        "import os\n",
        "\n",
        "#LABEL = ['Email Address', 'Links', 'Skills', 'Graduation Year', 'College Name', 'Degree', 'Companies worked at', 'Location', 'Name', 'Designation', 'projects', 'Years of Experience', 'Can Relocate to', 'UNKNOWN', 'Rewards and Achievements', 'Address', 'University', 'Relocate to', 'Certifications', 'state', 'links', 'College', 'training', 'des', 'abc']\n",
        "\n",
        "def custom_nlp_train(filename):\n",
        "    with open(filename, 'rb') as fp:\n",
        "        doc = pickle.load(fp)\n",
        "    \n",
        "    ## Creating a blank spacy model\n",
        "    nlp = spacy.blank('en')\n",
        "    print(\"Created a blank en model\")\n",
        "\n",
        "    if 'ner' not in nlp.pipe_names:\n",
        "        ner = nlp.create_pipe('ner')\n",
        "        nlp.add_pipe(ner)\n",
        "        print(\"Added ner pipe\")\n",
        "    else:\n",
        "        ner.get_pipe('ner')\n",
        "\n",
        "    # for i in LABEL:\n",
        "    #     ner.add_label(i)\n",
        "\n",
        "\n",
        "    # add labels\n",
        "    for _, annotations in doc:\n",
        "        for ent in annotations.get('entities'):\n",
        "            ner.add_label(ent[2])\n",
        "        \n",
        "    optimizer = nlp.begin_training()\n",
        "    \n",
        "    for itn in range(30):\n",
        "                random.shuffle(doc)\n",
        "                losses = {}\n",
        "                # batch up the examples using spaCy's minibatch\n",
        "                batches = minibatch(doc, size=compounding(4.0, 32.0, 1.001))\n",
        "                for batch in batches:\n",
        "                    texts, annotations = zip(*batch)\n",
        "                    nlp.update(\n",
        "                        texts,  # batch of texts\n",
        "                        annotations,  # batch of annotations\n",
        "                        drop=0.3,  # dropout - make it harder to memorise data\n",
        "                        losses=losses,\n",
        "                    )\n",
        "                print(\"Losses\", losses)\n",
        "\n",
        "    output_dir = os.path.dirname(os.path.realpath(__file__)) + \"/training_data\"\n",
        "    new_model_name=\"customspacy\"\n",
        "    output_dir = Path(output_dir)\n",
        "    if not output_dir.exists():\n",
        "        output_dir.mkdir()\n",
        "\n",
        "    nlp.meta[\"name\"] = new_model_name  # rename model\n",
        "    nlp.to_disk(output_dir)\n",
        "    print(\"Saved model to\", output_dir)           \n",
        "            \n",
        "\n",
        "    \n",
        "\n",
        "\n",
        "if __name__ == \"__main__\":\n",
        "    custom_nlp_train('/content/drive/MyDrive/Colab Notebooks/datasets/d.pkl')   "
      ],
      "metadata": {
        "colab": {
          "base_uri": "https://localhost:8080/",
          "height": 468
        },
        "id": "ro0PKqX19POB",
        "outputId": "1108236a-95f7-4de7-c7da-dae5ac113765"
      },
      "execution_count": 34,
      "outputs": [
        {
          "output_type": "stream",
          "name": "stdout",
          "text": [
            "Created a blank en model\n",
            "Added ner pipe\n"
          ]
        },
        {
          "output_type": "error",
          "ename": "ValueError",
          "evalue": "ignored",
          "traceback": [
            "\u001b[0;31m---------------------------------------------------------------------------\u001b[0m",
            "\u001b[0;31mValueError\u001b[0m                                Traceback (most recent call last)",
            "\u001b[0;32m<ipython-input-34-c531bd4777bb>\u001b[0m in \u001b[0;36m<module>\u001b[0;34m()\u001b[0m\n\u001b[1;32m     66\u001b[0m \u001b[0;34m\u001b[0m\u001b[0m\n\u001b[1;32m     67\u001b[0m \u001b[0;32mif\u001b[0m \u001b[0m__name__\u001b[0m \u001b[0;34m==\u001b[0m \u001b[0;34m\"__main__\"\u001b[0m\u001b[0;34m:\u001b[0m\u001b[0;34m\u001b[0m\u001b[0;34m\u001b[0m\u001b[0m\n\u001b[0;32m---> 68\u001b[0;31m     \u001b[0mcustom_nlp_train\u001b[0m\u001b[0;34m(\u001b[0m\u001b[0;34m'/content/drive/MyDrive/Colab Notebooks/datasets/d.pkl'\u001b[0m\u001b[0;34m)\u001b[0m\u001b[0;34m\u001b[0m\u001b[0;34m\u001b[0m\u001b[0m\n\u001b[0m",
            "\u001b[0;32m<ipython-input-34-c531bd4777bb>\u001b[0m in \u001b[0;36mcustom_nlp_train\u001b[0;34m(filename)\u001b[0m\n\u001b[1;32m     47\u001b[0m                         \u001b[0mannotations\u001b[0m\u001b[0;34m,\u001b[0m  \u001b[0;31m# batch of annotations\u001b[0m\u001b[0;34m\u001b[0m\u001b[0;34m\u001b[0m\u001b[0m\n\u001b[1;32m     48\u001b[0m                         \u001b[0mdrop\u001b[0m\u001b[0;34m=\u001b[0m\u001b[0;36m0.3\u001b[0m\u001b[0;34m,\u001b[0m  \u001b[0;31m# dropout - make it harder to memorise data\u001b[0m\u001b[0;34m\u001b[0m\u001b[0;34m\u001b[0m\u001b[0m\n\u001b[0;32m---> 49\u001b[0;31m                         \u001b[0mlosses\u001b[0m\u001b[0;34m=\u001b[0m\u001b[0mlosses\u001b[0m\u001b[0;34m,\u001b[0m\u001b[0;34m\u001b[0m\u001b[0;34m\u001b[0m\u001b[0m\n\u001b[0m\u001b[1;32m     50\u001b[0m                     )\n\u001b[1;32m     51\u001b[0m                 \u001b[0mprint\u001b[0m\u001b[0;34m(\u001b[0m\u001b[0;34m\"Losses\"\u001b[0m\u001b[0;34m,\u001b[0m \u001b[0mlosses\u001b[0m\u001b[0;34m)\u001b[0m\u001b[0;34m\u001b[0m\u001b[0;34m\u001b[0m\u001b[0m\n",
            "\u001b[0;32m/usr/local/lib/python3.7/dist-packages/spacy/language.py\u001b[0m in \u001b[0;36mupdate\u001b[0;34m(self, docs, golds, drop, sgd, losses, component_cfg)\u001b[0m\n\u001b[1;32m    498\u001b[0m             \u001b[0msgd\u001b[0m \u001b[0;34m=\u001b[0m \u001b[0mself\u001b[0m\u001b[0;34m.\u001b[0m\u001b[0m_optimizer\u001b[0m\u001b[0;34m\u001b[0m\u001b[0;34m\u001b[0m\u001b[0m\n\u001b[1;32m    499\u001b[0m         \u001b[0;31m# Allow dict of args to GoldParse, instead of GoldParse objects.\u001b[0m\u001b[0;34m\u001b[0m\u001b[0;34m\u001b[0m\u001b[0;34m\u001b[0m\u001b[0m\n\u001b[0;32m--> 500\u001b[0;31m         \u001b[0mdocs\u001b[0m\u001b[0;34m,\u001b[0m \u001b[0mgolds\u001b[0m \u001b[0;34m=\u001b[0m \u001b[0mself\u001b[0m\u001b[0;34m.\u001b[0m\u001b[0m_format_docs_and_golds\u001b[0m\u001b[0;34m(\u001b[0m\u001b[0mdocs\u001b[0m\u001b[0;34m,\u001b[0m \u001b[0mgolds\u001b[0m\u001b[0;34m)\u001b[0m\u001b[0;34m\u001b[0m\u001b[0;34m\u001b[0m\u001b[0m\n\u001b[0m\u001b[1;32m    501\u001b[0m         \u001b[0mgrads\u001b[0m \u001b[0;34m=\u001b[0m \u001b[0;34m{\u001b[0m\u001b[0;34m}\u001b[0m\u001b[0;34m\u001b[0m\u001b[0;34m\u001b[0m\u001b[0m\n\u001b[1;32m    502\u001b[0m \u001b[0;34m\u001b[0m\u001b[0m\n",
            "\u001b[0;32m/usr/local/lib/python3.7/dist-packages/spacy/language.py\u001b[0m in \u001b[0;36m_format_docs_and_golds\u001b[0;34m(self, docs, golds)\u001b[0m\n\u001b[1;32m    470\u001b[0m                     \u001b[0merr\u001b[0m \u001b[0;34m=\u001b[0m \u001b[0mErrors\u001b[0m\u001b[0;34m.\u001b[0m\u001b[0mE151\u001b[0m\u001b[0;34m.\u001b[0m\u001b[0mformat\u001b[0m\u001b[0;34m(\u001b[0m\u001b[0munexp\u001b[0m\u001b[0;34m=\u001b[0m\u001b[0munexpected\u001b[0m\u001b[0;34m,\u001b[0m \u001b[0mexp\u001b[0m\u001b[0;34m=\u001b[0m\u001b[0mexpected_keys\u001b[0m\u001b[0;34m)\u001b[0m\u001b[0;34m\u001b[0m\u001b[0;34m\u001b[0m\u001b[0m\n\u001b[1;32m    471\u001b[0m                     \u001b[0;32mraise\u001b[0m \u001b[0mValueError\u001b[0m\u001b[0;34m(\u001b[0m\u001b[0merr\u001b[0m\u001b[0;34m)\u001b[0m\u001b[0;34m\u001b[0m\u001b[0;34m\u001b[0m\u001b[0m\n\u001b[0;32m--> 472\u001b[0;31m                 \u001b[0mgold\u001b[0m \u001b[0;34m=\u001b[0m \u001b[0mGoldParse\u001b[0m\u001b[0;34m(\u001b[0m\u001b[0mdoc\u001b[0m\u001b[0;34m,\u001b[0m \u001b[0;34m**\u001b[0m\u001b[0mgold\u001b[0m\u001b[0;34m)\u001b[0m\u001b[0;34m\u001b[0m\u001b[0;34m\u001b[0m\u001b[0m\n\u001b[0m\u001b[1;32m    473\u001b[0m             \u001b[0mdoc_objs\u001b[0m\u001b[0;34m.\u001b[0m\u001b[0mappend\u001b[0m\u001b[0;34m(\u001b[0m\u001b[0mdoc\u001b[0m\u001b[0;34m)\u001b[0m\u001b[0;34m\u001b[0m\u001b[0;34m\u001b[0m\u001b[0m\n\u001b[1;32m    474\u001b[0m             \u001b[0mgold_objs\u001b[0m\u001b[0;34m.\u001b[0m\u001b[0mappend\u001b[0m\u001b[0;34m(\u001b[0m\u001b[0mgold\u001b[0m\u001b[0;34m)\u001b[0m\u001b[0;34m\u001b[0m\u001b[0;34m\u001b[0m\u001b[0m\n",
            "\u001b[0;32mgold.pyx\u001b[0m in \u001b[0;36mspacy.gold.GoldParse.__init__\u001b[0;34m()\u001b[0m\n",
            "\u001b[0;32mgold.pyx\u001b[0m in \u001b[0;36mspacy.gold.biluo_tags_from_offsets\u001b[0;34m()\u001b[0m\n",
            "\u001b[0;31mValueError\u001b[0m: [E103] Trying to set conflicting doc.ents: '(2656, 2669, 'Designation')' and '(2649, 2669, 'Designation')'. A token can only be part of one entity, so make sure the entities you're setting don't overlap."
          ]
        }
      ]
    },
    {
      "cell_type": "code",
      "source": [
        "import pickle\n",
        "import spacy\n",
        "import random\n",
        "nlp = spacy.blank('en')\n",
        "train_data= pickle.load(open('/content/drive/MyDrive/Colab Notebooks/datasets/d.pkl','rb'))\n",
        "\n",
        "#defining the traning model\n",
        "\n",
        "def train_model(train_data):\n",
        "    if 'ner' not in nlp.pipe_names:\n",
        "        ner=nlp.create_pipe('ner')\n",
        "        nlp.add_pipe(ner,last=True)\n",
        "        \n",
        "    for _, annotation in train_data:\n",
        "        for ent in annotation['entities']:\n",
        "            ner.add_label(ent[2])\n",
        "\n",
        "# Now to remove other pipelines - we define this here - READ SPACY WEBSITE\n",
        "\n",
        "    other_pipes = [pipe for pipe in nlp.pipe_names if pipe != 'ner']\n",
        "    with nlp.disable_pipes(*other_pipes):  # only train NER\n",
        "            optimizer = nlp.begin_training()\n",
        "            for itn in range(50):\n",
        "                print(\"Statring iteration \" + str(itn))\n",
        "                random.shuffle(train_data)\n",
        "                losses = {}\n",
        "                index = 0\n",
        "                for text, annotations in train_data:\n",
        "                    try:\n",
        "                        nlp.update(\n",
        "                            [text],  # batch of texts\n",
        "                            [annotations],  # batch of annotations\n",
        "                            drop=0.2,  # dropout - make it harder to memorise data\n",
        "                            sgd=optimizer,  # callable to update weights\n",
        "                            losses=losses)\n",
        "                    except Exception as e:\n",
        "                        pass\n",
        "                    \n",
        "                print(losses)"
      ],
      "metadata": {
        "id": "KxgwuqPJEkZU"
      },
      "execution_count": 8,
      "outputs": []
    },
    {
      "cell_type": "code",
      "source": [
        "train_model(train_data) #7159"
      ],
      "metadata": {
        "id": "pppeeLg8Jou5"
      },
      "execution_count": null,
      "outputs": []
    },
    {
      "cell_type": "code",
      "source": [
        "nlp.to_disk('/content/drive/MyDrive/Colab Notebooks/Models/DeepBlue/700-new-code')"
      ],
      "metadata": {
        "id": "dt_6uymAJxIN"
      },
      "execution_count": 10,
      "outputs": []
    },
    {
      "cell_type": "code",
      "source": [
        ""
      ],
      "metadata": {
        "id": "bvu_yf5YSzQe"
      },
      "execution_count": null,
      "outputs": []
    }
  ],
  "metadata": {
    "accelerator": "GPU",
    "colab": {
      "collapsed_sections": [],
      "name": "BERT - 300 - type1.ipynb",
      "provenance": []
    },
    "kernelspec": {
      "display_name": "Python 3",
      "language": "python",
      "name": "python3"
    },
    "language_info": {
      "codemirror_mode": {
        "name": "ipython",
        "version": 3
      },
      "file_extension": ".py",
      "mimetype": "text/x-python",
      "name": "python",
      "nbconvert_exporter": "python",
      "pygments_lexer": "ipython3",
      "version": "3.9.9"
    }
  },
  "nbformat": 4,
  "nbformat_minor": 0
}