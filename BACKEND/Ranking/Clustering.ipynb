{
 "cells": [
  {
   "cell_type": "code",
   "execution_count": 1,
   "metadata": {},
   "outputs": [],
   "source": [
    "import json\n",
    "import pickle\n",
    "import pandas as pd\n",
    "\n",
    "def load_data(file):\n",
    "    with open (file, \"r\", encoding=\"utf-8\") as f:\n",
    "        data = json.load(f)\n",
    "    return (data)\n",
    "\n",
    "def write_data(file, data):\n",
    "    with open (file, \"w\", encoding=\"utf-8\") as f:\n",
    "        json.dump(data, f, indent=4)\n",
    "        \n",
    "def pickle_load(file):\n",
    "    data = pickle.load(open(file,'rb'))\n",
    "    return data\n",
    "\n",
    "#data = pd.read_json(r\"/Users/cosmos/Desktop/DeepBlue/BACKEND/Ranking/data/cleaned_related_skills.json\", encoding=\"utf-8\",lines = True)\n",
    "\n",
    "data3 = pd.read_csv(\"/Users/cosmos/Desktop/DeepBlue/BACKEND/Ranking/data/1k.csv\")\n",
    "data2 = pickle_load(\"/Users/cosmos/Desktop/DeepBlue/BACKEND/Ranking/data/PARiS.pickle\")"
   ]
  },
  {
   "cell_type": "code",
   "execution_count": 4,
   "metadata": {},
   "outputs": [
    {
     "data": {
      "text/plain": [
       "Index(['14463', 'Rest', 'Communication Skills', 'Geo Fencing', 'Core Java',\n",
       "       'Android SDK', 'Web Services', 'SOAP', 'Web Technologies',\n",
       "       'Payment Gateway',\n",
       "       ...\n",
       "       'Unnamed: 951', 'Unnamed: 952', 'Unnamed: 953', 'Unnamed: 954',\n",
       "       'Unnamed: 955', 'Unnamed: 956', 'Unnamed: 957', 'Unnamed: 958',\n",
       "       'Unnamed: 959', 'Unnamed: 960'],\n",
       "      dtype='object', length=961)"
      ]
     },
     "execution_count": 4,
     "metadata": {},
     "output_type": "execute_result"
    }
   ],
   "source": [
    "data3.columns"
   ]
  },
  {
   "cell_type": "code",
   "execution_count": null,
   "metadata": {},
   "outputs": [],
   "source": [
    "from flair.models import ClusteringModel\n",
    "from flair.datasets import TREC_6\n",
    "from flair.embeddings import SentenceTransformerDocumentEmbeddings\n",
    "from sklearn.cluster import KMeans,Birch,GaussianMixture\n",
    "\n",
    "embeddings = SentenceTransformerDocumentEmbeddings()\n",
    "\n",
    "# store all embeddings in memory which is required to perform clustering\n",
    "corpus = TREC_6(memory_mode='full').downsample(0.05)\n",
    "\n",
    "model = KMeans(n_clusters=6)\n",
    "\n",
    "clustering_model = ClusteringModel(\n",
    "    model=model,\n",
    "    embeddings=embeddings\n",
    ")\n",
    "\n",
    "# fit the model on a corpus\n",
    "clustering_model.fit(corpus)\n",
    "\n",
    "# evaluate the model on a corpus with the given label\n",
    "clustering_model.evaluate(corpus, label_type=\"question_class\")"
   ]
  }
 ],
 "metadata": {
  "interpreter": {
   "hash": "4bd624a0593993fe43ac4046b27b898fb2ef75c21c08f81e89e64ea0f51df676"
  },
  "kernelspec": {
   "display_name": "Python 3.9.10 ('tensorflow')",
   "language": "python",
   "name": "python3"
  },
  "language_info": {
   "codemirror_mode": {
    "name": "ipython",
    "version": 3
   },
   "file_extension": ".py",
   "mimetype": "text/x-python",
   "name": "python",
   "nbconvert_exporter": "python",
   "pygments_lexer": "ipython3",
   "version": "3.9.10"
  },
  "orig_nbformat": 4
 },
 "nbformat": 4,
 "nbformat_minor": 2
}
