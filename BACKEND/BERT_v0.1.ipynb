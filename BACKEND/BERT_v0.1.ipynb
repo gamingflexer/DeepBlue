{
 "cells": [
  {
   "cell_type": "code",
   "execution_count": null,
   "id": "e1cc8340",
   "metadata": {
    "scrolled": true
   },
   "outputs": [],
   "source": [
    "pip install transformers"
   ]
  },
  {
   "cell_type": "code",
   "execution_count": 1,
   "id": "93abd07d",
   "metadata": {
    "scrolled": true
   },
   "outputs": [
    {
     "name": "stdout",
     "output_type": "stream",
     "text": [
      "Collecting torch\n",
      "  Downloading torch-1.10.1-cp39-none-macosx_11_0_arm64.whl (44.6 MB)\n",
      "     |████████████████████████████████| 44.6 MB 3.3 MB/s            \n",
      "\u001b[?25hCollecting torchvision\n",
      "  Downloading torchvision-0.11.2-cp39-cp39-macosx_11_0_arm64.whl (552 kB)\n",
      "     |████████████████████████████████| 552 kB 4.6 MB/s            \n",
      "\u001b[?25hCollecting torchaudio\n",
      "  Downloading torchaudio-0.10.1-cp39-cp39-macosx_11_0_arm64.whl (2.2 MB)\n",
      "     |████████████████████████████████| 2.2 MB 4.1 MB/s            \n",
      "\u001b[?25hRequirement already satisfied: typing-extensions in /opt/homebrew/Caskroom/miniforge/base/envs/tensorflow/lib/python3.9/site-packages (from torch) (3.7.4.3)\n",
      "Requirement already satisfied: numpy in /opt/homebrew/Caskroom/miniforge/base/envs/tensorflow/lib/python3.9/site-packages (from torchvision) (1.19.5)\n",
      "Requirement already satisfied: pillow!=8.3.0,>=5.3.0 in /opt/homebrew/Caskroom/miniforge/base/envs/tensorflow/lib/python3.9/site-packages (from torchvision) (8.4.0)\n",
      "Installing collected packages: torch, torchvision, torchaudio\n",
      "Successfully installed torch-1.10.1 torchaudio-0.10.1 torchvision-0.11.2\n",
      "Note: you may need to restart the kernel to use updated packages.\n"
     ]
    }
   ],
   "source": [
    "pip install torch torchvision torchaudio"
   ]
  },
  {
   "cell_type": "code",
   "execution_count": null,
   "id": "a68c5549",
   "metadata": {
    "scrolled": true
   },
   "outputs": [],
   "source": [
    "from transformers import pipeline\n",
    "classifier = pipeline('summarization')"
   ]
  },
  {
   "cell_type": "code",
   "execution_count": null,
   "id": "15f3ac15",
   "metadata": {},
   "outputs": [],
   "source": [
    "classifier('Cinderella came from a great family. She is the only daughter of an affluent and widower duke who has rewed to provide her with a stepmom and two stepsisters. Cinderellas mother died due to illness when she was still a young girl, leaving her with a doll, favorite dress, and a pair of glass slippers.')"
   ]
  },
  {
   "cell_type": "code",
   "execution_count": null,
   "id": "58b0e582",
   "metadata": {},
   "outputs": [],
   "source": []
  }
 ],
 "metadata": {
  "kernelspec": {
   "display_name": "Python 3.9 (tensorflow)",
   "language": "python",
   "name": "tensorflow"
  },
  "language_info": {
   "codemirror_mode": {
    "name": "ipython",
    "version": 3
   },
   "file_extension": ".py",
   "mimetype": "text/x-python",
   "name": "python",
   "nbconvert_exporter": "python",
   "pygments_lexer": "ipython3",
   "version": "3.9.9"
  }
 },
 "nbformat": 4,
 "nbformat_minor": 5
}
